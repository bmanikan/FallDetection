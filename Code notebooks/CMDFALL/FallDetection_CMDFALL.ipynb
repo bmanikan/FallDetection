{
  "nbformat": 4,
  "nbformat_minor": 0,
  "metadata": {
    "colab": {
      "name": "FallDetection_CMDFALL",
      "provenance": [],
      "mount_file_id": "1HNE3RThphEyqFOxVYzvqLeo-o-4ldc6C",
      "authorship_tag": "ABX9TyNY5Yw5X1X51TS0uDUspVlw",
      "include_colab_link": true
    },
    "kernelspec": {
      "name": "python3",
      "display_name": "Python 3"
    },
    "language_info": {
      "name": "python"
    },
    "widgets": {
      "application/vnd.jupyter.widget-state+json": {
        "a07a1c8b27dc4df1b7854395f0df4657": {
          "model_module": "@jupyter-widgets/controls",
          "model_name": "HBoxModel",
          "state": {
            "_view_name": "HBoxView",
            "_dom_classes": [],
            "_model_name": "HBoxModel",
            "_view_module": "@jupyter-widgets/controls",
            "_model_module_version": "1.5.0",
            "_view_count": null,
            "_view_module_version": "1.5.0",
            "box_style": "",
            "layout": "IPY_MODEL_978046daedaa498e85a93b0ae102f4f5",
            "_model_module": "@jupyter-widgets/controls",
            "children": [
              "IPY_MODEL_80fc424a00b64b49a50b37ab525aa6df",
              "IPY_MODEL_bd54bebf08b84914b2391170013ccb1a"
            ]
          }
        },
        "978046daedaa498e85a93b0ae102f4f5": {
          "model_module": "@jupyter-widgets/base",
          "model_name": "LayoutModel",
          "state": {
            "_view_name": "LayoutView",
            "grid_template_rows": null,
            "right": null,
            "justify_content": null,
            "_view_module": "@jupyter-widgets/base",
            "overflow": null,
            "_model_module_version": "1.2.0",
            "_view_count": null,
            "flex_flow": null,
            "width": null,
            "min_width": null,
            "border": null,
            "align_items": null,
            "bottom": null,
            "_model_module": "@jupyter-widgets/base",
            "top": null,
            "grid_column": null,
            "overflow_y": null,
            "overflow_x": null,
            "grid_auto_flow": null,
            "grid_area": null,
            "grid_template_columns": null,
            "flex": null,
            "_model_name": "LayoutModel",
            "justify_items": null,
            "grid_row": null,
            "max_height": null,
            "align_content": null,
            "visibility": null,
            "align_self": null,
            "height": null,
            "min_height": null,
            "padding": null,
            "grid_auto_rows": null,
            "grid_gap": null,
            "max_width": null,
            "order": null,
            "_view_module_version": "1.2.0",
            "grid_template_areas": null,
            "object_position": null,
            "object_fit": null,
            "grid_auto_columns": null,
            "margin": null,
            "display": null,
            "left": null
          }
        },
        "80fc424a00b64b49a50b37ab525aa6df": {
          "model_module": "@jupyter-widgets/controls",
          "model_name": "FloatProgressModel",
          "state": {
            "_view_name": "ProgressView",
            "style": "IPY_MODEL_6e1cb37b51d041e68585018eeb26ad69",
            "_dom_classes": [],
            "description": "100%",
            "_model_name": "FloatProgressModel",
            "bar_style": "success",
            "max": 180,
            "_view_module": "@jupyter-widgets/controls",
            "_model_module_version": "1.5.0",
            "value": 180,
            "_view_count": null,
            "_view_module_version": "1.5.0",
            "orientation": "horizontal",
            "min": 0,
            "description_tooltip": null,
            "_model_module": "@jupyter-widgets/controls",
            "layout": "IPY_MODEL_003eb0aeba76407893972d7c7c468d57"
          }
        },
        "bd54bebf08b84914b2391170013ccb1a": {
          "model_module": "@jupyter-widgets/controls",
          "model_name": "HTMLModel",
          "state": {
            "_view_name": "HTMLView",
            "style": "IPY_MODEL_efe29bf75bee4251b0808618a933f21d",
            "_dom_classes": [],
            "description": "",
            "_model_name": "HTMLModel",
            "placeholder": "​",
            "_view_module": "@jupyter-widgets/controls",
            "_model_module_version": "1.5.0",
            "value": " 180/180 [44:38&lt;00:00, 14.88s/it]",
            "_view_count": null,
            "_view_module_version": "1.5.0",
            "description_tooltip": null,
            "_model_module": "@jupyter-widgets/controls",
            "layout": "IPY_MODEL_1584091efe4346b18145376bd050001d"
          }
        },
        "6e1cb37b51d041e68585018eeb26ad69": {
          "model_module": "@jupyter-widgets/controls",
          "model_name": "ProgressStyleModel",
          "state": {
            "_view_name": "StyleView",
            "_model_name": "ProgressStyleModel",
            "description_width": "initial",
            "_view_module": "@jupyter-widgets/base",
            "_model_module_version": "1.5.0",
            "_view_count": null,
            "_view_module_version": "1.2.0",
            "bar_color": null,
            "_model_module": "@jupyter-widgets/controls"
          }
        },
        "003eb0aeba76407893972d7c7c468d57": {
          "model_module": "@jupyter-widgets/base",
          "model_name": "LayoutModel",
          "state": {
            "_view_name": "LayoutView",
            "grid_template_rows": null,
            "right": null,
            "justify_content": null,
            "_view_module": "@jupyter-widgets/base",
            "overflow": null,
            "_model_module_version": "1.2.0",
            "_view_count": null,
            "flex_flow": null,
            "width": null,
            "min_width": null,
            "border": null,
            "align_items": null,
            "bottom": null,
            "_model_module": "@jupyter-widgets/base",
            "top": null,
            "grid_column": null,
            "overflow_y": null,
            "overflow_x": null,
            "grid_auto_flow": null,
            "grid_area": null,
            "grid_template_columns": null,
            "flex": null,
            "_model_name": "LayoutModel",
            "justify_items": null,
            "grid_row": null,
            "max_height": null,
            "align_content": null,
            "visibility": null,
            "align_self": null,
            "height": null,
            "min_height": null,
            "padding": null,
            "grid_auto_rows": null,
            "grid_gap": null,
            "max_width": null,
            "order": null,
            "_view_module_version": "1.2.0",
            "grid_template_areas": null,
            "object_position": null,
            "object_fit": null,
            "grid_auto_columns": null,
            "margin": null,
            "display": null,
            "left": null
          }
        },
        "efe29bf75bee4251b0808618a933f21d": {
          "model_module": "@jupyter-widgets/controls",
          "model_name": "DescriptionStyleModel",
          "state": {
            "_view_name": "StyleView",
            "_model_name": "DescriptionStyleModel",
            "description_width": "",
            "_view_module": "@jupyter-widgets/base",
            "_model_module_version": "1.5.0",
            "_view_count": null,
            "_view_module_version": "1.2.0",
            "_model_module": "@jupyter-widgets/controls"
          }
        },
        "1584091efe4346b18145376bd050001d": {
          "model_module": "@jupyter-widgets/base",
          "model_name": "LayoutModel",
          "state": {
            "_view_name": "LayoutView",
            "grid_template_rows": null,
            "right": null,
            "justify_content": null,
            "_view_module": "@jupyter-widgets/base",
            "overflow": null,
            "_model_module_version": "1.2.0",
            "_view_count": null,
            "flex_flow": null,
            "width": null,
            "min_width": null,
            "border": null,
            "align_items": null,
            "bottom": null,
            "_model_module": "@jupyter-widgets/base",
            "top": null,
            "grid_column": null,
            "overflow_y": null,
            "overflow_x": null,
            "grid_auto_flow": null,
            "grid_area": null,
            "grid_template_columns": null,
            "flex": null,
            "_model_name": "LayoutModel",
            "justify_items": null,
            "grid_row": null,
            "max_height": null,
            "align_content": null,
            "visibility": null,
            "align_self": null,
            "height": null,
            "min_height": null,
            "padding": null,
            "grid_auto_rows": null,
            "grid_gap": null,
            "max_width": null,
            "order": null,
            "_view_module_version": "1.2.0",
            "grid_template_areas": null,
            "object_position": null,
            "object_fit": null,
            "grid_auto_columns": null,
            "margin": null,
            "display": null,
            "left": null
          }
        }
      }
    }
  },
  "cells": [
    {
      "cell_type": "markdown",
      "metadata": {
        "id": "view-in-github",
        "colab_type": "text"
      },
      "source": [
        "<a href=\"https://colab.research.google.com/github/bmanikan/FallDetection/blob/main/Code%20notebooks/CMDFALL/FallDetection_CMDFALL.ipynb\" target=\"_parent\"><img src=\"https://colab.research.google.com/assets/colab-badge.svg\" alt=\"Open In Colab\"/></a>"
      ]
    },
    {
      "cell_type": "markdown",
      "metadata": {
        "id": "14iXSTvYPFrO"
      },
      "source": [
        "## Data"
      ]
    },
    {
      "cell_type": "code",
      "metadata": {
        "id": "zHpJAHdVPIFY"
      },
      "source": [
        "import json\n",
        "\n",
        "kaggle = {\"username\":\"bmanikan\",\"key\":\"141e02fe5c7642ce9e22bf6ebf29e911\"}\n",
        "\n",
        "with open('kaggle.json', 'w') as outfile:\n",
        "  json.dump(kaggle,outfile)\n",
        " "
      ],
      "execution_count": null,
      "outputs": []
    },
    {
      "cell_type": "code",
      "metadata": {
        "colab": {
          "base_uri": "https://localhost:8080/"
        },
        "id": "WLO-1FWYPe0d",
        "outputId": "fee663eb-f096-4c36-ad74-16f1c3f68172"
      },
      "source": [
        "!pip install --upgrade --force-reinstall --no-deps kaggle\n",
        "!pip install -q kaggle\n",
        "!mkdir -p ~/.kaggle\n",
        "!cp kaggle.json ~/.kaggle/\n",
        "!ls ~/.kaggle\n",
        "!chmod 600 /root/.kaggle/kaggle.json"
      ],
      "execution_count": null,
      "outputs": [
        {
          "output_type": "stream",
          "text": [
            "Collecting kaggle\n",
            "  Downloading kaggle-1.5.12.tar.gz (58 kB)\n",
            "\u001b[?25l\r\u001b[K     |█████▋                          | 10 kB 25.8 MB/s eta 0:00:01\r\u001b[K     |███████████▏                    | 20 kB 26.1 MB/s eta 0:00:01\r\u001b[K     |████████████████▊               | 30 kB 16.7 MB/s eta 0:00:01\r\u001b[K     |██████████████████████▎         | 40 kB 12.6 MB/s eta 0:00:01\r\u001b[K     |███████████████████████████▉    | 51 kB 4.9 MB/s eta 0:00:01\r\u001b[K     |████████████████████████████████| 58 kB 2.7 MB/s \n",
            "\u001b[?25hBuilding wheels for collected packages: kaggle\n",
            "  Building wheel for kaggle (setup.py) ... \u001b[?25l\u001b[?25hdone\n",
            "  Created wheel for kaggle: filename=kaggle-1.5.12-py3-none-any.whl size=73052 sha256=0b7009700ff20672e25143ff713383e41cb0ae27c2fe3dd59c3100cd09a593c4\n",
            "  Stored in directory: /root/.cache/pip/wheels/62/d6/58/5853130f941e75b2177d281eb7e44b4a98ed46dd155f556dc5\n",
            "Successfully built kaggle\n",
            "Installing collected packages: kaggle\n",
            "  Attempting uninstall: kaggle\n",
            "    Found existing installation: kaggle 1.5.12\n",
            "    Uninstalling kaggle-1.5.12:\n",
            "      Successfully uninstalled kaggle-1.5.12\n",
            "Successfully installed kaggle-1.5.12\n",
            "kaggle.json\n"
          ],
          "name": "stdout"
        }
      ]
    },
    {
      "cell_type": "code",
      "metadata": {
        "id": "0xRhzltWJikG"
      },
      "source": [
        "import os\n",
        "os.makedirs('/content/dataset')"
      ],
      "execution_count": null,
      "outputs": []
    },
    {
      "cell_type": "code",
      "metadata": {
        "id": "bTyefXH1PjhA"
      },
      "source": [
        "!kaggle datasets download bmanikan/cmdfall\n",
        "!unzip /content/cmdfall.zip -d dataset/cmdfall\n",
        "os.remove('cmdfall.zip')\n",
        "\n",
        "!kaggle datasets download bmanikan/cmdfall1\n",
        "!unzip /content/cmdfall1.zip -d dataset/cmdfall\n",
        "os.remove('cmdfall1.zip')\n",
        "\n",
        "!kaggle datasets download bmanikan/cmdfall2\n",
        "!unzip /content/cmdfall2.zip -d dataset/cmdfall\n",
        "os.remove('cmdfall2.zip')\n",
        "\n",
        "\n",
        "\n"
      ],
      "execution_count": null,
      "outputs": []
    },
    {
      "cell_type": "markdown",
      "metadata": {
        "id": "ivJaL8e9PIiw"
      },
      "source": [
        "## classification\n"
      ]
    },
    {
      "cell_type": "code",
      "metadata": {
        "id": "vNT3q0p8JZ_Q"
      },
      "source": [
        "import urllib.request as urlreq\n",
        "import os\n",
        "import cv2\n",
        "import numpy as np\n",
        "from pathlib import Path\n",
        "import torch\n",
        "from torch import cuda\n",
        "from tqdm.notebook import tqdm\n",
        "from zipfile import ZipFile\n",
        "import torchvision\n",
        "from torchvision import transforms\n",
        "from torchvision.models.detection import fasterrcnn_resnet50_fpn as fasterrcnn\n",
        "import time\n",
        "import shutil\n",
        "import tensorflow as tf\n",
        "import numpy as np\n",
        "import random\n",
        "import os"
      ],
      "execution_count": null,
      "outputs": []
    },
    {
      "cell_type": "code",
      "metadata": {
        "id": "363VCpTzyp04"
      },
      "source": [
        "\n",
        "#Set seed value\n",
        "seed_value = 43\n",
        "\n",
        "os.environ['PYTHONHASHSEED'] = str(seed_value)\n",
        "\n",
        "random.seed(seed_value)\n",
        "\n",
        "#numpy seed\n",
        "np.random.seed(seed_value)\n",
        "\n",
        "#Tf seed\n",
        "tf.random.set_seed(seed_value)\n",
        "\n",
        "#Configure new global tensorflow session\n",
        "from tensorflow.compat.v1.keras import backend as k\n",
        "session_conf = tf.compat.v1.ConfigProto(\n",
        "    intra_op_parallelism_threads = 1,\n",
        "    inter_op_parallelism_threads = 1\n",
        ")\n",
        "\n",
        "sess = tf.compat.v1.Session(graph = tf.compat.v1.get_default_graph(), config = session_conf)\n",
        "k.set_session(sess)"
      ],
      "execution_count": null,
      "outputs": []
    },
    {
      "cell_type": "code",
      "metadata": {
        "id": "A9nGIaYLffPq"
      },
      "source": [
        "%%capture\n",
        "!pip install wandb"
      ],
      "execution_count": null,
      "outputs": []
    },
    {
      "cell_type": "code",
      "metadata": {
        "colab": {
          "base_uri": "https://localhost:8080/",
          "height": 185
        },
        "id": "gRNYTQHmnCu8",
        "outputId": "d347198a-f1ad-4354-f4f3-6b9ba6953b66"
      },
      "source": [
        "import wandb \n",
        "wandb.login()\n",
        "run = wandb.init(project=\"fall_detection\",\n",
        "          config={\n",
        "              'frameCount'    :50,\n",
        "              'data_size'     :180,\n",
        "              'dataset'       :'CMDFALL',\n",
        "              'epochs'        :15,\n",
        "              'seed_value'    :43,\n",
        "              'split'         :0.8,\n",
        "              'batch_size'    :32,\n",
        "              'activation'    :'relu',\n",
        "              'optimizer'     :'adam',\n",
        "              'loss_fn'       :'binarycrossentropy',\n",
        "              'dropout_rate'  :0.5,\n",
        "              'train_split'   :0.7,\n",
        "              'val_split'     :0.2,\n",
        "              'test_split'    :0.1\n",
        "          })\n",
        "cfg = wandb.config"
      ],
      "execution_count": null,
      "outputs": [
        {
          "output_type": "stream",
          "text": [
            "\u001b[34m\u001b[1mwandb\u001b[0m: \u001b[33mWARNING\u001b[0m Calling wandb.login() after wandb.init() has no effect.\n"
          ],
          "name": "stderr"
        },
        {
          "output_type": "display_data",
          "data": {
            "text/html": [
              "Finishing last run (ID:3pxlsquv) before initializing another..."
            ],
            "text/plain": [
              "<IPython.core.display.HTML object>"
            ]
          },
          "metadata": {
            "tags": []
          }
        },
        {
          "output_type": "display_data",
          "data": {
            "text/html": [
              "...Successfully finished last run (ID:3pxlsquv). Initializing new run:<br/><br/>"
            ],
            "text/plain": [
              "<IPython.core.display.HTML object>"
            ]
          },
          "metadata": {
            "tags": []
          }
        },
        {
          "output_type": "display_data",
          "data": {
            "text/html": [
              "\n",
              "                Tracking run with wandb version 0.11.0<br/>\n",
              "                Syncing run <strong style=\"color:#cdcd00\">vague-monkey-20</strong> to <a href=\"https://wandb.ai\" target=\"_blank\">Weights & Biases</a> <a href=\"https://docs.wandb.com/integrations/jupyter.html\" target=\"_blank\">(Documentation)</a>.<br/>\n",
              "                Project page: <a href=\"https://wandb.ai/manikandan/fall_detection\" target=\"_blank\">https://wandb.ai/manikandan/fall_detection</a><br/>\n",
              "                Run page: <a href=\"https://wandb.ai/manikandan/fall_detection/runs/1fiivhug\" target=\"_blank\">https://wandb.ai/manikandan/fall_detection/runs/1fiivhug</a><br/>\n",
              "                Run data is saved locally in <code>/content/wandb/run-20210728_091804-1fiivhug</code><br/><br/>\n",
              "            "
            ],
            "text/plain": [
              "<IPython.core.display.HTML object>"
            ]
          },
          "metadata": {
            "tags": []
          }
        }
      ]
    },
    {
      "cell_type": "code",
      "metadata": {
        "id": "kHuVbPFHsYSh"
      },
      "source": [
        "artifact = run.use_artifact('trajectory:latest', type='dataset')\n",
        "artifact_dir = artifact.download()"
      ],
      "execution_count": null,
      "outputs": []
    },
    {
      "cell_type": "code",
      "metadata": {
        "colab": {
          "base_uri": "https://localhost:8080/"
        },
        "id": "5sxkl-1ctGek",
        "outputId": "3b23b7fd-99ac-452a-d9d0-98c3df34dbbf"
      },
      "source": [
        "artifact = run.use_artifact('boundingBox:latest', type='dataset')\n",
        "artifact_dir = artifact.download()"
      ],
      "execution_count": null,
      "outputs": [
        {
          "output_type": "stream",
          "text": [
            "\u001b[34m\u001b[1mwandb\u001b[0m: Downloading large artifact boundingBox:latest, 402.29MB. 8423 files... Done. 0:0:0\n"
          ],
          "name": "stderr"
        }
      ]
    },
    {
      "cell_type": "markdown",
      "metadata": {
        "id": "S94AJSX-16kh"
      },
      "source": [
        "## Logger"
      ]
    },
    {
      "cell_type": "code",
      "metadata": {
        "id": "u3lbXXuBo8Jr"
      },
      "source": [
        "import datetime\n",
        "import time\n",
        "import logging\n",
        "import sys\n",
        "\n",
        "def set_logger():\n",
        "  logging.basicConfig(level=logging.INFO)\n",
        "  logger_t = logging.getLogger('withoutlevel')\n",
        "  logger = logging.getLogger('withlevel')\n",
        "\n",
        "  f_handler = logging.FileHandler('Falldetection.log')\n",
        "  f_handler_t = logging.FileHandler('Falldetection.log')\n",
        "\n",
        "  f_format = logging.Formatter('%(levelname)s - %(message)s')\n",
        "  f_format_t = logging.Formatter('%(message)s')\n",
        "\n",
        "  f_handler.setFormatter(f_format)\n",
        "  f_handler_t.setFormatter(f_format_t)\n",
        "\n",
        "  logger.addHandler(f_handler)\n",
        "  logger_t.addHandler(f_handler_t)\n",
        "  return logger, logger_t"
      ],
      "execution_count": null,
      "outputs": []
    },
    {
      "cell_type": "code",
      "metadata": {
        "colab": {
          "base_uri": "https://localhost:8080/"
        },
        "id": "d9lB9iDE_KfS",
        "outputId": "c212d1be-e9ab-40c7-f587-0bf310da410c"
      },
      "source": [
        "import datetime\n",
        "import time\n",
        "t_set = lambda: datetime.datetime.now().astimezone()\n",
        "t_diff = lambda t: str(t_set() - t)\n",
        "w_diff = lambda t: (t_set() - t).total_seconds()\n",
        "t_stamp = lambda t=None: str(t) if t else str(t_set())\n",
        "t = t_set()\n",
        "time.sleep(5)\n",
        "t_diff(t)"
      ],
      "execution_count": null,
      "outputs": [
        {
          "output_type": "execute_result",
          "data": {
            "application/vnd.google.colaboratory.intrinsic+json": {
              "type": "string"
            },
            "text/plain": [
              "'0:00:05.006115'"
            ]
          },
          "metadata": {
            "tags": []
          },
          "execution_count": 10
        }
      ]
    },
    {
      "cell_type": "code",
      "metadata": {
        "id": "6Kb8mmlfW0fc"
      },
      "source": [
        "import logging\n",
        "import sys\n",
        "\n",
        "#logger without time\n",
        "logging.basicConfig(level=logging.INFO)\n",
        "logger_t = logging.getLogger('withoutlevel')\n",
        "logger = logging.getLogger('withlevel')\n",
        "\n",
        "f_handler = logging.FileHandler('Falldetection.log')\n",
        "f_handler_t = logging.FileHandler('Falldetection.log')\n",
        "\n",
        "f_format = logging.Formatter('%(levelname)s - %(message)s')\n",
        "f_format_t = logging.Formatter('%(message)s')\n",
        "\n",
        "f_handler.setFormatter(f_format)\n",
        "f_handler_t.setFormatter(f_format_t)\n",
        "\n",
        "logger.addHandler(f_handler)\n",
        "logger_t.addHandler(f_handler_t)\n"
      ],
      "execution_count": null,
      "outputs": []
    },
    {
      "cell_type": "code",
      "metadata": {
        "id": "odj2St-0ojG1",
        "colab": {
          "base_uri": "https://localhost:8080/"
        },
        "outputId": "e7af7e0f-f1c9-47e4-d77a-c3f57d8ba45c"
      },
      "source": [
        "import platform\n",
        "platform.uname()\n",
        "for det in platform.uname():\n",
        "  logger_t.info(str(det))"
      ],
      "execution_count": null,
      "outputs": [
        {
          "output_type": "stream",
          "text": [
            "INFO:withoutlevel:Linux\n",
            "INFO:withoutlevel:42e36c1475b6\n",
            "INFO:withoutlevel:5.4.104+\n",
            "INFO:withoutlevel:#1 SMP Sat Jun 5 09:50:34 PDT 2021\n",
            "INFO:withoutlevel:x86_64\n",
            "INFO:withoutlevel:x86_64\n"
          ],
          "name": "stderr"
        }
      ]
    },
    {
      "cell_type": "code",
      "metadata": {
        "colab": {
          "base_uri": "https://localhost:8080/"
        },
        "id": "B54IgeY0FUcj",
        "outputId": "f487d56f-55d8-479c-a043-080357d43454"
      },
      "source": [
        "logger_t.info('='*100)\n",
        "logger_t.info(\"\\nFalldetection project\")"
      ],
      "execution_count": null,
      "outputs": [
        {
          "output_type": "stream",
          "text": [
            "INFO:withoutlevel:====================================================================================================\n",
            "INFO:withoutlevel:\n",
            "Falldetection project\n"
          ],
          "name": "stderr"
        }
      ]
    },
    {
      "cell_type": "code",
      "metadata": {
        "colab": {
          "base_uri": "https://localhost:8080/"
        },
        "id": "iglqNXHbnWi0",
        "outputId": "b5ab2afd-6693-4e79-a081-f6c9e684fd78"
      },
      "source": [
        "logger.info(f\"The analysis with dataset {cfg.dataset} and frame count {cfg.frameCount} and size of the data is {cfg.data_size}.\")"
      ],
      "execution_count": null,
      "outputs": [
        {
          "output_type": "stream",
          "text": [
            "INFO:withlevel:The analysis with dataset CMDFALL and frame count 50 and size of the data is 180.\n"
          ],
          "name": "stderr"
        }
      ]
    },
    {
      "cell_type": "markdown",
      "metadata": {
        "id": "GbkiezLhJd5E"
      },
      "source": [
        "## Prepare dataframe"
      ]
    },
    {
      "cell_type": "code",
      "metadata": {
        "id": "fU6Cs_NyXdaw"
      },
      "source": [
        "import pandas as pd\n",
        "df_actions = pd.read_csv('http://mica.edu.vn:8000/KinectData/public/action_list.txt')\n",
        "actions = dict(list(df_actions.to_records(index=False)))\n",
        "df_frames = pd.read_csv('http://mica.edu.vn:8000/KinectData/public/annotation.csv')\n",
        "\n",
        "df_video = df_frames[['setup_id','subject_id','kinect_id']]\n",
        "df_video = df_video.drop_duplicates(keep='first',ignore_index=True)\n"
      ],
      "execution_count": null,
      "outputs": []
    },
    {
      "cell_type": "code",
      "metadata": {
        "id": "17y6nsy71pnK"
      },
      "source": [
        "# Cleaning the dataframe\n",
        "df_frames.loc[df_frames['action_id'] == '\\ufeff1', 'action_id'] = 1\n",
        "df_frames.loc[df_frames['start_frame'] == '89s59','start_frame'] = 8959\n",
        "# Encoding the dataframe\n",
        "df_frames['start_frame'] = df_frames['start_frame'].apply(pd.to_numeric)\n",
        "df_frames['action_id'] = df_frames['action_id'].apply(pd.to_numeric)\n",
        "# details of the action the human performing\n",
        "df_frames['action_detail'] = df_frames['action_id'].apply(lambda x: actions[x])\n",
        "# details of supercategory the action resides \n",
        "df_frames['action'] = df_frames['action_id'].apply(lambda x: 'fall' if 'fall' in actions[x] else 'adl')\n",
        "# Encoding the action column\n",
        "df_frames['action_label'] = df_frames['action_id'].apply(lambda x: 1 if 'fall' in actions[x] else 0)"
      ],
      "execution_count": null,
      "outputs": []
    },
    {
      "cell_type": "code",
      "metadata": {
        "id": "uwswb2aA8bzu",
        "colab": {
          "base_uri": "https://localhost:8080/"
        },
        "outputId": "f85bbd9b-3f11-4a78-f6c5-2a1dd6084a62"
      },
      "source": [
        "\n",
        "df_frames['frame_count'] = df_frames['stop_frame'] - df_frames['start_frame']\n",
        "\n",
        "# Print some statistics\n",
        "print(f\"Total videos possible in this dataset is {len(df_frames)}\")\n",
        "print(f\"Number of fall videos in the dataset is {len(df_frames[df_frames.action == 'fall'])}\")\n",
        "print(f\"Number of adl videos in the dataset is {len(df_frames[df_frames.action == 'adl'])}\")\n",
        "print(f\"Videos greater than 50 Frames are {len(df_frames[df_frames.frame_count > 50])}\")"
      ],
      "execution_count": null,
      "outputs": [
        {
          "output_type": "stream",
          "text": [
            "INFO:numexpr.utils:NumExpr defaulting to 2 threads.\n"
          ],
          "name": "stderr"
        },
        {
          "output_type": "stream",
          "text": [
            "Total videos possible in this dataset is 14029\n",
            "Number of fall videos in the dataset is 5472\n",
            "Number of adl videos in the dataset is 8557\n",
            "Videos greater than 50 Frames are 9481\n"
          ],
          "name": "stdout"
        }
      ]
    },
    {
      "cell_type": "code",
      "metadata": {
        "colab": {
          "base_uri": "https://localhost:8080/",
          "height": 202
        },
        "id": "8a2mdLCS7pfd",
        "outputId": "a50d3b35-afa9-4ceb-90a4-34fbe915eeca"
      },
      "source": [
        "df_frames.head()"
      ],
      "execution_count": null,
      "outputs": [
        {
          "output_type": "execute_result",
          "data": {
            "text/html": [
              "<div>\n",
              "<style scoped>\n",
              "    .dataframe tbody tr th:only-of-type {\n",
              "        vertical-align: middle;\n",
              "    }\n",
              "\n",
              "    .dataframe tbody tr th {\n",
              "        vertical-align: top;\n",
              "    }\n",
              "\n",
              "    .dataframe thead th {\n",
              "        text-align: right;\n",
              "    }\n",
              "</style>\n",
              "<table border=\"1\" class=\"dataframe\">\n",
              "  <thead>\n",
              "    <tr style=\"text-align: right;\">\n",
              "      <th></th>\n",
              "      <th>setup_id</th>\n",
              "      <th>subject_id</th>\n",
              "      <th>kinect_id</th>\n",
              "      <th>action_id</th>\n",
              "      <th>start_frame</th>\n",
              "      <th>stop_frame</th>\n",
              "      <th>action_detail</th>\n",
              "      <th>action</th>\n",
              "      <th>action_label</th>\n",
              "      <th>frame_count</th>\n",
              "    </tr>\n",
              "  </thead>\n",
              "  <tbody>\n",
              "    <tr>\n",
              "      <th>0</th>\n",
              "      <td>1</td>\n",
              "      <td>19</td>\n",
              "      <td>2</td>\n",
              "      <td>1</td>\n",
              "      <td>0</td>\n",
              "      <td>216</td>\n",
              "      <td>walk</td>\n",
              "      <td>adl</td>\n",
              "      <td>0</td>\n",
              "      <td>216</td>\n",
              "    </tr>\n",
              "    <tr>\n",
              "      <th>1</th>\n",
              "      <td>1</td>\n",
              "      <td>19</td>\n",
              "      <td>2</td>\n",
              "      <td>1</td>\n",
              "      <td>286</td>\n",
              "      <td>449</td>\n",
              "      <td>walk</td>\n",
              "      <td>adl</td>\n",
              "      <td>0</td>\n",
              "      <td>163</td>\n",
              "    </tr>\n",
              "    <tr>\n",
              "      <th>2</th>\n",
              "      <td>1</td>\n",
              "      <td>19</td>\n",
              "      <td>2</td>\n",
              "      <td>1</td>\n",
              "      <td>584</td>\n",
              "      <td>957</td>\n",
              "      <td>walk</td>\n",
              "      <td>adl</td>\n",
              "      <td>0</td>\n",
              "      <td>373</td>\n",
              "    </tr>\n",
              "    <tr>\n",
              "      <th>3</th>\n",
              "      <td>1</td>\n",
              "      <td>19</td>\n",
              "      <td>2</td>\n",
              "      <td>2</td>\n",
              "      <td>960</td>\n",
              "      <td>1343</td>\n",
              "      <td>run_slowly</td>\n",
              "      <td>adl</td>\n",
              "      <td>0</td>\n",
              "      <td>383</td>\n",
              "    </tr>\n",
              "    <tr>\n",
              "      <th>4</th>\n",
              "      <td>1</td>\n",
              "      <td>19</td>\n",
              "      <td>2</td>\n",
              "      <td>3</td>\n",
              "      <td>1344</td>\n",
              "      <td>1746</td>\n",
              "      <td>static_jump</td>\n",
              "      <td>adl</td>\n",
              "      <td>0</td>\n",
              "      <td>402</td>\n",
              "    </tr>\n",
              "  </tbody>\n",
              "</table>\n",
              "</div>"
            ],
            "text/plain": [
              "   setup_id  subject_id  kinect_id  ...  action  action_label  frame_count\n",
              "0         1          19          2  ...     adl             0          216\n",
              "1         1          19          2  ...     adl             0          163\n",
              "2         1          19          2  ...     adl             0          373\n",
              "3         1          19          2  ...     adl             0          383\n",
              "4         1          19          2  ...     adl             0          402\n",
              "\n",
              "[5 rows x 10 columns]"
            ]
          },
          "metadata": {
            "tags": []
          },
          "execution_count": 18
        }
      ]
    },
    {
      "cell_type": "code",
      "metadata": {
        "colab": {
          "base_uri": "https://localhost:8080/"
        },
        "id": "iPG_0t9RDy8Y",
        "outputId": "b10f51ab-05a4-4c26-88fb-7ec2d65c377f"
      },
      "source": [
        "actions"
      ],
      "execution_count": null,
      "outputs": [
        {
          "output_type": "execute_result",
          "data": {
            "text/plain": [
              "{1: 'walk',\n",
              " 2: 'run_slowly',\n",
              " 3: 'static_jump',\n",
              " 4: 'move_hand_and_leg',\n",
              " 5: 'left_hand_pick_up',\n",
              " 6: 'right_hand_pick_up',\n",
              " 7: 'stagger',\n",
              " 8: 'front_fall',\n",
              " 9: 'back_fall',\n",
              " 10: 'left_fall',\n",
              " 11: 'right_fall',\n",
              " 12: 'crawl',\n",
              " 13: 'sit_on_chair_then_stand_up',\n",
              " 14: 'move_chair',\n",
              " 15: 'sit_on_chair_then_fall_left',\n",
              " 16: 'sit_on_chair_then_fall_right',\n",
              " 17: 'sit_on_bed_and_stand_up',\n",
              " 18: 'lie_on_bed_and_sit_up',\n",
              " 19: 'lie_on_bed_and_fall_left',\n",
              " 20: 'lie_on_bed_and_fall_right'}"
            ]
          },
          "metadata": {
            "tags": []
          },
          "execution_count": 19
        }
      ]
    },
    {
      "cell_type": "markdown",
      "metadata": {
        "id": "GRGsMzYLJhho"
      },
      "source": [
        "## Download entire dataset"
      ]
    },
    {
      "cell_type": "code",
      "metadata": {
        "id": "8KImwEb0_JeE"
      },
      "source": [
        "def safedirs(path):\n",
        "  if not os.path.exists(path):\n",
        "    os.makedirs(path)\n",
        "\n",
        "root = os.getcwd()\n",
        "cmdfall = os.path.join(root,'dataset','cmdfall')\n"
      ],
      "execution_count": null,
      "outputs": []
    },
    {
      "cell_type": "code",
      "metadata": {
        "id": "vp_bgyG0A3v-"
      },
      "source": [
        "values = list(df_video.iloc[0])\n",
        "url = f'http://mica.edu.vn:8000/KinectData/public/colors/S{values[0]}P{values[1]}K{values[2]}.avi'\n",
        "urlreq.urlretrieve(url, 'video.avi')\n",
        "subframes = df_frames[(df_frames.setup_id == values[0])\n",
        "                     & (df_frames.subject_id == values[1])\n",
        "                     & (df_frames.kinect_id == values[2])]\n",
        "\n"
      ],
      "execution_count": null,
      "outputs": []
    },
    {
      "cell_type": "code",
      "metadata": {
        "id": "pneuAABfx8J9",
        "colab": {
          "base_uri": "https://localhost:8080/"
        },
        "outputId": "c4b716aa-923a-420d-cb0c-e7ab90e0509a"
      },
      "source": [
        "import time\n",
        "\n",
        "t = time.time()\n",
        "for video_idx in range(len(df_video)):\n",
        "  values = list(df_video.iloc[video_idx])\n",
        "  video_filename = f'S{values[0]}P{values[1]}K{values[2]}' \n",
        "  url = f'http://mica.edu.vn:8000/KinectData/public/colors/S{values[0]}P{values[1]}K{values[2]}.avi'\n",
        "  video_temp_path = os.path.join(cmdfall,'temp')\n",
        "  safedirs(video_temp_path)\n",
        "  urlreq.urlretrieve(url, os.path.join(video_temp_path,f'{video_filename}.avi'))\n",
        "  subframes = df_frames[(df_frames.setup_id == values[0])\n",
        "                     & (df_frames.subject_id == values[1])\n",
        "                     & (df_frames.kinect_id == values[2])]\n",
        "  counter = 0\n",
        "  cap = cv2.VideoCapture(os.path.join(video_temp_path, f'{video_filename}.avi'))\n",
        "  frame_count = cap.get(cv2.CAP_PROP_FRAME_COUNT)\n",
        "  print(frame_count)\n",
        "  while (cap.isOpened()):\n",
        "    ret,frame = cap.read()\n",
        "    if ret == False:\n",
        "      break\n",
        "    frame_details = subframes[(subframes.start_frame <= counter) & (subframes.stop_frame >= counter)].values.tolist()\n",
        "    if not frame_details:\n",
        "      #print(f'skipping.... {counter}')\n",
        "      counter += 1\n",
        "      continue\n",
        "    action_detail, action, action_label = frame_details[0][-3:]\n",
        "    action_dest_path = os.path.join(cmdfall, 'frame', video_filename, action, action_detail)\n",
        "    safedirs(action_dest_path)\n",
        "    file_path = os.path.join(action_dest_path, f'{video_filename}_{counter}_{action_label}.png')\n",
        "    cv2.imwrite(file_path, frame)\n",
        "    counter += 1\n",
        "    if counter >= frame_count:\n",
        "      cap.release()\n",
        "      break\n",
        "  break\n",
        "\n",
        "print(time.time() - t)"
      ],
      "execution_count": null,
      "outputs": [
        {
          "output_type": "stream",
          "text": [
            "10270.0\n",
            "161.11956071853638\n"
          ],
          "name": "stdout"
        }
      ]
    },
    {
      "cell_type": "code",
      "metadata": {
        "colab": {
          "base_uri": "https://localhost:8080/"
        },
        "id": "nb-NuNsiF1nR",
        "outputId": "e4392c89-68ee-45f1-fe84-a0854cd0ba3c"
      },
      "source": [
        "for temp in os.listdir('/content/dataset/cmdfall/frame/S1P19K2/adl'):\n",
        "  print(temp, len(os.listdir('/content/dataset/cmdfall/frame/S1P19K2/adl/'+temp)))"
      ],
      "execution_count": null,
      "outputs": [
        {
          "output_type": "stream",
          "text": [
            "move_chair 487\n",
            "sit_on_bed_and_stand_up 286\n",
            "left_hand_pick_up 233\n",
            "static_jump 403\n",
            "sit_on_chair_then_stand_up 224\n",
            "move_hand_and_leg 391\n",
            "stagger 391\n",
            "walk 755\n",
            "lie_on_bed_and_sit_up 152\n",
            "right_hand_pick_up 218\n",
            "crawl 155\n",
            "run_slowly 384\n"
          ],
          "name": "stdout"
        }
      ]
    },
    {
      "cell_type": "markdown",
      "metadata": {
        "id": "0ABe4e7YJ6Hp"
      },
      "source": [
        "## Download videos"
      ]
    },
    {
      "cell_type": "code",
      "metadata": {
        "id": "tI5MCl9lRwbS"
      },
      "source": [
        "# video sequence that has greater than specified frame count is taken into account\n",
        "df_frames = df_frames[df_frames.frame_count > cfg['frameCount']]\n",
        "# Shuffle and retrieve the subset of Fall and Adl samples\n",
        "df_fall = df_frames[df_frames.action == 'fall'].sample(frac=1,random_state=cfg['seed_value']).reset_index(drop=True)[:cfg['data_size']//2]\n",
        "df_adl = df_frames[df_frames.action == 'adl'].sample(frac=1,random_state=cfg['seed_value']).reset_index(drop=True)[:cfg['data_size']//2]\n",
        "df_sample = pd.concat([df_fall,df_adl]).sample(frac=1, random_state=cfg['seed_value']).reset_index(drop=True)\n"
      ],
      "execution_count": null,
      "outputs": []
    },
    {
      "cell_type": "code",
      "metadata": {
        "colab": {
          "base_uri": "https://localhost:8080/"
        },
        "id": "dflJg8YE6NpQ",
        "outputId": "a9a3ef03-ec89-4f1d-b9e4-acf740e6539a"
      },
      "source": [
        "df_fall.action_detail.unique()"
      ],
      "execution_count": null,
      "outputs": [
        {
          "output_type": "execute_result",
          "data": {
            "text/plain": [
              "array(['left_fall', 'back_fall', 'front_fall', 'right_fall',\n",
              "       'lie_on_bed_and_fall_left', 'lie_on_bed_and_fall_right',\n",
              "       'sit_on_chair_then_fall_right', 'sit_on_chair_then_fall_left'],\n",
              "      dtype=object)"
            ]
          },
          "metadata": {
            "tags": []
          },
          "execution_count": 21
        }
      ]
    },
    {
      "cell_type": "code",
      "metadata": {
        "colab": {
          "base_uri": "https://localhost:8080/",
          "height": 202
        },
        "id": "IzqW29a4lPiF",
        "outputId": "cd80b161-a7a2-4018-bab7-33adc2261589"
      },
      "source": [
        "df_sample.head()"
      ],
      "execution_count": null,
      "outputs": [
        {
          "output_type": "execute_result",
          "data": {
            "text/html": [
              "<div>\n",
              "<style scoped>\n",
              "    .dataframe tbody tr th:only-of-type {\n",
              "        vertical-align: middle;\n",
              "    }\n",
              "\n",
              "    .dataframe tbody tr th {\n",
              "        vertical-align: top;\n",
              "    }\n",
              "\n",
              "    .dataframe thead th {\n",
              "        text-align: right;\n",
              "    }\n",
              "</style>\n",
              "<table border=\"1\" class=\"dataframe\">\n",
              "  <thead>\n",
              "    <tr style=\"text-align: right;\">\n",
              "      <th></th>\n",
              "      <th>setup_id</th>\n",
              "      <th>subject_id</th>\n",
              "      <th>kinect_id</th>\n",
              "      <th>action_id</th>\n",
              "      <th>start_frame</th>\n",
              "      <th>stop_frame</th>\n",
              "      <th>action_detail</th>\n",
              "      <th>action</th>\n",
              "      <th>action_label</th>\n",
              "      <th>frame_count</th>\n",
              "    </tr>\n",
              "  </thead>\n",
              "  <tbody>\n",
              "    <tr>\n",
              "      <th>0</th>\n",
              "      <td>38</td>\n",
              "      <td>16</td>\n",
              "      <td>4</td>\n",
              "      <td>14</td>\n",
              "      <td>6412</td>\n",
              "      <td>6782</td>\n",
              "      <td>move_chair</td>\n",
              "      <td>adl</td>\n",
              "      <td>0</td>\n",
              "      <td>370</td>\n",
              "    </tr>\n",
              "    <tr>\n",
              "      <th>1</th>\n",
              "      <td>30</td>\n",
              "      <td>7</td>\n",
              "      <td>6</td>\n",
              "      <td>12</td>\n",
              "      <td>5509</td>\n",
              "      <td>5642</td>\n",
              "      <td>crawl</td>\n",
              "      <td>adl</td>\n",
              "      <td>0</td>\n",
              "      <td>133</td>\n",
              "    </tr>\n",
              "    <tr>\n",
              "      <th>2</th>\n",
              "      <td>18</td>\n",
              "      <td>6</td>\n",
              "      <td>2</td>\n",
              "      <td>19</td>\n",
              "      <td>9904</td>\n",
              "      <td>9995</td>\n",
              "      <td>lie_on_bed_and_fall_left</td>\n",
              "      <td>fall</td>\n",
              "      <td>1</td>\n",
              "      <td>91</td>\n",
              "    </tr>\n",
              "    <tr>\n",
              "      <th>3</th>\n",
              "      <td>3</td>\n",
              "      <td>30</td>\n",
              "      <td>3</td>\n",
              "      <td>15</td>\n",
              "      <td>6735</td>\n",
              "      <td>6790</td>\n",
              "      <td>sit_on_chair_then_fall_left</td>\n",
              "      <td>fall</td>\n",
              "      <td>1</td>\n",
              "      <td>55</td>\n",
              "    </tr>\n",
              "    <tr>\n",
              "      <th>4</th>\n",
              "      <td>25</td>\n",
              "      <td>39</td>\n",
              "      <td>5</td>\n",
              "      <td>5</td>\n",
              "      <td>2627</td>\n",
              "      <td>2686</td>\n",
              "      <td>left_hand_pick_up</td>\n",
              "      <td>adl</td>\n",
              "      <td>0</td>\n",
              "      <td>59</td>\n",
              "    </tr>\n",
              "  </tbody>\n",
              "</table>\n",
              "</div>"
            ],
            "text/plain": [
              "   setup_id  subject_id  kinect_id  ...  action  action_label  frame_count\n",
              "0        38          16          4  ...     adl             0          370\n",
              "1        30           7          6  ...     adl             0          133\n",
              "2        18           6          2  ...    fall             1           91\n",
              "3         3          30          3  ...    fall             1           55\n",
              "4        25          39          5  ...     adl             0           59\n",
              "\n",
              "[5 rows x 10 columns]"
            ]
          },
          "metadata": {
            "tags": []
          },
          "execution_count": 22
        }
      ]
    },
    {
      "cell_type": "code",
      "metadata": {
        "colab": {
          "base_uri": "https://localhost:8080/"
        },
        "id": "ya2lVDj4J9aP",
        "outputId": "8e5aaf9e-cde1-48da-b265-077d68888934"
      },
      "source": [
        "def safedirs(path):\n",
        "  if not os.path.exists(path):\n",
        "    os.makedirs(path)\n",
        "\n",
        "logger_t.info(f'{\"=\"*100} \\n\\nSTEP 1: Download dataset into the system')\n",
        "\n",
        "root = os.getcwd()\n",
        "# CMDFALL dataset video path\n",
        "cmdfall = os.path.join(root,'dataset','cmdfall')\n",
        "# path for subset of frames stored\n",
        "subset = os.path.join(root, 'subset')\n",
        "\n",
        "logger.info(f\" dataset is downloaded in path {cmdfall}\")\n",
        "\n"
      ],
      "execution_count": null,
      "outputs": [
        {
          "output_type": "stream",
          "text": [
            "INFO:withoutlevel:==================================================================================================== \n",
            "\n",
            "STEP 1: Download dataset into the system\n",
            "INFO:withlevel: dataset is downloaded in path /content/dataset/cmdfall\n"
          ],
          "name": "stderr"
        }
      ]
    },
    {
      "cell_type": "code",
      "metadata": {
        "id": "uLU1qRr9-MFc"
      },
      "source": [
        "shutil.rmtree('/content/subset')"
      ],
      "execution_count": null,
      "outputs": []
    },
    {
      "cell_type": "code",
      "metadata": {
        "id": "dxjuQYKe0f_Q",
        "colab": {
          "base_uri": "https://localhost:8080/",
          "height": 1000,
          "referenced_widgets": [
            "a07a1c8b27dc4df1b7854395f0df4657",
            "978046daedaa498e85a93b0ae102f4f5",
            "80fc424a00b64b49a50b37ab525aa6df",
            "bd54bebf08b84914b2391170013ccb1a",
            "6e1cb37b51d041e68585018eeb26ad69",
            "003eb0aeba76407893972d7c7c468d57",
            "efe29bf75bee4251b0808618a933f21d",
            "1584091efe4346b18145376bd050001d"
          ]
        },
        "outputId": "a3d877c2-3f62-49fa-a233-defaa2e2c478"
      },
      "source": [
        "def download_dataset(df_sample, cmdfall, subset):\n",
        "  # data size\n",
        "  train_size = int(cfg.train_split * len(df_sample))\n",
        "  validation_size = int(cfg.val_split * len(df_sample)) + train_size\n",
        "  test_size = int(cfg.test_split * len(df_sample)) + validation_size\n",
        "  logger.info(f'Number of files in Train set is {train_size}')\n",
        "  logger.info(f'Number of files in validation set is {validation_size - train_size}')\n",
        "  logger.info(f'Number of files in Test set is {test_size - validation_size}')\n",
        "  # each video sequence from the data frame\n",
        "  for video_idx in tqdm(range(len(df_sample))):\n",
        "    t = t_set()\n",
        "    # downloaded to train, validation and test in sequence\n",
        "    split = 'train' if video_idx in range(train_size) else 'val' if video_idx in range(validation_size) else 'test'\n",
        "    # for each record in datframe\n",
        "    values = df_sample.iloc[video_idx]\n",
        "    video_filename = f'S{values.setup_id}P{values.subject_id}K{values.kinect_id}' \n",
        "    url = f'http://mica.edu.vn:8000/KinectData/public/colors/{video_filename}.avi'\n",
        "    # folder to store videos\n",
        "    video_temp_folder = os.path.join(cmdfall,'temp')\n",
        "    video_temp_file = os.path.join(video_temp_folder,f'{video_filename}.avi')\n",
        "    # download video if it is not already downloaded\n",
        "    if not os.path.exists(video_temp_file):\n",
        "      safedirs(video_temp_folder)\n",
        "      urlreq.urlretrieve(url, video_temp_file)\n",
        "    # folder to store the frames of the video\n",
        "    frame_folder = os.path.join(subset, split, values.action, video_filename)\n",
        "    # if the frame set is already available with that video it appends the name with counter\n",
        "    counter = 1\n",
        "    while os.path.exists(frame_folder):\n",
        "      frame_folder = os.path.join(subset,split, values.action, video_filename + f'_{counter}')\n",
        "      counter += 1\n",
        "    safedirs(frame_folder)\n",
        "    logger_t.info(f'The file is downloaded from {url} \\n extracted into path ...{frame_folder}')\n",
        "    # store path of video in dataframe\n",
        "    df_frames.loc[(df_frames.setup_id == values.setup_id)\n",
        "                & (df_frames.subject_id == values.subject_id)\n",
        "                & (df_frames.kinect_id == values.kinect_id), 'video_path'] = video_temp_file\n",
        "    # read the video file\n",
        "    cap = cv2.VideoCapture(video_temp_file)\n",
        "    total_frame = cap.get(cv2.CAP_PROP_FRAME_COUNT)\n",
        "    # randomly select the 50 frames from the video sequence\n",
        "    random_start = random.randint(values.start_frame, values.stop_frame - cfg['frameCount'])\n",
        "    random_sample = sorted(random.sample(range(values.start_frame, values.stop_frame+1), cfg['frameCount']))\n",
        "    # read specific frames from the video without reading it sequence\n",
        "    print(values.start_frame, values.stop_frame)\n",
        "    for frame_idx in range(values.start_frame, values.stop_frame+1):\n",
        "      string_idx = str(frame_idx).zfill(6)\n",
        "      frame_file_path = os.path.join(frame_folder, f'{video_filename}_{string_idx}_{values.action_label}.jpg')\n",
        "      cap.set(cv2.CAP_PROP_POS_FRAMES, frame_idx)\n",
        "      ret,frame = cap.read()\n",
        "      if not ret:\n",
        "        break\n",
        "        raise Exception\n",
        "      #print(frame_file_path)\n",
        "      cv2.imwrite(frame_file_path, frame)\n",
        "    logger.info(f'Elapsed time for downloading and extracting the file is {t_diff(t)}.\\n')\n",
        "    wandb.log({'download':{'time': w_diff(t)}})\n",
        "\n",
        "t = t_set()\n",
        "download_dataset(df_sample, cmdfall, subset)\n",
        "logger.info(f'Total time for downloading and extracting entire dataset is {t_diff(t)}\\n {\"=\"*200}')\n",
        "wandb.summary['Download_TotalTime'] = w_diff(t)"
      ],
      "execution_count": null,
      "outputs": [
        {
          "output_type": "stream",
          "text": [
            "INFO:withlevel:Number of files in Train set is 125\n",
            "INFO:withlevel:Number of files in validation set is 36\n",
            "INFO:withlevel:Number of files in Test set is 18\n"
          ],
          "name": "stderr"
        },
        {
          "output_type": "display_data",
          "data": {
            "application/vnd.jupyter.widget-view+json": {
              "model_id": "a07a1c8b27dc4df1b7854395f0df4657",
              "version_minor": 0,
              "version_major": 2
            },
            "text/plain": [
              "HBox(children=(FloatProgress(value=0.0, max=180.0), HTML(value='')))"
            ]
          },
          "metadata": {
            "tags": []
          }
        },
        {
          "output_type": "stream",
          "text": [
            "INFO:withoutlevel:The file is downloaded from http://mica.edu.vn:8000/KinectData/public/colors/S38P16K4.avi \n",
            " extracted into path .../content/subset/train/adl/S38P16K4\n"
          ],
          "name": "stderr"
        },
        {
          "output_type": "stream",
          "text": [
            "6412 6782\n"
          ],
          "name": "stdout"
        },
        {
          "output_type": "stream",
          "text": [
            "INFO:withlevel:Elapsed time for downloading and extracting the file is 0:00:10.865405.\n",
            "\n",
            "INFO:withoutlevel:The file is downloaded from http://mica.edu.vn:8000/KinectData/public/colors/S30P7K6.avi \n",
            " extracted into path .../content/subset/train/adl/S30P7K6\n"
          ],
          "name": "stderr"
        },
        {
          "output_type": "stream",
          "text": [
            "5509 5642\n"
          ],
          "name": "stdout"
        },
        {
          "output_type": "stream",
          "text": [
            "INFO:withlevel:Elapsed time for downloading and extracting the file is 0:00:03.589593.\n",
            "\n",
            "INFO:withoutlevel:The file is downloaded from http://mica.edu.vn:8000/KinectData/public/colors/S18P6K2.avi \n",
            " extracted into path .../content/subset/train/fall/S18P6K2\n"
          ],
          "name": "stderr"
        },
        {
          "output_type": "stream",
          "text": [
            "9904 9995\n"
          ],
          "name": "stdout"
        },
        {
          "output_type": "stream",
          "text": [
            "INFO:withlevel:Elapsed time for downloading and extracting the file is 0:00:52.650858.\n",
            "\n",
            "INFO:withoutlevel:The file is downloaded from http://mica.edu.vn:8000/KinectData/public/colors/S3P30K3.avi \n",
            " extracted into path .../content/subset/train/fall/S3P30K3\n"
          ],
          "name": "stderr"
        },
        {
          "output_type": "stream",
          "text": [
            "6735 6790\n"
          ],
          "name": "stdout"
        },
        {
          "output_type": "stream",
          "text": [
            "INFO:withlevel:Elapsed time for downloading and extracting the file is 0:00:51.645016.\n",
            "\n",
            "INFO:withoutlevel:The file is downloaded from http://mica.edu.vn:8000/KinectData/public/colors/S25P39K5.avi \n",
            " extracted into path .../content/subset/train/adl/S25P39K5\n"
          ],
          "name": "stderr"
        },
        {
          "output_type": "stream",
          "text": [
            "2627 2686\n"
          ],
          "name": "stdout"
        },
        {
          "output_type": "stream",
          "text": [
            "INFO:withlevel:Elapsed time for downloading and extracting the file is 0:00:01.774255.\n",
            "\n",
            "INFO:withoutlevel:The file is downloaded from http://mica.edu.vn:8000/KinectData/public/colors/S29P43K6.avi \n",
            " extracted into path .../content/subset/train/fall/S29P43K6\n"
          ],
          "name": "stderr"
        },
        {
          "output_type": "stream",
          "text": [
            "3880 3950\n"
          ],
          "name": "stdout"
        },
        {
          "output_type": "stream",
          "text": [
            "INFO:withlevel:Elapsed time for downloading and extracting the file is 0:00:01.901459.\n",
            "\n",
            "INFO:withoutlevel:The file is downloaded from http://mica.edu.vn:8000/KinectData/public/colors/S55P18K5.avi \n",
            " extracted into path .../content/subset/train/adl/S55P18K5\n"
          ],
          "name": "stderr"
        },
        {
          "output_type": "stream",
          "text": [
            "7228 7432\n"
          ],
          "name": "stdout"
        },
        {
          "output_type": "stream",
          "text": [
            "INFO:withlevel:Elapsed time for downloading and extracting the file is 0:00:06.257187.\n",
            "\n",
            "INFO:withoutlevel:The file is downloaded from http://mica.edu.vn:8000/KinectData/public/colors/S37P45K3.avi \n",
            " extracted into path .../content/subset/train/fall/S37P45K3\n"
          ],
          "name": "stderr"
        },
        {
          "output_type": "stream",
          "text": [
            "3359 3432\n"
          ],
          "name": "stdout"
        },
        {
          "output_type": "stream",
          "text": [
            "INFO:withlevel:Elapsed time for downloading and extracting the file is 0:00:02.086418.\n",
            "\n",
            "INFO:withoutlevel:The file is downloaded from http://mica.edu.vn:8000/KinectData/public/colors/S46P35K7.avi \n",
            " extracted into path .../content/subset/train/fall/S46P35K7\n"
          ],
          "name": "stderr"
        },
        {
          "output_type": "stream",
          "text": [
            "10705 10778\n"
          ],
          "name": "stdout"
        },
        {
          "output_type": "stream",
          "text": [
            "INFO:withlevel:Elapsed time for downloading and extracting the file is 0:00:39.114876.\n",
            "\n",
            "INFO:withoutlevel:The file is downloaded from http://mica.edu.vn:8000/KinectData/public/colors/S16P41K1.avi \n",
            " extracted into path .../content/subset/train/adl/S16P41K1\n"
          ],
          "name": "stderr"
        },
        {
          "output_type": "stream",
          "text": [
            "8893 8950\n"
          ],
          "name": "stdout"
        },
        {
          "output_type": "stream",
          "text": [
            "INFO:withlevel:Elapsed time for downloading and extracting the file is 0:00:01.779238.\n",
            "\n",
            "INFO:withoutlevel:The file is downloaded from http://mica.edu.vn:8000/KinectData/public/colors/S30P7K1.avi \n",
            " extracted into path .../content/subset/train/fall/S30P7K1\n"
          ],
          "name": "stderr"
        },
        {
          "output_type": "stream",
          "text": [
            "6576 6643\n"
          ],
          "name": "stdout"
        },
        {
          "output_type": "stream",
          "text": [
            "INFO:withlevel:Elapsed time for downloading and extracting the file is 0:00:01.995778.\n",
            "\n",
            "INFO:withoutlevel:The file is downloaded from http://mica.edu.vn:8000/KinectData/public/colors/S35P11K2.avi \n",
            " extracted into path .../content/subset/train/fall/S35P11K2\n"
          ],
          "name": "stderr"
        },
        {
          "output_type": "stream",
          "text": [
            "10009 10070\n"
          ],
          "name": "stdout"
        },
        {
          "output_type": "stream",
          "text": [
            "INFO:withlevel:Elapsed time for downloading and extracting the file is 0:00:01.786404.\n",
            "\n",
            "INFO:withoutlevel:The file is downloaded from http://mica.edu.vn:8000/KinectData/public/colors/S12P48K2.avi \n",
            " extracted into path .../content/subset/train/fall/S12P48K2\n"
          ],
          "name": "stderr"
        },
        {
          "output_type": "stream",
          "text": [
            "6976 7027\n"
          ],
          "name": "stdout"
        },
        {
          "output_type": "stream",
          "text": [
            "INFO:withlevel:Elapsed time for downloading and extracting the file is 0:00:01.515506.\n",
            "\n",
            "INFO:withoutlevel:The file is downloaded from http://mica.edu.vn:8000/KinectData/public/colors/S16P41K6.avi \n",
            " extracted into path .../content/subset/train/adl/S16P41K6\n"
          ],
          "name": "stderr"
        },
        {
          "output_type": "stream",
          "text": [
            "8794 8857\n"
          ],
          "name": "stdout"
        },
        {
          "output_type": "stream",
          "text": [
            "INFO:withlevel:Elapsed time for downloading and extracting the file is 0:00:01.766882.\n",
            "\n",
            "INFO:withoutlevel:The file is downloaded from http://mica.edu.vn:8000/KinectData/public/colors/S53P26K1.avi \n",
            " extracted into path .../content/subset/train/fall/S53P26K1\n"
          ],
          "name": "stderr"
        },
        {
          "output_type": "stream",
          "text": [
            "5555 5606\n"
          ],
          "name": "stdout"
        },
        {
          "output_type": "stream",
          "text": [
            "INFO:withlevel:Elapsed time for downloading and extracting the file is 0:00:01.531336.\n",
            "\n",
            "INFO:withoutlevel:The file is downloaded from http://mica.edu.vn:8000/KinectData/public/colors/S20P24K5.avi \n",
            " extracted into path .../content/subset/train/fall/S20P24K5\n"
          ],
          "name": "stderr"
        },
        {
          "output_type": "stream",
          "text": [
            "6612 6677\n"
          ],
          "name": "stdout"
        },
        {
          "output_type": "stream",
          "text": [
            "INFO:withlevel:Elapsed time for downloading and extracting the file is 0:00:01.974768.\n",
            "\n",
            "INFO:withoutlevel:The file is downloaded from http://mica.edu.vn:8000/KinectData/public/colors/S46P35K7.avi \n",
            " extracted into path .../content/subset/train/adl/S46P35K7\n"
          ],
          "name": "stderr"
        },
        {
          "output_type": "stream",
          "text": [
            "6777 7025\n"
          ],
          "name": "stdout"
        },
        {
          "output_type": "stream",
          "text": [
            "INFO:withlevel:Elapsed time for downloading and extracting the file is 0:00:05.749289.\n",
            "\n",
            "INFO:withoutlevel:The file is downloaded from http://mica.edu.vn:8000/KinectData/public/colors/S47P14K2.avi \n",
            " extracted into path .../content/subset/train/adl/S47P14K2\n"
          ],
          "name": "stderr"
        },
        {
          "output_type": "stream",
          "text": [
            "2531 2586\n"
          ],
          "name": "stdout"
        },
        {
          "output_type": "stream",
          "text": [
            "INFO:withlevel:Elapsed time for downloading and extracting the file is 0:00:01.553696.\n",
            "\n",
            "INFO:withoutlevel:The file is downloaded from http://mica.edu.vn:8000/KinectData/public/colors/S23P17K2.avi \n",
            " extracted into path .../content/subset/train/fall/S23P17K2\n"
          ],
          "name": "stderr"
        },
        {
          "output_type": "stream",
          "text": [
            "9180 9269\n"
          ],
          "name": "stdout"
        },
        {
          "output_type": "stream",
          "text": [
            "INFO:withlevel:Elapsed time for downloading and extracting the file is 0:00:02.508070.\n",
            "\n",
            "INFO:withoutlevel:The file is downloaded from http://mica.edu.vn:8000/KinectData/public/colors/S34P27K1.avi \n",
            " extracted into path .../content/subset/train/adl/S34P27K1\n"
          ],
          "name": "stderr"
        },
        {
          "output_type": "stream",
          "text": [
            "9610 9675\n"
          ],
          "name": "stdout"
        },
        {
          "output_type": "stream",
          "text": [
            "INFO:withlevel:Elapsed time for downloading and extracting the file is 0:00:01.984402.\n",
            "\n",
            "INFO:withoutlevel:The file is downloaded from http://mica.edu.vn:8000/KinectData/public/colors/S3P30K7.avi \n",
            " extracted into path .../content/subset/train/fall/S3P30K7\n"
          ],
          "name": "stderr"
        },
        {
          "output_type": "stream",
          "text": [
            "7162 7217\n"
          ],
          "name": "stdout"
        },
        {
          "output_type": "stream",
          "text": [
            "INFO:withlevel:Elapsed time for downloading and extracting the file is 0:00:01.371153.\n",
            "\n",
            "INFO:withoutlevel:The file is downloaded from http://mica.edu.vn:8000/KinectData/public/colors/S50P47K2.avi \n",
            " extracted into path .../content/subset/train/fall/S50P47K2\n"
          ],
          "name": "stderr"
        },
        {
          "output_type": "stream",
          "text": [
            "4286 4343\n"
          ],
          "name": "stdout"
        },
        {
          "output_type": "stream",
          "text": [
            "INFO:withlevel:Elapsed time for downloading and extracting the file is 0:00:01.711810.\n",
            "\n",
            "INFO:withoutlevel:The file is downloaded from http://mica.edu.vn:8000/KinectData/public/colors/S17P21K1.avi \n",
            " extracted into path .../content/subset/train/fall/S17P21K1\n"
          ],
          "name": "stderr"
        },
        {
          "output_type": "stream",
          "text": [
            "4949 5000\n"
          ],
          "name": "stdout"
        },
        {
          "output_type": "stream",
          "text": [
            "INFO:withlevel:Elapsed time for downloading and extracting the file is 0:01:06.255870.\n",
            "\n",
            "INFO:withoutlevel:The file is downloaded from http://mica.edu.vn:8000/KinectData/public/colors/S16P41K4.avi \n",
            " extracted into path .../content/subset/train/fall/S16P41K4\n"
          ],
          "name": "stderr"
        },
        {
          "output_type": "stream",
          "text": [
            "9705 9798\n"
          ],
          "name": "stdout"
        },
        {
          "output_type": "stream",
          "text": [
            "INFO:withlevel:Elapsed time for downloading and extracting the file is 0:01:04.827538.\n",
            "\n",
            "INFO:withoutlevel:The file is downloaded from http://mica.edu.vn:8000/KinectData/public/colors/S7P1K1.avi \n",
            " extracted into path .../content/subset/train/adl/S7P1K1\n"
          ],
          "name": "stderr"
        },
        {
          "output_type": "stream",
          "text": [
            "2358 2750\n"
          ],
          "name": "stdout"
        },
        {
          "output_type": "stream",
          "text": [
            "INFO:withlevel:Elapsed time for downloading and extracting the file is 0:00:11.533399.\n",
            "\n",
            "INFO:withoutlevel:The file is downloaded from http://mica.edu.vn:8000/KinectData/public/colors/S15P31K2.avi \n",
            " extracted into path .../content/subset/train/fall/S15P31K2\n"
          ],
          "name": "stderr"
        },
        {
          "output_type": "stream",
          "text": [
            "4614 4677\n"
          ],
          "name": "stdout"
        },
        {
          "output_type": "stream",
          "text": [
            "INFO:withlevel:Elapsed time for downloading and extracting the file is 0:00:01.895840.\n",
            "\n",
            "INFO:withoutlevel:The file is downloaded from http://mica.edu.vn:8000/KinectData/public/colors/S3P30K1.avi \n",
            " extracted into path .../content/subset/train/adl/S3P30K1\n"
          ],
          "name": "stderr"
        },
        {
          "output_type": "stream",
          "text": [
            "8680 8748\n"
          ],
          "name": "stdout"
        },
        {
          "output_type": "stream",
          "text": [
            "INFO:withlevel:Elapsed time for downloading and extracting the file is 0:00:02.143559.\n",
            "\n",
            "INFO:withoutlevel:The file is downloaded from http://mica.edu.vn:8000/KinectData/public/colors/S48P46K1.avi \n",
            " extracted into path .../content/subset/train/adl/S48P46K1\n"
          ],
          "name": "stderr"
        },
        {
          "output_type": "stream",
          "text": [
            "1976 2028\n"
          ],
          "name": "stdout"
        },
        {
          "output_type": "stream",
          "text": [
            "INFO:withlevel:Elapsed time for downloading and extracting the file is 0:00:01.595456.\n",
            "\n",
            "INFO:withoutlevel:The file is downloaded from http://mica.edu.vn:8000/KinectData/public/colors/S25P39K3.avi \n",
            " extracted into path .../content/subset/train/fall/S25P39K3\n"
          ],
          "name": "stderr"
        },
        {
          "output_type": "stream",
          "text": [
            "4978 5078\n"
          ],
          "name": "stdout"
        },
        {
          "output_type": "stream",
          "text": [
            "INFO:withlevel:Elapsed time for downloading and extracting the file is 0:00:51.421882.\n",
            "\n",
            "INFO:withoutlevel:The file is downloaded from http://mica.edu.vn:8000/KinectData/public/colors/S19P3K4.avi \n",
            " extracted into path .../content/subset/train/fall/S19P3K4\n"
          ],
          "name": "stderr"
        },
        {
          "output_type": "stream",
          "text": [
            "3491 3557\n"
          ],
          "name": "stdout"
        },
        {
          "output_type": "stream",
          "text": [
            "INFO:withlevel:Elapsed time for downloading and extracting the file is 0:00:01.901961.\n",
            "\n",
            "INFO:withoutlevel:The file is downloaded from http://mica.edu.vn:8000/KinectData/public/colors/S47P14K3.avi \n",
            " extracted into path .../content/subset/train/fall/S47P14K3\n"
          ],
          "name": "stderr"
        },
        {
          "output_type": "stream",
          "text": [
            "4161 4213\n"
          ],
          "name": "stdout"
        },
        {
          "output_type": "stream",
          "text": [
            "INFO:withlevel:Elapsed time for downloading and extracting the file is 0:00:01.490453.\n",
            "\n",
            "INFO:withoutlevel:The file is downloaded from http://mica.edu.vn:8000/KinectData/public/colors/S9P33K7.avi \n",
            " extracted into path .../content/subset/train/fall/S9P33K7\n"
          ],
          "name": "stderr"
        },
        {
          "output_type": "stream",
          "text": [
            "10733 10787\n"
          ],
          "name": "stdout"
        },
        {
          "output_type": "stream",
          "text": [
            "INFO:withlevel:Elapsed time for downloading and extracting the file is 0:00:35.920166.\n",
            "\n",
            "INFO:withoutlevel:The file is downloaded from http://mica.edu.vn:8000/KinectData/public/colors/S26P28K5.avi \n",
            " extracted into path .../content/subset/train/adl/S26P28K5\n"
          ],
          "name": "stderr"
        },
        {
          "output_type": "stream",
          "text": [
            "9592 9653\n"
          ],
          "name": "stdout"
        },
        {
          "output_type": "stream",
          "text": [
            "INFO:withlevel:Elapsed time for downloading and extracting the file is 0:00:01.885031.\n",
            "\n",
            "INFO:withoutlevel:The file is downloaded from http://mica.edu.vn:8000/KinectData/public/colors/S16P41K3.avi \n",
            " extracted into path .../content/subset/train/fall/S16P41K3\n"
          ],
          "name": "stderr"
        },
        {
          "output_type": "stream",
          "text": [
            "5343 5407\n"
          ],
          "name": "stdout"
        },
        {
          "output_type": "stream",
          "text": [
            "INFO:withlevel:Elapsed time for downloading and extracting the file is 0:00:01.764347.\n",
            "\n",
            "INFO:withoutlevel:The file is downloaded from http://mica.edu.vn:8000/KinectData/public/colors/S15P31K6.avi \n",
            " extracted into path .../content/subset/train/fall/S15P31K6\n"
          ],
          "name": "stderr"
        },
        {
          "output_type": "stream",
          "text": [
            "6707 6768\n"
          ],
          "name": "stdout"
        },
        {
          "output_type": "stream",
          "text": [
            "INFO:withlevel:Elapsed time for downloading and extracting the file is 0:00:01.662143.\n",
            "\n",
            "INFO:withoutlevel:The file is downloaded from http://mica.edu.vn:8000/KinectData/public/colors/S40P15K3.avi \n",
            " extracted into path .../content/subset/train/adl/S40P15K3\n"
          ],
          "name": "stderr"
        },
        {
          "output_type": "stream",
          "text": [
            "8144 8298\n"
          ],
          "name": "stdout"
        },
        {
          "output_type": "stream",
          "text": [
            "INFO:withlevel:Elapsed time for downloading and extracting the file is 0:00:04.338100.\n",
            "\n",
            "INFO:withoutlevel:The file is downloaded from http://mica.edu.vn:8000/KinectData/public/colors/S45P10K2.avi \n",
            " extracted into path .../content/subset/train/fall/S45P10K2\n"
          ],
          "name": "stderr"
        },
        {
          "output_type": "stream",
          "text": [
            "3397 3500\n"
          ],
          "name": "stdout"
        },
        {
          "output_type": "stream",
          "text": [
            "INFO:withlevel:Elapsed time for downloading and extracting the file is 0:00:56.324616.\n",
            "\n",
            "INFO:withoutlevel:The file is downloaded from http://mica.edu.vn:8000/KinectData/public/colors/S50P47K5.avi \n",
            " extracted into path .../content/subset/train/fall/S50P47K5\n"
          ],
          "name": "stderr"
        },
        {
          "output_type": "stream",
          "text": [
            "6908 6978\n"
          ],
          "name": "stdout"
        },
        {
          "output_type": "stream",
          "text": [
            "INFO:withlevel:Elapsed time for downloading and extracting the file is 0:00:02.186340.\n",
            "\n",
            "INFO:withoutlevel:The file is downloaded from http://mica.edu.vn:8000/KinectData/public/colors/S48P46K6.avi \n",
            " extracted into path .../content/subset/train/fall/S48P46K6\n"
          ],
          "name": "stderr"
        },
        {
          "output_type": "stream",
          "text": [
            "6586 6673\n"
          ],
          "name": "stdout"
        },
        {
          "output_type": "stream",
          "text": [
            "INFO:withlevel:Elapsed time for downloading and extracting the file is 0:00:02.407653.\n",
            "\n",
            "INFO:withoutlevel:The file is downloaded from http://mica.edu.vn:8000/KinectData/public/colors/S29P43K7.avi \n",
            " extracted into path .../content/subset/train/adl/S29P43K7\n"
          ],
          "name": "stderr"
        },
        {
          "output_type": "stream",
          "text": [
            "8755 8822\n"
          ],
          "name": "stdout"
        },
        {
          "output_type": "stream",
          "text": [
            "INFO:withlevel:Elapsed time for downloading and extracting the file is 0:00:01.718662.\n",
            "\n",
            "INFO:withoutlevel:The file is downloaded from http://mica.edu.vn:8000/KinectData/public/colors/S24P37K1.avi \n",
            " extracted into path .../content/subset/train/adl/S24P37K1\n"
          ],
          "name": "stderr"
        },
        {
          "output_type": "stream",
          "text": [
            "7532 7857\n"
          ],
          "name": "stdout"
        },
        {
          "output_type": "stream",
          "text": [
            "INFO:withlevel:Elapsed time for downloading and extracting the file is 0:00:09.649364.\n",
            "\n",
            "INFO:withoutlevel:The file is downloaded from http://mica.edu.vn:8000/KinectData/public/colors/S13P42K1.avi \n",
            " extracted into path .../content/subset/train/fall/S13P42K1\n"
          ],
          "name": "stderr"
        },
        {
          "output_type": "stream",
          "text": [
            "9164 9270\n"
          ],
          "name": "stdout"
        },
        {
          "output_type": "stream",
          "text": [
            "INFO:withlevel:Elapsed time for downloading and extracting the file is 0:00:03.221776.\n",
            "\n",
            "INFO:withoutlevel:The file is downloaded from http://mica.edu.vn:8000/KinectData/public/colors/S21P25K4.avi \n",
            " extracted into path .../content/subset/train/fall/S21P25K4\n"
          ],
          "name": "stderr"
        },
        {
          "output_type": "stream",
          "text": [
            "4745 4802\n"
          ],
          "name": "stdout"
        },
        {
          "output_type": "stream",
          "text": [
            "INFO:withlevel:Elapsed time for downloading and extracting the file is 0:00:01.687091.\n",
            "\n",
            "INFO:withoutlevel:The file is downloaded from http://mica.edu.vn:8000/KinectData/public/colors/S18P6K2.avi \n",
            " extracted into path .../content/subset/train/adl/S18P6K2\n"
          ],
          "name": "stderr"
        },
        {
          "output_type": "stream",
          "text": [
            "2030 2427\n"
          ],
          "name": "stdout"
        },
        {
          "output_type": "stream",
          "text": [
            "INFO:withlevel:Elapsed time for downloading and extracting the file is 0:00:10.867536.\n",
            "\n",
            "INFO:withoutlevel:The file is downloaded from http://mica.edu.vn:8000/KinectData/public/colors/S25P39K2.avi \n",
            " extracted into path .../content/subset/train/fall/S25P39K2\n"
          ],
          "name": "stderr"
        },
        {
          "output_type": "stream",
          "text": [
            "7199 7253\n"
          ],
          "name": "stdout"
        },
        {
          "output_type": "stream",
          "text": [
            "INFO:withlevel:Elapsed time for downloading and extracting the file is 0:00:01.550377.\n",
            "\n",
            "INFO:withoutlevel:The file is downloaded from http://mica.edu.vn:8000/KinectData/public/colors/S22P36K5.avi \n",
            " extracted into path .../content/subset/train/adl/S22P36K5\n"
          ],
          "name": "stderr"
        },
        {
          "output_type": "stream",
          "text": [
            "1214 1595\n"
          ],
          "name": "stdout"
        },
        {
          "output_type": "stream",
          "text": [
            "INFO:withlevel:Elapsed time for downloading and extracting the file is 0:01:12.524985.\n",
            "\n",
            "INFO:withoutlevel:The file is downloaded from http://mica.edu.vn:8000/KinectData/public/colors/S48P46K2.avi \n",
            " extracted into path .../content/subset/train/adl/S48P46K2\n"
          ],
          "name": "stderr"
        },
        {
          "output_type": "stream",
          "text": [
            "5987 6048\n"
          ],
          "name": "stdout"
        },
        {
          "output_type": "stream",
          "text": [
            "INFO:withlevel:Elapsed time for downloading and extracting the file is 0:00:01.739011.\n",
            "\n",
            "INFO:withoutlevel:The file is downloaded from http://mica.edu.vn:8000/KinectData/public/colors/S34P27K6.avi \n",
            " extracted into path .../content/subset/train/adl/S34P27K6\n"
          ],
          "name": "stderr"
        },
        {
          "output_type": "stream",
          "text": [
            "9141 9225\n"
          ],
          "name": "stdout"
        },
        {
          "output_type": "stream",
          "text": [
            "INFO:withlevel:Elapsed time for downloading and extracting the file is 0:00:02.298879.\n",
            "\n",
            "INFO:withoutlevel:The file is downloaded from http://mica.edu.vn:8000/KinectData/public/colors/S35P11K1.avi \n",
            " extracted into path .../content/subset/train/adl/S35P11K1\n"
          ],
          "name": "stderr"
        },
        {
          "output_type": "stream",
          "text": [
            "2486 2582\n"
          ],
          "name": "stdout"
        },
        {
          "output_type": "stream",
          "text": [
            "INFO:withlevel:Elapsed time for downloading and extracting the file is 0:00:02.783547.\n",
            "\n",
            "INFO:withoutlevel:The file is downloaded from http://mica.edu.vn:8000/KinectData/public/colors/S43P38K1.avi \n",
            " extracted into path .../content/subset/train/adl/S43P38K1\n"
          ],
          "name": "stderr"
        },
        {
          "output_type": "stream",
          "text": [
            "0 880\n"
          ],
          "name": "stdout"
        },
        {
          "output_type": "stream",
          "text": [
            "INFO:withlevel:Elapsed time for downloading and extracting the file is 0:00:24.851485.\n",
            "\n",
            "INFO:withoutlevel:The file is downloaded from http://mica.edu.vn:8000/KinectData/public/colors/S47P14K1.avi \n",
            " extracted into path .../content/subset/train/adl/S47P14K1\n"
          ],
          "name": "stderr"
        },
        {
          "output_type": "stream",
          "text": [
            "8292 9415\n"
          ],
          "name": "stdout"
        },
        {
          "output_type": "stream",
          "text": [
            "INFO:withlevel:Elapsed time for downloading and extracting the file is 0:00:31.974198.\n",
            "\n",
            "INFO:withoutlevel:The file is downloaded from http://mica.edu.vn:8000/KinectData/public/colors/S42P20K5.avi \n",
            " extracted into path .../content/subset/train/fall/S42P20K5\n"
          ],
          "name": "stderr"
        },
        {
          "output_type": "stream",
          "text": [
            "4900 4960\n"
          ],
          "name": "stdout"
        },
        {
          "output_type": "stream",
          "text": [
            "INFO:withlevel:Elapsed time for downloading and extracting the file is 0:00:01.801543.\n",
            "\n",
            "INFO:withoutlevel:The file is downloaded from http://mica.edu.vn:8000/KinectData/public/colors/S42P20K1.avi \n",
            " extracted into path .../content/subset/train/adl/S42P20K1\n"
          ],
          "name": "stderr"
        },
        {
          "output_type": "stream",
          "text": [
            "6263 6599\n"
          ],
          "name": "stdout"
        },
        {
          "output_type": "stream",
          "text": [
            "INFO:withlevel:Elapsed time for downloading and extracting the file is 0:00:09.392037.\n",
            "\n",
            "INFO:withoutlevel:The file is downloaded from http://mica.edu.vn:8000/KinectData/public/colors/S42P20K3.avi \n",
            " extracted into path .../content/subset/train/adl/S42P20K3\n"
          ],
          "name": "stderr"
        },
        {
          "output_type": "stream",
          "text": [
            "461 774\n"
          ],
          "name": "stdout"
        },
        {
          "output_type": "stream",
          "text": [
            "INFO:withlevel:Elapsed time for downloading and extracting the file is 0:00:08.219775.\n",
            "\n",
            "INFO:withoutlevel:The file is downloaded from http://mica.edu.vn:8000/KinectData/public/colors/S25P39K6.avi \n",
            " extracted into path .../content/subset/train/adl/S25P39K6\n"
          ],
          "name": "stderr"
        },
        {
          "output_type": "stream",
          "text": [
            "2142 2539\n"
          ],
          "name": "stdout"
        },
        {
          "output_type": "stream",
          "text": [
            "INFO:withlevel:Elapsed time for downloading and extracting the file is 0:01:02.001681.\n",
            "\n",
            "INFO:withoutlevel:The file is downloaded from http://mica.edu.vn:8000/KinectData/public/colors/S20P24K4.avi \n",
            " extracted into path .../content/subset/train/fall/S20P24K4\n"
          ],
          "name": "stderr"
        },
        {
          "output_type": "stream",
          "text": [
            "6612 6677\n"
          ],
          "name": "stdout"
        },
        {
          "output_type": "stream",
          "text": [
            "INFO:withlevel:Elapsed time for downloading and extracting the file is 0:00:50.774293.\n",
            "\n",
            "INFO:withoutlevel:The file is downloaded from http://mica.edu.vn:8000/KinectData/public/colors/S48P46K3.avi \n",
            " extracted into path .../content/subset/train/fall/S48P46K3\n"
          ],
          "name": "stderr"
        },
        {
          "output_type": "stream",
          "text": [
            "9132 9215\n"
          ],
          "name": "stdout"
        },
        {
          "output_type": "stream",
          "text": [
            "INFO:withlevel:Elapsed time for downloading and extracting the file is 0:00:02.303063.\n",
            "\n",
            "INFO:withoutlevel:The file is downloaded from http://mica.edu.vn:8000/KinectData/public/colors/S24P37K2.avi \n",
            " extracted into path .../content/subset/train/fall/S24P37K2\n"
          ],
          "name": "stderr"
        },
        {
          "output_type": "stream",
          "text": [
            "11105 11171\n"
          ],
          "name": "stdout"
        },
        {
          "output_type": "stream",
          "text": [
            "INFO:withlevel:Elapsed time for downloading and extracting the file is 0:00:01.924691.\n",
            "\n",
            "INFO:withoutlevel:The file is downloaded from http://mica.edu.vn:8000/KinectData/public/colors/S7P1K6.avi \n",
            " extracted into path .../content/subset/train/adl/S7P1K6\n"
          ],
          "name": "stderr"
        },
        {
          "output_type": "stream",
          "text": [
            "2580 2641\n"
          ],
          "name": "stdout"
        },
        {
          "output_type": "stream",
          "text": [
            "INFO:withlevel:Elapsed time for downloading and extracting the file is 0:00:36.124416.\n",
            "\n",
            "INFO:withoutlevel:The file is downloaded from http://mica.edu.vn:8000/KinectData/public/colors/S28P9K6.avi \n",
            " extracted into path .../content/subset/train/adl/S28P9K6\n"
          ],
          "name": "stderr"
        },
        {
          "output_type": "stream",
          "text": [
            "1710 1784\n"
          ],
          "name": "stdout"
        },
        {
          "output_type": "stream",
          "text": [
            "INFO:withlevel:Elapsed time for downloading and extracting the file is 0:00:01.959182.\n",
            "\n",
            "INFO:withoutlevel:The file is downloaded from http://mica.edu.vn:8000/KinectData/public/colors/S41P29K6.avi \n",
            " extracted into path .../content/subset/train/adl/S41P29K6\n"
          ],
          "name": "stderr"
        },
        {
          "output_type": "stream",
          "text": [
            "939 1053\n"
          ],
          "name": "stdout"
        },
        {
          "output_type": "stream",
          "text": [
            "INFO:withlevel:Elapsed time for downloading and extracting the file is 0:00:52.186695.\n",
            "\n",
            "INFO:withoutlevel:The file is downloaded from http://mica.edu.vn:8000/KinectData/public/colors/S10P12K4.avi \n",
            " extracted into path .../content/subset/train/adl/S10P12K4\n"
          ],
          "name": "stderr"
        },
        {
          "output_type": "stream",
          "text": [
            "2830 3242\n"
          ],
          "name": "stdout"
        },
        {
          "output_type": "stream",
          "text": [
            "INFO:withlevel:Elapsed time for downloading and extracting the file is 0:00:11.705982.\n",
            "\n",
            "INFO:withoutlevel:The file is downloaded from http://mica.edu.vn:8000/KinectData/public/colors/S20P24K6.avi \n",
            " extracted into path .../content/subset/train/adl/S20P24K6\n"
          ],
          "name": "stderr"
        },
        {
          "output_type": "stream",
          "text": [
            "783 844\n"
          ],
          "name": "stdout"
        },
        {
          "output_type": "stream",
          "text": [
            "INFO:withlevel:Elapsed time for downloading and extracting the file is 0:00:01.634947.\n",
            "\n",
            "INFO:withoutlevel:The file is downloaded from http://mica.edu.vn:8000/KinectData/public/colors/S19P3K3.avi \n",
            " extracted into path .../content/subset/train/fall/S19P3K3\n"
          ],
          "name": "stderr"
        },
        {
          "output_type": "stream",
          "text": [
            "3822 3890\n"
          ],
          "name": "stdout"
        },
        {
          "output_type": "stream",
          "text": [
            "INFO:withlevel:Elapsed time for downloading and extracting the file is 0:00:01.892330.\n",
            "\n",
            "INFO:withoutlevel:The file is downloaded from http://mica.edu.vn:8000/KinectData/public/colors/S55P18K2.avi \n",
            " extracted into path .../content/subset/train/fall/S55P18K2\n"
          ],
          "name": "stderr"
        },
        {
          "output_type": "stream",
          "text": [
            "4680 4750\n"
          ],
          "name": "stdout"
        },
        {
          "output_type": "stream",
          "text": [
            "INFO:withlevel:Elapsed time for downloading and extracting the file is 0:00:01.905346.\n",
            "\n",
            "INFO:withoutlevel:The file is downloaded from http://mica.edu.vn:8000/KinectData/public/colors/S50P47K4.avi \n",
            " extracted into path .../content/subset/train/adl/S50P47K4\n"
          ],
          "name": "stderr"
        },
        {
          "output_type": "stream",
          "text": [
            "2940 2997\n"
          ],
          "name": "stdout"
        },
        {
          "output_type": "stream",
          "text": [
            "INFO:withlevel:Elapsed time for downloading and extracting the file is 0:00:01.698808.\n",
            "\n",
            "INFO:withoutlevel:The file is downloaded from http://mica.edu.vn:8000/KinectData/public/colors/S29P43K3.avi \n",
            " extracted into path .../content/subset/train/adl/S29P43K3\n"
          ],
          "name": "stderr"
        },
        {
          "output_type": "stream",
          "text": [
            "8524 8612\n"
          ],
          "name": "stdout"
        },
        {
          "output_type": "stream",
          "text": [
            "INFO:withlevel:Elapsed time for downloading and extracting the file is 0:00:02.464608.\n",
            "\n",
            "INFO:withoutlevel:The file is downloaded from http://mica.edu.vn:8000/KinectData/public/colors/S42P20K2.avi \n",
            " extracted into path .../content/subset/train/adl/S42P20K2\n"
          ],
          "name": "stderr"
        },
        {
          "output_type": "stream",
          "text": [
            "1606 2015\n"
          ],
          "name": "stdout"
        },
        {
          "output_type": "stream",
          "text": [
            "INFO:withlevel:Elapsed time for downloading and extracting the file is 0:01:15.151392.\n",
            "\n",
            "INFO:withoutlevel:The file is downloaded from http://mica.edu.vn:8000/KinectData/public/colors/S38P16K5.avi \n",
            " extracted into path .../content/subset/train/adl/S38P16K5\n"
          ],
          "name": "stderr"
        },
        {
          "output_type": "stream",
          "text": [
            "1332 1412\n"
          ],
          "name": "stdout"
        },
        {
          "output_type": "stream",
          "text": [
            "INFO:withlevel:Elapsed time for downloading and extracting the file is 0:00:02.321466.\n",
            "\n",
            "INFO:withoutlevel:The file is downloaded from http://mica.edu.vn:8000/KinectData/public/colors/S25P39K1.avi \n",
            " extracted into path .../content/subset/train/adl/S25P39K1\n"
          ],
          "name": "stderr"
        },
        {
          "output_type": "stream",
          "text": [
            "8682 8741\n"
          ],
          "name": "stdout"
        },
        {
          "output_type": "stream",
          "text": [
            "INFO:withlevel:Elapsed time for downloading and extracting the file is 0:01:09.687861.\n",
            "\n",
            "INFO:withoutlevel:The file is downloaded from http://mica.edu.vn:8000/KinectData/public/colors/S21P25K3.avi \n",
            " extracted into path .../content/subset/train/fall/S21P25K3\n"
          ],
          "name": "stderr"
        },
        {
          "output_type": "stream",
          "text": [
            "4415 4473\n"
          ],
          "name": "stdout"
        },
        {
          "output_type": "stream",
          "text": [
            "INFO:withlevel:Elapsed time for downloading and extracting the file is 0:00:01.553666.\n",
            "\n",
            "INFO:withoutlevel:The file is downloaded from http://mica.edu.vn:8000/KinectData/public/colors/S30P7K4.avi \n",
            " extracted into path .../content/subset/train/adl/S30P7K4\n"
          ],
          "name": "stderr"
        },
        {
          "output_type": "stream",
          "text": [
            "1488 1835\n"
          ],
          "name": "stdout"
        },
        {
          "output_type": "stream",
          "text": [
            "INFO:withlevel:Elapsed time for downloading and extracting the file is 0:00:09.754372.\n",
            "\n",
            "INFO:withoutlevel:The file is downloaded from http://mica.edu.vn:8000/KinectData/public/colors/S27P4K3.avi \n",
            " extracted into path .../content/subset/train/fall/S27P4K3\n"
          ],
          "name": "stderr"
        },
        {
          "output_type": "stream",
          "text": [
            "4809 4868\n"
          ],
          "name": "stdout"
        },
        {
          "output_type": "stream",
          "text": [
            "INFO:withlevel:Elapsed time for downloading and extracting the file is 0:00:41.774780.\n",
            "\n",
            "INFO:withoutlevel:The file is downloaded from http://mica.edu.vn:8000/KinectData/public/colors/S13P42K4.avi \n",
            " extracted into path .../content/subset/train/adl/S13P42K4\n"
          ],
          "name": "stderr"
        },
        {
          "output_type": "stream",
          "text": [
            "6401 6814\n"
          ],
          "name": "stdout"
        },
        {
          "output_type": "stream",
          "text": [
            "INFO:withlevel:Elapsed time for downloading and extracting the file is 0:00:11.840018.\n",
            "\n",
            "INFO:withoutlevel:The file is downloaded from http://mica.edu.vn:8000/KinectData/public/colors/S42P20K1.avi \n",
            " extracted into path .../content/subset/train/adl/S42P20K1_1\n"
          ],
          "name": "stderr"
        },
        {
          "output_type": "stream",
          "text": [
            "2033 2089\n"
          ],
          "name": "stdout"
        },
        {
          "output_type": "stream",
          "text": [
            "INFO:withlevel:Elapsed time for downloading and extracting the file is 0:00:01.647052.\n",
            "\n",
            "INFO:withoutlevel:The file is downloaded from http://mica.edu.vn:8000/KinectData/public/colors/S41P29K6.avi \n",
            " extracted into path .../content/subset/train/adl/S41P29K6_1\n"
          ],
          "name": "stderr"
        },
        {
          "output_type": "stream",
          "text": [
            "6342 6397\n"
          ],
          "name": "stdout"
        },
        {
          "output_type": "stream",
          "text": [
            "INFO:withlevel:Elapsed time for downloading and extracting the file is 0:00:01.500022.\n",
            "\n",
            "INFO:withoutlevel:The file is downloaded from http://mica.edu.vn:8000/KinectData/public/colors/S4P2K3.avi \n",
            " extracted into path .../content/subset/train/fall/S4P2K3\n"
          ],
          "name": "stderr"
        },
        {
          "output_type": "stream",
          "text": [
            "1522 1624\n"
          ],
          "name": "stdout"
        },
        {
          "output_type": "stream",
          "text": [
            "INFO:withlevel:Elapsed time for downloading and extracting the file is 0:00:02.953715.\n",
            "\n",
            "INFO:withoutlevel:The file is downloaded from http://mica.edu.vn:8000/KinectData/public/colors/S22P36K4.avi \n",
            " extracted into path .../content/subset/train/adl/S22P36K4\n"
          ],
          "name": "stderr"
        },
        {
          "output_type": "stream",
          "text": [
            "6486 6570\n"
          ],
          "name": "stdout"
        },
        {
          "output_type": "stream",
          "text": [
            "INFO:withlevel:Elapsed time for downloading and extracting the file is 0:00:02.414277.\n",
            "\n",
            "INFO:withoutlevel:The file is downloaded from http://mica.edu.vn:8000/KinectData/public/colors/S44P5K4.avi \n",
            " extracted into path .../content/subset/train/fall/S44P5K4\n"
          ],
          "name": "stderr"
        },
        {
          "output_type": "stream",
          "text": [
            "3626 3687\n"
          ],
          "name": "stdout"
        },
        {
          "output_type": "stream",
          "text": [
            "INFO:withlevel:Elapsed time for downloading and extracting the file is 0:00:01.724211.\n",
            "\n",
            "INFO:withoutlevel:The file is downloaded from http://mica.edu.vn:8000/KinectData/public/colors/S34P27K4.avi \n",
            " extracted into path .../content/subset/train/fall/S34P27K4\n"
          ],
          "name": "stderr"
        },
        {
          "output_type": "stream",
          "text": [
            "5949 6044\n"
          ],
          "name": "stdout"
        },
        {
          "output_type": "stream",
          "text": [
            "INFO:withlevel:Elapsed time for downloading and extracting the file is 0:00:02.815333.\n",
            "\n",
            "INFO:withoutlevel:The file is downloaded from http://mica.edu.vn:8000/KinectData/public/colors/S2P32K2.avi \n",
            " extracted into path .../content/subset/train/fall/S2P32K2\n"
          ],
          "name": "stderr"
        },
        {
          "output_type": "stream",
          "text": [
            "4354 4422\n"
          ],
          "name": "stdout"
        },
        {
          "output_type": "stream",
          "text": [
            "INFO:withlevel:Elapsed time for downloading and extracting the file is 0:01:06.365959.\n",
            "\n",
            "INFO:withoutlevel:The file is downloaded from http://mica.edu.vn:8000/KinectData/public/colors/S28P9K6.avi \n",
            " extracted into path .../content/subset/train/adl/S28P9K6_1\n"
          ],
          "name": "stderr"
        },
        {
          "output_type": "stream",
          "text": [
            "2198 2250\n"
          ],
          "name": "stdout"
        },
        {
          "output_type": "stream",
          "text": [
            "INFO:withlevel:Elapsed time for downloading and extracting the file is 0:00:01.420888.\n",
            "\n",
            "INFO:withoutlevel:The file is downloaded from http://mica.edu.vn:8000/KinectData/public/colors/S42P20K2.avi \n",
            " extracted into path .../content/subset/train/adl/S42P20K2_1\n"
          ],
          "name": "stderr"
        },
        {
          "output_type": "stream",
          "text": [
            "456 774\n"
          ],
          "name": "stdout"
        },
        {
          "output_type": "stream",
          "text": [
            "INFO:withlevel:Elapsed time for downloading and extracting the file is 0:00:08.371788.\n",
            "\n",
            "INFO:withoutlevel:The file is downloaded from http://mica.edu.vn:8000/KinectData/public/colors/S18P6K2.avi \n",
            " extracted into path .../content/subset/train/adl/S18P6K2_1\n"
          ],
          "name": "stderr"
        },
        {
          "output_type": "stream",
          "text": [
            "9092 9187\n"
          ],
          "name": "stdout"
        },
        {
          "output_type": "stream",
          "text": [
            "INFO:withlevel:Elapsed time for downloading and extracting the file is 0:00:02.780718.\n",
            "\n",
            "INFO:withoutlevel:The file is downloaded from http://mica.edu.vn:8000/KinectData/public/colors/S33P40K2.avi \n",
            " extracted into path .../content/subset/train/adl/S33P40K2\n"
          ],
          "name": "stderr"
        },
        {
          "output_type": "stream",
          "text": [
            "1233 1610\n"
          ],
          "name": "stdout"
        },
        {
          "output_type": "stream",
          "text": [
            "INFO:withlevel:Elapsed time for downloading and extracting the file is 0:00:10.420479.\n",
            "\n",
            "INFO:withoutlevel:The file is downloaded from http://mica.edu.vn:8000/KinectData/public/colors/S27P4K6.avi \n",
            " extracted into path .../content/subset/train/adl/S27P4K6\n"
          ],
          "name": "stderr"
        },
        {
          "output_type": "stream",
          "text": [
            "398 469\n"
          ],
          "name": "stdout"
        },
        {
          "output_type": "stream",
          "text": [
            "INFO:withlevel:Elapsed time for downloading and extracting the file is 0:00:01.904389.\n",
            "\n",
            "INFO:withoutlevel:The file is downloaded from http://mica.edu.vn:8000/KinectData/public/colors/S11P8K2.avi \n",
            " extracted into path .../content/subset/train/adl/S11P8K2\n"
          ],
          "name": "stderr"
        },
        {
          "output_type": "stream",
          "text": [
            "5742 5796\n"
          ],
          "name": "stdout"
        },
        {
          "output_type": "stream",
          "text": [
            "INFO:withlevel:Elapsed time for downloading and extracting the file is 0:00:01.543864.\n",
            "\n",
            "INFO:withoutlevel:The file is downloaded from http://mica.edu.vn:8000/KinectData/public/colors/S34P27K2.avi \n",
            " extracted into path .../content/subset/train/fall/S34P27K2\n"
          ],
          "name": "stderr"
        },
        {
          "output_type": "stream",
          "text": [
            "9963 10065\n"
          ],
          "name": "stdout"
        },
        {
          "output_type": "stream",
          "text": [
            "INFO:withlevel:Elapsed time for downloading and extracting the file is 0:00:02.980448.\n",
            "\n",
            "INFO:withoutlevel:The file is downloaded from http://mica.edu.vn:8000/KinectData/public/colors/S34P27K7.avi \n",
            " extracted into path .../content/subset/train/adl/S34P27K7\n"
          ],
          "name": "stderr"
        },
        {
          "output_type": "stream",
          "text": [
            "3005 3065\n"
          ],
          "name": "stdout"
        },
        {
          "output_type": "stream",
          "text": [
            "INFO:withlevel:Elapsed time for downloading and extracting the file is 0:00:47.875944.\n",
            "\n",
            "INFO:withoutlevel:The file is downloaded from http://mica.edu.vn:8000/KinectData/public/colors/S2P32K1.avi \n",
            " extracted into path .../content/subset/train/fall/S2P32K1\n"
          ],
          "name": "stderr"
        },
        {
          "output_type": "stream",
          "text": [
            "8295 8347\n"
          ],
          "name": "stdout"
        },
        {
          "output_type": "stream",
          "text": [
            "INFO:withlevel:Elapsed time for downloading and extracting the file is 0:01:12.054640.\n",
            "\n",
            "INFO:withoutlevel:The file is downloaded from http://mica.edu.vn:8000/KinectData/public/colors/S33P40K5.avi \n",
            " extracted into path .../content/subset/train/adl/S33P40K5\n"
          ],
          "name": "stderr"
        },
        {
          "output_type": "stream",
          "text": [
            "8720 8780\n"
          ],
          "name": "stdout"
        },
        {
          "output_type": "stream",
          "text": [
            "INFO:withlevel:Elapsed time for downloading and extracting the file is 0:00:01.744563.\n",
            "\n",
            "INFO:withoutlevel:The file is downloaded from http://mica.edu.vn:8000/KinectData/public/colors/S25P39K6.avi \n",
            " extracted into path .../content/subset/train/fall/S25P39K6\n"
          ],
          "name": "stderr"
        },
        {
          "output_type": "stream",
          "text": [
            "7807 7863\n"
          ],
          "name": "stdout"
        },
        {
          "output_type": "stream",
          "text": [
            "INFO:withlevel:Elapsed time for downloading and extracting the file is 0:00:01.597154.\n",
            "\n",
            "INFO:withoutlevel:The file is downloaded from http://mica.edu.vn:8000/KinectData/public/colors/S35P11K7.avi \n",
            " extracted into path .../content/subset/train/fall/S35P11K7\n"
          ],
          "name": "stderr"
        },
        {
          "output_type": "stream",
          "text": [
            "9080 9131\n"
          ],
          "name": "stdout"
        },
        {
          "output_type": "stream",
          "text": [
            "INFO:withlevel:Elapsed time for downloading and extracting the file is 0:00:37.347701.\n",
            "\n",
            "INFO:withoutlevel:The file is downloaded from http://mica.edu.vn:8000/KinectData/public/colors/S48P46K6.avi \n",
            " extracted into path .../content/subset/train/adl/S48P46K6\n"
          ],
          "name": "stderr"
        },
        {
          "output_type": "stream",
          "text": [
            "1904 1972\n"
          ],
          "name": "stdout"
        },
        {
          "output_type": "stream",
          "text": [
            "INFO:withlevel:Elapsed time for downloading and extracting the file is 0:00:01.915529.\n",
            "\n",
            "INFO:withoutlevel:The file is downloaded from http://mica.edu.vn:8000/KinectData/public/colors/S51P50K3.avi \n",
            " extracted into path .../content/subset/train/fall/S51P50K3\n"
          ],
          "name": "stderr"
        },
        {
          "output_type": "stream",
          "text": [
            "3656 3746\n"
          ],
          "name": "stdout"
        },
        {
          "output_type": "stream",
          "text": [
            "INFO:withlevel:Elapsed time for downloading and extracting the file is 0:00:02.540593.\n",
            "\n",
            "INFO:withoutlevel:The file is downloaded from http://mica.edu.vn:8000/KinectData/public/colors/S40P15K3.avi \n",
            " extracted into path .../content/subset/train/adl/S40P15K3_1\n"
          ],
          "name": "stderr"
        },
        {
          "output_type": "stream",
          "text": [
            "8792 8867\n"
          ],
          "name": "stdout"
        },
        {
          "output_type": "stream",
          "text": [
            "INFO:withlevel:Elapsed time for downloading and extracting the file is 0:00:02.162581.\n",
            "\n",
            "INFO:withoutlevel:The file is downloaded from http://mica.edu.vn:8000/KinectData/public/colors/S48P46K4.avi \n",
            " extracted into path .../content/subset/train/adl/S48P46K4\n"
          ],
          "name": "stderr"
        },
        {
          "output_type": "stream",
          "text": [
            "1976 2028\n"
          ],
          "name": "stdout"
        },
        {
          "output_type": "stream",
          "text": [
            "INFO:withlevel:Elapsed time for downloading and extracting the file is 0:00:01.567565.\n",
            "\n",
            "INFO:withoutlevel:The file is downloaded from http://mica.edu.vn:8000/KinectData/public/colors/S21P25K7.avi \n",
            " extracted into path .../content/subset/train/fall/S21P25K7\n"
          ],
          "name": "stderr"
        },
        {
          "output_type": "stream",
          "text": [
            "7570 7652\n"
          ],
          "name": "stdout"
        },
        {
          "output_type": "stream",
          "text": [
            "INFO:withlevel:Elapsed time for downloading and extracting the file is 0:00:37.553811.\n",
            "\n",
            "INFO:withoutlevel:The file is downloaded from http://mica.edu.vn:8000/KinectData/public/colors/S34P27K2.avi \n",
            " extracted into path .../content/subset/train/fall/S34P27K2_1\n"
          ],
          "name": "stderr"
        },
        {
          "output_type": "stream",
          "text": [
            "5949 6044\n"
          ],
          "name": "stdout"
        },
        {
          "output_type": "stream",
          "text": [
            "INFO:withlevel:Elapsed time for downloading and extracting the file is 0:00:02.633791.\n",
            "\n",
            "INFO:withoutlevel:The file is downloaded from http://mica.edu.vn:8000/KinectData/public/colors/S34P27K6.avi \n",
            " extracted into path .../content/subset/train/fall/S34P27K6\n"
          ],
          "name": "stderr"
        },
        {
          "output_type": "stream",
          "text": [
            "4340 4470\n"
          ],
          "name": "stdout"
        },
        {
          "output_type": "stream",
          "text": [
            "INFO:withlevel:Elapsed time for downloading and extracting the file is 0:00:03.476626.\n",
            "\n",
            "INFO:withoutlevel:The file is downloaded from http://mica.edu.vn:8000/KinectData/public/colors/S29P43K3.avi \n",
            " extracted into path .../content/subset/train/fall/S29P43K3\n"
          ],
          "name": "stderr"
        },
        {
          "output_type": "stream",
          "text": [
            "4668 4758\n"
          ],
          "name": "stdout"
        },
        {
          "output_type": "stream",
          "text": [
            "INFO:withlevel:Elapsed time for downloading and extracting the file is 0:00:02.449314.\n",
            "\n",
            "INFO:withoutlevel:The file is downloaded from http://mica.edu.vn:8000/KinectData/public/colors/S53P26K6.avi \n",
            " extracted into path .../content/subset/train/fall/S53P26K6\n"
          ],
          "name": "stderr"
        },
        {
          "output_type": "stream",
          "text": [
            "4387 4466\n"
          ],
          "name": "stdout"
        },
        {
          "output_type": "stream",
          "text": [
            "INFO:withlevel:Elapsed time for downloading and extracting the file is 0:00:02.153927.\n",
            "\n",
            "INFO:withoutlevel:The file is downloaded from http://mica.edu.vn:8000/KinectData/public/colors/S4P2K7.avi \n",
            " extracted into path .../content/subset/train/fall/S4P2K7\n"
          ],
          "name": "stderr"
        },
        {
          "output_type": "stream",
          "text": [
            "1178 1268\n"
          ],
          "name": "stdout"
        },
        {
          "output_type": "stream",
          "text": [
            "INFO:withlevel:Elapsed time for downloading and extracting the file is 0:00:02.313694.\n",
            "\n",
            "INFO:withoutlevel:The file is downloaded from http://mica.edu.vn:8000/KinectData/public/colors/S29P43K2.avi \n",
            " extracted into path .../content/subset/train/fall/S29P43K2\n"
          ],
          "name": "stderr"
        },
        {
          "output_type": "stream",
          "text": [
            "5324 5471\n"
          ],
          "name": "stdout"
        },
        {
          "output_type": "stream",
          "text": [
            "INFO:withlevel:Elapsed time for downloading and extracting the file is 0:00:04.118308.\n",
            "\n",
            "INFO:withoutlevel:The file is downloaded from http://mica.edu.vn:8000/KinectData/public/colors/S55P18K4.avi \n",
            " extracted into path .../content/subset/train/adl/S55P18K4\n"
          ],
          "name": "stderr"
        },
        {
          "output_type": "stream",
          "text": [
            "6501 6642\n"
          ],
          "name": "stdout"
        },
        {
          "output_type": "stream",
          "text": [
            "INFO:withlevel:Elapsed time for downloading and extracting the file is 0:01:12.764450.\n",
            "\n",
            "INFO:withoutlevel:The file is downloaded from http://mica.edu.vn:8000/KinectData/public/colors/S51P50K7.avi \n",
            " extracted into path .../content/subset/train/adl/S51P50K7\n"
          ],
          "name": "stderr"
        },
        {
          "output_type": "stream",
          "text": [
            "5623 5801\n"
          ],
          "name": "stdout"
        },
        {
          "output_type": "stream",
          "text": [
            "INFO:withlevel:Elapsed time for downloading and extracting the file is 0:00:04.530380.\n",
            "\n",
            "INFO:withoutlevel:The file is downloaded from http://mica.edu.vn:8000/KinectData/public/colors/S50P47K5.avi \n",
            " extracted into path .../content/subset/train/fall/S50P47K5_1\n"
          ],
          "name": "stderr"
        },
        {
          "output_type": "stream",
          "text": [
            "3634 3691\n"
          ],
          "name": "stdout"
        },
        {
          "output_type": "stream",
          "text": [
            "INFO:withlevel:Elapsed time for downloading and extracting the file is 0:00:01.764822.\n",
            "\n",
            "INFO:withoutlevel:The file is downloaded from http://mica.edu.vn:8000/KinectData/public/colors/S13P42K2.avi \n",
            " extracted into path .../content/subset/train/fall/S13P42K2\n"
          ],
          "name": "stderr"
        },
        {
          "output_type": "stream",
          "text": [
            "4929 4989\n"
          ],
          "name": "stdout"
        },
        {
          "output_type": "stream",
          "text": [
            "INFO:withlevel:Elapsed time for downloading and extracting the file is 0:00:01.759943.\n",
            "\n",
            "INFO:withoutlevel:The file is downloaded from http://mica.edu.vn:8000/KinectData/public/colors/S23P17K6.avi \n",
            " extracted into path .../content/subset/train/adl/S23P17K6\n"
          ],
          "name": "stderr"
        },
        {
          "output_type": "stream",
          "text": [
            "6066 6139\n"
          ],
          "name": "stdout"
        },
        {
          "output_type": "stream",
          "text": [
            "INFO:withlevel:Elapsed time for downloading and extracting the file is 0:00:54.718648.\n",
            "\n",
            "INFO:withoutlevel:The file is downloaded from http://mica.edu.vn:8000/KinectData/public/colors/S18P6K5.avi \n",
            " extracted into path .../content/subset/train/adl/S18P6K5\n"
          ],
          "name": "stderr"
        },
        {
          "output_type": "stream",
          "text": [
            "1226 1611\n"
          ],
          "name": "stdout"
        },
        {
          "output_type": "stream",
          "text": [
            "INFO:withlevel:Elapsed time for downloading and extracting the file is 0:01:19.811304.\n",
            "\n",
            "INFO:withoutlevel:The file is downloaded from http://mica.edu.vn:8000/KinectData/public/colors/S15P31K4.avi \n",
            " extracted into path .../content/subset/train/adl/S15P31K4\n"
          ],
          "name": "stderr"
        },
        {
          "output_type": "stream",
          "text": [
            "8068 8139\n"
          ],
          "name": "stdout"
        },
        {
          "output_type": "stream",
          "text": [
            "INFO:withlevel:Elapsed time for downloading and extracting the file is 0:00:02.270675.\n",
            "\n",
            "INFO:withoutlevel:The file is downloaded from http://mica.edu.vn:8000/KinectData/public/colors/S14P2K4.avi \n",
            " extracted into path .../content/subset/train/adl/S14P2K4\n"
          ],
          "name": "stderr"
        },
        {
          "output_type": "stream",
          "text": [
            "326 767\n"
          ],
          "name": "stdout"
        },
        {
          "output_type": "stream",
          "text": [
            "INFO:withlevel:Elapsed time for downloading and extracting the file is 0:00:53.458364.\n",
            "\n",
            "INFO:withoutlevel:The file is downloaded from http://mica.edu.vn:8000/KinectData/public/colors/S17P21K5.avi \n",
            " extracted into path .../content/subset/train/fall/S17P21K5\n"
          ],
          "name": "stderr"
        },
        {
          "output_type": "stream",
          "text": [
            "5347 5441\n"
          ],
          "name": "stdout"
        },
        {
          "output_type": "stream",
          "text": [
            "INFO:withlevel:Elapsed time for downloading and extracting the file is 0:00:02.680361.\n",
            "\n",
            "INFO:withoutlevel:The file is downloaded from http://mica.edu.vn:8000/KinectData/public/colors/S55P18K3.avi \n",
            " extracted into path .../content/subset/train/adl/S55P18K3\n"
          ],
          "name": "stderr"
        },
        {
          "output_type": "stream",
          "text": [
            "9379 9457\n"
          ],
          "name": "stdout"
        },
        {
          "output_type": "stream",
          "text": [
            "INFO:withlevel:Elapsed time for downloading and extracting the file is 0:00:02.211482.\n",
            "\n",
            "INFO:withoutlevel:The file is downloaded from http://mica.edu.vn:8000/KinectData/public/colors/S34P27K1.avi \n",
            " extracted into path .../content/subset/train/adl/S34P27K1_1\n"
          ],
          "name": "stderr"
        },
        {
          "output_type": "stream",
          "text": [
            "413 752\n"
          ],
          "name": "stdout"
        },
        {
          "output_type": "stream",
          "text": [
            "INFO:withlevel:Elapsed time for downloading and extracting the file is 0:00:09.705811.\n",
            "\n",
            "INFO:withoutlevel:The file is downloaded from http://mica.edu.vn:8000/KinectData/public/colors/S45P10K5.avi \n",
            " extracted into path .../content/subset/train/adl/S45P10K5\n"
          ],
          "name": "stderr"
        },
        {
          "output_type": "stream",
          "text": [
            "9906 10000\n"
          ],
          "name": "stdout"
        },
        {
          "output_type": "stream",
          "text": [
            "INFO:withlevel:Elapsed time for downloading and extracting the file is 0:01:12.447465.\n",
            "\n",
            "INFO:withoutlevel:The file is downloaded from http://mica.edu.vn:8000/KinectData/public/colors/S44P5K5.avi \n",
            " extracted into path .../content/subset/train/fall/S44P5K5\n"
          ],
          "name": "stderr"
        },
        {
          "output_type": "stream",
          "text": [
            "3349 3407\n"
          ],
          "name": "stdout"
        },
        {
          "output_type": "stream",
          "text": [
            "INFO:withlevel:Elapsed time for downloading and extracting the file is 0:00:01.694912.\n",
            "\n",
            "INFO:withoutlevel:The file is downloaded from http://mica.edu.vn:8000/KinectData/public/colors/S30P7K3.avi \n",
            " extracted into path .../content/subset/train/adl/S30P7K3\n"
          ],
          "name": "stderr"
        },
        {
          "output_type": "stream",
          "text": [
            "8486 8551\n"
          ],
          "name": "stdout"
        },
        {
          "output_type": "stream",
          "text": [
            "INFO:withlevel:Elapsed time for downloading and extracting the file is 0:00:01.924610.\n",
            "\n",
            "INFO:withoutlevel:The file is downloaded from http://mica.edu.vn:8000/KinectData/public/colors/S28P9K1.avi \n",
            " extracted into path .../content/subset/train/adl/S28P9K1\n"
          ],
          "name": "stderr"
        },
        {
          "output_type": "stream",
          "text": [
            "2509 2563\n"
          ],
          "name": "stdout"
        },
        {
          "output_type": "stream",
          "text": [
            "INFO:withlevel:Elapsed time for downloading and extracting the file is 0:00:01.569123.\n",
            "\n",
            "INFO:withoutlevel:The file is downloaded from http://mica.edu.vn:8000/KinectData/public/colors/S10P12K1.avi \n",
            " extracted into path .../content/subset/train/fall/S10P12K1\n"
          ],
          "name": "stderr"
        },
        {
          "output_type": "stream",
          "text": [
            "9792 9935\n"
          ],
          "name": "stdout"
        },
        {
          "output_type": "stream",
          "text": [
            "INFO:withlevel:Elapsed time for downloading and extracting the file is 0:00:04.162694.\n",
            "\n",
            "INFO:withoutlevel:The file is downloaded from http://mica.edu.vn:8000/KinectData/public/colors/S18P6K5.avi \n",
            " extracted into path .../content/subset/train/fall/S18P6K5\n"
          ],
          "name": "stderr"
        },
        {
          "output_type": "stream",
          "text": [
            "4339 4399\n"
          ],
          "name": "stdout"
        },
        {
          "output_type": "stream",
          "text": [
            "INFO:withlevel:Elapsed time for downloading and extracting the file is 0:00:01.729171.\n",
            "\n",
            "INFO:withoutlevel:The file is downloaded from http://mica.edu.vn:8000/KinectData/public/colors/S25P39K6.avi \n",
            " extracted into path .../content/subset/train/fall/S25P39K6_1\n"
          ],
          "name": "stderr"
        },
        {
          "output_type": "stream",
          "text": [
            "9818 9883\n"
          ],
          "name": "stdout"
        },
        {
          "output_type": "stream",
          "text": [
            "INFO:withlevel:Elapsed time for downloading and extracting the file is 0:00:01.771412.\n",
            "\n",
            "INFO:withoutlevel:The file is downloaded from http://mica.edu.vn:8000/KinectData/public/colors/S26P28K4.avi \n",
            " extracted into path .../content/subset/train/adl/S26P28K4\n"
          ],
          "name": "stderr"
        },
        {
          "output_type": "stream",
          "text": [
            "6777 6881\n"
          ],
          "name": "stdout"
        },
        {
          "output_type": "stream",
          "text": [
            "INFO:withlevel:Elapsed time for downloading and extracting the file is 0:00:56.420902.\n",
            "\n",
            "INFO:withoutlevel:The file is downloaded from http://mica.edu.vn:8000/KinectData/public/colors/S16P41K3.avi \n",
            " extracted into path .../content/subset/train/adl/S16P41K3\n"
          ],
          "name": "stderr"
        },
        {
          "output_type": "stream",
          "text": [
            "8893 8950\n"
          ],
          "name": "stdout"
        },
        {
          "output_type": "stream",
          "text": [
            "INFO:withlevel:Elapsed time for downloading and extracting the file is 0:00:01.609246.\n",
            "\n",
            "INFO:withoutlevel:The file is downloaded from http://mica.edu.vn:8000/KinectData/public/colors/S36P34K6.avi \n",
            " extracted into path .../content/subset/train/fall/S36P34K6\n"
          ],
          "name": "stderr"
        },
        {
          "output_type": "stream",
          "text": [
            "7485 7543\n"
          ],
          "name": "stdout"
        },
        {
          "output_type": "stream",
          "text": [
            "INFO:withlevel:Elapsed time for downloading and extracting the file is 0:00:01.577296.\n",
            "\n",
            "INFO:withoutlevel:The file is downloaded from http://mica.edu.vn:8000/KinectData/public/colors/S46P35K5.avi \n",
            " extracted into path .../content/subset/val/fall/S46P35K5\n"
          ],
          "name": "stderr"
        },
        {
          "output_type": "stream",
          "text": [
            "10705 10778\n"
          ],
          "name": "stdout"
        },
        {
          "output_type": "stream",
          "text": [
            "INFO:withlevel:Elapsed time for downloading and extracting the file is 0:00:59.740734.\n",
            "\n",
            "INFO:withoutlevel:The file is downloaded from http://mica.edu.vn:8000/KinectData/public/colors/S44P5K1.avi \n",
            " extracted into path .../content/subset/val/adl/S44P5K1\n"
          ],
          "name": "stderr"
        },
        {
          "output_type": "stream",
          "text": [
            "408 695\n"
          ],
          "name": "stdout"
        },
        {
          "output_type": "stream",
          "text": [
            "INFO:withlevel:Elapsed time for downloading and extracting the file is 0:01:05.656781.\n",
            "\n",
            "INFO:withoutlevel:The file is downloaded from http://mica.edu.vn:8000/KinectData/public/colors/S9P33K3.avi \n",
            " extracted into path .../content/subset/val/fall/S9P33K3\n"
          ],
          "name": "stderr"
        },
        {
          "output_type": "stream",
          "text": [
            "10359 10413\n"
          ],
          "name": "stdout"
        },
        {
          "output_type": "stream",
          "text": [
            "INFO:withlevel:Elapsed time for downloading and extracting the file is 0:00:01.558990.\n",
            "\n",
            "INFO:withoutlevel:The file is downloaded from http://mica.edu.vn:8000/KinectData/public/colors/S18P6K7.avi \n",
            " extracted into path .../content/subset/val/fall/S18P6K7\n"
          ],
          "name": "stderr"
        },
        {
          "output_type": "stream",
          "text": [
            "7116 7227\n"
          ],
          "name": "stdout"
        },
        {
          "output_type": "stream",
          "text": [
            "INFO:withlevel:Elapsed time for downloading and extracting the file is 0:00:02.687496.\n",
            "\n",
            "INFO:withoutlevel:The file is downloaded from http://mica.edu.vn:8000/KinectData/public/colors/S55P18K6.avi \n",
            " extracted into path .../content/subset/val/adl/S55P18K6\n"
          ],
          "name": "stderr"
        },
        {
          "output_type": "stream",
          "text": [
            "2046 2187\n"
          ],
          "name": "stdout"
        },
        {
          "output_type": "stream",
          "text": [
            "INFO:withlevel:Elapsed time for downloading and extracting the file is 0:00:03.848435.\n",
            "\n",
            "INFO:withoutlevel:The file is downloaded from http://mica.edu.vn:8000/KinectData/public/colors/S6P22K3.avi \n",
            " extracted into path .../content/subset/val/fall/S6P22K3\n"
          ],
          "name": "stderr"
        },
        {
          "output_type": "stream",
          "text": [
            "7149 7226\n"
          ],
          "name": "stdout"
        },
        {
          "output_type": "stream",
          "text": [
            "INFO:withlevel:Elapsed time for downloading and extracting the file is 0:00:02.062532.\n",
            "\n",
            "INFO:withoutlevel:The file is downloaded from http://mica.edu.vn:8000/KinectData/public/colors/S52P49K1.avi \n",
            " extracted into path .../content/subset/val/fall/S52P49K1\n"
          ],
          "name": "stderr"
        },
        {
          "output_type": "stream",
          "text": [
            "7271 7367\n"
          ],
          "name": "stdout"
        },
        {
          "output_type": "stream",
          "text": [
            "INFO:withlevel:Elapsed time for downloading and extracting the file is 0:00:02.952428.\n",
            "\n",
            "INFO:withoutlevel:The file is downloaded from http://mica.edu.vn:8000/KinectData/public/colors/S5P13K6.avi \n",
            " extracted into path .../content/subset/val/adl/S5P13K6\n"
          ],
          "name": "stderr"
        },
        {
          "output_type": "stream",
          "text": [
            "517 628\n"
          ],
          "name": "stdout"
        },
        {
          "output_type": "stream",
          "text": [
            "INFO:withlevel:Elapsed time for downloading and extracting the file is 0:00:02.986854.\n",
            "\n",
            "INFO:withoutlevel:The file is downloaded from http://mica.edu.vn:8000/KinectData/public/colors/S11P8K6.avi \n",
            " extracted into path .../content/subset/val/adl/S11P8K6\n"
          ],
          "name": "stderr"
        },
        {
          "output_type": "stream",
          "text": [
            "6149 6203\n"
          ],
          "name": "stdout"
        },
        {
          "output_type": "stream",
          "text": [
            "INFO:withlevel:Elapsed time for downloading and extracting the file is 0:01:04.997888.\n",
            "\n",
            "INFO:withoutlevel:The file is downloaded from http://mica.edu.vn:8000/KinectData/public/colors/S42P20K3.avi \n",
            " extracted into path .../content/subset/val/adl/S42P20K3\n"
          ],
          "name": "stderr"
        },
        {
          "output_type": "stream",
          "text": [
            "2384 2440\n"
          ],
          "name": "stdout"
        },
        {
          "output_type": "stream",
          "text": [
            "INFO:withlevel:Elapsed time for downloading and extracting the file is 0:00:01.574183.\n",
            "\n",
            "INFO:withoutlevel:The file is downloaded from http://mica.edu.vn:8000/KinectData/public/colors/S26P28K7.avi \n",
            " extracted into path .../content/subset/val/adl/S26P28K7\n"
          ],
          "name": "stderr"
        },
        {
          "output_type": "stream",
          "text": [
            "9592 9653\n"
          ],
          "name": "stdout"
        },
        {
          "output_type": "stream",
          "text": [
            "INFO:withlevel:Elapsed time for downloading and extracting the file is 0:00:01.584985.\n",
            "\n",
            "INFO:withoutlevel:The file is downloaded from http://mica.edu.vn:8000/KinectData/public/colors/S40P15K2.avi \n",
            " extracted into path .../content/subset/val/adl/S40P15K2\n"
          ],
          "name": "stderr"
        },
        {
          "output_type": "stream",
          "text": [
            "8792 8867\n"
          ],
          "name": "stdout"
        },
        {
          "output_type": "stream",
          "text": [
            "INFO:withlevel:Elapsed time for downloading and extracting the file is 0:00:02.188984.\n",
            "\n",
            "INFO:withoutlevel:The file is downloaded from http://mica.edu.vn:8000/KinectData/public/colors/S54P24K7.avi \n",
            " extracted into path .../content/subset/val/fall/S54P24K7\n",
            "INFO:withlevel:Elapsed time for downloading and extracting the file is 0:00:00.058937.\n",
            "\n",
            "INFO:withoutlevel:The file is downloaded from http://mica.edu.vn:8000/KinectData/public/colors/S45P10K7.avi \n",
            " extracted into path .../content/subset/val/fall/S45P10K7\n"
          ],
          "name": "stderr"
        },
        {
          "output_type": "stream",
          "text": [
            "9989 10077\n",
            "4586 4656\n"
          ],
          "name": "stdout"
        },
        {
          "output_type": "stream",
          "text": [
            "INFO:withlevel:Elapsed time for downloading and extracting the file is 0:00:01.672400.\n",
            "\n",
            "INFO:withoutlevel:The file is downloaded from http://mica.edu.vn:8000/KinectData/public/colors/S21P25K4.avi \n",
            " extracted into path .../content/subset/val/fall/S21P25K4\n"
          ],
          "name": "stderr"
        },
        {
          "output_type": "stream",
          "text": [
            "9855 9956\n"
          ],
          "name": "stdout"
        },
        {
          "output_type": "stream",
          "text": [
            "INFO:withlevel:Elapsed time for downloading and extracting the file is 0:00:03.226695.\n",
            "\n",
            "INFO:withoutlevel:The file is downloaded from http://mica.edu.vn:8000/KinectData/public/colors/S3P30K7.avi \n",
            " extracted into path .../content/subset/val/adl/S3P30K7\n"
          ],
          "name": "stderr"
        },
        {
          "output_type": "stream",
          "text": [
            "683 796\n"
          ],
          "name": "stdout"
        },
        {
          "output_type": "stream",
          "text": [
            "INFO:withlevel:Elapsed time for downloading and extracting the file is 0:00:02.663807.\n",
            "\n",
            "INFO:withoutlevel:The file is downloaded from http://mica.edu.vn:8000/KinectData/public/colors/S51P50K7.avi \n",
            " extracted into path .../content/subset/val/adl/S51P50K7\n"
          ],
          "name": "stderr"
        },
        {
          "output_type": "stream",
          "text": [
            "8637 8724\n"
          ],
          "name": "stdout"
        },
        {
          "output_type": "stream",
          "text": [
            "INFO:withlevel:Elapsed time for downloading and extracting the file is 0:00:02.280194.\n",
            "\n",
            "INFO:withoutlevel:The file is downloaded from http://mica.edu.vn:8000/KinectData/public/colors/S8P23K4.avi \n",
            " extracted into path .../content/subset/val/fall/S8P23K4\n"
          ],
          "name": "stderr"
        },
        {
          "output_type": "stream",
          "text": [
            "5197 5258\n"
          ],
          "name": "stdout"
        },
        {
          "output_type": "stream",
          "text": [
            "INFO:withlevel:Elapsed time for downloading and extracting the file is 0:01:03.512786.\n",
            "\n",
            "INFO:withoutlevel:The file is downloaded from http://mica.edu.vn:8000/KinectData/public/colors/S16P41K4.avi \n",
            " extracted into path .../content/subset/val/adl/S16P41K4\n"
          ],
          "name": "stderr"
        },
        {
          "output_type": "stream",
          "text": [
            "2541 2593\n"
          ],
          "name": "stdout"
        },
        {
          "output_type": "stream",
          "text": [
            "INFO:withlevel:Elapsed time for downloading and extracting the file is 0:00:01.634913.\n",
            "\n",
            "INFO:withoutlevel:The file is downloaded from http://mica.edu.vn:8000/KinectData/public/colors/S19P3K1.avi \n",
            " extracted into path .../content/subset/val/fall/S19P3K1\n"
          ],
          "name": "stderr"
        },
        {
          "output_type": "stream",
          "text": [
            "6528 6601\n"
          ],
          "name": "stdout"
        },
        {
          "output_type": "stream",
          "text": [
            "INFO:withlevel:Elapsed time for downloading and extracting the file is 0:00:02.236854.\n",
            "\n",
            "INFO:withoutlevel:The file is downloaded from http://mica.edu.vn:8000/KinectData/public/colors/S13P42K1.avi \n",
            " extracted into path .../content/subset/val/fall/S13P42K1\n"
          ],
          "name": "stderr"
        },
        {
          "output_type": "stream",
          "text": [
            "3384 3440\n"
          ],
          "name": "stdout"
        },
        {
          "output_type": "stream",
          "text": [
            "INFO:withlevel:Elapsed time for downloading and extracting the file is 0:00:01.679933.\n",
            "\n",
            "INFO:withoutlevel:The file is downloaded from http://mica.edu.vn:8000/KinectData/public/colors/S53P26K2.avi \n",
            " extracted into path .../content/subset/val/fall/S53P26K2\n"
          ],
          "name": "stderr"
        },
        {
          "output_type": "stream",
          "text": [
            "10243 10307\n"
          ],
          "name": "stdout"
        },
        {
          "output_type": "stream",
          "text": [
            "INFO:withlevel:Elapsed time for downloading and extracting the file is 0:00:01.879870.\n",
            "\n",
            "INFO:withoutlevel:The file is downloaded from http://mica.edu.vn:8000/KinectData/public/colors/S40P15K6.avi \n",
            " extracted into path .../content/subset/val/adl/S40P15K6\n"
          ],
          "name": "stderr"
        },
        {
          "output_type": "stream",
          "text": [
            "873 971\n"
          ],
          "name": "stdout"
        },
        {
          "output_type": "stream",
          "text": [
            "INFO:withlevel:Elapsed time for downloading and extracting the file is 0:00:02.632840.\n",
            "\n",
            "INFO:withoutlevel:The file is downloaded from http://mica.edu.vn:8000/KinectData/public/colors/S10P12K5.avi \n",
            " extracted into path .../content/subset/val/adl/S10P12K5\n"
          ],
          "name": "stderr"
        },
        {
          "output_type": "stream",
          "text": [
            "6155 6223\n"
          ],
          "name": "stdout"
        },
        {
          "output_type": "stream",
          "text": [
            "INFO:withlevel:Elapsed time for downloading and extracting the file is 0:01:00.610819.\n",
            "\n",
            "INFO:withoutlevel:The file is downloaded from http://mica.edu.vn:8000/KinectData/public/colors/S27P4K5.avi \n",
            " extracted into path .../content/subset/val/fall/S27P4K5\n"
          ],
          "name": "stderr"
        },
        {
          "output_type": "stream",
          "text": [
            "7044 7159\n"
          ],
          "name": "stdout"
        },
        {
          "output_type": "stream",
          "text": [
            "INFO:withlevel:Elapsed time for downloading and extracting the file is 0:00:03.395229.\n",
            "\n",
            "INFO:withoutlevel:The file is downloaded from http://mica.edu.vn:8000/KinectData/public/colors/S51P50K2.avi \n",
            " extracted into path .../content/subset/val/adl/S51P50K2\n"
          ],
          "name": "stderr"
        },
        {
          "output_type": "stream",
          "text": [
            "7417 7475\n"
          ],
          "name": "stdout"
        },
        {
          "output_type": "stream",
          "text": [
            "INFO:withlevel:Elapsed time for downloading and extracting the file is 0:00:01.702347.\n",
            "\n",
            "INFO:withoutlevel:The file is downloaded from http://mica.edu.vn:8000/KinectData/public/colors/S28P9K3.avi \n",
            " extracted into path .../content/subset/val/fall/S28P9K3\n"
          ],
          "name": "stderr"
        },
        {
          "output_type": "stream",
          "text": [
            "5079 5149\n"
          ],
          "name": "stdout"
        },
        {
          "output_type": "stream",
          "text": [
            "INFO:withlevel:Elapsed time for downloading and extracting the file is 0:00:01.855659.\n",
            "\n",
            "INFO:withoutlevel:The file is downloaded from http://mica.edu.vn:8000/KinectData/public/colors/S15P31K3.avi \n",
            " extracted into path .../content/subset/val/fall/S15P31K3\n"
          ],
          "name": "stderr"
        },
        {
          "output_type": "stream",
          "text": [
            "4614 4724\n"
          ],
          "name": "stdout"
        },
        {
          "output_type": "stream",
          "text": [
            "INFO:withlevel:Elapsed time for downloading and extracting the file is 0:00:03.028723.\n",
            "\n",
            "INFO:withoutlevel:The file is downloaded from http://mica.edu.vn:8000/KinectData/public/colors/S40P15K5.avi \n",
            " extracted into path .../content/subset/val/adl/S40P15K5\n"
          ],
          "name": "stderr"
        },
        {
          "output_type": "stream",
          "text": [
            "1043 1132\n"
          ],
          "name": "stdout"
        },
        {
          "output_type": "stream",
          "text": [
            "INFO:withlevel:Elapsed time for downloading and extracting the file is 0:00:02.583038.\n",
            "\n",
            "INFO:withoutlevel:The file is downloaded from http://mica.edu.vn:8000/KinectData/public/colors/S53P26K3.avi \n",
            " extracted into path .../content/subset/val/fall/S53P26K3\n"
          ],
          "name": "stderr"
        },
        {
          "output_type": "stream",
          "text": [
            "8344 8395\n"
          ],
          "name": "stdout"
        },
        {
          "output_type": "stream",
          "text": [
            "INFO:withlevel:Elapsed time for downloading and extracting the file is 0:00:01.462891.\n",
            "\n",
            "INFO:withoutlevel:The file is downloaded from http://mica.edu.vn:8000/KinectData/public/colors/S51P50K4.avi \n",
            " extracted into path .../content/subset/val/fall/S51P50K4\n"
          ],
          "name": "stderr"
        },
        {
          "output_type": "stream",
          "text": [
            "8892 8994\n"
          ],
          "name": "stdout"
        },
        {
          "output_type": "stream",
          "text": [
            "INFO:withlevel:Elapsed time for downloading and extracting the file is 0:01:13.278901.\n",
            "\n",
            "INFO:withoutlevel:The file is downloaded from http://mica.edu.vn:8000/KinectData/public/colors/S11P8K2.avi \n",
            " extracted into path .../content/subset/val/adl/S11P8K2\n"
          ],
          "name": "stderr"
        },
        {
          "output_type": "stream",
          "text": [
            "6149 6203\n"
          ],
          "name": "stdout"
        },
        {
          "output_type": "stream",
          "text": [
            "INFO:withlevel:Elapsed time for downloading and extracting the file is 0:00:01.520549.\n",
            "\n",
            "INFO:withoutlevel:The file is downloaded from http://mica.edu.vn:8000/KinectData/public/colors/S54P24K7.avi \n",
            " extracted into path .../content/subset/val/fall/S54P24K7_1\n",
            "INFO:withlevel:Elapsed time for downloading and extracting the file is 0:00:00.038946.\n",
            "\n"
          ],
          "name": "stderr"
        },
        {
          "output_type": "stream",
          "text": [
            "9693 9780\n"
          ],
          "name": "stdout"
        },
        {
          "output_type": "stream",
          "text": [
            "INFO:withoutlevel:The file is downloaded from http://mica.edu.vn:8000/KinectData/public/colors/S13P42K7.avi \n",
            " extracted into path .../content/subset/val/adl/S13P42K7\n"
          ],
          "name": "stderr"
        },
        {
          "output_type": "stream",
          "text": [
            "8391 8493\n"
          ],
          "name": "stdout"
        },
        {
          "output_type": "stream",
          "text": [
            "INFO:withlevel:Elapsed time for downloading and extracting the file is 0:00:34.816049.\n",
            "\n",
            "INFO:withoutlevel:The file is downloaded from http://mica.edu.vn:8000/KinectData/public/colors/S48P46K7.avi \n",
            " extracted into path .../content/subset/val/adl/S48P46K7\n"
          ],
          "name": "stderr"
        },
        {
          "output_type": "stream",
          "text": [
            "7697 7911\n"
          ],
          "name": "stdout"
        },
        {
          "output_type": "stream",
          "text": [
            "INFO:withlevel:Elapsed time for downloading and extracting the file is 0:00:44.298387.\n",
            "\n",
            "INFO:withoutlevel:The file is downloaded from http://mica.edu.vn:8000/KinectData/public/colors/S3P30K7.avi \n",
            " extracted into path .../content/subset/val/fall/S3P30K7\n"
          ],
          "name": "stderr"
        },
        {
          "output_type": "stream",
          "text": [
            "3679 3740\n"
          ],
          "name": "stdout"
        },
        {
          "output_type": "stream",
          "text": [
            "INFO:withlevel:Elapsed time for downloading and extracting the file is 0:00:01.490013.\n",
            "\n",
            "INFO:withoutlevel:The file is downloaded from http://mica.edu.vn:8000/KinectData/public/colors/S16P41K4.avi \n",
            " extracted into path .../content/subset/test/fall/S16P41K4\n"
          ],
          "name": "stderr"
        },
        {
          "output_type": "stream",
          "text": [
            "9500 9577\n"
          ],
          "name": "stdout"
        },
        {
          "output_type": "stream",
          "text": [
            "INFO:withlevel:Elapsed time for downloading and extracting the file is 0:00:02.485480.\n",
            "\n",
            "INFO:withoutlevel:The file is downloaded from http://mica.edu.vn:8000/KinectData/public/colors/S50P47K6.avi \n",
            " extracted into path .../content/subset/test/adl/S50P47K6\n"
          ],
          "name": "stderr"
        },
        {
          "output_type": "stream",
          "text": [
            "8274 8478\n"
          ],
          "name": "stdout"
        },
        {
          "output_type": "stream",
          "text": [
            "INFO:withlevel:Elapsed time for downloading and extracting the file is 0:00:05.742175.\n",
            "\n",
            "INFO:withoutlevel:The file is downloaded from http://mica.edu.vn:8000/KinectData/public/colors/S48P46K4.avi \n",
            " extracted into path .../content/subset/test/fall/S48P46K4\n"
          ],
          "name": "stderr"
        },
        {
          "output_type": "stream",
          "text": [
            "4881 4934\n"
          ],
          "name": "stdout"
        },
        {
          "output_type": "stream",
          "text": [
            "INFO:withlevel:Elapsed time for downloading and extracting the file is 0:00:01.591431.\n",
            "\n",
            "INFO:withoutlevel:The file is downloaded from http://mica.edu.vn:8000/KinectData/public/colors/S36P34K7.avi \n",
            " extracted into path .../content/subset/test/adl/S36P34K7\n"
          ],
          "name": "stderr"
        },
        {
          "output_type": "stream",
          "text": [
            "1453 1508\n"
          ],
          "name": "stdout"
        },
        {
          "output_type": "stream",
          "text": [
            "INFO:withlevel:Elapsed time for downloading and extracting the file is 0:00:01.349640.\n",
            "\n",
            "INFO:withoutlevel:The file is downloaded from http://mica.edu.vn:8000/KinectData/public/colors/S24P37K2.avi \n",
            " extracted into path .../content/subset/test/adl/S24P37K2\n"
          ],
          "name": "stderr"
        },
        {
          "output_type": "stream",
          "text": [
            "9652 9718\n"
          ],
          "name": "stdout"
        },
        {
          "output_type": "stream",
          "text": [
            "INFO:withlevel:Elapsed time for downloading and extracting the file is 0:00:01.934468.\n",
            "\n",
            "INFO:withoutlevel:The file is downloaded from http://mica.edu.vn:8000/KinectData/public/colors/S34P27K1.avi \n",
            " extracted into path .../content/subset/test/fall/S34P27K1\n"
          ],
          "name": "stderr"
        },
        {
          "output_type": "stream",
          "text": [
            "5705 5802\n"
          ],
          "name": "stdout"
        },
        {
          "output_type": "stream",
          "text": [
            "INFO:withlevel:Elapsed time for downloading and extracting the file is 0:00:02.843586.\n",
            "\n",
            "INFO:withoutlevel:The file is downloaded from http://mica.edu.vn:8000/KinectData/public/colors/S44P5K7.avi \n",
            " extracted into path .../content/subset/test/adl/S44P5K7\n"
          ],
          "name": "stderr"
        },
        {
          "output_type": "stream",
          "text": [
            "7967 8175\n"
          ],
          "name": "stdout"
        },
        {
          "output_type": "stream",
          "text": [
            "INFO:withlevel:Elapsed time for downloading and extracting the file is 0:00:05.346904.\n",
            "\n",
            "INFO:withoutlevel:The file is downloaded from http://mica.edu.vn:8000/KinectData/public/colors/S2P32K5.avi \n",
            " extracted into path .../content/subset/test/fall/S2P32K5\n"
          ],
          "name": "stderr"
        },
        {
          "output_type": "stream",
          "text": [
            "8074 8134\n"
          ],
          "name": "stdout"
        },
        {
          "output_type": "stream",
          "text": [
            "INFO:withlevel:Elapsed time for downloading and extracting the file is 0:00:01.788533.\n",
            "\n",
            "INFO:withoutlevel:The file is downloaded from http://mica.edu.vn:8000/KinectData/public/colors/S39P1K1.avi \n",
            " extracted into path .../content/subset/test/adl/S39P1K1\n",
            "INFO:withlevel:Elapsed time for downloading and extracting the file is 0:00:00.037357.\n",
            "\n",
            "INFO:withoutlevel:The file is downloaded from http://mica.edu.vn:8000/KinectData/public/colors/S21P25K7.avi \n",
            " extracted into path .../content/subset/test/adl/S21P25K7\n"
          ],
          "name": "stderr"
        },
        {
          "output_type": "stream",
          "text": [
            "722 828\n",
            "6326 6379\n"
          ],
          "name": "stdout"
        },
        {
          "output_type": "stream",
          "text": [
            "INFO:withlevel:Elapsed time for downloading and extracting the file is 0:00:01.294728.\n",
            "\n",
            "INFO:withoutlevel:The file is downloaded from http://mica.edu.vn:8000/KinectData/public/colors/S10P12K2.avi \n",
            " extracted into path .../content/subset/test/adl/S10P12K2\n"
          ],
          "name": "stderr"
        },
        {
          "output_type": "stream",
          "text": [
            "2834 3228\n"
          ],
          "name": "stdout"
        },
        {
          "output_type": "stream",
          "text": [
            "INFO:withlevel:Elapsed time for downloading and extracting the file is 0:01:05.006936.\n",
            "\n",
            "INFO:withoutlevel:The file is downloaded from http://mica.edu.vn:8000/KinectData/public/colors/S44P5K6.avi \n",
            " extracted into path .../content/subset/test/adl/S44P5K6\n"
          ],
          "name": "stderr"
        },
        {
          "output_type": "stream",
          "text": [
            "463 571\n"
          ],
          "name": "stdout"
        },
        {
          "output_type": "stream",
          "text": [
            "INFO:withlevel:Elapsed time for downloading and extracting the file is 0:00:47.975226.\n",
            "\n",
            "INFO:withoutlevel:The file is downloaded from http://mica.edu.vn:8000/KinectData/public/colors/S9P33K5.avi \n",
            " extracted into path .../content/subset/test/fall/S9P33K5\n"
          ],
          "name": "stderr"
        },
        {
          "output_type": "stream",
          "text": [
            "10111 10168\n"
          ],
          "name": "stdout"
        },
        {
          "output_type": "stream",
          "text": [
            "INFO:withlevel:Elapsed time for downloading and extracting the file is 0:00:01.694057.\n",
            "\n",
            "INFO:withoutlevel:The file is downloaded from http://mica.edu.vn:8000/KinectData/public/colors/S13P42K3.avi \n",
            " extracted into path .../content/subset/test/fall/S13P42K3\n"
          ],
          "name": "stderr"
        },
        {
          "output_type": "stream",
          "text": [
            "6869 6973\n"
          ],
          "name": "stdout"
        },
        {
          "output_type": "stream",
          "text": [
            "INFO:withlevel:Elapsed time for downloading and extracting the file is 0:00:51.153845.\n",
            "\n",
            "INFO:withoutlevel:The file is downloaded from http://mica.edu.vn:8000/KinectData/public/colors/S52P49K3.avi \n",
            " extracted into path .../content/subset/test/fall/S52P49K3\n"
          ],
          "name": "stderr"
        },
        {
          "output_type": "stream",
          "text": [
            "3391 3450\n"
          ],
          "name": "stdout"
        },
        {
          "output_type": "stream",
          "text": [
            "INFO:withlevel:Elapsed time for downloading and extracting the file is 0:00:57.016978.\n",
            "\n",
            "INFO:withoutlevel:The file is downloaded from http://mica.edu.vn:8000/KinectData/public/colors/S41P29K6.avi \n",
            " extracted into path .../content/subset/test/fall/S41P29K6\n"
          ],
          "name": "stderr"
        },
        {
          "output_type": "stream",
          "text": [
            "8938 9016\n"
          ],
          "name": "stdout"
        },
        {
          "output_type": "stream",
          "text": [
            "INFO:withlevel:Elapsed time for downloading and extracting the file is 0:00:02.166690.\n",
            "\n",
            "INFO:withoutlevel:The file is downloaded from http://mica.edu.vn:8000/KinectData/public/colors/S34P27K3.avi \n",
            " extracted into path .../content/subset/test/fall/S34P27K3\n"
          ],
          "name": "stderr"
        },
        {
          "output_type": "stream",
          "text": [
            "11133 11238\n"
          ],
          "name": "stdout"
        },
        {
          "output_type": "stream",
          "text": [
            "INFO:withlevel:Elapsed time for downloading and extracting the file is 0:00:02.972138.\n",
            "\n",
            "INFO:withoutlevel:The file is downloaded from http://mica.edu.vn:8000/KinectData/public/colors/S18P6K1.avi \n",
            " extracted into path .../content/subset/test/fall/S18P6K1\n"
          ],
          "name": "stderr"
        },
        {
          "output_type": "stream",
          "text": [
            "9562 9648\n"
          ],
          "name": "stdout"
        },
        {
          "output_type": "stream",
          "text": [
            "INFO:withlevel:Elapsed time for downloading and extracting the file is 0:00:02.603117.\n",
            "\n",
            "INFO:withoutlevel:The file is downloaded from http://mica.edu.vn:8000/KinectData/public/colors/S17P21K5.avi \n",
            " extracted into path .../content/subset/test/fall/S17P21K5\n"
          ],
          "name": "stderr"
        },
        {
          "output_type": "stream",
          "text": [
            "5088 5169\n"
          ],
          "name": "stdout"
        },
        {
          "output_type": "stream",
          "text": [
            "INFO:withlevel:Elapsed time for downloading and extracting the file is 0:00:02.343620.\n",
            "\n",
            "INFO:withlevel:Total time for downloading and extracting entire dataset is 0:44:38.689273\n",
            " ========================================================================================================================================================================================================\n"
          ],
          "name": "stderr"
        },
        {
          "output_type": "stream",
          "text": [
            "\n"
          ],
          "name": "stdout"
        }
      ]
    },
    {
      "cell_type": "code",
      "metadata": {
        "colab": {
          "base_uri": "https://localhost:8080/"
        },
        "id": "vDJTOt_7bQhm",
        "outputId": "a7dd670e-bdea-4657-9676-19249496fc58"
      },
      "source": [
        "starting_frame"
      ],
      "execution_count": null,
      "outputs": [
        {
          "output_type": "execute_result",
          "data": {
            "text/plain": [
              "{'S13P42K3': '/content/subset/test/fall/S13P42K3/S13P42K3_006907_1.jpg',\n",
              " 'S16P41K4': '/content/subset/test/fall/S16P41K4/S16P41K4_009503_1.jpg',\n",
              " 'S17P21K5': '/content/subset/test/fall/S17P21K5/S17P21K5_005088_1.jpg'}"
            ]
          },
          "metadata": {
            "tags": []
          },
          "execution_count": 40
        }
      ]
    },
    {
      "cell_type": "code",
      "metadata": {
        "id": "YrQd2egsXN9a"
      },
      "source": [
        "import glob\n",
        "fall_frames_list = sorted(glob.glob('/content/subset/*/fall/*'))\n",
        "starting_frame = dict()\n",
        "for L in fall_frames_list:\n",
        "  starting_frame[os.path.basename(L)] = input(f'Starting frame for {L} ')"
      ],
      "execution_count": null,
      "outputs": []
    },
    {
      "cell_type": "markdown",
      "metadata": {
        "id": "2SSo6h4bAKIZ"
      },
      "source": [
        "## Embedding data"
      ]
    },
    {
      "cell_type": "code",
      "metadata": {
        "colab": {
          "base_uri": "https://localhost:8080/"
        },
        "id": "X8ctyimyEq2B",
        "outputId": "bbf6bd1d-b9b9-490c-b8b7-932c08c8eaec"
      },
      "source": [
        "from collections import defaultdict\n",
        "from skimage.metrics import structural_similarity\n",
        "import cv2\n",
        "import numpy as np\n",
        "import matplotlib.pyplot as plt\n",
        "import time,os\n",
        "from PIL import Image\n",
        "import tensorflow as tf\n",
        "from tensorflow.keras.layers.experimental import preprocessing\n",
        "\n",
        "\n",
        "def person_detector(imageMatrix,label,mode,folder):\n",
        "  '''\n",
        "  Moving object detection by frame differencing\n",
        "  input: torch tensor object of shape [batch,50,3,480,640] and labels array\n",
        "  output: tuple of torch tensor [batch,1,224,224] and label object \n",
        "  '''\n",
        "  info = ['adl','fall']\n",
        "  bbox_path = os.path.join(os.getcwd(), 'boundingBox', mode, info[label], folder)\n",
        "  logger_t.info(f'Working on creating ... {bbox_path} set')\n",
        "  safedirs(bbox_path)\n",
        "  temp_img = imageMatrix\n",
        "  center_points = []\n",
        "  # use structure similarity for detecting the motion between the frames\n",
        "  for i in range(0,temp_img.shape[0] - 2):\n",
        "    img1 = cv2.medianBlur(cv2.cvtColor(temp_img[i],cv2.COLOR_BGR2GRAY),5)\n",
        "    img2 = cv2.medianBlur(cv2.cvtColor(temp_img[i+2],cv2.COLOR_BGR2GRAY),5)\n",
        "    # score and differences in the pixel\n",
        "    (score,diff) = structural_similarity(img1,img2,full=True)\n",
        "    diff = (diff * 255).astype('uint8')\n",
        "    # dilate the contours to avoid noise\n",
        "    thresh = cv2.threshold(diff, 0, 255, cv2.THRESH_BINARY_INV | cv2.THRESH_OTSU)[1]\n",
        "    dilate_frame = cv2.dilate(thresh, None, iterations=5)\n",
        "    contours = cv2.findContours(dilate_frame.copy(), cv2.RETR_TREE, cv2.CHAIN_APPROX_SIMPLE)\n",
        "    contours = contours[0] if len(contours) == 2 else contours[1] \n",
        "    # Calculate the contour area\n",
        "    contourareas = [cv2.contourArea(c) for c in contours]\n",
        "    # skip if the there is not motion detected\n",
        "    if not contourareas:\n",
        "      print(f'skipping {bbox_path}')\n",
        "      continue\n",
        "    # get the contour which has maximum area\n",
        "    val = np.argmax(contourareas)\n",
        "    # draw the bounding box around the contour\n",
        "    x,y,w,h = cv2.boundingRect(contours[val])\n",
        "    # draw the bounding box in the image\n",
        "    cv2.rectangle(img1, (x, y), (x + w, y + h), (36,255,12), 2)\n",
        "    str_idx = str(i).zfill(3)\n",
        "    path = os.path.join(bbox_path, f'image_{str_idx}.jpg')\n",
        "    # store the intermediate file\n",
        "    cv2.imwrite(path, img1)\n",
        "    # calculate the centers of the boxes are return it\n",
        "    center = (int((x+w)/2), int((y+h)/2))\n",
        "    center_points.append(center)\n",
        "  return center_points\n",
        "\n",
        "def get_transform():\n",
        "  transform = tf.keras.Sequential([\n",
        "                                   preprocessing.Resizing(224,224),\n",
        "                                   preprocessing.Normalization()\n",
        "  ])\n",
        "  return transform\n",
        "\n",
        "\n",
        "def image_embedding(images,label,mode,filename):\n",
        "  # transforms for resizing and normalizing image\n",
        "  transform = get_transform()\n",
        "  info = ['adl', 'fall']\n",
        "  # path to store trajectory files \n",
        "  trajectory_path = os.path.join(os.getcwd(), 'trajectories', mode, info[label])\n",
        "  safedirs(trajectory_path)\n",
        "  logger_t.info(f'creating trajectory image at {trajectory_path}')\n",
        "  bkg = np.zeros((480,640),np.uint8)\n",
        "  t=t_set()\n",
        "  # retrieve the center points of the bounding rectangle\n",
        "  points = person_detector(images,label,mode,filename) \n",
        "  logger.info(f'Elapsed time for Bounding box calculation is {t_diff(t)}')\n",
        "  wandb.log({'boundingBox':{'time':w_diff(t)}})\n",
        "  # draw line based on the points to get trajectory\n",
        "  for p in range(len(points)-1):\n",
        "    bkg = cv2.line(bkg,points[p],points[p+1],(255,0,0),5)\n",
        "  bkg = transform(tf.expand_dims(bkg,2))\n",
        "  path = os.path.join(trajectory_path, filename+'.jpg')\n",
        "  # store the files in the folder\n",
        "  cv2.imwrite(path, bkg.numpy())\n",
        "\n",
        "\n",
        "def embedded_data(datapath):\n",
        "  data_dict = defaultdict(list)\n",
        "  # walkthrough all the files in the datafolder and calculate bounding box\n",
        "  for root,dir,files in os.walk(datapath):\n",
        "      for f in files:\n",
        "        frame_path = os.path.join(root,f)\n",
        "        #print(root)\n",
        "        folder = os.path.basename(root)\n",
        "        data_dict[folder].append(frame_path)\n",
        "  # encode each image in the folder\n",
        "  for key in list(data_dict.keys()):\n",
        "    frames, labels = [], []\n",
        "    for f in sorted(data_dict[key]):\n",
        "      labels.append(int(f.split('.')[0][-1]))\n",
        "      temp = f.split('/')\n",
        "      mode = temp[3]\n",
        "      filename = temp[5]\n",
        "      img = cv2.cvtColor(cv2.imread(f),cv2.COLOR_BGR2RGB)\n",
        "      frames.append(img)\n",
        "    frames = np.stack(frames,axis=0)\n",
        "    t=t_set()\n",
        "    image_embedding(frames, np.max(labels), mode, filename)\n",
        "    logger.info(f\"Total time taken for {key} is {t_diff(t)}\")\n",
        "    wandb.log({'trajectory':{'time':w_diff(t)}})\n",
        "\n",
        "\n",
        "logger_t.info(f'{\"=\"*100} \\n\\nSTEP 4: Create Trajectory images\\n')\n",
        "t = t_set()\n",
        "root = os.getcwd()\n",
        "embedded_data(root + '/subset/train')\n",
        "embedded_data(root + '/subset/val')\n",
        "embedded_data(root + '/subset/test')\n",
        "logger.info(f'Total time taken to create trajectory images: {t_diff(t)}')\n",
        "wandb.summary[\"Trajectory_totaltime\"] = w_diff(t)\n"
      ],
      "execution_count": null,
      "outputs": [
        {
          "output_type": "stream",
          "text": [
            "INFO:withoutlevel:==================================================================================================== \n",
            "\n",
            "STEP 4: Create Trajectory images\n",
            "\n",
            "INFO:withoutlevel:creating trajectory image at /content/trajectories/train/fall\n",
            "INFO:withoutlevel:Working on creating ... /content/boundingBox/train/fall/S24P37K2 set\n",
            "INFO:withlevel:Elapsed time for Bounding box calculation is 0:00:02.350906\n",
            "INFO:withlevel:Total time taken for S24P37K2 is 0:00:02.385328\n",
            "INFO:withoutlevel:creating trajectory image at /content/trajectories/train/fall\n",
            "INFO:withoutlevel:Working on creating ... /content/boundingBox/train/fall/S44P5K4 set\n",
            "INFO:withlevel:Elapsed time for Bounding box calculation is 0:00:02.388301\n",
            "INFO:withlevel:Total time taken for S44P5K4 is 0:00:02.420856\n",
            "INFO:withoutlevel:creating trajectory image at /content/trajectories/train/fall\n",
            "INFO:withoutlevel:Working on creating ... /content/boundingBox/train/fall/S30P7K1 set\n",
            "INFO:withlevel:Elapsed time for Bounding box calculation is 0:00:02.368546\n",
            "INFO:withlevel:Total time taken for S30P7K1 is 0:00:02.404741\n",
            "INFO:withoutlevel:creating trajectory image at /content/trajectories/train/fall\n",
            "INFO:withoutlevel:Working on creating ... /content/boundingBox/train/fall/S50P47K2 set\n",
            "INFO:withlevel:Elapsed time for Bounding box calculation is 0:00:02.368354\n",
            "INFO:withlevel:Total time taken for S50P47K2 is 0:00:02.402176\n",
            "INFO:withoutlevel:creating trajectory image at /content/trajectories/train/fall\n",
            "INFO:withoutlevel:Working on creating ... /content/boundingBox/train/fall/S27P4K3 set\n",
            "INFO:withlevel:Elapsed time for Bounding box calculation is 0:00:02.355869\n",
            "INFO:withlevel:Total time taken for S27P4K3 is 0:00:02.388798\n",
            "INFO:withoutlevel:creating trajectory image at /content/trajectories/train/fall\n",
            "INFO:withoutlevel:Working on creating ... /content/boundingBox/train/fall/S16P41K3 set\n",
            "INFO:withlevel:Elapsed time for Bounding box calculation is 0:00:04.895456\n",
            "INFO:withlevel:Total time taken for S16P41K3 is 0:00:04.928093\n",
            "INFO:withoutlevel:creating trajectory image at /content/trajectories/train/fall\n",
            "INFO:withoutlevel:Working on creating ... /content/boundingBox/train/fall/S2P32K1 set\n",
            "INFO:withlevel:Elapsed time for Bounding box calculation is 0:00:02.372340\n",
            "INFO:withlevel:Total time taken for S2P32K1 is 0:00:02.404887\n",
            "INFO:withoutlevel:creating trajectory image at /content/trajectories/train/fall\n",
            "INFO:withoutlevel:Working on creating ... /content/boundingBox/train/fall/S25P39K3 set\n",
            "INFO:withlevel:Elapsed time for Bounding box calculation is 0:00:02.376408\n",
            "INFO:withlevel:Total time taken for S25P39K3 is 0:00:02.414159\n",
            "INFO:withoutlevel:creating trajectory image at /content/trajectories/train/fall\n",
            "INFO:withoutlevel:Working on creating ... /content/boundingBox/train/fall/S19P3K4 set\n",
            "INFO:withlevel:Elapsed time for Bounding box calculation is 0:00:02.364308\n",
            "INFO:withlevel:Total time taken for S19P3K4 is 0:00:02.403917\n",
            "INFO:withoutlevel:creating trajectory image at /content/trajectories/train/fall\n",
            "INFO:withoutlevel:Working on creating ... /content/boundingBox/train/fall/S3P30K3 set\n",
            "INFO:withlevel:Elapsed time for Bounding box calculation is 0:00:02.412618\n",
            "INFO:withlevel:Total time taken for S3P30K3 is 0:00:02.450497\n",
            "INFO:withoutlevel:creating trajectory image at /content/trajectories/train/fall\n",
            "INFO:withoutlevel:Working on creating ... /content/boundingBox/train/fall/S21P25K3 set\n",
            "INFO:withlevel:Elapsed time for Bounding box calculation is 0:00:02.376931\n",
            "INFO:withlevel:Total time taken for S21P25K3 is 0:00:02.411817\n",
            "INFO:withoutlevel:creating trajectory image at /content/trajectories/train/fall\n",
            "INFO:withoutlevel:Working on creating ... /content/boundingBox/train/fall/S25P39K6 set\n",
            "INFO:withlevel:Elapsed time for Bounding box calculation is 0:00:04.886927\n",
            "INFO:withlevel:Total time taken for S25P39K6 is 0:00:04.923511\n",
            "INFO:withoutlevel:creating trajectory image at /content/trajectories/train/fall\n",
            "INFO:withoutlevel:Working on creating ... /content/boundingBox/train/fall/S34P27K4 set\n",
            "INFO:withlevel:Elapsed time for Bounding box calculation is 0:00:02.372879\n",
            "INFO:withlevel:Total time taken for S34P27K4 is 0:00:02.403758\n",
            "INFO:withoutlevel:creating trajectory image at /content/trajectories/train/fall\n",
            "INFO:withoutlevel:Working on creating ... /content/boundingBox/train/fall/S10P12K1 set\n",
            "INFO:withlevel:Elapsed time for Bounding box calculation is 0:00:02.353431\n",
            "INFO:withlevel:Total time taken for S10P12K1 is 0:00:02.387090\n",
            "INFO:withoutlevel:creating trajectory image at /content/trajectories/train/fall\n",
            "INFO:withoutlevel:Working on creating ... /content/boundingBox/train/fall/S21P25K4 set\n",
            "INFO:withlevel:Elapsed time for Bounding box calculation is 0:00:02.346050\n",
            "INFO:withlevel:Total time taken for S21P25K4 is 0:00:02.380133\n",
            "INFO:withoutlevel:creating trajectory image at /content/trajectories/train/fall\n",
            "INFO:withoutlevel:Working on creating ... /content/boundingBox/train/fall/S55P18K2 set\n",
            "INFO:withlevel:Elapsed time for Bounding box calculation is 0:00:02.329136\n",
            "INFO:withlevel:Total time taken for S55P18K2 is 0:00:02.360912\n",
            "INFO:withoutlevel:creating trajectory image at /content/trajectories/train/fall\n",
            "INFO:withoutlevel:Working on creating ... /content/boundingBox/train/fall/S29P43K2 set\n",
            "INFO:withlevel:Elapsed time for Bounding box calculation is 0:00:02.340306\n",
            "INFO:withlevel:Total time taken for S29P43K2 is 0:00:02.377740\n",
            "INFO:withoutlevel:creating trajectory image at /content/trajectories/train/fall\n",
            "INFO:withoutlevel:Working on creating ... /content/boundingBox/train/fall/S13P42K2 set\n",
            "INFO:withlevel:Elapsed time for Bounding box calculation is 0:00:02.379041\n",
            "INFO:withlevel:Total time taken for S13P42K2 is 0:00:02.409290\n",
            "INFO:withoutlevel:creating trajectory image at /content/trajectories/train/fall\n",
            "INFO:withoutlevel:Working on creating ... /content/boundingBox/train/fall/S25P39K6_1 set\n",
            "INFO:withlevel:Elapsed time for Bounding box calculation is 0:00:02.322802\n",
            "INFO:withlevel:Total time taken for S25P39K6_1 is 0:00:02.364939\n",
            "INFO:withoutlevel:creating trajectory image at /content/trajectories/train/fall\n",
            "INFO:withoutlevel:Working on creating ... /content/boundingBox/train/fall/S53P26K6 set\n",
            "INFO:withlevel:Elapsed time for Bounding box calculation is 0:00:02.372591\n",
            "INFO:withlevel:Total time taken for S53P26K6 is 0:00:02.409487\n",
            "INFO:withoutlevel:creating trajectory image at /content/trajectories/train/fall\n",
            "INFO:withoutlevel:Working on creating ... /content/boundingBox/train/fall/S12P48K2 set\n",
            "INFO:withlevel:Elapsed time for Bounding box calculation is 0:00:02.363547\n",
            "INFO:withlevel:Total time taken for S12P48K2 is 0:00:02.395905\n",
            "INFO:withoutlevel:creating trajectory image at /content/trajectories/train/fall\n",
            "INFO:withoutlevel:Working on creating ... /content/boundingBox/train/fall/S29P43K3 set\n",
            "INFO:withlevel:Elapsed time for Bounding box calculation is 0:00:04.820831\n",
            "INFO:withlevel:Total time taken for S29P43K3 is 0:00:04.853396\n",
            "INFO:withoutlevel:creating trajectory image at /content/trajectories/train/fall\n",
            "INFO:withoutlevel:Working on creating ... /content/boundingBox/train/fall/S35P11K7 set\n",
            "INFO:withlevel:Elapsed time for Bounding box calculation is 0:00:02.377835\n",
            "INFO:withlevel:Total time taken for S35P11K7 is 0:00:02.413954\n",
            "INFO:withoutlevel:creating trajectory image at /content/trajectories/train/fall\n",
            "INFO:withoutlevel:Working on creating ... /content/boundingBox/train/fall/S34P27K2 set\n",
            "INFO:withlevel:Elapsed time for Bounding box calculation is 0:00:02.370130\n",
            "INFO:withlevel:Total time taken for S34P27K2 is 0:00:02.405200\n",
            "INFO:withoutlevel:creating trajectory image at /content/trajectories/train/fall\n",
            "INFO:withoutlevel:Working on creating ... /content/boundingBox/train/fall/S20P24K5 set\n",
            "INFO:withlevel:Elapsed time for Bounding box calculation is 0:00:02.348400\n",
            "INFO:withlevel:Total time taken for S20P24K5 is 0:00:02.383374\n",
            "INFO:withoutlevel:creating trajectory image at /content/trajectories/train/fall\n",
            "INFO:withoutlevel:Working on creating ... /content/boundingBox/train/fall/S15P31K6 set\n",
            "INFO:withlevel:Elapsed time for Bounding box calculation is 0:00:02.356734\n",
            "INFO:withlevel:Total time taken for S15P31K6 is 0:00:02.390111\n",
            "INFO:withoutlevel:creating trajectory image at /content/trajectories/train/fall\n",
            "INFO:withoutlevel:Working on creating ... /content/boundingBox/train/fall/S34P27K6 set\n",
            "INFO:withlevel:Elapsed time for Bounding box calculation is 0:00:04.908873\n",
            "INFO:withlevel:Total time taken for S34P27K6 is 0:00:04.949803\n",
            "INFO:withoutlevel:creating trajectory image at /content/trajectories/train/fall\n",
            "INFO:withoutlevel:Working on creating ... /content/boundingBox/train/fall/S29P43K6 set\n",
            "INFO:withlevel:Elapsed time for Bounding box calculation is 0:00:02.408271\n",
            "INFO:withlevel:Total time taken for S29P43K6 is 0:00:02.451718\n",
            "INFO:withoutlevel:creating trajectory image at /content/trajectories/train/fall\n",
            "INFO:withoutlevel:Working on creating ... /content/boundingBox/train/fall/S17P21K5 set\n",
            "INFO:withlevel:Elapsed time for Bounding box calculation is 0:00:02.423111\n",
            "INFO:withlevel:Total time taken for S17P21K5 is 0:00:02.458871\n",
            "INFO:withoutlevel:creating trajectory image at /content/trajectories/train/fall\n",
            "INFO:withoutlevel:Working on creating ... /content/boundingBox/train/fall/S45P10K2 set\n",
            "INFO:withlevel:Elapsed time for Bounding box calculation is 0:00:02.385340\n",
            "INFO:withlevel:Total time taken for S45P10K2 is 0:00:02.418420\n",
            "INFO:withoutlevel:creating trajectory image at /content/trajectories/train/fall\n",
            "INFO:withoutlevel:Working on creating ... /content/boundingBox/train/fall/S9P33K7 set\n",
            "INFO:withlevel:Elapsed time for Bounding box calculation is 0:00:02.373474\n",
            "INFO:withlevel:Total time taken for S9P33K7 is 0:00:02.414826\n",
            "INFO:withoutlevel:creating trajectory image at /content/trajectories/train/fall\n",
            "INFO:withoutlevel:Working on creating ... /content/boundingBox/train/fall/S50P47K5_1 set\n",
            "INFO:withlevel:Elapsed time for Bounding box calculation is 0:00:02.378196\n",
            "INFO:withlevel:Total time taken for S50P47K5_1 is 0:00:02.616142\n",
            "INFO:withoutlevel:creating trajectory image at /content/trajectories/train/fall\n",
            "INFO:withoutlevel:Working on creating ... /content/boundingBox/train/fall/S16P41K4 set\n",
            "INFO:withlevel:Elapsed time for Bounding box calculation is 0:00:02.395726\n",
            "INFO:withlevel:Total time taken for S16P41K4 is 0:00:02.434177\n",
            "INFO:withoutlevel:creating trajectory image at /content/trajectories/train/fall\n",
            "INFO:withoutlevel:Working on creating ... /content/boundingBox/train/fall/S42P20K5 set\n",
            "INFO:withlevel:Elapsed time for Bounding box calculation is 0:00:02.370653\n",
            "INFO:withlevel:Total time taken for S42P20K5 is 0:00:02.406812\n",
            "INFO:withoutlevel:creating trajectory image at /content/trajectories/train/fall\n",
            "INFO:withoutlevel:Working on creating ... /content/boundingBox/train/fall/S48P46K3 set\n",
            "INFO:withlevel:Elapsed time for Bounding box calculation is 0:00:02.331307\n",
            "INFO:withlevel:Total time taken for S48P46K3 is 0:00:02.364992\n",
            "INFO:withoutlevel:creating trajectory image at /content/trajectories/train/fall\n",
            "INFO:withoutlevel:Working on creating ... /content/boundingBox/train/fall/S13P42K1 set\n",
            "INFO:withlevel:Elapsed time for Bounding box calculation is 0:00:02.340218\n",
            "INFO:withlevel:Total time taken for S13P42K1 is 0:00:02.373614\n",
            "INFO:withoutlevel:creating trajectory image at /content/trajectories/train/fall\n",
            "INFO:withoutlevel:Working on creating ... /content/boundingBox/train/fall/S3P30K7 set\n",
            "INFO:withlevel:Elapsed time for Bounding box calculation is 0:00:02.356043\n",
            "INFO:withlevel:Total time taken for S3P30K7 is 0:00:02.389107\n",
            "INFO:withoutlevel:creating trajectory image at /content/trajectories/train/fall\n",
            "INFO:withoutlevel:Working on creating ... /content/boundingBox/train/fall/S34P27K2_1 set\n",
            "INFO:withlevel:Elapsed time for Bounding box calculation is 0:00:02.352966\n",
            "INFO:withlevel:Total time taken for S34P27K2_1 is 0:00:02.388879\n",
            "INFO:withoutlevel:creating trajectory image at /content/trajectories/train/fall\n",
            "INFO:withoutlevel:Working on creating ... /content/boundingBox/train/fall/S44P5K5 set\n",
            "INFO:withlevel:Elapsed time for Bounding box calculation is 0:00:02.394893\n",
            "INFO:withlevel:Total time taken for S44P5K5 is 0:00:02.433895\n",
            "INFO:withoutlevel:creating trajectory image at /content/trajectories/train/fall\n",
            "INFO:withoutlevel:Working on creating ... /content/boundingBox/train/fall/S51P50K3 set\n",
            "INFO:withlevel:Elapsed time for Bounding box calculation is 0:00:02.316977\n",
            "INFO:withlevel:Total time taken for S51P50K3 is 0:00:02.351425\n",
            "INFO:withoutlevel:creating trajectory image at /content/trajectories/train/fall\n",
            "INFO:withoutlevel:Working on creating ... /content/boundingBox/train/fall/S17P21K1 set\n",
            "INFO:withlevel:Elapsed time for Bounding box calculation is 0:00:02.336399\n",
            "INFO:withlevel:Total time taken for S17P21K1 is 0:00:02.368597\n",
            "INFO:withoutlevel:creating trajectory image at /content/trajectories/train/fall\n",
            "INFO:withoutlevel:Working on creating ... /content/boundingBox/train/fall/S4P2K7 set\n"
          ],
          "name": "stderr"
        },
        {
          "output_type": "stream",
          "text": [
            "skipping /content/boundingBox/train/fall/S4P2K7\n",
            "skipping /content/boundingBox/train/fall/S4P2K7\n",
            "skipping /content/boundingBox/train/fall/S4P2K7\n",
            "skipping /content/boundingBox/train/fall/S4P2K7\n",
            "skipping /content/boundingBox/train/fall/S4P2K7\n",
            "skipping /content/boundingBox/train/fall/S4P2K7\n",
            "skipping /content/boundingBox/train/fall/S4P2K7\n",
            "skipping /content/boundingBox/train/fall/S4P2K7\n",
            "skipping /content/boundingBox/train/fall/S4P2K7\n",
            "skipping /content/boundingBox/train/fall/S4P2K7\n",
            "skipping /content/boundingBox/train/fall/S4P2K7\n",
            "skipping /content/boundingBox/train/fall/S4P2K7\n",
            "skipping /content/boundingBox/train/fall/S4P2K7\n",
            "skipping /content/boundingBox/train/fall/S4P2K7\n",
            "skipping /content/boundingBox/train/fall/S4P2K7\n",
            "skipping /content/boundingBox/train/fall/S4P2K7\n",
            "skipping /content/boundingBox/train/fall/S4P2K7\n",
            "skipping /content/boundingBox/train/fall/S4P2K7\n",
            "skipping /content/boundingBox/train/fall/S4P2K7\n",
            "skipping /content/boundingBox/train/fall/S4P2K7\n",
            "skipping /content/boundingBox/train/fall/S4P2K7\n",
            "skipping /content/boundingBox/train/fall/S4P2K7\n",
            "skipping /content/boundingBox/train/fall/S4P2K7\n",
            "skipping /content/boundingBox/train/fall/S4P2K7\n",
            "skipping /content/boundingBox/train/fall/S4P2K7\n",
            "skipping /content/boundingBox/train/fall/S4P2K7\n",
            "skipping /content/boundingBox/train/fall/S4P2K7\n",
            "skipping /content/boundingBox/train/fall/S4P2K7\n",
            "skipping /content/boundingBox/train/fall/S4P2K7\n",
            "skipping /content/boundingBox/train/fall/S4P2K7\n",
            "skipping /content/boundingBox/train/fall/S4P2K7\n",
            "skipping /content/boundingBox/train/fall/S4P2K7\n",
            "skipping /content/boundingBox/train/fall/S4P2K7\n",
            "skipping /content/boundingBox/train/fall/S4P2K7\n",
            "skipping /content/boundingBox/train/fall/S4P2K7\n",
            "skipping /content/boundingBox/train/fall/S4P2K7\n",
            "skipping /content/boundingBox/train/fall/S4P2K7\n",
            "skipping /content/boundingBox/train/fall/S4P2K7\n",
            "skipping /content/boundingBox/train/fall/S4P2K7\n",
            "skipping /content/boundingBox/train/fall/S4P2K7\n",
            "skipping /content/boundingBox/train/fall/S4P2K7\n",
            "skipping /content/boundingBox/train/fall/S4P2K7\n"
          ],
          "name": "stdout"
        },
        {
          "output_type": "stream",
          "text": [
            "INFO:withlevel:Elapsed time for Bounding box calculation is 0:00:02.288128\n",
            "INFO:withlevel:Total time taken for S4P2K7 is 0:00:02.324871\n"
          ],
          "name": "stderr"
        },
        {
          "output_type": "stream",
          "text": [
            "skipping /content/boundingBox/train/fall/S4P2K7\n",
            "skipping /content/boundingBox/train/fall/S4P2K7\n",
            "skipping /content/boundingBox/train/fall/S4P2K7\n",
            "skipping /content/boundingBox/train/fall/S4P2K7\n"
          ],
          "name": "stdout"
        },
        {
          "output_type": "stream",
          "text": [
            "INFO:withoutlevel:creating trajectory image at /content/trajectories/train/fall\n",
            "INFO:withoutlevel:Working on creating ... /content/boundingBox/train/fall/S35P11K2 set\n",
            "INFO:withlevel:Elapsed time for Bounding box calculation is 0:00:02.358674\n",
            "INFO:withlevel:Total time taken for S35P11K2 is 0:00:02.391244\n",
            "INFO:withoutlevel:creating trajectory image at /content/trajectories/train/fall\n",
            "INFO:withoutlevel:Working on creating ... /content/boundingBox/train/fall/S2P32K2 set\n",
            "INFO:withlevel:Elapsed time for Bounding box calculation is 0:00:02.329495\n",
            "INFO:withlevel:Total time taken for S2P32K2 is 0:00:02.361556\n",
            "INFO:withoutlevel:creating trajectory image at /content/trajectories/train/fall\n",
            "INFO:withoutlevel:Working on creating ... /content/boundingBox/train/fall/S18P6K5 set\n",
            "INFO:withlevel:Elapsed time for Bounding box calculation is 0:00:04.839848\n",
            "INFO:withlevel:Total time taken for S18P6K5 is 0:00:04.874355\n",
            "INFO:withoutlevel:creating trajectory image at /content/trajectories/train/fall\n",
            "INFO:withoutlevel:Working on creating ... /content/boundingBox/train/fall/S21P25K7 set\n"
          ],
          "name": "stderr"
        },
        {
          "output_type": "stream",
          "text": [
            "skipping /content/boundingBox/train/fall/S21P25K7\n"
          ],
          "name": "stdout"
        },
        {
          "output_type": "stream",
          "text": [
            "INFO:withlevel:Elapsed time for Bounding box calculation is 0:00:02.356358\n",
            "INFO:withlevel:Total time taken for S21P25K7 is 0:00:02.401561\n",
            "INFO:withoutlevel:creating trajectory image at /content/trajectories/train/fall\n",
            "INFO:withoutlevel:Working on creating ... /content/boundingBox/train/fall/S25P39K2 set\n",
            "INFO:withlevel:Elapsed time for Bounding box calculation is 0:00:02.362494\n",
            "INFO:withlevel:Total time taken for S25P39K2 is 0:00:02.396938\n",
            "INFO:withoutlevel:creating trajectory image at /content/trajectories/train/fall\n",
            "INFO:withoutlevel:Working on creating ... /content/boundingBox/train/fall/S20P24K4 set\n",
            "INFO:withlevel:Elapsed time for Bounding box calculation is 0:00:02.373599\n",
            "INFO:withlevel:Total time taken for S20P24K4 is 0:00:02.408008\n",
            "INFO:withoutlevel:creating trajectory image at /content/trajectories/train/fall\n",
            "INFO:withoutlevel:Working on creating ... /content/boundingBox/train/fall/S50P47K5 set\n",
            "INFO:withlevel:Elapsed time for Bounding box calculation is 0:00:02.352725\n",
            "INFO:withlevel:Total time taken for S50P47K5 is 0:00:02.386016\n",
            "INFO:withoutlevel:creating trajectory image at /content/trajectories/train/fall\n",
            "INFO:withoutlevel:Working on creating ... /content/boundingBox/train/fall/S53P26K1 set\n",
            "INFO:withlevel:Elapsed time for Bounding box calculation is 0:00:02.401972\n",
            "INFO:withlevel:Total time taken for S53P26K1 is 0:00:02.437217\n",
            "INFO:withoutlevel:creating trajectory image at /content/trajectories/train/fall\n",
            "INFO:withoutlevel:Working on creating ... /content/boundingBox/train/fall/S36P34K6 set\n",
            "INFO:withlevel:Elapsed time for Bounding box calculation is 0:00:02.383982\n",
            "INFO:withlevel:Total time taken for S36P34K6 is 0:00:02.423313\n",
            "INFO:withoutlevel:creating trajectory image at /content/trajectories/train/fall\n",
            "INFO:withoutlevel:Working on creating ... /content/boundingBox/train/fall/S48P46K6 set\n",
            "INFO:withlevel:Elapsed time for Bounding box calculation is 0:00:04.908331\n",
            "INFO:withlevel:Total time taken for S48P46K6 is 0:00:04.940992\n",
            "INFO:withoutlevel:creating trajectory image at /content/trajectories/train/fall\n",
            "INFO:withoutlevel:Working on creating ... /content/boundingBox/train/fall/S15P31K2 set\n",
            "INFO:withlevel:Elapsed time for Bounding box calculation is 0:00:02.381389\n",
            "INFO:withlevel:Total time taken for S15P31K2 is 0:00:02.416040\n",
            "INFO:withoutlevel:creating trajectory image at /content/trajectories/train/fall\n",
            "INFO:withoutlevel:Working on creating ... /content/boundingBox/train/fall/S37P45K3 set\n",
            "INFO:withlevel:Elapsed time for Bounding box calculation is 0:00:02.385391\n",
            "INFO:withlevel:Total time taken for S37P45K3 is 0:00:02.417160\n",
            "INFO:withoutlevel:creating trajectory image at /content/trajectories/train/fall\n",
            "INFO:withoutlevel:Working on creating ... /content/boundingBox/train/fall/S47P14K3 set\n",
            "INFO:withlevel:Elapsed time for Bounding box calculation is 0:00:02.391518\n",
            "INFO:withlevel:Total time taken for S47P14K3 is 0:00:02.425662\n",
            "INFO:withoutlevel:creating trajectory image at /content/trajectories/train/fall\n",
            "INFO:withoutlevel:Working on creating ... /content/boundingBox/train/fall/S46P35K7 set\n",
            "INFO:withlevel:Elapsed time for Bounding box calculation is 0:00:04.826982\n",
            "INFO:withlevel:Total time taken for S46P35K7 is 0:00:04.858970\n",
            "INFO:withoutlevel:creating trajectory image at /content/trajectories/train/fall\n",
            "INFO:withoutlevel:Working on creating ... /content/boundingBox/train/fall/S23P17K2 set\n",
            "INFO:withlevel:Elapsed time for Bounding box calculation is 0:00:02.357554\n",
            "INFO:withlevel:Total time taken for S23P17K2 is 0:00:02.390039\n",
            "INFO:withoutlevel:creating trajectory image at /content/trajectories/train/fall\n",
            "INFO:withoutlevel:Working on creating ... /content/boundingBox/train/fall/S4P2K3 set\n",
            "INFO:withlevel:Elapsed time for Bounding box calculation is 0:00:02.354164\n",
            "INFO:withlevel:Total time taken for S4P2K3 is 0:00:02.387215\n",
            "INFO:withoutlevel:creating trajectory image at /content/trajectories/train/fall\n",
            "INFO:withoutlevel:Working on creating ... /content/boundingBox/train/fall/S19P3K3 set\n",
            "INFO:withlevel:Elapsed time for Bounding box calculation is 0:00:02.347146\n",
            "INFO:withlevel:Total time taken for S19P3K3 is 0:00:02.383010\n",
            "INFO:withoutlevel:creating trajectory image at /content/trajectories/train/adl\n",
            "INFO:withoutlevel:Working on creating ... /content/boundingBox/train/adl/S47P14K1 set\n",
            "INFO:withlevel:Elapsed time for Bounding box calculation is 0:00:02.369627\n",
            "INFO:withlevel:Total time taken for S47P14K1 is 0:00:02.402807\n",
            "INFO:withoutlevel:creating trajectory image at /content/trajectories/train/adl\n",
            "INFO:withoutlevel:Working on creating ... /content/boundingBox/train/adl/S35P11K1 set\n",
            "INFO:withlevel:Elapsed time for Bounding box calculation is 0:00:02.375021\n",
            "INFO:withlevel:Total time taken for S35P11K1 is 0:00:02.407046\n",
            "INFO:withoutlevel:creating trajectory image at /content/trajectories/train/adl\n",
            "INFO:withoutlevel:Working on creating ... /content/boundingBox/train/adl/S34P27K7 set\n",
            "INFO:withlevel:Elapsed time for Bounding box calculation is 0:00:02.357599\n",
            "INFO:withlevel:Total time taken for S34P27K7 is 0:00:02.390337\n",
            "INFO:withoutlevel:creating trajectory image at /content/trajectories/train/adl\n",
            "INFO:withoutlevel:Working on creating ... /content/boundingBox/train/adl/S33P40K5 set\n",
            "INFO:withlevel:Elapsed time for Bounding box calculation is 0:00:02.359060\n",
            "INFO:withlevel:Total time taken for S33P40K5 is 0:00:02.393467\n",
            "INFO:withoutlevel:creating trajectory image at /content/trajectories/train/adl\n",
            "INFO:withoutlevel:Working on creating ... /content/boundingBox/train/adl/S20P24K6 set\n",
            "INFO:withlevel:Elapsed time for Bounding box calculation is 0:00:02.351364\n",
            "INFO:withlevel:Total time taken for S20P24K6 is 0:00:02.382693\n",
            "INFO:withoutlevel:creating trajectory image at /content/trajectories/train/adl\n",
            "INFO:withoutlevel:Working on creating ... /content/boundingBox/train/adl/S23P17K6 set\n"
          ],
          "name": "stderr"
        },
        {
          "output_type": "stream",
          "text": [
            "skipping /content/boundingBox/train/adl/S23P17K6\n",
            "skipping /content/boundingBox/train/adl/S23P17K6\n"
          ],
          "name": "stdout"
        },
        {
          "output_type": "stream",
          "text": [
            "INFO:withlevel:Elapsed time for Bounding box calculation is 0:00:02.353015\n",
            "INFO:withlevel:Total time taken for S23P17K6 is 0:00:02.390181\n",
            "INFO:withoutlevel:creating trajectory image at /content/trajectories/train/adl\n",
            "INFO:withoutlevel:Working on creating ... /content/boundingBox/train/adl/S16P41K6 set\n",
            "INFO:withlevel:Elapsed time for Bounding box calculation is 0:00:02.359745\n",
            "INFO:withlevel:Total time taken for S16P41K6 is 0:00:02.394472\n",
            "INFO:withoutlevel:creating trajectory image at /content/trajectories/train/adl\n",
            "INFO:withoutlevel:Working on creating ... /content/boundingBox/train/adl/S22P36K5 set\n",
            "INFO:withlevel:Elapsed time for Bounding box calculation is 0:00:02.363037\n",
            "INFO:withlevel:Total time taken for S22P36K5 is 0:00:02.400042\n",
            "INFO:withoutlevel:creating trajectory image at /content/trajectories/train/adl\n",
            "INFO:withoutlevel:Working on creating ... /content/boundingBox/train/adl/S28P9K6 set\n",
            "INFO:withlevel:Elapsed time for Bounding box calculation is 0:00:02.388938\n",
            "INFO:withlevel:Total time taken for S28P9K6 is 0:00:02.426993\n",
            "INFO:withoutlevel:creating trajectory image at /content/trajectories/train/adl\n",
            "INFO:withoutlevel:Working on creating ... /content/boundingBox/train/adl/S48P46K4 set\n",
            "INFO:withlevel:Elapsed time for Bounding box calculation is 0:00:02.397489\n",
            "INFO:withlevel:Total time taken for S48P46K4 is 0:00:02.433595\n",
            "INFO:withoutlevel:creating trajectory image at /content/trajectories/train/adl\n",
            "INFO:withoutlevel:Working on creating ... /content/boundingBox/train/adl/S25P39K5 set\n",
            "INFO:withlevel:Elapsed time for Bounding box calculation is 0:00:02.391361\n",
            "INFO:withlevel:Total time taken for S25P39K5 is 0:00:02.428356\n",
            "INFO:withoutlevel:creating trajectory image at /content/trajectories/train/adl\n",
            "INFO:withoutlevel:Working on creating ... /content/boundingBox/train/adl/S15P31K4 set\n",
            "INFO:withlevel:Elapsed time for Bounding box calculation is 0:00:02.334333\n",
            "INFO:withlevel:Total time taken for S15P31K4 is 0:00:02.367689\n",
            "INFO:withoutlevel:creating trajectory image at /content/trajectories/train/adl\n",
            "INFO:withoutlevel:Working on creating ... /content/boundingBox/train/adl/S43P38K1 set\n",
            "INFO:withlevel:Elapsed time for Bounding box calculation is 0:00:02.364805\n",
            "INFO:withlevel:Total time taken for S43P38K1 is 0:00:02.399888\n",
            "INFO:withoutlevel:creating trajectory image at /content/trajectories/train/adl\n",
            "INFO:withoutlevel:Working on creating ... /content/boundingBox/train/adl/S25P39K1 set\n",
            "INFO:withlevel:Elapsed time for Bounding box calculation is 0:00:02.375292\n",
            "INFO:withlevel:Total time taken for S25P39K1 is 0:00:02.412424\n",
            "INFO:withoutlevel:creating trajectory image at /content/trajectories/train/adl\n",
            "INFO:withoutlevel:Working on creating ... /content/boundingBox/train/adl/S47P14K2 set\n",
            "INFO:withlevel:Elapsed time for Bounding box calculation is 0:00:02.334954\n",
            "INFO:withlevel:Total time taken for S47P14K2 is 0:00:02.371546\n",
            "INFO:withoutlevel:creating trajectory image at /content/trajectories/train/adl\n",
            "INFO:withoutlevel:Working on creating ... /content/boundingBox/train/adl/S26P28K4 set\n",
            "INFO:withlevel:Elapsed time for Bounding box calculation is 0:00:02.345714\n",
            "INFO:withlevel:Total time taken for S26P28K4 is 0:00:02.382134\n",
            "INFO:withoutlevel:creating trajectory image at /content/trajectories/train/adl\n",
            "INFO:withoutlevel:Working on creating ... /content/boundingBox/train/adl/S3P30K1 set\n",
            "INFO:withlevel:Elapsed time for Bounding box calculation is 0:00:02.384712\n",
            "INFO:withlevel:Total time taken for S3P30K1 is 0:00:02.418612\n",
            "INFO:withoutlevel:creating trajectory image at /content/trajectories/train/adl\n",
            "INFO:withoutlevel:Working on creating ... /content/boundingBox/train/adl/S42P20K2_1 set\n",
            "INFO:withlevel:Elapsed time for Bounding box calculation is 0:00:02.367257\n",
            "INFO:withlevel:Total time taken for S42P20K2_1 is 0:00:02.401075\n",
            "INFO:withoutlevel:creating trajectory image at /content/trajectories/train/adl\n",
            "INFO:withoutlevel:Working on creating ... /content/boundingBox/train/adl/S29P43K7 set\n",
            "INFO:withlevel:Elapsed time for Bounding box calculation is 0:00:02.336325\n",
            "INFO:withlevel:Total time taken for S29P43K7 is 0:00:02.371214\n",
            "INFO:withoutlevel:creating trajectory image at /content/trajectories/train/adl\n",
            "INFO:withoutlevel:Working on creating ... /content/boundingBox/train/adl/S13P42K4 set\n",
            "INFO:withlevel:Elapsed time for Bounding box calculation is 0:00:02.350222\n",
            "INFO:withlevel:Total time taken for S13P42K4 is 0:00:02.385324\n",
            "INFO:withoutlevel:creating trajectory image at /content/trajectories/train/adl\n",
            "INFO:withoutlevel:Working on creating ... /content/boundingBox/train/adl/S41P29K6_1 set\n",
            "INFO:withlevel:Elapsed time for Bounding box calculation is 0:00:02.324463\n",
            "INFO:withlevel:Total time taken for S41P29K6_1 is 0:00:02.357305\n",
            "INFO:withoutlevel:creating trajectory image at /content/trajectories/train/adl\n",
            "INFO:withoutlevel:Working on creating ... /content/boundingBox/train/adl/S33P40K2 set\n",
            "INFO:withlevel:Elapsed time for Bounding box calculation is 0:00:02.324280\n",
            "INFO:withlevel:Total time taken for S33P40K2 is 0:00:02.356613\n",
            "INFO:withoutlevel:creating trajectory image at /content/trajectories/train/adl\n",
            "INFO:withoutlevel:Working on creating ... /content/boundingBox/train/adl/S42P20K1 set\n",
            "INFO:withlevel:Elapsed time for Bounding box calculation is 0:00:02.311822\n",
            "INFO:withlevel:Total time taken for S42P20K1 is 0:00:02.347718\n",
            "INFO:withoutlevel:creating trajectory image at /content/trajectories/train/adl\n",
            "INFO:withoutlevel:Working on creating ... /content/boundingBox/train/adl/S10P12K4 set\n",
            "INFO:withlevel:Elapsed time for Bounding box calculation is 0:00:02.356567\n",
            "INFO:withlevel:Total time taken for S10P12K4 is 0:00:02.388673\n",
            "INFO:withoutlevel:creating trajectory image at /content/trajectories/train/adl\n",
            "INFO:withoutlevel:Working on creating ... /content/boundingBox/train/adl/S34P27K1 set\n",
            "INFO:withlevel:Elapsed time for Bounding box calculation is 0:00:02.383448\n",
            "INFO:withlevel:Total time taken for S34P27K1 is 0:00:02.418395\n",
            "INFO:withoutlevel:creating trajectory image at /content/trajectories/train/adl\n",
            "INFO:withoutlevel:Working on creating ... /content/boundingBox/train/adl/S40P15K3_1 set\n",
            "INFO:withlevel:Elapsed time for Bounding box calculation is 0:00:02.361633\n",
            "INFO:withlevel:Total time taken for S40P15K3_1 is 0:00:02.397049\n",
            "INFO:withoutlevel:creating trajectory image at /content/trajectories/train/adl\n",
            "INFO:withoutlevel:Working on creating ... /content/boundingBox/train/adl/S41P29K6 set\n",
            "INFO:withlevel:Elapsed time for Bounding box calculation is 0:00:02.376484\n",
            "INFO:withlevel:Total time taken for S41P29K6 is 0:00:02.408033\n",
            "INFO:withoutlevel:creating trajectory image at /content/trajectories/train/adl\n",
            "INFO:withoutlevel:Working on creating ... /content/boundingBox/train/adl/S50P47K4 set\n",
            "INFO:withlevel:Elapsed time for Bounding box calculation is 0:00:02.325925\n",
            "INFO:withlevel:Total time taken for S50P47K4 is 0:00:02.360415\n",
            "INFO:withoutlevel:creating trajectory image at /content/trajectories/train/adl\n",
            "INFO:withoutlevel:Working on creating ... /content/boundingBox/train/adl/S55P18K5 set\n",
            "INFO:withlevel:Elapsed time for Bounding box calculation is 0:00:02.350844\n",
            "INFO:withlevel:Total time taken for S55P18K5 is 0:00:02.384868\n",
            "INFO:withoutlevel:creating trajectory image at /content/trajectories/train/adl\n",
            "INFO:withoutlevel:Working on creating ... /content/boundingBox/train/adl/S55P18K4 set\n",
            "INFO:withlevel:Elapsed time for Bounding box calculation is 0:00:02.356399\n",
            "INFO:withlevel:Total time taken for S55P18K4 is 0:00:02.392146\n",
            "INFO:withoutlevel:creating trajectory image at /content/trajectories/train/adl\n",
            "INFO:withoutlevel:Working on creating ... /content/boundingBox/train/adl/S42P20K2 set\n",
            "INFO:withlevel:Elapsed time for Bounding box calculation is 0:00:02.351862\n",
            "INFO:withlevel:Total time taken for S42P20K2 is 0:00:02.384960\n",
            "INFO:withoutlevel:creating trajectory image at /content/trajectories/train/adl\n",
            "INFO:withoutlevel:Working on creating ... /content/boundingBox/train/adl/S40P15K3 set\n",
            "INFO:withlevel:Elapsed time for Bounding box calculation is 0:00:02.371587\n",
            "INFO:withlevel:Total time taken for S40P15K3 is 0:00:02.405352\n",
            "INFO:withoutlevel:creating trajectory image at /content/trajectories/train/adl\n",
            "INFO:withoutlevel:Working on creating ... /content/boundingBox/train/adl/S30P7K3 set\n",
            "INFO:withlevel:Elapsed time for Bounding box calculation is 0:00:02.421641\n",
            "INFO:withlevel:Total time taken for S30P7K3 is 0:00:02.455027\n",
            "INFO:withoutlevel:creating trajectory image at /content/trajectories/train/adl\n",
            "INFO:withoutlevel:Working on creating ... /content/boundingBox/train/adl/S16P41K1 set\n",
            "INFO:withlevel:Elapsed time for Bounding box calculation is 0:00:02.344617\n",
            "INFO:withlevel:Total time taken for S16P41K1 is 0:00:02.377521\n",
            "INFO:withoutlevel:creating trajectory image at /content/trajectories/train/adl\n",
            "INFO:withoutlevel:Working on creating ... /content/boundingBox/train/adl/S26P28K5 set\n",
            "INFO:withlevel:Elapsed time for Bounding box calculation is 0:00:02.347773\n",
            "INFO:withlevel:Total time taken for S26P28K5 is 0:00:02.384587\n",
            "INFO:withoutlevel:creating trajectory image at /content/trajectories/train/adl\n",
            "INFO:withoutlevel:Working on creating ... /content/boundingBox/train/adl/S7P1K6 set\n",
            "INFO:withlevel:Elapsed time for Bounding box calculation is 0:00:02.419896\n",
            "INFO:withlevel:Total time taken for S7P1K6 is 0:00:02.452323\n",
            "INFO:withoutlevel:creating trajectory image at /content/trajectories/train/adl\n",
            "INFO:withoutlevel:Working on creating ... /content/boundingBox/train/adl/S30P7K4 set\n",
            "INFO:withlevel:Elapsed time for Bounding box calculation is 0:00:02.331437\n",
            "INFO:withlevel:Total time taken for S30P7K4 is 0:00:02.362866\n",
            "INFO:withoutlevel:creating trajectory image at /content/trajectories/train/adl\n",
            "INFO:withoutlevel:Working on creating ... /content/boundingBox/train/adl/S42P20K1_1 set\n",
            "INFO:withlevel:Elapsed time for Bounding box calculation is 0:00:02.339260\n",
            "INFO:withlevel:Total time taken for S42P20K1_1 is 0:00:02.372743\n",
            "INFO:withoutlevel:creating trajectory image at /content/trajectories/train/adl\n",
            "INFO:withoutlevel:Working on creating ... /content/boundingBox/train/adl/S48P46K1 set\n",
            "INFO:withlevel:Elapsed time for Bounding box calculation is 0:00:02.347361\n",
            "INFO:withlevel:Total time taken for S48P46K1 is 0:00:02.387923\n",
            "INFO:withoutlevel:creating trajectory image at /content/trajectories/train/adl\n",
            "INFO:withoutlevel:Working on creating ... /content/boundingBox/train/adl/S28P9K6_1 set\n",
            "INFO:withlevel:Elapsed time for Bounding box calculation is 0:00:02.344356\n",
            "INFO:withlevel:Total time taken for S28P9K6_1 is 0:00:02.376385\n",
            "INFO:withoutlevel:creating trajectory image at /content/trajectories/train/adl\n",
            "INFO:withoutlevel:Working on creating ... /content/boundingBox/train/adl/S27P4K6 set\n",
            "INFO:withlevel:Elapsed time for Bounding box calculation is 0:00:02.358360\n",
            "INFO:withlevel:Total time taken for S27P4K6 is 0:00:02.391924\n",
            "INFO:withoutlevel:creating trajectory image at /content/trajectories/train/adl\n",
            "INFO:withoutlevel:Working on creating ... /content/boundingBox/train/adl/S48P46K2 set\n",
            "INFO:withlevel:Elapsed time for Bounding box calculation is 0:00:02.375367\n",
            "INFO:withlevel:Total time taken for S48P46K2 is 0:00:02.417784\n",
            "INFO:withoutlevel:creating trajectory image at /content/trajectories/train/adl\n",
            "INFO:withoutlevel:Working on creating ... /content/boundingBox/train/adl/S38P16K4 set\n",
            "INFO:withlevel:Elapsed time for Bounding box calculation is 0:00:02.385819\n",
            "INFO:withlevel:Total time taken for S38P16K4 is 0:00:02.421429\n",
            "INFO:withoutlevel:creating trajectory image at /content/trajectories/train/adl\n",
            "INFO:withoutlevel:Working on creating ... /content/boundingBox/train/adl/S34P27K1_1 set\n",
            "INFO:withlevel:Elapsed time for Bounding box calculation is 0:00:02.420644\n",
            "INFO:withlevel:Total time taken for S34P27K1_1 is 0:00:02.456152\n",
            "INFO:withoutlevel:creating trajectory image at /content/trajectories/train/adl\n",
            "INFO:withoutlevel:Working on creating ... /content/boundingBox/train/adl/S45P10K5 set\n",
            "INFO:withlevel:Elapsed time for Bounding box calculation is 0:00:02.363912\n",
            "INFO:withlevel:Total time taken for S45P10K5 is 0:00:02.401392\n",
            "INFO:withoutlevel:creating trajectory image at /content/trajectories/train/adl\n",
            "INFO:withoutlevel:Working on creating ... /content/boundingBox/train/adl/S11P8K2 set\n",
            "INFO:withlevel:Elapsed time for Bounding box calculation is 0:00:02.372508\n",
            "INFO:withlevel:Total time taken for S11P8K2 is 0:00:02.406065\n",
            "INFO:withoutlevel:creating trajectory image at /content/trajectories/train/adl\n",
            "INFO:withoutlevel:Working on creating ... /content/boundingBox/train/adl/S42P20K3 set\n",
            "INFO:withlevel:Elapsed time for Bounding box calculation is 0:00:02.405622\n",
            "INFO:withlevel:Total time taken for S42P20K3 is 0:00:02.438689\n",
            "INFO:withoutlevel:creating trajectory image at /content/trajectories/train/adl\n",
            "INFO:withoutlevel:Working on creating ... /content/boundingBox/train/adl/S14P2K4 set\n",
            "INFO:withlevel:Elapsed time for Bounding box calculation is 0:00:02.366150\n",
            "INFO:withlevel:Total time taken for S14P2K4 is 0:00:02.403759\n",
            "INFO:withoutlevel:creating trajectory image at /content/trajectories/train/adl\n",
            "INFO:withoutlevel:Working on creating ... /content/boundingBox/train/adl/S51P50K7 set\n",
            "INFO:withlevel:Elapsed time for Bounding box calculation is 0:00:02.361780\n",
            "INFO:withlevel:Total time taken for S51P50K7 is 0:00:02.397641\n",
            "INFO:withoutlevel:creating trajectory image at /content/trajectories/train/adl\n",
            "INFO:withoutlevel:Working on creating ... /content/boundingBox/train/adl/S18P6K2 set\n",
            "INFO:withlevel:Elapsed time for Bounding box calculation is 0:00:02.358619\n",
            "INFO:withlevel:Total time taken for S18P6K2 is 0:00:02.396306\n",
            "INFO:withoutlevel:creating trajectory image at /content/trajectories/train/adl\n",
            "INFO:withoutlevel:Working on creating ... /content/boundingBox/train/adl/S7P1K1 set\n",
            "INFO:withlevel:Elapsed time for Bounding box calculation is 0:00:02.332039\n",
            "INFO:withlevel:Total time taken for S7P1K1 is 0:00:02.363745\n",
            "INFO:withoutlevel:creating trajectory image at /content/trajectories/train/adl\n",
            "INFO:withoutlevel:Working on creating ... /content/boundingBox/train/adl/S24P37K1 set\n",
            "INFO:withlevel:Elapsed time for Bounding box calculation is 0:00:02.373665\n",
            "INFO:withlevel:Total time taken for S24P37K1 is 0:00:02.408615\n",
            "INFO:withoutlevel:creating trajectory image at /content/trajectories/train/adl\n",
            "INFO:withoutlevel:Working on creating ... /content/boundingBox/train/adl/S22P36K4 set\n",
            "INFO:withlevel:Elapsed time for Bounding box calculation is 0:00:02.360288\n",
            "INFO:withlevel:Total time taken for S22P36K4 is 0:00:02.405286\n",
            "INFO:withoutlevel:creating trajectory image at /content/trajectories/train/adl\n",
            "INFO:withoutlevel:Working on creating ... /content/boundingBox/train/adl/S38P16K5 set\n",
            "INFO:withlevel:Elapsed time for Bounding box calculation is 0:00:02.378446\n",
            "INFO:withlevel:Total time taken for S38P16K5 is 0:00:02.410548\n",
            "INFO:withoutlevel:creating trajectory image at /content/trajectories/train/adl\n",
            "INFO:withoutlevel:Working on creating ... /content/boundingBox/train/adl/S55P18K3 set\n",
            "INFO:withlevel:Elapsed time for Bounding box calculation is 0:00:02.361924\n",
            "INFO:withlevel:Total time taken for S55P18K3 is 0:00:02.394042\n",
            "INFO:withoutlevel:creating trajectory image at /content/trajectories/train/adl\n",
            "INFO:withoutlevel:Working on creating ... /content/boundingBox/train/adl/S30P7K6 set\n",
            "INFO:withlevel:Elapsed time for Bounding box calculation is 0:00:02.351221\n",
            "INFO:withlevel:Total time taken for S30P7K6 is 0:00:02.383603\n",
            "INFO:withoutlevel:creating trajectory image at /content/trajectories/train/adl\n",
            "INFO:withoutlevel:Working on creating ... /content/boundingBox/train/adl/S28P9K1 set\n",
            "INFO:withlevel:Elapsed time for Bounding box calculation is 0:00:02.355746\n",
            "INFO:withlevel:Total time taken for S28P9K1 is 0:00:02.393009\n",
            "INFO:withoutlevel:creating trajectory image at /content/trajectories/val/fall\n",
            "INFO:withoutlevel:Working on creating ... /content/boundingBox/val/fall/S45P10K7 set\n",
            "INFO:withlevel:Elapsed time for Bounding box calculation is 0:00:02.357333\n",
            "INFO:withlevel:Total time taken for S45P10K7 is 0:00:02.393623\n",
            "INFO:withoutlevel:creating trajectory image at /content/trajectories/val/fall\n",
            "INFO:withoutlevel:Working on creating ... /content/boundingBox/val/fall/S52P49K1 set\n",
            "INFO:withlevel:Elapsed time for Bounding box calculation is 0:00:02.347935\n",
            "INFO:withlevel:Total time taken for S52P49K1 is 0:00:02.380964\n",
            "INFO:withoutlevel:creating trajectory image at /content/trajectories/val/fall\n",
            "INFO:withoutlevel:Working on creating ... /content/boundingBox/val/fall/S8P23K4 set\n",
            "INFO:withlevel:Elapsed time for Bounding box calculation is 0:00:02.330915\n",
            "INFO:withlevel:Total time taken for S8P23K4 is 0:00:02.364102\n",
            "INFO:withoutlevel:creating trajectory image at /content/trajectories/val/fall\n",
            "INFO:withoutlevel:Working on creating ... /content/boundingBox/val/fall/S9P33K3 set\n",
            "INFO:withlevel:Elapsed time for Bounding box calculation is 0:00:02.344367\n",
            "INFO:withlevel:Total time taken for S9P33K3 is 0:00:02.376627\n",
            "INFO:withoutlevel:creating trajectory image at /content/trajectories/val/fall\n",
            "INFO:withoutlevel:Working on creating ... /content/boundingBox/val/fall/S53P26K2 set\n",
            "INFO:withlevel:Elapsed time for Bounding box calculation is 0:00:02.351651\n",
            "INFO:withlevel:Total time taken for S53P26K2 is 0:00:02.383371\n",
            "INFO:withoutlevel:creating trajectory image at /content/trajectories/val/fall\n",
            "INFO:withoutlevel:Working on creating ... /content/boundingBox/val/fall/S21P25K4 set\n",
            "INFO:withlevel:Elapsed time for Bounding box calculation is 0:00:02.383993\n",
            "INFO:withlevel:Total time taken for S21P25K4 is 0:00:02.418179\n",
            "INFO:withoutlevel:creating trajectory image at /content/trajectories/val/fall\n",
            "INFO:withoutlevel:Working on creating ... /content/boundingBox/val/fall/S15P31K3 set\n",
            "INFO:withlevel:Elapsed time for Bounding box calculation is 0:00:02.380417\n",
            "INFO:withlevel:Total time taken for S15P31K3 is 0:00:02.416332\n",
            "INFO:withoutlevel:creating trajectory image at /content/trajectories/val/fall\n",
            "INFO:withoutlevel:Working on creating ... /content/boundingBox/val/fall/S19P3K1 set\n",
            "INFO:withlevel:Elapsed time for Bounding box calculation is 0:00:02.388584\n",
            "INFO:withlevel:Total time taken for S19P3K1 is 0:00:02.423293\n",
            "INFO:withoutlevel:creating trajectory image at /content/trajectories/val/fall\n",
            "INFO:withoutlevel:Working on creating ... /content/boundingBox/val/fall/S53P26K3 set\n",
            "INFO:withlevel:Elapsed time for Bounding box calculation is 0:00:02.368714\n",
            "INFO:withlevel:Total time taken for S53P26K3 is 0:00:02.402915\n",
            "INFO:withoutlevel:creating trajectory image at /content/trajectories/val/fall\n",
            "INFO:withoutlevel:Working on creating ... /content/boundingBox/val/fall/S13P42K1 set\n",
            "INFO:withlevel:Elapsed time for Bounding box calculation is 0:00:02.359248\n",
            "INFO:withlevel:Total time taken for S13P42K1 is 0:00:02.393532\n",
            "INFO:withoutlevel:creating trajectory image at /content/trajectories/val/fall\n",
            "INFO:withoutlevel:Working on creating ... /content/boundingBox/val/fall/S3P30K7 set\n"
          ],
          "name": "stderr"
        },
        {
          "output_type": "stream",
          "text": [
            "skipping /content/boundingBox/val/fall/S3P30K7\n"
          ],
          "name": "stdout"
        },
        {
          "output_type": "stream",
          "text": [
            "INFO:withlevel:Elapsed time for Bounding box calculation is 0:00:04.795123\n",
            "INFO:withlevel:Total time taken for S3P30K7 is 0:00:04.828011\n",
            "INFO:withoutlevel:creating trajectory image at /content/trajectories/val/fall\n",
            "INFO:withoutlevel:Working on creating ... /content/boundingBox/val/fall/S46P35K5 set\n",
            "INFO:withlevel:Elapsed time for Bounding box calculation is 0:00:02.346738\n",
            "INFO:withlevel:Total time taken for S46P35K5 is 0:00:02.381290\n",
            "INFO:withoutlevel:creating trajectory image at /content/trajectories/val/fall\n",
            "INFO:withoutlevel:Working on creating ... /content/boundingBox/val/fall/S18P6K7 set\n",
            "INFO:withlevel:Elapsed time for Bounding box calculation is 0:00:02.319024\n",
            "INFO:withlevel:Total time taken for S18P6K7 is 0:00:02.353710\n",
            "INFO:withoutlevel:creating trajectory image at /content/trajectories/val/fall\n",
            "INFO:withoutlevel:Working on creating ... /content/boundingBox/val/fall/S27P4K5 set\n",
            "INFO:withlevel:Elapsed time for Bounding box calculation is 0:00:02.348114\n",
            "INFO:withlevel:Total time taken for S27P4K5 is 0:00:02.380697\n",
            "INFO:withoutlevel:creating trajectory image at /content/trajectories/val/fall\n",
            "INFO:withoutlevel:Working on creating ... /content/boundingBox/val/fall/S28P9K3 set\n",
            "INFO:withlevel:Elapsed time for Bounding box calculation is 0:00:02.348987\n",
            "INFO:withlevel:Total time taken for S28P9K3 is 0:00:02.386637\n",
            "INFO:withoutlevel:creating trajectory image at /content/trajectories/val/fall\n",
            "INFO:withoutlevel:Working on creating ... /content/boundingBox/val/fall/S6P22K3 set\n",
            "INFO:withlevel:Elapsed time for Bounding box calculation is 0:00:02.376407\n",
            "INFO:withlevel:Total time taken for S6P22K3 is 0:00:02.410982\n",
            "INFO:withoutlevel:creating trajectory image at /content/trajectories/val/fall\n",
            "INFO:withoutlevel:Working on creating ... /content/boundingBox/val/fall/S51P50K4 set\n",
            "INFO:withlevel:Elapsed time for Bounding box calculation is 0:00:02.354033\n",
            "INFO:withlevel:Total time taken for S51P50K4 is 0:00:02.392135\n",
            "INFO:withoutlevel:creating trajectory image at /content/trajectories/val/adl\n",
            "INFO:withoutlevel:Working on creating ... /content/boundingBox/val/adl/S40P15K5 set\n",
            "INFO:withlevel:Elapsed time for Bounding box calculation is 0:00:02.374390\n",
            "INFO:withlevel:Total time taken for S40P15K5 is 0:00:02.407179\n",
            "INFO:withoutlevel:creating trajectory image at /content/trajectories/val/adl\n",
            "INFO:withoutlevel:Working on creating ... /content/boundingBox/val/adl/S40P15K2 set\n",
            "INFO:withlevel:Elapsed time for Bounding box calculation is 0:00:02.351195\n",
            "INFO:withlevel:Total time taken for S40P15K2 is 0:00:02.383250\n",
            "INFO:withoutlevel:creating trajectory image at /content/trajectories/val/adl\n",
            "INFO:withoutlevel:Working on creating ... /content/boundingBox/val/adl/S40P15K6 set\n"
          ],
          "name": "stderr"
        },
        {
          "output_type": "stream",
          "text": [
            "skipping /content/boundingBox/val/adl/S40P15K6\n",
            "skipping /content/boundingBox/val/adl/S40P15K6\n",
            "skipping /content/boundingBox/val/adl/S40P15K6\n"
          ],
          "name": "stdout"
        },
        {
          "output_type": "stream",
          "text": [
            "INFO:withlevel:Elapsed time for Bounding box calculation is 0:00:02.347511\n",
            "INFO:withlevel:Total time taken for S40P15K6 is 0:00:02.380027\n",
            "INFO:withoutlevel:creating trajectory image at /content/trajectories/val/adl\n",
            "INFO:withoutlevel:Working on creating ... /content/boundingBox/val/adl/S48P46K7 set\n",
            "INFO:withlevel:Elapsed time for Bounding box calculation is 0:00:02.342424\n",
            "INFO:withlevel:Total time taken for S48P46K7 is 0:00:02.375280\n",
            "INFO:withoutlevel:creating trajectory image at /content/trajectories/val/adl\n",
            "INFO:withoutlevel:Working on creating ... /content/boundingBox/val/adl/S26P28K7 set\n",
            "INFO:withlevel:Elapsed time for Bounding box calculation is 0:00:02.379059\n",
            "INFO:withlevel:Total time taken for S26P28K7 is 0:00:02.411792\n",
            "INFO:withoutlevel:creating trajectory image at /content/trajectories/val/adl\n",
            "INFO:withoutlevel:Working on creating ... /content/boundingBox/val/adl/S13P42K7 set\n",
            "INFO:withlevel:Elapsed time for Bounding box calculation is 0:00:02.328180\n",
            "INFO:withlevel:Total time taken for S13P42K7 is 0:00:02.366575\n",
            "INFO:withoutlevel:creating trajectory image at /content/trajectories/val/adl\n",
            "INFO:withoutlevel:Working on creating ... /content/boundingBox/val/adl/S16P41K4 set\n",
            "INFO:withlevel:Elapsed time for Bounding box calculation is 0:00:02.374341\n",
            "INFO:withlevel:Total time taken for S16P41K4 is 0:00:02.414691\n",
            "INFO:withoutlevel:creating trajectory image at /content/trajectories/val/adl\n",
            "INFO:withoutlevel:Working on creating ... /content/boundingBox/val/adl/S5P13K6 set\n",
            "INFO:withlevel:Elapsed time for Bounding box calculation is 0:00:02.324449\n",
            "INFO:withlevel:Total time taken for S5P13K6 is 0:00:02.358267\n",
            "INFO:withoutlevel:creating trajectory image at /content/trajectories/val/adl\n",
            "INFO:withoutlevel:Working on creating ... /content/boundingBox/val/adl/S11P8K2 set\n",
            "INFO:withlevel:Elapsed time for Bounding box calculation is 0:00:02.334154\n",
            "INFO:withlevel:Total time taken for S11P8K2 is 0:00:02.365630\n",
            "INFO:withoutlevel:creating trajectory image at /content/trajectories/val/adl\n",
            "INFO:withoutlevel:Working on creating ... /content/boundingBox/val/adl/S42P20K3 set\n",
            "INFO:withlevel:Elapsed time for Bounding box calculation is 0:00:02.366122\n",
            "INFO:withlevel:Total time taken for S42P20K3 is 0:00:02.404334\n",
            "INFO:withoutlevel:creating trajectory image at /content/trajectories/val/adl\n",
            "INFO:withoutlevel:Working on creating ... /content/boundingBox/val/adl/S11P8K6 set\n",
            "INFO:withlevel:Elapsed time for Bounding box calculation is 0:00:02.332154\n",
            "INFO:withlevel:Total time taken for S11P8K6 is 0:00:02.364213\n",
            "INFO:withoutlevel:creating trajectory image at /content/trajectories/val/adl\n",
            "INFO:withoutlevel:Working on creating ... /content/boundingBox/val/adl/S51P50K7 set\n",
            "INFO:withlevel:Elapsed time for Bounding box calculation is 0:00:02.364139\n",
            "INFO:withlevel:Total time taken for S51P50K7 is 0:00:02.399616\n",
            "INFO:withoutlevel:creating trajectory image at /content/trajectories/val/adl\n",
            "INFO:withoutlevel:Working on creating ... /content/boundingBox/val/adl/S51P50K2 set\n",
            "INFO:withlevel:Elapsed time for Bounding box calculation is 0:00:02.360683\n",
            "INFO:withlevel:Total time taken for S51P50K2 is 0:00:02.398574\n",
            "INFO:withoutlevel:creating trajectory image at /content/trajectories/val/adl\n",
            "INFO:withoutlevel:Working on creating ... /content/boundingBox/val/adl/S44P5K1 set\n",
            "INFO:withlevel:Elapsed time for Bounding box calculation is 0:00:02.334452\n",
            "INFO:withlevel:Total time taken for S44P5K1 is 0:00:02.369058\n",
            "INFO:withoutlevel:creating trajectory image at /content/trajectories/val/adl\n",
            "INFO:withoutlevel:Working on creating ... /content/boundingBox/val/adl/S10P12K5 set\n"
          ],
          "name": "stderr"
        },
        {
          "output_type": "stream",
          "text": [
            "skipping /content/boundingBox/val/adl/S10P12K5\n",
            "skipping /content/boundingBox/val/adl/S10P12K5\n",
            "skipping /content/boundingBox/val/adl/S10P12K5\n",
            "skipping /content/boundingBox/val/adl/S10P12K5\n"
          ],
          "name": "stdout"
        },
        {
          "output_type": "stream",
          "text": [
            "INFO:withlevel:Elapsed time for Bounding box calculation is 0:00:02.395277\n",
            "INFO:withlevel:Total time taken for S10P12K5 is 0:00:02.427392\n",
            "INFO:withoutlevel:creating trajectory image at /content/trajectories/val/adl\n",
            "INFO:withoutlevel:Working on creating ... /content/boundingBox/val/adl/S55P18K6 set\n",
            "INFO:withlevel:Elapsed time for Bounding box calculation is 0:00:02.376897\n",
            "INFO:withlevel:Total time taken for S55P18K6 is 0:00:02.418369\n",
            "INFO:withoutlevel:creating trajectory image at /content/trajectories/test/fall\n",
            "INFO:withoutlevel:Working on creating ... /content/boundingBox/test/fall/S48P46K4 set\n",
            "INFO:withlevel:Elapsed time for Bounding box calculation is 0:00:02.355953\n",
            "INFO:withlevel:Total time taken for S48P46K4 is 0:00:02.392869\n",
            "INFO:withoutlevel:creating trajectory image at /content/trajectories/test/fall\n",
            "INFO:withoutlevel:Working on creating ... /content/boundingBox/test/fall/S52P49K3 set\n",
            "INFO:withlevel:Elapsed time for Bounding box calculation is 0:00:02.334745\n",
            "INFO:withlevel:Total time taken for S52P49K3 is 0:00:02.370205\n",
            "INFO:withoutlevel:creating trajectory image at /content/trajectories/test/fall\n",
            "INFO:withoutlevel:Working on creating ... /content/boundingBox/test/fall/S9P33K5 set\n",
            "INFO:withlevel:Elapsed time for Bounding box calculation is 0:00:02.350897\n",
            "INFO:withlevel:Total time taken for S9P33K5 is 0:00:02.386947\n",
            "INFO:withoutlevel:creating trajectory image at /content/trajectories/test/fall\n",
            "INFO:withoutlevel:Working on creating ... /content/boundingBox/test/fall/S2P32K5 set\n",
            "INFO:withlevel:Elapsed time for Bounding box calculation is 0:00:02.337422\n",
            "INFO:withlevel:Total time taken for S2P32K5 is 0:00:02.371847\n",
            "INFO:withoutlevel:creating trajectory image at /content/trajectories/test/fall\n",
            "INFO:withoutlevel:Working on creating ... /content/boundingBox/test/fall/S34P27K3 set\n",
            "INFO:withlevel:Elapsed time for Bounding box calculation is 0:00:02.361979\n",
            "INFO:withlevel:Total time taken for S34P27K3 is 0:00:02.394861\n",
            "INFO:withoutlevel:creating trajectory image at /content/trajectories/test/fall\n",
            "INFO:withoutlevel:Working on creating ... /content/boundingBox/test/fall/S34P27K1 set\n",
            "INFO:withlevel:Elapsed time for Bounding box calculation is 0:00:02.388550\n",
            "INFO:withlevel:Total time taken for S34P27K1 is 0:00:02.427323\n",
            "INFO:withoutlevel:creating trajectory image at /content/trajectories/test/fall\n",
            "INFO:withoutlevel:Working on creating ... /content/boundingBox/test/fall/S41P29K6 set\n",
            "INFO:withlevel:Elapsed time for Bounding box calculation is 0:00:02.385929\n",
            "INFO:withlevel:Total time taken for S41P29K6 is 0:00:02.423295\n",
            "INFO:withoutlevel:creating trajectory image at /content/trajectories/test/fall\n",
            "INFO:withoutlevel:Working on creating ... /content/boundingBox/test/fall/S17P21K5 set\n",
            "INFO:withlevel:Elapsed time for Bounding box calculation is 0:00:02.413919\n",
            "INFO:withlevel:Total time taken for S17P21K5 is 0:00:02.449413\n",
            "INFO:withoutlevel:creating trajectory image at /content/trajectories/test/fall\n",
            "INFO:withoutlevel:Working on creating ... /content/boundingBox/test/fall/S16P41K4 set\n",
            "INFO:withlevel:Elapsed time for Bounding box calculation is 0:00:02.368937\n",
            "INFO:withlevel:Total time taken for S16P41K4 is 0:00:02.401993\n",
            "INFO:withoutlevel:creating trajectory image at /content/trajectories/test/fall\n",
            "INFO:withoutlevel:Working on creating ... /content/boundingBox/test/fall/S13P42K3 set\n",
            "INFO:withlevel:Elapsed time for Bounding box calculation is 0:00:02.387825\n",
            "INFO:withlevel:Total time taken for S13P42K3 is 0:00:02.430056\n",
            "INFO:withoutlevel:creating trajectory image at /content/trajectories/test/fall\n",
            "INFO:withoutlevel:Working on creating ... /content/boundingBox/test/fall/S18P6K1 set\n",
            "INFO:withlevel:Elapsed time for Bounding box calculation is 0:00:02.410603\n",
            "INFO:withlevel:Total time taken for S18P6K1 is 0:00:02.450763\n",
            "INFO:withoutlevel:creating trajectory image at /content/trajectories/test/adl\n",
            "INFO:withoutlevel:Working on creating ... /content/boundingBox/test/adl/S44P5K7 set\n",
            "INFO:withlevel:Elapsed time for Bounding box calculation is 0:00:02.363642\n",
            "INFO:withlevel:Total time taken for S44P5K7 is 0:00:02.408386\n",
            "INFO:withoutlevel:creating trajectory image at /content/trajectories/test/adl\n",
            "INFO:withoutlevel:Working on creating ... /content/boundingBox/test/adl/S24P37K2 set\n",
            "INFO:withlevel:Elapsed time for Bounding box calculation is 0:00:02.367132\n",
            "INFO:withlevel:Total time taken for S24P37K2 is 0:00:02.402292\n",
            "INFO:withoutlevel:creating trajectory image at /content/trajectories/test/adl\n",
            "INFO:withoutlevel:Working on creating ... /content/boundingBox/test/adl/S36P34K7 set\n",
            "INFO:withlevel:Elapsed time for Bounding box calculation is 0:00:02.405169\n",
            "INFO:withlevel:Total time taken for S36P34K7 is 0:00:02.437596\n",
            "INFO:withoutlevel:creating trajectory image at /content/trajectories/test/adl\n",
            "INFO:withoutlevel:Working on creating ... /content/boundingBox/test/adl/S10P12K2 set\n",
            "INFO:withlevel:Elapsed time for Bounding box calculation is 0:00:02.389404\n",
            "INFO:withlevel:Total time taken for S10P12K2 is 0:00:02.423486\n",
            "INFO:withoutlevel:creating trajectory image at /content/trajectories/test/adl\n",
            "INFO:withoutlevel:Working on creating ... /content/boundingBox/test/adl/S50P47K6 set\n",
            "INFO:withlevel:Elapsed time for Bounding box calculation is 0:00:02.410409\n",
            "INFO:withlevel:Total time taken for S50P47K6 is 0:00:02.445609\n",
            "INFO:withoutlevel:creating trajectory image at /content/trajectories/test/adl\n",
            "INFO:withoutlevel:Working on creating ... /content/boundingBox/test/adl/S21P25K7 set\n",
            "INFO:withlevel:Elapsed time for Bounding box calculation is 0:00:02.409242\n",
            "INFO:withlevel:Total time taken for S21P25K7 is 0:00:02.446780\n",
            "INFO:withoutlevel:creating trajectory image at /content/trajectories/test/adl\n",
            "INFO:withoutlevel:Working on creating ... /content/boundingBox/test/adl/S44P5K6 set\n",
            "INFO:withlevel:Elapsed time for Bounding box calculation is 0:00:02.408696\n",
            "INFO:withlevel:Total time taken for S44P5K6 is 0:00:02.442985\n",
            "INFO:withlevel:Total time taken to create trajectory images: 0:08:00.285764\n"
          ],
          "name": "stderr"
        },
        {
          "output_type": "stream",
          "text": [
            "skipping /content/boundingBox/test/adl/S44P5K6\n"
          ],
          "name": "stdout"
        }
      ]
    },
    {
      "cell_type": "code",
      "metadata": {
        "colab": {
          "base_uri": "https://localhost:8080/"
        },
        "id": "HTHYqlxESylV",
        "outputId": "8b9547e9-8ebf-4423-8c7c-87739b535f4c"
      },
      "source": [
        "logger_t.info(f'{\"=\"*100} \\n\\nSTEP 5: Create Data generators\\n')\n",
        "datagen = tf.keras.preprocessing.image.ImageDataGenerator()\n",
        "logger.info(f'batch size: {cfg.batch_size}')\n",
        "root = os.getcwd()\n",
        "train = datagen.flow_from_directory(root + '/trajectories/train',target_size=(224, 224),color_mode='grayscale',batch_size=cfg.batch_size)\n",
        "valid = datagen.flow_from_directory(root + '/trajectories/val',target_size=(224, 224),color_mode='grayscale',batch_size=cfg.batch_size)\n",
        "test = datagen.flow_from_directory(root + '/trajectories/test',target_size=(224, 224),color_mode='grayscale',batch_size=cfg.batch_size)"
      ],
      "execution_count": null,
      "outputs": [
        {
          "output_type": "stream",
          "text": [
            "INFO:withoutlevel:==================================================================================================== \n",
            "\n",
            "STEP 5: Create Data generators\n",
            "\n",
            "INFO:withlevel:batch size: 32\n"
          ],
          "name": "stderr"
        },
        {
          "output_type": "stream",
          "text": [
            "Found 116 images belonging to 2 classes.\n",
            "Found 33 images belonging to 2 classes.\n",
            "Found 18 images belonging to 2 classes.\n"
          ],
          "name": "stdout"
        }
      ]
    },
    {
      "cell_type": "markdown",
      "metadata": {
        "id": "2mCgRFnU_8Rx"
      },
      "source": [
        "## training pipeline\n"
      ]
    },
    {
      "cell_type": "code",
      "metadata": {
        "colab": {
          "base_uri": "https://localhost:8080/"
        },
        "id": "7DdsQTqnS3fQ",
        "outputId": "a0ecc2fa-dd98-4a57-c6ac-28fcc1dd3b2d"
      },
      "source": [
        "from tensorflow.keras.layers import Conv2D,MaxPool2D,GlobalAveragePooling2D,Dense,Dropout\n",
        "from tensorflow.keras.metrics import Precision, Recall\n",
        "logger_t.info(f'{\"=\"*100} \\n\\nSTEP 5: Create Model and train the model\\n')\n",
        "\n",
        "\n",
        "\n",
        "model = tf.keras.Sequential([\n",
        "              tf.keras.Input(shape=(224,224,1)),\n",
        "              Conv2D(32,3,strides=2,padding='same',activation='relu',use_bias=False),\n",
        "              MaxPool2D(),\n",
        "              Conv2D(64,3,strides=2,padding='same',activation='relu',use_bias=False),\n",
        "              MaxPool2D(),\n",
        "              Conv2D(128,3,strides=2,padding='same',activation='relu',use_bias=False),\n",
        "              MaxPool2D(),\n",
        "              GlobalAveragePooling2D(),\n",
        "              Dense(128),\n",
        "              Dropout(0.5),\n",
        "              Dense(64),\n",
        "              Dropout(0.5),\n",
        "              Dense(2,activation='sigmoid')])\n",
        "\n",
        "\n",
        "model.compile(optimizer=tf.optimizers.Adam(learning_rate=1e-3), \n",
        "              loss=tf.keras.losses.BinaryCrossentropy(),\n",
        "              metrics=['accuracy', Precision(), Recall()])\n",
        "logger.info(f'{model.summary()}')\n",
        "\n"
      ],
      "execution_count": null,
      "outputs": [
        {
          "output_type": "stream",
          "text": [
            "INFO:withoutlevel:==================================================================================================== \n",
            "\n",
            "STEP 5: Create Model and train the model\n",
            "\n"
          ],
          "name": "stderr"
        },
        {
          "output_type": "stream",
          "text": [
            "WARNING:tensorflow:Please add `keras.layers.InputLayer` instead of `keras.Input` to Sequential model. `keras.Input` is intended to be used by Functional model.\n"
          ],
          "name": "stdout"
        },
        {
          "output_type": "stream",
          "text": [
            "WARNING:tensorflow:Please add `keras.layers.InputLayer` instead of `keras.Input` to Sequential model. `keras.Input` is intended to be used by Functional model.\n",
            "INFO:withlevel:None\n"
          ],
          "name": "stderr"
        },
        {
          "output_type": "stream",
          "text": [
            "Model: \"sequential_335\"\n",
            "_________________________________________________________________\n",
            "Layer (type)                 Output Shape              Param #   \n",
            "=================================================================\n",
            "conv2d_3 (Conv2D)            (None, 112, 112, 32)      288       \n",
            "_________________________________________________________________\n",
            "max_pooling2d_3 (MaxPooling2 (None, 56, 56, 32)        0         \n",
            "_________________________________________________________________\n",
            "conv2d_4 (Conv2D)            (None, 28, 28, 64)        18432     \n",
            "_________________________________________________________________\n",
            "max_pooling2d_4 (MaxPooling2 (None, 14, 14, 64)        0         \n",
            "_________________________________________________________________\n",
            "conv2d_5 (Conv2D)            (None, 7, 7, 128)         73728     \n",
            "_________________________________________________________________\n",
            "max_pooling2d_5 (MaxPooling2 (None, 3, 3, 128)         0         \n",
            "_________________________________________________________________\n",
            "global_average_pooling2d_1 ( (None, 128)               0         \n",
            "_________________________________________________________________\n",
            "dense_3 (Dense)              (None, 128)               16512     \n",
            "_________________________________________________________________\n",
            "dropout_2 (Dropout)          (None, 128)               0         \n",
            "_________________________________________________________________\n",
            "dense_4 (Dense)              (None, 64)                8256      \n",
            "_________________________________________________________________\n",
            "dropout_3 (Dropout)          (None, 64)                0         \n",
            "_________________________________________________________________\n",
            "dense_5 (Dense)              (None, 2)                 130       \n",
            "=================================================================\n",
            "Total params: 117,346\n",
            "Trainable params: 117,346\n",
            "Non-trainable params: 0\n",
            "_________________________________________________________________\n"
          ],
          "name": "stdout"
        }
      ]
    },
    {
      "cell_type": "code",
      "metadata": {
        "colab": {
          "base_uri": "https://localhost:8080/",
          "height": 35
        },
        "id": "BBhRdlsYpx5F",
        "outputId": "3d08c641-af46-4914-cd56-8426d5d0fc81"
      },
      "source": [
        "best_model = wandb.restore('model-best.h5', run_path='manikandan/fall_detection/2u91085i')\n",
        "best_model.name"
      ],
      "execution_count": null,
      "outputs": [
        {
          "output_type": "execute_result",
          "data": {
            "application/vnd.google.colaboratory.intrinsic+json": {
              "type": "string"
            },
            "text/plain": [
              "'/content/wandb/run-20210727_165413-385vc4qg/files/model-best.h5'"
            ]
          },
          "metadata": {
            "tags": []
          },
          "execution_count": 85
        }
      ]
    },
    {
      "cell_type": "code",
      "metadata": {
        "id": "Bf0K2zCQsWoO"
      },
      "source": [
        "best_model = tf.keras.models.load_model(best_model.name)\n",
        "best_model.compile(optimizer=tf.optimizers.Adam(learning_rate=1e-2), \n",
        "              loss=tf.keras.losses.BinaryCrossentropy(),\n",
        "              metrics=['accuracy', Precision(), Recall()])"
      ],
      "execution_count": null,
      "outputs": []
    },
    {
      "cell_type": "code",
      "metadata": {
        "colab": {
          "base_uri": "https://localhost:8080/"
        },
        "id": "sEC6Eordmvqp",
        "outputId": "30e642c2-a2c3-472c-9b55-954dee1d220c"
      },
      "source": [
        "best_model.evaluate(test)"
      ],
      "execution_count": null,
      "outputs": [
        {
          "output_type": "stream",
          "text": [
            "1/1 [==============================] - 1s 648ms/step - loss: 0.6478 - accuracy: 0.6667 - precision_3: 0.5714 - recall_3: 0.8889\n"
          ],
          "name": "stdout"
        },
        {
          "output_type": "execute_result",
          "data": {
            "text/plain": [
              "[0.6477677822113037,\n",
              " 0.6666666865348816,\n",
              " 0.5714285969734192,\n",
              " 0.8888888955116272]"
            ]
          },
          "metadata": {
            "tags": []
          },
          "execution_count": 87
        }
      ]
    },
    {
      "cell_type": "code",
      "metadata": {
        "colab": {
          "base_uri": "https://localhost:8080/"
        },
        "id": "hzQJbwxXuz1r",
        "outputId": "2648df89-3602-44f3-9b63-55652879a19a"
      },
      "source": [
        "print('test')\n",
        "best_model.evaluate(test)\n",
        "print('validation')\n",
        "best_model.evaluate(valid)\n",
        "print('train')\n",
        "best_model.evaluate(train)\n"
      ],
      "execution_count": null,
      "outputs": [
        {
          "output_type": "stream",
          "text": [
            "test\n",
            "1/1 [==============================] - 0s 105ms/step - loss: 0.6478 - accuracy: 0.6667 - precision_3: 0.5714 - recall_3: 0.8889\n",
            "validation\n",
            "2/2 [==============================] - 0s 15ms/step - loss: 0.6850 - accuracy: 0.4242 - precision_3: 0.5714 - recall_3: 0.8485\n",
            "train\n",
            "4/4 [==============================] - 0s 95ms/step - loss: 0.6103 - accuracy: 0.8190 - precision_3: 0.6855 - recall_3: 0.9397\n"
          ],
          "name": "stdout"
        },
        {
          "output_type": "execute_result",
          "data": {
            "text/plain": [
              "[0.6103118658065796, 0.818965494632721, 0.6855345964431763, 0.9396551847457886]"
            ]
          },
          "metadata": {
            "tags": []
          },
          "execution_count": 88
        }
      ]
    },
    {
      "cell_type": "code",
      "metadata": {
        "colab": {
          "base_uri": "https://localhost:8080/"
        },
        "id": "zGAMF-s_52LI",
        "outputId": "09f45057-aa45-43b1-99a9-a927e7883c5c"
      },
      "source": [
        "from wandb.keras import WandbCallback\n",
        "history = best_model.fit_generator(generator=train,\n",
        "                              validation_data=valid,\n",
        "                              epochs=cfg.epochs,\n",
        "                              verbose=1,\n",
        "                              callbacks=[WandbCallback()])\n"
      ],
      "execution_count": null,
      "outputs": [
        {
          "output_type": "stream",
          "text": [
            "/usr/local/lib/python3.7/dist-packages/tensorflow/python/keras/engine/training.py:1940: UserWarning: `Model.fit_generator` is deprecated and will be removed in a future version. Please use `Model.fit`, which supports generators.\n",
            "  warnings.warn('`Model.fit_generator` is deprecated and '\n"
          ],
          "name": "stderr"
        },
        {
          "output_type": "stream",
          "text": [
            "Epoch 1/15\n",
            "4/4 [==============================] - 2s 358ms/step - loss: 0.6359 - accuracy: 0.6466 - precision_3: 0.6290 - recall_3: 0.6724 - val_loss: 0.7290 - val_accuracy: 0.6061 - val_precision_3: 0.6129 - val_recall_3: 0.5758\n",
            "Epoch 2/15\n",
            "4/4 [==============================] - 1s 331ms/step - loss: 0.4022 - accuracy: 0.8362 - precision_3: 0.8348 - recall_3: 0.8276 - val_loss: 1.2015 - val_accuracy: 0.5152 - val_precision_3: 0.5152 - val_recall_3: 0.5152\n",
            "Epoch 3/15\n",
            "4/4 [==============================] - 1s 374ms/step - loss: 0.1368 - accuracy: 0.9483 - precision_3: 0.9478 - recall_3: 0.9397 - val_loss: 1.8615 - val_accuracy: 0.5758 - val_precision_3: 0.5758 - val_recall_3: 0.5758\n",
            "Epoch 4/15\n",
            "4/4 [==============================] - 1s 326ms/step - loss: 0.0454 - accuracy: 0.9828 - precision_3: 0.9828 - recall_3: 0.9828 - val_loss: 3.3253 - val_accuracy: 0.6364 - val_precision_3: 0.6471 - val_recall_3: 0.6667\n",
            "Epoch 5/15\n",
            "4/4 [==============================] - 1s 363ms/step - loss: 0.0089 - accuracy: 1.0000 - precision_3: 1.0000 - recall_3: 1.0000 - val_loss: 3.7629 - val_accuracy: 0.6061 - val_precision_3: 0.6061 - val_recall_3: 0.6061\n",
            "Epoch 6/15\n",
            "4/4 [==============================] - 1s 368ms/step - loss: 0.0551 - accuracy: 0.9828 - precision_3: 0.9829 - recall_3: 0.9914 - val_loss: 3.0952 - val_accuracy: 0.6970 - val_precision_3: 0.6970 - val_recall_3: 0.6970\n",
            "Epoch 7/15\n",
            "4/4 [==============================] - 1s 325ms/step - loss: 0.0054 - accuracy: 1.0000 - precision_3: 1.0000 - recall_3: 1.0000 - val_loss: 4.2841 - val_accuracy: 0.6364 - val_precision_3: 0.6562 - val_recall_3: 0.6364\n",
            "Epoch 8/15\n",
            "4/4 [==============================] - 1s 323ms/step - loss: 0.2279 - accuracy: 0.9828 - precision_3: 0.9826 - recall_3: 0.9741 - val_loss: 5.1314 - val_accuracy: 0.5758 - val_precision_3: 0.5758 - val_recall_3: 0.5758\n",
            "Epoch 9/15\n",
            "4/4 [==============================] - 1s 332ms/step - loss: 0.4813 - accuracy: 0.9397 - precision_3: 0.9316 - recall_3: 0.9397 - val_loss: 8.1158 - val_accuracy: 0.5758 - val_precision_3: 0.5588 - val_recall_3: 0.5758\n",
            "Epoch 10/15\n",
            "4/4 [==============================] - 1s 363ms/step - loss: 0.9561 - accuracy: 0.8879 - precision_3: 0.8889 - recall_3: 0.8966 - val_loss: 7.1317 - val_accuracy: 0.5455 - val_precision_3: 0.5455 - val_recall_3: 0.5455\n",
            "Epoch 11/15\n",
            "4/4 [==============================] - 1s 325ms/step - loss: 0.5094 - accuracy: 0.9138 - precision_3: 0.9145 - recall_3: 0.9224 - val_loss: 4.6950 - val_accuracy: 0.4545 - val_precision_3: 0.4545 - val_recall_3: 0.4545\n",
            "Epoch 12/15\n",
            "4/4 [==============================] - 1s 328ms/step - loss: 0.3564 - accuracy: 0.9138 - precision_3: 0.8974 - recall_3: 0.9052 - val_loss: 5.2042 - val_accuracy: 0.3333 - val_precision_3: 0.3333 - val_recall_3: 0.3333\n",
            "Epoch 13/15\n",
            "4/4 [==============================] - 1s 328ms/step - loss: 0.2080 - accuracy: 0.9224 - precision_3: 0.9450 - recall_3: 0.8879 - val_loss: 4.2940 - val_accuracy: 0.3939 - val_precision_3: 0.3939 - val_recall_3: 0.3939\n",
            "Epoch 14/15\n",
            "4/4 [==============================] - 1s 338ms/step - loss: 0.1399 - accuracy: 0.9655 - precision_3: 0.9573 - recall_3: 0.9655 - val_loss: 3.9162 - val_accuracy: 0.4848 - val_precision_3: 0.4444 - val_recall_3: 0.4848\n",
            "Epoch 15/15\n",
            "4/4 [==============================] - 1s 332ms/step - loss: 0.0373 - accuracy: 0.9914 - precision_3: 0.9829 - recall_3: 0.9914 - val_loss: 3.8464 - val_accuracy: 0.4242 - val_precision_3: 0.4595 - val_recall_3: 0.5152\n"
          ],
          "name": "stdout"
        }
      ]
    },
    {
      "cell_type": "code",
      "metadata": {
        "colab": {
          "base_uri": "https://localhost:8080/"
        },
        "id": "bKPt1lxoHEW2",
        "outputId": "c71aafff-30b2-4ee0-896e-b99850297294"
      },
      "source": [
        "results = best_model.evaluate(test)\n",
        "wandb.summary['test_loss'] = results[0]\n",
        "wandb.summary['test_accuracy'] = results[1]\n",
        "wandb.summary['test_precision'] = results[2]\n",
        "wandb.summary['test_recall'] = results[3]"
      ],
      "execution_count": null,
      "outputs": [
        {
          "output_type": "stream",
          "text": [
            "1/1 [==============================] - 0s 98ms/step - loss: 2.0026 - accuracy: 0.5000 - precision_3: 0.4737 - recall_3: 0.5000\n"
          ],
          "name": "stdout"
        }
      ]
    },
    {
      "cell_type": "markdown",
      "metadata": {
        "id": "2OXlDUmpB1G6"
      },
      "source": [
        "## Artifact"
      ]
    },
    {
      "cell_type": "code",
      "metadata": {
        "colab": {
          "base_uri": "https://localhost:8080/"
        },
        "id": "RN2_j6UB8cv2",
        "outputId": "c5d5c499-c7b2-40b8-f000-e245967f630f"
      },
      "source": [
        "bbox = wandb.Artifact('boundingBox', type='dataset')\n",
        "bbox.add_dir('boundingBox')\n",
        "wandb.log_artifact(bbox)"
      ],
      "execution_count": null,
      "outputs": [
        {
          "output_type": "stream",
          "text": [
            "\u001b[34m\u001b[1mwandb\u001b[0m: Adding directory to artifact (./boundingBox)... Done. 20.7s\n"
          ],
          "name": "stderr"
        },
        {
          "output_type": "execute_result",
          "data": {
            "text/plain": [
              "<wandb.sdk.wandb_artifacts.Artifact at 0x7f2cd2792510>"
            ]
          },
          "metadata": {
            "tags": []
          },
          "execution_count": 33
        }
      ]
    },
    {
      "cell_type": "code",
      "metadata": {
        "colab": {
          "base_uri": "https://localhost:8080/"
        },
        "id": "r-BpJzXg9uYH",
        "outputId": "38a0d38a-ab96-4fd4-9b78-978f4a5e8bed"
      },
      "source": [
        "trajectory = wandb.Artifact('trajectory', type='dataset')\n",
        "trajectory.add_dir('trajectories')\n",
        "wandb.log_artifact(trajectory)"
      ],
      "execution_count": null,
      "outputs": [
        {
          "output_type": "stream",
          "text": [
            "\u001b[34m\u001b[1mwandb\u001b[0m: Adding directory to artifact (./trajectories)... Done. 0.5s\n"
          ],
          "name": "stderr"
        },
        {
          "output_type": "execute_result",
          "data": {
            "text/plain": [
              "<wandb.sdk.wandb_artifacts.Artifact at 0x7f2cca259850>"
            ]
          },
          "metadata": {
            "tags": []
          },
          "execution_count": 34
        }
      ]
    },
    {
      "cell_type": "code",
      "metadata": {
        "id": "Ny3nG-XPG-mL"
      },
      "source": [
        " wandb.finish()"
      ],
      "execution_count": null,
      "outputs": []
    }
  ]
}