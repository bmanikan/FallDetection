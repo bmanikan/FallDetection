{
  "nbformat": 4,
  "nbformat_minor": 0,
  "metadata": {
    "colab": {
      "name": "FallDetection_CMDFALL",
      "provenance": []
    },
    "kernelspec": {
      "name": "python3",
      "display_name": "Python 3"
    },
    "language_info": {
      "name": "python"
    },
    "widgets": {
      "application/vnd.jupyter.widget-state+json": {
        "236f1d12883c483fa0a9f498a1693585": {
          "model_module": "@jupyter-widgets/controls",
          "model_name": "VBoxModel",
          "state": {
            "_view_name": "VBoxView",
            "_dom_classes": [],
            "_model_name": "VBoxModel",
            "_view_module": "@jupyter-widgets/controls",
            "_model_module_version": "1.5.0",
            "_view_count": null,
            "_view_module_version": "1.5.0",
            "box_style": "",
            "layout": "IPY_MODEL_c5ca1bfe62ff4cce92a2092c4d6cebad",
            "_model_module": "@jupyter-widgets/controls",
            "children": [
              "IPY_MODEL_dd8840a690e749be8822e10afc0da533",
              "IPY_MODEL_a74431fcb2a940839c7e595bfc00e3d4"
            ]
          }
        },
        "c5ca1bfe62ff4cce92a2092c4d6cebad": {
          "model_module": "@jupyter-widgets/base",
          "model_name": "LayoutModel",
          "state": {
            "_view_name": "LayoutView",
            "grid_template_rows": null,
            "right": null,
            "justify_content": null,
            "_view_module": "@jupyter-widgets/base",
            "overflow": null,
            "_model_module_version": "1.2.0",
            "_view_count": null,
            "flex_flow": null,
            "width": null,
            "min_width": null,
            "border": null,
            "align_items": null,
            "bottom": null,
            "_model_module": "@jupyter-widgets/base",
            "top": null,
            "grid_column": null,
            "overflow_y": null,
            "overflow_x": null,
            "grid_auto_flow": null,
            "grid_area": null,
            "grid_template_columns": null,
            "flex": null,
            "_model_name": "LayoutModel",
            "justify_items": null,
            "grid_row": null,
            "max_height": null,
            "align_content": null,
            "visibility": null,
            "align_self": null,
            "height": null,
            "min_height": null,
            "padding": null,
            "grid_auto_rows": null,
            "grid_gap": null,
            "max_width": null,
            "order": null,
            "_view_module_version": "1.2.0",
            "grid_template_areas": null,
            "object_position": null,
            "object_fit": null,
            "grid_auto_columns": null,
            "margin": null,
            "display": null,
            "left": null
          }
        },
        "dd8840a690e749be8822e10afc0da533": {
          "model_module": "@jupyter-widgets/controls",
          "model_name": "LabelModel",
          "state": {
            "_view_name": "LabelView",
            "style": "IPY_MODEL_915b345997f24b4982f1cba1515575a4",
            "_dom_classes": [],
            "description": "",
            "_model_name": "LabelModel",
            "placeholder": "​",
            "_view_module": "@jupyter-widgets/controls",
            "_model_module_version": "1.5.0",
            "value": " 0.01MB of 0.01MB uploaded (0.00MB deduped)\r",
            "_view_count": null,
            "_view_module_version": "1.5.0",
            "description_tooltip": null,
            "_model_module": "@jupyter-widgets/controls",
            "layout": "IPY_MODEL_ece3cfd6ff614cd9aa6f62131bbe3944"
          }
        },
        "a74431fcb2a940839c7e595bfc00e3d4": {
          "model_module": "@jupyter-widgets/controls",
          "model_name": "FloatProgressModel",
          "state": {
            "_view_name": "ProgressView",
            "style": "IPY_MODEL_5284535f8e3c4bfbaccb1eec0be06db4",
            "_dom_classes": [],
            "description": "",
            "_model_name": "FloatProgressModel",
            "bar_style": "",
            "max": 1,
            "_view_module": "@jupyter-widgets/controls",
            "_model_module_version": "1.5.0",
            "value": 1,
            "_view_count": null,
            "_view_module_version": "1.5.0",
            "orientation": "horizontal",
            "min": 0,
            "description_tooltip": null,
            "_model_module": "@jupyter-widgets/controls",
            "layout": "IPY_MODEL_8fe57393e448469f88e0123ea22ed265"
          }
        },
        "915b345997f24b4982f1cba1515575a4": {
          "model_module": "@jupyter-widgets/controls",
          "model_name": "DescriptionStyleModel",
          "state": {
            "_view_name": "StyleView",
            "_model_name": "DescriptionStyleModel",
            "description_width": "",
            "_view_module": "@jupyter-widgets/base",
            "_model_module_version": "1.5.0",
            "_view_count": null,
            "_view_module_version": "1.2.0",
            "_model_module": "@jupyter-widgets/controls"
          }
        },
        "ece3cfd6ff614cd9aa6f62131bbe3944": {
          "model_module": "@jupyter-widgets/base",
          "model_name": "LayoutModel",
          "state": {
            "_view_name": "LayoutView",
            "grid_template_rows": null,
            "right": null,
            "justify_content": null,
            "_view_module": "@jupyter-widgets/base",
            "overflow": null,
            "_model_module_version": "1.2.0",
            "_view_count": null,
            "flex_flow": null,
            "width": null,
            "min_width": null,
            "border": null,
            "align_items": null,
            "bottom": null,
            "_model_module": "@jupyter-widgets/base",
            "top": null,
            "grid_column": null,
            "overflow_y": null,
            "overflow_x": null,
            "grid_auto_flow": null,
            "grid_area": null,
            "grid_template_columns": null,
            "flex": null,
            "_model_name": "LayoutModel",
            "justify_items": null,
            "grid_row": null,
            "max_height": null,
            "align_content": null,
            "visibility": null,
            "align_self": null,
            "height": null,
            "min_height": null,
            "padding": null,
            "grid_auto_rows": null,
            "grid_gap": null,
            "max_width": null,
            "order": null,
            "_view_module_version": "1.2.0",
            "grid_template_areas": null,
            "object_position": null,
            "object_fit": null,
            "grid_auto_columns": null,
            "margin": null,
            "display": null,
            "left": null
          }
        },
        "5284535f8e3c4bfbaccb1eec0be06db4": {
          "model_module": "@jupyter-widgets/controls",
          "model_name": "ProgressStyleModel",
          "state": {
            "_view_name": "StyleView",
            "_model_name": "ProgressStyleModel",
            "description_width": "",
            "_view_module": "@jupyter-widgets/base",
            "_model_module_version": "1.5.0",
            "_view_count": null,
            "_view_module_version": "1.2.0",
            "bar_color": null,
            "_model_module": "@jupyter-widgets/controls"
          }
        },
        "8fe57393e448469f88e0123ea22ed265": {
          "model_module": "@jupyter-widgets/base",
          "model_name": "LayoutModel",
          "state": {
            "_view_name": "LayoutView",
            "grid_template_rows": null,
            "right": null,
            "justify_content": null,
            "_view_module": "@jupyter-widgets/base",
            "overflow": null,
            "_model_module_version": "1.2.0",
            "_view_count": null,
            "flex_flow": null,
            "width": null,
            "min_width": null,
            "border": null,
            "align_items": null,
            "bottom": null,
            "_model_module": "@jupyter-widgets/base",
            "top": null,
            "grid_column": null,
            "overflow_y": null,
            "overflow_x": null,
            "grid_auto_flow": null,
            "grid_area": null,
            "grid_template_columns": null,
            "flex": null,
            "_model_name": "LayoutModel",
            "justify_items": null,
            "grid_row": null,
            "max_height": null,
            "align_content": null,
            "visibility": null,
            "align_self": null,
            "height": null,
            "min_height": null,
            "padding": null,
            "grid_auto_rows": null,
            "grid_gap": null,
            "max_width": null,
            "order": null,
            "_view_module_version": "1.2.0",
            "grid_template_areas": null,
            "object_position": null,
            "object_fit": null,
            "grid_auto_columns": null,
            "margin": null,
            "display": null,
            "left": null
          }
        },
        "89840de8b9114f879843c4d3dec4f577": {
          "model_module": "@jupyter-widgets/controls",
          "model_name": "HBoxModel",
          "state": {
            "_view_name": "HBoxView",
            "_dom_classes": [],
            "_model_name": "HBoxModel",
            "_view_module": "@jupyter-widgets/controls",
            "_model_module_version": "1.5.0",
            "_view_count": null,
            "_view_module_version": "1.5.0",
            "box_style": "",
            "layout": "IPY_MODEL_15445bf79e204915899125ffb44a907b",
            "_model_module": "@jupyter-widgets/controls",
            "children": [
              "IPY_MODEL_3c8ec79795e346f1b94734c80cb46eaa",
              "IPY_MODEL_f93010d713684422bc6ae3b708f373ec"
            ]
          }
        },
        "15445bf79e204915899125ffb44a907b": {
          "model_module": "@jupyter-widgets/base",
          "model_name": "LayoutModel",
          "state": {
            "_view_name": "LayoutView",
            "grid_template_rows": null,
            "right": null,
            "justify_content": null,
            "_view_module": "@jupyter-widgets/base",
            "overflow": null,
            "_model_module_version": "1.2.0",
            "_view_count": null,
            "flex_flow": null,
            "width": null,
            "min_width": null,
            "border": null,
            "align_items": null,
            "bottom": null,
            "_model_module": "@jupyter-widgets/base",
            "top": null,
            "grid_column": null,
            "overflow_y": null,
            "overflow_x": null,
            "grid_auto_flow": null,
            "grid_area": null,
            "grid_template_columns": null,
            "flex": null,
            "_model_name": "LayoutModel",
            "justify_items": null,
            "grid_row": null,
            "max_height": null,
            "align_content": null,
            "visibility": null,
            "align_self": null,
            "height": null,
            "min_height": null,
            "padding": null,
            "grid_auto_rows": null,
            "grid_gap": null,
            "max_width": null,
            "order": null,
            "_view_module_version": "1.2.0",
            "grid_template_areas": null,
            "object_position": null,
            "object_fit": null,
            "grid_auto_columns": null,
            "margin": null,
            "display": null,
            "left": null
          }
        },
        "3c8ec79795e346f1b94734c80cb46eaa": {
          "model_module": "@jupyter-widgets/controls",
          "model_name": "FloatProgressModel",
          "state": {
            "_view_name": "ProgressView",
            "style": "IPY_MODEL_c54a1cefa2ea4a42a4e7d7368b4c90ca",
            "_dom_classes": [],
            "description": " 22%",
            "_model_name": "FloatProgressModel",
            "bar_style": "danger",
            "max": 180,
            "_view_module": "@jupyter-widgets/controls",
            "_model_module_version": "1.5.0",
            "value": 40,
            "_view_count": null,
            "_view_module_version": "1.5.0",
            "orientation": "horizontal",
            "min": 0,
            "description_tooltip": null,
            "_model_module": "@jupyter-widgets/controls",
            "layout": "IPY_MODEL_0323f3d9cb7c4456b3296b79b14a3227"
          }
        },
        "f93010d713684422bc6ae3b708f373ec": {
          "model_module": "@jupyter-widgets/controls",
          "model_name": "HTMLModel",
          "state": {
            "_view_name": "HTMLView",
            "style": "IPY_MODEL_661998c954a141ce9bb08a8cbb18ec38",
            "_dom_classes": [],
            "description": "",
            "_model_name": "HTMLModel",
            "placeholder": "​",
            "_view_module": "@jupyter-widgets/controls",
            "_model_module_version": "1.5.0",
            "value": " 40/180 [1:33:10&lt;14:47:15, 380.25s/it]",
            "_view_count": null,
            "_view_module_version": "1.5.0",
            "description_tooltip": null,
            "_model_module": "@jupyter-widgets/controls",
            "layout": "IPY_MODEL_a6fcb6065c114e8e9c2cafc352125aba"
          }
        },
        "c54a1cefa2ea4a42a4e7d7368b4c90ca": {
          "model_module": "@jupyter-widgets/controls",
          "model_name": "ProgressStyleModel",
          "state": {
            "_view_name": "StyleView",
            "_model_name": "ProgressStyleModel",
            "description_width": "initial",
            "_view_module": "@jupyter-widgets/base",
            "_model_module_version": "1.5.0",
            "_view_count": null,
            "_view_module_version": "1.2.0",
            "bar_color": null,
            "_model_module": "@jupyter-widgets/controls"
          }
        },
        "0323f3d9cb7c4456b3296b79b14a3227": {
          "model_module": "@jupyter-widgets/base",
          "model_name": "LayoutModel",
          "state": {
            "_view_name": "LayoutView",
            "grid_template_rows": null,
            "right": null,
            "justify_content": null,
            "_view_module": "@jupyter-widgets/base",
            "overflow": null,
            "_model_module_version": "1.2.0",
            "_view_count": null,
            "flex_flow": null,
            "width": null,
            "min_width": null,
            "border": null,
            "align_items": null,
            "bottom": null,
            "_model_module": "@jupyter-widgets/base",
            "top": null,
            "grid_column": null,
            "overflow_y": null,
            "overflow_x": null,
            "grid_auto_flow": null,
            "grid_area": null,
            "grid_template_columns": null,
            "flex": null,
            "_model_name": "LayoutModel",
            "justify_items": null,
            "grid_row": null,
            "max_height": null,
            "align_content": null,
            "visibility": null,
            "align_self": null,
            "height": null,
            "min_height": null,
            "padding": null,
            "grid_auto_rows": null,
            "grid_gap": null,
            "max_width": null,
            "order": null,
            "_view_module_version": "1.2.0",
            "grid_template_areas": null,
            "object_position": null,
            "object_fit": null,
            "grid_auto_columns": null,
            "margin": null,
            "display": null,
            "left": null
          }
        },
        "661998c954a141ce9bb08a8cbb18ec38": {
          "model_module": "@jupyter-widgets/controls",
          "model_name": "DescriptionStyleModel",
          "state": {
            "_view_name": "StyleView",
            "_model_name": "DescriptionStyleModel",
            "description_width": "",
            "_view_module": "@jupyter-widgets/base",
            "_model_module_version": "1.5.0",
            "_view_count": null,
            "_view_module_version": "1.2.0",
            "_model_module": "@jupyter-widgets/controls"
          }
        },
        "a6fcb6065c114e8e9c2cafc352125aba": {
          "model_module": "@jupyter-widgets/base",
          "model_name": "LayoutModel",
          "state": {
            "_view_name": "LayoutView",
            "grid_template_rows": null,
            "right": null,
            "justify_content": null,
            "_view_module": "@jupyter-widgets/base",
            "overflow": null,
            "_model_module_version": "1.2.0",
            "_view_count": null,
            "flex_flow": null,
            "width": null,
            "min_width": null,
            "border": null,
            "align_items": null,
            "bottom": null,
            "_model_module": "@jupyter-widgets/base",
            "top": null,
            "grid_column": null,
            "overflow_y": null,
            "overflow_x": null,
            "grid_auto_flow": null,
            "grid_area": null,
            "grid_template_columns": null,
            "flex": null,
            "_model_name": "LayoutModel",
            "justify_items": null,
            "grid_row": null,
            "max_height": null,
            "align_content": null,
            "visibility": null,
            "align_self": null,
            "height": null,
            "min_height": null,
            "padding": null,
            "grid_auto_rows": null,
            "grid_gap": null,
            "max_width": null,
            "order": null,
            "_view_module_version": "1.2.0",
            "grid_template_areas": null,
            "object_position": null,
            "object_fit": null,
            "grid_auto_columns": null,
            "margin": null,
            "display": null,
            "left": null
          }
        },
        "bbd956636933405baddad29dc6879cf1": {
          "model_module": "@jupyter-widgets/controls",
          "model_name": "VBoxModel",
          "state": {
            "_view_name": "VBoxView",
            "_dom_classes": [],
            "_model_name": "VBoxModel",
            "_view_module": "@jupyter-widgets/controls",
            "_model_module_version": "1.5.0",
            "_view_count": null,
            "_view_module_version": "1.5.0",
            "box_style": "",
            "layout": "IPY_MODEL_18f4b1b26af545899daeb08090763d68",
            "_model_module": "@jupyter-widgets/controls",
            "children": [
              "IPY_MODEL_9a46b5473f1e47799052a8b18dca266a",
              "IPY_MODEL_64962f4a811c4dde9cade2e62460cf36"
            ]
          }
        },
        "18f4b1b26af545899daeb08090763d68": {
          "model_module": "@jupyter-widgets/base",
          "model_name": "LayoutModel",
          "state": {
            "_view_name": "LayoutView",
            "grid_template_rows": null,
            "right": null,
            "justify_content": null,
            "_view_module": "@jupyter-widgets/base",
            "overflow": null,
            "_model_module_version": "1.2.0",
            "_view_count": null,
            "flex_flow": null,
            "width": null,
            "min_width": null,
            "border": null,
            "align_items": null,
            "bottom": null,
            "_model_module": "@jupyter-widgets/base",
            "top": null,
            "grid_column": null,
            "overflow_y": null,
            "overflow_x": null,
            "grid_auto_flow": null,
            "grid_area": null,
            "grid_template_columns": null,
            "flex": null,
            "_model_name": "LayoutModel",
            "justify_items": null,
            "grid_row": null,
            "max_height": null,
            "align_content": null,
            "visibility": null,
            "align_self": null,
            "height": null,
            "min_height": null,
            "padding": null,
            "grid_auto_rows": null,
            "grid_gap": null,
            "max_width": null,
            "order": null,
            "_view_module_version": "1.2.0",
            "grid_template_areas": null,
            "object_position": null,
            "object_fit": null,
            "grid_auto_columns": null,
            "margin": null,
            "display": null,
            "left": null
          }
        },
        "9a46b5473f1e47799052a8b18dca266a": {
          "model_module": "@jupyter-widgets/controls",
          "model_name": "LabelModel",
          "state": {
            "_view_name": "LabelView",
            "style": "IPY_MODEL_b26affbd7ae64e5d9ad014ab341e4ad1",
            "_dom_classes": [],
            "description": "",
            "_model_name": "LabelModel",
            "placeholder": "​",
            "_view_module": "@jupyter-widgets/controls",
            "_model_module_version": "1.5.0",
            "value": " 376.36MB of 376.36MB uploaded (1.97MB deduped)\r",
            "_view_count": null,
            "_view_module_version": "1.5.0",
            "description_tooltip": null,
            "_model_module": "@jupyter-widgets/controls",
            "layout": "IPY_MODEL_da1d14d426c840d7aaf8070217b0da15"
          }
        },
        "64962f4a811c4dde9cade2e62460cf36": {
          "model_module": "@jupyter-widgets/controls",
          "model_name": "FloatProgressModel",
          "state": {
            "_view_name": "ProgressView",
            "style": "IPY_MODEL_4c6e7ad081f94be4866287e6423fce30",
            "_dom_classes": [],
            "description": "",
            "_model_name": "FloatProgressModel",
            "bar_style": "",
            "max": 1,
            "_view_module": "@jupyter-widgets/controls",
            "_model_module_version": "1.5.0",
            "value": 1,
            "_view_count": null,
            "_view_module_version": "1.5.0",
            "orientation": "horizontal",
            "min": 0,
            "description_tooltip": null,
            "_model_module": "@jupyter-widgets/controls",
            "layout": "IPY_MODEL_a6428f0d8e484344a1f345e98ed35cfc"
          }
        },
        "b26affbd7ae64e5d9ad014ab341e4ad1": {
          "model_module": "@jupyter-widgets/controls",
          "model_name": "DescriptionStyleModel",
          "state": {
            "_view_name": "StyleView",
            "_model_name": "DescriptionStyleModel",
            "description_width": "",
            "_view_module": "@jupyter-widgets/base",
            "_model_module_version": "1.5.0",
            "_view_count": null,
            "_view_module_version": "1.2.0",
            "_model_module": "@jupyter-widgets/controls"
          }
        },
        "da1d14d426c840d7aaf8070217b0da15": {
          "model_module": "@jupyter-widgets/base",
          "model_name": "LayoutModel",
          "state": {
            "_view_name": "LayoutView",
            "grid_template_rows": null,
            "right": null,
            "justify_content": null,
            "_view_module": "@jupyter-widgets/base",
            "overflow": null,
            "_model_module_version": "1.2.0",
            "_view_count": null,
            "flex_flow": null,
            "width": null,
            "min_width": null,
            "border": null,
            "align_items": null,
            "bottom": null,
            "_model_module": "@jupyter-widgets/base",
            "top": null,
            "grid_column": null,
            "overflow_y": null,
            "overflow_x": null,
            "grid_auto_flow": null,
            "grid_area": null,
            "grid_template_columns": null,
            "flex": null,
            "_model_name": "LayoutModel",
            "justify_items": null,
            "grid_row": null,
            "max_height": null,
            "align_content": null,
            "visibility": null,
            "align_self": null,
            "height": null,
            "min_height": null,
            "padding": null,
            "grid_auto_rows": null,
            "grid_gap": null,
            "max_width": null,
            "order": null,
            "_view_module_version": "1.2.0",
            "grid_template_areas": null,
            "object_position": null,
            "object_fit": null,
            "grid_auto_columns": null,
            "margin": null,
            "display": null,
            "left": null
          }
        },
        "4c6e7ad081f94be4866287e6423fce30": {
          "model_module": "@jupyter-widgets/controls",
          "model_name": "ProgressStyleModel",
          "state": {
            "_view_name": "StyleView",
            "_model_name": "ProgressStyleModel",
            "description_width": "",
            "_view_module": "@jupyter-widgets/base",
            "_model_module_version": "1.5.0",
            "_view_count": null,
            "_view_module_version": "1.2.0",
            "bar_color": null,
            "_model_module": "@jupyter-widgets/controls"
          }
        },
        "a6428f0d8e484344a1f345e98ed35cfc": {
          "model_module": "@jupyter-widgets/base",
          "model_name": "LayoutModel",
          "state": {
            "_view_name": "LayoutView",
            "grid_template_rows": null,
            "right": null,
            "justify_content": null,
            "_view_module": "@jupyter-widgets/base",
            "overflow": null,
            "_model_module_version": "1.2.0",
            "_view_count": null,
            "flex_flow": null,
            "width": null,
            "min_width": null,
            "border": null,
            "align_items": null,
            "bottom": null,
            "_model_module": "@jupyter-widgets/base",
            "top": null,
            "grid_column": null,
            "overflow_y": null,
            "overflow_x": null,
            "grid_auto_flow": null,
            "grid_area": null,
            "grid_template_columns": null,
            "flex": null,
            "_model_name": "LayoutModel",
            "justify_items": null,
            "grid_row": null,
            "max_height": null,
            "align_content": null,
            "visibility": null,
            "align_self": null,
            "height": null,
            "min_height": null,
            "padding": null,
            "grid_auto_rows": null,
            "grid_gap": null,
            "max_width": null,
            "order": null,
            "_view_module_version": "1.2.0",
            "grid_template_areas": null,
            "object_position": null,
            "object_fit": null,
            "grid_auto_columns": null,
            "margin": null,
            "display": null,
            "left": null
          }
        }
      }
    }
  },
  "cells": [
    {
      "cell_type": "code",
      "metadata": {
        "id": "vNT3q0p8JZ_Q"
      },
      "source": [
        "import urllib.request as urlreq\n",
        "import os\n",
        "import cv2\n",
        "import numpy as np\n",
        "from pathlib import Path\n",
        "import torch\n",
        "from torch import cuda\n",
        "from tqdm.notebook import tqdm\n",
        "from zipfile import ZipFile\n",
        "import torchvision\n",
        "from torchvision import transforms\n",
        "from torchvision.models.detection import fasterrcnn_resnet50_fpn as fasterrcnn\n",
        "import time\n",
        "import shutil\n",
        "import tensorflow as tf\n",
        "import numpy as np\n",
        "import random\n",
        "import os"
      ],
      "execution_count": 1,
      "outputs": []
    },
    {
      "cell_type": "code",
      "metadata": {
        "id": "363VCpTzyp04"
      },
      "source": [
        "\n",
        "#Set seed value\n",
        "seed_value = 43\n",
        "\n",
        "os.environ['PYTHONHASHSEED'] = str(seed_value)\n",
        "\n",
        "random.seed(seed_value)\n",
        "\n",
        "#numpy seed\n",
        "np.random.seed(seed_value)\n",
        "\n",
        "#Tf seed\n",
        "tf.random.set_seed(seed_value)\n",
        "\n",
        "#Configure new global tensorflow session\n",
        "from tensorflow.compat.v1.keras import backend as k\n",
        "session_conf = tf.compat.v1.ConfigProto(\n",
        "    intra_op_parallelism_threads = 1,\n",
        "    inter_op_parallelism_threads = 1\n",
        ")\n",
        "\n",
        "sess = tf.compat.v1.Session(graph = tf.compat.v1.get_default_graph(), config = session_conf)\n",
        "k.set_session(sess)"
      ],
      "execution_count": 2,
      "outputs": []
    },
    {
      "cell_type": "code",
      "metadata": {
        "id": "A9nGIaYLffPq"
      },
      "source": [
        "%%capture\n",
        "!pip install wandb"
      ],
      "execution_count": 3,
      "outputs": []
    },
    {
      "cell_type": "code",
      "metadata": {
        "colab": {
          "base_uri": "https://localhost:8080/",
          "height": 321,
          "referenced_widgets": [
            "236f1d12883c483fa0a9f498a1693585",
            "c5ca1bfe62ff4cce92a2092c4d6cebad",
            "dd8840a690e749be8822e10afc0da533",
            "a74431fcb2a940839c7e595bfc00e3d4",
            "915b345997f24b4982f1cba1515575a4",
            "ece3cfd6ff614cd9aa6f62131bbe3944",
            "5284535f8e3c4bfbaccb1eec0be06db4",
            "8fe57393e448469f88e0123ea22ed265"
          ]
        },
        "id": "gRNYTQHmnCu8",
        "outputId": "f9bd215c-0dab-40b6-a388-3622ad57cd4d"
      },
      "source": [
        "import wandb \n",
        "wandb.login()\n",
        "run = wandb.init(project=\"fall_detection\",\n",
        "          config={\n",
        "              'frameCount'    :50,\n",
        "              'data_size'     :180,\n",
        "              'dataset'       :'CMDFALL',\n",
        "              'epochs'        :15,\n",
        "              'seed_value'    :43,\n",
        "              'split'         :0.8,\n",
        "              'batch_size'    :32,\n",
        "              'activation'    :'relu',\n",
        "              'optimizer'     :'adam',\n",
        "              'loss_fn'       :'binarycrossentropy',\n",
        "              'dropout_rate'  :0.5,\n",
        "              'train_split'   :0.7,\n",
        "              'val_split'     :0.2,\n",
        "              'test_split'    :0.1\n",
        "          })\n",
        "cfg = wandb.config"
      ],
      "execution_count": 22,
      "outputs": [
        {
          "output_type": "stream",
          "text": [
            "\u001b[34m\u001b[1mwandb\u001b[0m: \u001b[33mWARNING\u001b[0m Calling wandb.login() after wandb.init() has no effect.\n"
          ],
          "name": "stderr"
        },
        {
          "output_type": "display_data",
          "data": {
            "text/html": [
              "Finishing last run (ID:jwtg5x1q) before initializing another..."
            ],
            "text/plain": [
              "<IPython.core.display.HTML object>"
            ]
          },
          "metadata": {
            "tags": []
          }
        },
        {
          "output_type": "display_data",
          "data": {
            "text/html": [
              "<br/>Waiting for W&B process to finish, PID 2069<br/>Program ended successfully."
            ],
            "text/plain": [
              "<IPython.core.display.HTML object>"
            ]
          },
          "metadata": {
            "tags": []
          }
        },
        {
          "output_type": "display_data",
          "data": {
            "application/vnd.jupyter.widget-view+json": {
              "model_id": "236f1d12883c483fa0a9f498a1693585",
              "version_minor": 0,
              "version_major": 2
            },
            "text/plain": [
              "VBox(children=(Label(value=' 0.00MB of 0.00MB uploaded (0.00MB deduped)\\r'), FloatProgress(value=1.0, max=1.0)…"
            ]
          },
          "metadata": {
            "tags": []
          }
        },
        {
          "output_type": "display_data",
          "data": {
            "text/html": [
              "Find user logs for this run at: <code>/content/wandb/run-20210630_113327-jwtg5x1q/logs/debug.log</code>"
            ],
            "text/plain": [
              "<IPython.core.display.HTML object>"
            ]
          },
          "metadata": {
            "tags": []
          }
        },
        {
          "output_type": "display_data",
          "data": {
            "text/html": [
              "Find internal logs for this run at: <code>/content/wandb/run-20210630_113327-jwtg5x1q/logs/debug-internal.log</code>"
            ],
            "text/plain": [
              "<IPython.core.display.HTML object>"
            ]
          },
          "metadata": {
            "tags": []
          }
        },
        {
          "output_type": "display_data",
          "data": {
            "text/html": [
              "Synced 5 W&B file(s), 0 media file(s), 0 artifact file(s) and 0 other file(s)"
            ],
            "text/plain": [
              "<IPython.core.display.HTML object>"
            ]
          },
          "metadata": {
            "tags": []
          }
        },
        {
          "output_type": "display_data",
          "data": {
            "text/html": [
              "\n",
              "                    <br/>Synced <strong style=\"color:#cdcd00\">vocal-dawn-15</strong>: <a href=\"https://wandb.ai/manikandan/fall_detection/runs/jwtg5x1q\" target=\"_blank\">https://wandb.ai/manikandan/fall_detection/runs/jwtg5x1q</a><br/>\n",
              "                "
            ],
            "text/plain": [
              "<IPython.core.display.HTML object>"
            ]
          },
          "metadata": {
            "tags": []
          }
        },
        {
          "output_type": "display_data",
          "data": {
            "text/html": [
              "...Successfully finished last run (ID:jwtg5x1q). Initializing new run:<br/><br/>"
            ],
            "text/plain": [
              "<IPython.core.display.HTML object>"
            ]
          },
          "metadata": {
            "tags": []
          }
        },
        {
          "output_type": "display_data",
          "data": {
            "text/html": [
              "\n",
              "                Tracking run with wandb version 0.10.33<br/>\n",
              "                Syncing run <strong style=\"color:#cdcd00\">exalted-smoke-16</strong> to <a href=\"https://wandb.ai\" target=\"_blank\">Weights & Biases</a> <a href=\"https://docs.wandb.com/integrations/jupyter.html\" target=\"_blank\">(Documentation)</a>.<br/>\n",
              "                Project page: <a href=\"https://wandb.ai/manikandan/fall_detection\" target=\"_blank\">https://wandb.ai/manikandan/fall_detection</a><br/>\n",
              "                Run page: <a href=\"https://wandb.ai/manikandan/fall_detection/runs/2fi8iucz\" target=\"_blank\">https://wandb.ai/manikandan/fall_detection/runs/2fi8iucz</a><br/>\n",
              "                Run data is saved locally in <code>/content/wandb/run-20210630_113356-2fi8iucz</code><br/><br/>\n",
              "            "
            ],
            "text/plain": [
              "<IPython.core.display.HTML object>"
            ]
          },
          "metadata": {
            "tags": []
          }
        }
      ]
    },
    {
      "cell_type": "code",
      "metadata": {
        "id": "kHuVbPFHsYSh"
      },
      "source": [
        "artifact = run.use_artifact('trajectory:latest', type='dataset')\n",
        "artifact_dir = artifact.download()"
      ],
      "execution_count": 24,
      "outputs": []
    },
    {
      "cell_type": "code",
      "metadata": {
        "colab": {
          "base_uri": "https://localhost:8080/"
        },
        "id": "5sxkl-1ctGek",
        "outputId": "3b23b7fd-99ac-452a-d9d0-98c3df34dbbf"
      },
      "source": [
        "artifact = run.use_artifact('boundingBox:latest', type='dataset')\n",
        "artifact_dir = artifact.download()"
      ],
      "execution_count": 26,
      "outputs": [
        {
          "output_type": "stream",
          "text": [
            "\u001b[34m\u001b[1mwandb\u001b[0m: Downloading large artifact boundingBox:latest, 402.29MB. 8423 files... Done. 0:0:0\n"
          ],
          "name": "stderr"
        }
      ]
    },
    {
      "cell_type": "markdown",
      "metadata": {
        "id": "S94AJSX-16kh"
      },
      "source": [
        "## Logger"
      ]
    },
    {
      "cell_type": "code",
      "metadata": {
        "id": "u3lbXXuBo8Jr"
      },
      "source": [
        "import datetime\n",
        "import time\n",
        "import logging\n",
        "import sys\n",
        "\n",
        "def set_logger():\n",
        "  logging.basicConfig(level=logging.INFO)\n",
        "  logger_t = logging.getLogger('withoutlevel')\n",
        "  logger = logging.getLogger('withlevel')\n",
        "\n",
        "  f_handler = logging.FileHandler('Falldetection.log')\n",
        "  f_handler_t = logging.FileHandler('Falldetection.log')\n",
        "\n",
        "  f_format = logging.Formatter('%(levelname)s - %(message)s')\n",
        "  f_format_t = logging.Formatter('%(message)s')\n",
        "\n",
        "  f_handler.setFormatter(f_format)\n",
        "  f_handler_t.setFormatter(f_format_t)\n",
        "\n",
        "  logger.addHandler(f_handler)\n",
        "  logger_t.addHandler(f_handler_t)\n",
        "  return logger, logger_t"
      ],
      "execution_count": 5,
      "outputs": []
    },
    {
      "cell_type": "code",
      "metadata": {
        "colab": {
          "base_uri": "https://localhost:8080/",
          "height": 35
        },
        "id": "d9lB9iDE_KfS",
        "outputId": "a1c259a7-1112-452c-aa7b-5616c472454f"
      },
      "source": [
        "import datetime\n",
        "import time\n",
        "t_set = lambda: datetime.datetime.now().astimezone()\n",
        "t_diff = lambda t: str(t_set() - t)\n",
        "w_diff = lambda t: (t_set() - t).total_seconds()\n",
        "t_stamp = lambda t=None: str(t) if t else str(t_set())\n",
        "t = t_set()\n",
        "time.sleep(5)\n",
        "t_diff(t)"
      ],
      "execution_count": 6,
      "outputs": [
        {
          "output_type": "execute_result",
          "data": {
            "application/vnd.google.colaboratory.intrinsic+json": {
              "type": "string"
            },
            "text/plain": [
              "'0:00:05.005281'"
            ]
          },
          "metadata": {
            "tags": []
          },
          "execution_count": 6
        }
      ]
    },
    {
      "cell_type": "code",
      "metadata": {
        "id": "6Kb8mmlfW0fc"
      },
      "source": [
        "import logging\n",
        "import sys\n",
        "\n",
        "#logger without time\n",
        "logging.basicConfig(level=logging.INFO)\n",
        "logger_t = logging.getLogger('withoutlevel')\n",
        "logger = logging.getLogger('withlevel')\n",
        "\n",
        "f_handler = logging.FileHandler('Falldetection.log')\n",
        "f_handler_t = logging.FileHandler('Falldetection.log')\n",
        "\n",
        "f_format = logging.Formatter('%(levelname)s - %(message)s')\n",
        "f_format_t = logging.Formatter('%(message)s')\n",
        "\n",
        "f_handler.setFormatter(f_format)\n",
        "f_handler_t.setFormatter(f_format_t)\n",
        "\n",
        "logger.addHandler(f_handler)\n",
        "logger_t.addHandler(f_handler_t)\n"
      ],
      "execution_count": 7,
      "outputs": []
    },
    {
      "cell_type": "code",
      "metadata": {
        "id": "odj2St-0ojG1",
        "colab": {
          "base_uri": "https://localhost:8080/"
        },
        "outputId": "2f313670-2dbb-4cfc-e465-7d13816daa04"
      },
      "source": [
        "import platform\n",
        "platform.uname()\n",
        "for det in platform.uname():\n",
        "  logger_t.info(str(det))"
      ],
      "execution_count": 8,
      "outputs": [
        {
          "output_type": "stream",
          "text": [
            "INFO:withoutlevel:Linux\n",
            "INFO:withoutlevel:51630f6ca72f\n",
            "INFO:withoutlevel:5.4.104+\n",
            "INFO:withoutlevel:#1 SMP Sat Jun 5 09:50:34 PDT 2021\n",
            "INFO:withoutlevel:x86_64\n",
            "INFO:withoutlevel:x86_64\n"
          ],
          "name": "stderr"
        }
      ]
    },
    {
      "cell_type": "code",
      "metadata": {
        "colab": {
          "base_uri": "https://localhost:8080/"
        },
        "id": "B54IgeY0FUcj",
        "outputId": "9d3a45d1-c846-4285-dd69-3a41ed41b6bc"
      },
      "source": [
        "logger_t.info('='*100)\n",
        "logger_t.info(\"\\nFalldetection project\")"
      ],
      "execution_count": 9,
      "outputs": [
        {
          "output_type": "stream",
          "text": [
            "INFO:withoutlevel:====================================================================================================\n",
            "INFO:withoutlevel:\n",
            "Falldetection project\n"
          ],
          "name": "stderr"
        }
      ]
    },
    {
      "cell_type": "code",
      "metadata": {
        "colab": {
          "base_uri": "https://localhost:8080/"
        },
        "id": "iglqNXHbnWi0",
        "outputId": "175d6e28-c46c-4ce9-b9c7-fc57e67c36be"
      },
      "source": [
        "logger.info(f\"The analysis with dataset {cfg.dataset} and frame count {cfg.frameCount} and size of the data is {cfg.data_size}.\")"
      ],
      "execution_count": 10,
      "outputs": [
        {
          "output_type": "stream",
          "text": [
            "INFO:withlevel:The analysis with dataset CMDFALL and frame count 50 and size of the data is 180.\n"
          ],
          "name": "stderr"
        }
      ]
    },
    {
      "cell_type": "markdown",
      "metadata": {
        "id": "GbkiezLhJd5E"
      },
      "source": [
        "## Prepare dataframe"
      ]
    },
    {
      "cell_type": "code",
      "metadata": {
        "id": "fU6Cs_NyXdaw"
      },
      "source": [
        "import pandas as pd\n",
        "df_actions = pd.read_csv('http://mica.edu.vn:8000/KinectData/public/action_list.txt')\n",
        "actions = dict(list(df_actions.to_records(index=False)))\n",
        "df_frames = pd.read_csv('http://mica.edu.vn:8000/KinectData/public/annotation.csv')\n",
        "\n",
        "df_video = df_frames[['setup_id','subject_id','kinect_id']]\n",
        "df_video = df_video.drop_duplicates(keep='first',ignore_index=True)\n"
      ],
      "execution_count": 11,
      "outputs": []
    },
    {
      "cell_type": "code",
      "metadata": {
        "id": "17y6nsy71pnK"
      },
      "source": [
        "# Cleaning the dataframe\n",
        "df_frames.loc[df_frames['action_id'] == '\\ufeff1', 'action_id'] = 1\n",
        "df_frames.loc[df_frames['start_frame'] == '89s59','start_frame'] = 8959\n",
        "# Encoding the dataframe\n",
        "df_frames['start_frame'] = df_frames['start_frame'].apply(pd.to_numeric)\n",
        "df_frames['action_id'] = df_frames['action_id'].apply(pd.to_numeric)\n",
        "# details of the action the human performing\n",
        "df_frames['action_detail'] = df_frames['action_id'].apply(lambda x: actions[x])\n",
        "# details of supercategory the action resides \n",
        "df_frames['action'] = df_frames['action_id'].apply(lambda x: 'fall' if 'fall' in actions[x] else 'adl')\n",
        "# Encoding the action column\n",
        "df_frames['action_label'] = df_frames['action_id'].apply(lambda x: 1 if 'fall' in actions[x] else 0)"
      ],
      "execution_count": 12,
      "outputs": []
    },
    {
      "cell_type": "code",
      "metadata": {
        "id": "uwswb2aA8bzu",
        "colab": {
          "base_uri": "https://localhost:8080/"
        },
        "outputId": "b3a2bff1-3828-418f-ba29-55136fe6acf5"
      },
      "source": [
        "\n",
        "df_frames['frame_count'] = df_frames['stop_frame'] - df_frames['start_frame']\n",
        "\n",
        "# Print some statistics\n",
        "print(f\"Total videos possible in this dataset is {len(df_frames)}\")\n",
        "print(f\"Number of fall videos in the dataset is {len(df_frames[df_frames.action == 'fall'])}\")\n",
        "print(f\"Number of adl videos in the dataset is {len(df_frames[df_frames.action == 'adl'])}\")\n",
        "print(f\"Videos greater than 50 Frames are {len(df_frames[df_frames.frame_count > 50])}\")"
      ],
      "execution_count": 13,
      "outputs": [
        {
          "output_type": "stream",
          "text": [
            "INFO:numexpr.utils:NumExpr defaulting to 2 threads.\n"
          ],
          "name": "stderr"
        },
        {
          "output_type": "stream",
          "text": [
            "Total videos possible in this dataset is 14029\n",
            "Number of fall videos in the dataset is 5472\n",
            "Number of adl videos in the dataset is 8557\n",
            "Videos greater than 50 Frames are 9481\n"
          ],
          "name": "stdout"
        }
      ]
    },
    {
      "cell_type": "code",
      "metadata": {
        "colab": {
          "base_uri": "https://localhost:8080/",
          "height": 202
        },
        "id": "8a2mdLCS7pfd",
        "outputId": "0f40edc9-e78b-4bee-9204-b4cbf999ab25"
      },
      "source": [
        "df_frames.head()"
      ],
      "execution_count": 14,
      "outputs": [
        {
          "output_type": "execute_result",
          "data": {
            "text/html": [
              "<div>\n",
              "<style scoped>\n",
              "    .dataframe tbody tr th:only-of-type {\n",
              "        vertical-align: middle;\n",
              "    }\n",
              "\n",
              "    .dataframe tbody tr th {\n",
              "        vertical-align: top;\n",
              "    }\n",
              "\n",
              "    .dataframe thead th {\n",
              "        text-align: right;\n",
              "    }\n",
              "</style>\n",
              "<table border=\"1\" class=\"dataframe\">\n",
              "  <thead>\n",
              "    <tr style=\"text-align: right;\">\n",
              "      <th></th>\n",
              "      <th>setup_id</th>\n",
              "      <th>subject_id</th>\n",
              "      <th>kinect_id</th>\n",
              "      <th>action_id</th>\n",
              "      <th>start_frame</th>\n",
              "      <th>stop_frame</th>\n",
              "      <th>action_detail</th>\n",
              "      <th>action</th>\n",
              "      <th>action_label</th>\n",
              "      <th>frame_count</th>\n",
              "    </tr>\n",
              "  </thead>\n",
              "  <tbody>\n",
              "    <tr>\n",
              "      <th>0</th>\n",
              "      <td>1</td>\n",
              "      <td>19</td>\n",
              "      <td>2</td>\n",
              "      <td>1</td>\n",
              "      <td>0</td>\n",
              "      <td>216</td>\n",
              "      <td>walk</td>\n",
              "      <td>adl</td>\n",
              "      <td>0</td>\n",
              "      <td>216</td>\n",
              "    </tr>\n",
              "    <tr>\n",
              "      <th>1</th>\n",
              "      <td>1</td>\n",
              "      <td>19</td>\n",
              "      <td>2</td>\n",
              "      <td>1</td>\n",
              "      <td>286</td>\n",
              "      <td>449</td>\n",
              "      <td>walk</td>\n",
              "      <td>adl</td>\n",
              "      <td>0</td>\n",
              "      <td>163</td>\n",
              "    </tr>\n",
              "    <tr>\n",
              "      <th>2</th>\n",
              "      <td>1</td>\n",
              "      <td>19</td>\n",
              "      <td>2</td>\n",
              "      <td>1</td>\n",
              "      <td>584</td>\n",
              "      <td>957</td>\n",
              "      <td>walk</td>\n",
              "      <td>adl</td>\n",
              "      <td>0</td>\n",
              "      <td>373</td>\n",
              "    </tr>\n",
              "    <tr>\n",
              "      <th>3</th>\n",
              "      <td>1</td>\n",
              "      <td>19</td>\n",
              "      <td>2</td>\n",
              "      <td>2</td>\n",
              "      <td>960</td>\n",
              "      <td>1343</td>\n",
              "      <td>run_slowly</td>\n",
              "      <td>adl</td>\n",
              "      <td>0</td>\n",
              "      <td>383</td>\n",
              "    </tr>\n",
              "    <tr>\n",
              "      <th>4</th>\n",
              "      <td>1</td>\n",
              "      <td>19</td>\n",
              "      <td>2</td>\n",
              "      <td>3</td>\n",
              "      <td>1344</td>\n",
              "      <td>1746</td>\n",
              "      <td>static_jump</td>\n",
              "      <td>adl</td>\n",
              "      <td>0</td>\n",
              "      <td>402</td>\n",
              "    </tr>\n",
              "  </tbody>\n",
              "</table>\n",
              "</div>"
            ],
            "text/plain": [
              "   setup_id  subject_id  kinect_id  ...  action  action_label  frame_count\n",
              "0         1          19          2  ...     adl             0          216\n",
              "1         1          19          2  ...     adl             0          163\n",
              "2         1          19          2  ...     adl             0          373\n",
              "3         1          19          2  ...     adl             0          383\n",
              "4         1          19          2  ...     adl             0          402\n",
              "\n",
              "[5 rows x 10 columns]"
            ]
          },
          "metadata": {
            "tags": []
          },
          "execution_count": 14
        }
      ]
    },
    {
      "cell_type": "markdown",
      "metadata": {
        "id": "GRGsMzYLJhho"
      },
      "source": [
        "## Download entire dataset"
      ]
    },
    {
      "cell_type": "code",
      "metadata": {
        "id": "8KImwEb0_JeE"
      },
      "source": [
        "def safedirs(path):\n",
        "  if not os.path.exists(path):\n",
        "    os.makedirs(path)\n",
        "\n",
        "root = os.getcwd()\n",
        "cmdfall = os.path.join(root,'dataset','cmdfall')\n"
      ],
      "execution_count": null,
      "outputs": []
    },
    {
      "cell_type": "code",
      "metadata": {
        "id": "vp_bgyG0A3v-"
      },
      "source": [
        "values = list(df_video.iloc[0])\n",
        "url = f'http://mica.edu.vn:8000/KinectData/public/colors/S{values[0]}P{values[1]}K{values[2]}.avi'\n",
        "urlreq.urlretrieve(url, 'video.avi')\n",
        "subframes = df_frames[(df_frames.setup_id == values[0])\n",
        "                     & (df_frames.subject_id == values[1])\n",
        "                     & (df_frames.kinect_id == values[2])]\n",
        "\n"
      ],
      "execution_count": null,
      "outputs": []
    },
    {
      "cell_type": "code",
      "metadata": {
        "id": "pneuAABfx8J9",
        "colab": {
          "base_uri": "https://localhost:8080/"
        },
        "outputId": "c4b716aa-923a-420d-cb0c-e7ab90e0509a"
      },
      "source": [
        "import time\n",
        "\n",
        "t = time.time()\n",
        "for video_idx in range(len(df_video)):\n",
        "  values = list(df_video.iloc[video_idx])\n",
        "  video_filename = f'S{values[0]}P{values[1]}K{values[2]}' \n",
        "  url = f'http://mica.edu.vn:8000/KinectData/public/colors/S{values[0]}P{values[1]}K{values[2]}.avi'\n",
        "  video_temp_path = os.path.join(cmdfall,'temp')\n",
        "  safedirs(video_temp_path)\n",
        "  urlreq.urlretrieve(url, os.path.join(video_temp_path,f'{video_filename}.avi'))\n",
        "  subframes = df_frames[(df_frames.setup_id == values[0])\n",
        "                     & (df_frames.subject_id == values[1])\n",
        "                     & (df_frames.kinect_id == values[2])]\n",
        "  counter = 0\n",
        "  cap = cv2.VideoCapture(os.path.join(video_temp_path, f'{video_filename}.avi'))\n",
        "  frame_count = cap.get(cv2.CAP_PROP_FRAME_COUNT)\n",
        "  print(frame_count)\n",
        "  while (cap.isOpened()):\n",
        "    ret,frame = cap.read()\n",
        "    if ret == False:\n",
        "      break\n",
        "    frame_details = subframes[(subframes.start_frame <= counter) & (subframes.stop_frame >= counter)].values.tolist()\n",
        "    if not frame_details:\n",
        "      #print(f'skipping.... {counter}')\n",
        "      counter += 1\n",
        "      continue\n",
        "    action_detail, action, action_label = frame_details[0][-3:]\n",
        "    action_dest_path = os.path.join(cmdfall, 'frame', video_filename, action, action_detail)\n",
        "    safedirs(action_dest_path)\n",
        "    file_path = os.path.join(action_dest_path, f'{video_filename}_{counter}_{action_label}.png')\n",
        "    cv2.imwrite(file_path, frame)\n",
        "    counter += 1\n",
        "    if counter >= frame_count:\n",
        "      cap.release()\n",
        "      break\n",
        "  break\n",
        "\n",
        "print(time.time() - t)"
      ],
      "execution_count": null,
      "outputs": [
        {
          "output_type": "stream",
          "text": [
            "10270.0\n",
            "161.11956071853638\n"
          ],
          "name": "stdout"
        }
      ]
    },
    {
      "cell_type": "code",
      "metadata": {
        "colab": {
          "base_uri": "https://localhost:8080/"
        },
        "id": "nb-NuNsiF1nR",
        "outputId": "e4392c89-68ee-45f1-fe84-a0854cd0ba3c"
      },
      "source": [
        "for temp in os.listdir('/content/dataset/cmdfall/frame/S1P19K2/adl'):\n",
        "  print(temp, len(os.listdir('/content/dataset/cmdfall/frame/S1P19K2/adl/'+temp)))"
      ],
      "execution_count": null,
      "outputs": [
        {
          "output_type": "stream",
          "text": [
            "move_chair 487\n",
            "sit_on_bed_and_stand_up 286\n",
            "left_hand_pick_up 233\n",
            "static_jump 403\n",
            "sit_on_chair_then_stand_up 224\n",
            "move_hand_and_leg 391\n",
            "stagger 391\n",
            "walk 755\n",
            "lie_on_bed_and_sit_up 152\n",
            "right_hand_pick_up 218\n",
            "crawl 155\n",
            "run_slowly 384\n"
          ],
          "name": "stdout"
        }
      ]
    },
    {
      "cell_type": "markdown",
      "metadata": {
        "id": "0ABe4e7YJ6Hp"
      },
      "source": [
        "## Download videos"
      ]
    },
    {
      "cell_type": "code",
      "metadata": {
        "id": "tI5MCl9lRwbS"
      },
      "source": [
        "# video sequence that has greater than specified frame count is taken into account\n",
        "df_frames = df_frames[df_frames.frame_count > cfg['frameCount']]\n",
        "# Shuffle and retrieve the subset of Fall and Adl samples\n",
        "df_fall = df_frames[df_frames.action == 'fall'].sample(frac=1,random_state=cfg['seed_value']).reset_index(drop=True)[:cfg['data_size']//2]\n",
        "df_adl = df_frames[df_frames.action == 'adl'].sample(frac=1,random_state=cfg['seed_value']).reset_index(drop=True)[:cfg['data_size']//2]\n",
        "df_sample = pd.concat([df_fall,df_adl]).sample(frac=1, random_state=cfg['seed_value']).reset_index(drop=True)\n"
      ],
      "execution_count": 15,
      "outputs": []
    },
    {
      "cell_type": "code",
      "metadata": {
        "colab": {
          "base_uri": "https://localhost:8080/",
          "height": 202
        },
        "id": "dflJg8YE6NpQ",
        "outputId": "e2a46f62-dee7-46f2-aa6e-c4d84e562de1"
      },
      "source": [
        "df_sample.head()"
      ],
      "execution_count": 44,
      "outputs": [
        {
          "output_type": "execute_result",
          "data": {
            "text/html": [
              "<div>\n",
              "<style scoped>\n",
              "    .dataframe tbody tr th:only-of-type {\n",
              "        vertical-align: middle;\n",
              "    }\n",
              "\n",
              "    .dataframe tbody tr th {\n",
              "        vertical-align: top;\n",
              "    }\n",
              "\n",
              "    .dataframe thead th {\n",
              "        text-align: right;\n",
              "    }\n",
              "</style>\n",
              "<table border=\"1\" class=\"dataframe\">\n",
              "  <thead>\n",
              "    <tr style=\"text-align: right;\">\n",
              "      <th></th>\n",
              "      <th>setup_id</th>\n",
              "      <th>subject_id</th>\n",
              "      <th>kinect_id</th>\n",
              "      <th>action_id</th>\n",
              "      <th>start_frame</th>\n",
              "      <th>stop_frame</th>\n",
              "      <th>action_detail</th>\n",
              "      <th>action</th>\n",
              "      <th>action_label</th>\n",
              "      <th>frame_count</th>\n",
              "    </tr>\n",
              "  </thead>\n",
              "  <tbody>\n",
              "    <tr>\n",
              "      <th>0</th>\n",
              "      <td>38</td>\n",
              "      <td>16</td>\n",
              "      <td>4</td>\n",
              "      <td>14</td>\n",
              "      <td>6412</td>\n",
              "      <td>6782</td>\n",
              "      <td>move_chair</td>\n",
              "      <td>adl</td>\n",
              "      <td>0</td>\n",
              "      <td>370</td>\n",
              "    </tr>\n",
              "    <tr>\n",
              "      <th>1</th>\n",
              "      <td>30</td>\n",
              "      <td>7</td>\n",
              "      <td>6</td>\n",
              "      <td>12</td>\n",
              "      <td>5509</td>\n",
              "      <td>5642</td>\n",
              "      <td>crawl</td>\n",
              "      <td>adl</td>\n",
              "      <td>0</td>\n",
              "      <td>133</td>\n",
              "    </tr>\n",
              "    <tr>\n",
              "      <th>2</th>\n",
              "      <td>18</td>\n",
              "      <td>6</td>\n",
              "      <td>2</td>\n",
              "      <td>19</td>\n",
              "      <td>9904</td>\n",
              "      <td>9995</td>\n",
              "      <td>lie_on_bed_and_fall_left</td>\n",
              "      <td>fall</td>\n",
              "      <td>1</td>\n",
              "      <td>91</td>\n",
              "    </tr>\n",
              "    <tr>\n",
              "      <th>3</th>\n",
              "      <td>3</td>\n",
              "      <td>30</td>\n",
              "      <td>3</td>\n",
              "      <td>15</td>\n",
              "      <td>6735</td>\n",
              "      <td>6790</td>\n",
              "      <td>sit_on_chair_then_fall_left</td>\n",
              "      <td>fall</td>\n",
              "      <td>1</td>\n",
              "      <td>55</td>\n",
              "    </tr>\n",
              "    <tr>\n",
              "      <th>4</th>\n",
              "      <td>25</td>\n",
              "      <td>39</td>\n",
              "      <td>5</td>\n",
              "      <td>5</td>\n",
              "      <td>2627</td>\n",
              "      <td>2686</td>\n",
              "      <td>left_hand_pick_up</td>\n",
              "      <td>adl</td>\n",
              "      <td>0</td>\n",
              "      <td>59</td>\n",
              "    </tr>\n",
              "  </tbody>\n",
              "</table>\n",
              "</div>"
            ],
            "text/plain": [
              "   setup_id  subject_id  kinect_id  ...  action  action_label  frame_count\n",
              "0        38          16          4  ...     adl             0          370\n",
              "1        30           7          6  ...     adl             0          133\n",
              "2        18           6          2  ...    fall             1           91\n",
              "3         3          30          3  ...    fall             1           55\n",
              "4        25          39          5  ...     adl             0           59\n",
              "\n",
              "[5 rows x 10 columns]"
            ]
          },
          "metadata": {
            "tags": []
          },
          "execution_count": 44
        }
      ]
    },
    {
      "cell_type": "code",
      "metadata": {
        "colab": {
          "base_uri": "https://localhost:8080/"
        },
        "id": "ya2lVDj4J9aP",
        "outputId": "32541283-6ebd-4c05-a4f0-fe3be26db8c8"
      },
      "source": [
        "def safedirs(path):\n",
        "  if not os.path.exists(path):\n",
        "    os.makedirs(path)\n",
        "\n",
        "logger_t.info(f'{\"=\"*100} \\n\\nSTEP 1: Download dataset into the system')\n",
        "\n",
        "root = os.getcwd()\n",
        "cmdfall = os.path.join(root,'dataset','cmdfall')\n",
        "subset = os.path.join(root, 'subset')\n",
        "\n",
        "logger.info(f\" dataset is downloaded in path {cmdfall}\")\n",
        "\n"
      ],
      "execution_count": 16,
      "outputs": [
        {
          "output_type": "stream",
          "text": [
            "INFO:withoutlevel:==================================================================================================== \n",
            "\n",
            "STEP 1: Download dataset into the system\n",
            "INFO:withlevel: dataset is downloaded in path /content/dataset/cmdfall\n"
          ],
          "name": "stderr"
        }
      ]
    },
    {
      "cell_type": "code",
      "metadata": {
        "colab": {
          "base_uri": "https://localhost:8080/"
        },
        "id": "WH3fOk-XsL92",
        "outputId": "d2377652-9379-4f4f-b354-43bbd920e527"
      },
      "source": [
        "urlreq.urlretrieve('http://mica.edu.vn:8000/KinectData/public/colors/S26P28K5.avi', 'video.avi')"
      ],
      "execution_count": 28,
      "outputs": [
        {
          "output_type": "execute_result",
          "data": {
            "text/plain": [
              "('video.avi', <http.client.HTTPMessage at 0x7f33f2716590>)"
            ]
          },
          "metadata": {
            "tags": []
          },
          "execution_count": 28
        }
      ]
    },
    {
      "cell_type": "code",
      "metadata": {
        "id": "dxjuQYKe0f_Q",
        "colab": {
          "base_uri": "https://localhost:8080/",
          "height": 1000,
          "referenced_widgets": [
            "89840de8b9114f879843c4d3dec4f577",
            "15445bf79e204915899125ffb44a907b",
            "3c8ec79795e346f1b94734c80cb46eaa",
            "f93010d713684422bc6ae3b708f373ec",
            "c54a1cefa2ea4a42a4e7d7368b4c90ca",
            "0323f3d9cb7c4456b3296b79b14a3227",
            "661998c954a141ce9bb08a8cbb18ec38",
            "a6fcb6065c114e8e9c2cafc352125aba"
          ]
        },
        "outputId": "d5e42d74-2359-4012-fa4b-5998f47b3683"
      },
      "source": [
        "def download_dataset(df_sample, cmdfall, subset):\n",
        "  # data size\n",
        "  train_size = int(cfg.train_split * len(df_sample))\n",
        "  validation_size = int(cfg.val_split * len(df_sample)) + train_size\n",
        "  test_size = int(cfg.test_split * len(df_sample)) + validation_size\n",
        "  logger.info(f'Number of files in Train set is {train_size}')\n",
        "  logger.info(f'Number of files in validation set is {validation_size - train_size}')\n",
        "  logger.info(f'Number of files in Test set is {test_size - validation_size}')\n",
        "  # each video sequence from the data frame\n",
        "  for video_idx in tqdm(range(len(df_sample))):\n",
        "    t = t_set()\n",
        "    # downloaded to train, validation and test in sequence\n",
        "    split = 'train' if video_idx in range(train_size) else 'val' if video_idx in range(validation_size) else 'test'\n",
        "    # for each record in datframe\n",
        "    values = df_sample.iloc[video_idx]\n",
        "    video_filename = f'S{values.setup_id}P{values.subject_id}K{values.kinect_id}' \n",
        "    url = f'http://mica.edu.vn:8000/KinectData/public/colors/{video_filename}.avi'\n",
        "    # folder to store videos\n",
        "    video_temp_folder = os.path.join(cmdfall,'temp')\n",
        "    video_temp_file = os.path.join(video_temp_folder,f'{video_filename}.avi')\n",
        "    # download video if it is not already downloaded\n",
        "    if not os.path.exists(video_temp_file):\n",
        "      safedirs(video_temp_folder)\n",
        "      urlreq.urlretrieve(url, video_temp_file)\n",
        "    # folder to store the frames of the video\n",
        "    frame_folder = os.path.join(subset, split, values.action, video_filename)\n",
        "    # if the frame set is already available with that video it appends the name with counter\n",
        "    counter = 1\n",
        "    while os.path.exists(frame_folder):\n",
        "      frame_folder = os.path.join(subset,split, values.action, video_filename + f'_{counter}')\n",
        "      counter += 1\n",
        "    safedirs(frame_folder)\n",
        "    logger_t.info(f'The file is downloaded from {url} \\n extracted into path ...{frame_folder}')\n",
        "    # store path of video in dataframe\n",
        "    df_frames.loc[(df_frames.setup_id == values.setup_id)\n",
        "                & (df_frames.subject_id == values.subject_id)\n",
        "                & (df_frames.kinect_id == values.kinect_id), 'video_path'] = video_temp_file\n",
        "    # read the video file\n",
        "    cap = cv2.VideoCapture(video_temp_file)\n",
        "    total_frame = cap.get(cv2.CAP_PROP_FRAME_COUNT)\n",
        "    # randomly select the 50 frames from the video sequence\n",
        "    random_start = random.randint(values.start_frame, values.stop_frame - cfg['frameCount'])\n",
        "    # read specific frames from the video without reading it sequence\n",
        "    for frame_idx in range(random_start, random_start + cfg['frameCount']):\n",
        "      frame_file_path = os.path.join(frame_folder, f'{video_filename}_{frame_idx}_{values.action_label}.jpg')\n",
        "      cap.set(cv2.CAP_PROP_POS_FRAMES, frame_idx)\n",
        "      ret,frame = cap.read()\n",
        "      if not ret:\n",
        "        break\n",
        "        raise Exception\n",
        "      #print(frame_file_path)\n",
        "      cv2.imwrite(frame_file_path, frame)\n",
        "    logger.info(f'Elapsed time for downloading and extracting the file is {t_diff(t)}.\\n')\n",
        "    wandb.log({'download':{'time': w_diff(t)}})\n",
        "\n",
        "t = t_set()\n",
        "download_dataset(df_sample, cmdfall, subset)\n",
        "logger.info(f'Total time for downloading and extracting entire dataset is {t_diff(t)}\\n {\"=\"*200}')\n",
        "wandb.summary['Download_TotalTime'] = w_diff(t)"
      ],
      "execution_count": 18,
      "outputs": [
        {
          "output_type": "stream",
          "text": [
            "INFO:withlevel:Number of files in Train set is 125\n",
            "INFO:withlevel:Number of files in validation set is 36\n",
            "INFO:withlevel:Number of files in Test set is 18\n"
          ],
          "name": "stderr"
        },
        {
          "output_type": "display_data",
          "data": {
            "application/vnd.jupyter.widget-view+json": {
              "model_id": "89840de8b9114f879843c4d3dec4f577",
              "version_minor": 0,
              "version_major": 2
            },
            "text/plain": [
              "HBox(children=(FloatProgress(value=0.0, max=180.0), HTML(value='')))"
            ]
          },
          "metadata": {
            "tags": []
          }
        },
        {
          "output_type": "stream",
          "text": [
            "INFO:withoutlevel:The file is downloaded from http://mica.edu.vn:8000/KinectData/public/colors/S38P16K4.avi \n",
            " extracted into path .../content/subset/train/adl/S38P16K4_1\n",
            "INFO:withlevel:Elapsed time for downloading and extracting the file is 0:00:01.474719.\n",
            "\n",
            "INFO:withoutlevel:The file is downloaded from http://mica.edu.vn:8000/KinectData/public/colors/S30P7K6.avi \n",
            " extracted into path .../content/subset/train/adl/S30P7K6_1\n",
            "INFO:withlevel:Elapsed time for downloading and extracting the file is 0:00:01.337824.\n",
            "\n",
            "INFO:withoutlevel:The file is downloaded from http://mica.edu.vn:8000/KinectData/public/colors/S18P6K2.avi \n",
            " extracted into path .../content/subset/train/fall/S18P6K2_1\n",
            "INFO:withlevel:Elapsed time for downloading and extracting the file is 0:00:01.513891.\n",
            "\n",
            "INFO:withoutlevel:The file is downloaded from http://mica.edu.vn:8000/KinectData/public/colors/S3P30K3.avi \n",
            " extracted into path .../content/subset/train/fall/S3P30K3_1\n",
            "INFO:withlevel:Elapsed time for downloading and extracting the file is 0:00:01.352016.\n",
            "\n",
            "INFO:withoutlevel:The file is downloaded from http://mica.edu.vn:8000/KinectData/public/colors/S25P39K5.avi \n",
            " extracted into path .../content/subset/train/adl/S25P39K5_1\n",
            "INFO:withlevel:Elapsed time for downloading and extracting the file is 0:00:01.416845.\n",
            "\n",
            "INFO:withoutlevel:The file is downloaded from http://mica.edu.vn:8000/KinectData/public/colors/S29P43K6.avi \n",
            " extracted into path .../content/subset/train/fall/S29P43K6_1\n",
            "INFO:withlevel:Elapsed time for downloading and extracting the file is 0:00:01.331604.\n",
            "\n",
            "INFO:withoutlevel:The file is downloaded from http://mica.edu.vn:8000/KinectData/public/colors/S55P18K5.avi \n",
            " extracted into path .../content/subset/train/adl/S55P18K5_1\n",
            "INFO:withlevel:Elapsed time for downloading and extracting the file is 0:00:01.481846.\n",
            "\n",
            "INFO:withoutlevel:The file is downloaded from http://mica.edu.vn:8000/KinectData/public/colors/S37P45K3.avi \n",
            " extracted into path .../content/subset/train/fall/S37P45K3_1\n",
            "INFO:withlevel:Elapsed time for downloading and extracting the file is 0:00:01.404862.\n",
            "\n",
            "INFO:withoutlevel:The file is downloaded from http://mica.edu.vn:8000/KinectData/public/colors/S46P35K7.avi \n",
            " extracted into path .../content/subset/train/fall/S46P35K7_1\n",
            "INFO:withlevel:Elapsed time for downloading and extracting the file is 0:00:01.258261.\n",
            "\n",
            "INFO:withoutlevel:The file is downloaded from http://mica.edu.vn:8000/KinectData/public/colors/S16P41K1.avi \n",
            " extracted into path .../content/subset/train/adl/S16P41K1_1\n",
            "INFO:withlevel:Elapsed time for downloading and extracting the file is 0:00:01.475399.\n",
            "\n",
            "INFO:withoutlevel:The file is downloaded from http://mica.edu.vn:8000/KinectData/public/colors/S30P7K1.avi \n",
            " extracted into path .../content/subset/train/fall/S30P7K1_1\n",
            "INFO:withlevel:Elapsed time for downloading and extracting the file is 0:00:01.467712.\n",
            "\n",
            "INFO:withoutlevel:The file is downloaded from http://mica.edu.vn:8000/KinectData/public/colors/S35P11K2.avi \n",
            " extracted into path .../content/subset/train/fall/S35P11K2_1\n",
            "INFO:withlevel:Elapsed time for downloading and extracting the file is 0:00:01.431450.\n",
            "\n",
            "INFO:withoutlevel:The file is downloaded from http://mica.edu.vn:8000/KinectData/public/colors/S12P48K2.avi \n",
            " extracted into path .../content/subset/train/fall/S12P48K2_1\n",
            "INFO:withlevel:Elapsed time for downloading and extracting the file is 0:00:01.407797.\n",
            "\n",
            "INFO:withoutlevel:The file is downloaded from http://mica.edu.vn:8000/KinectData/public/colors/S16P41K6.avi \n",
            " extracted into path .../content/subset/train/adl/S16P41K6_1\n",
            "INFO:withlevel:Elapsed time for downloading and extracting the file is 0:00:01.377116.\n",
            "\n",
            "INFO:withoutlevel:The file is downloaded from http://mica.edu.vn:8000/KinectData/public/colors/S53P26K1.avi \n",
            " extracted into path .../content/subset/train/fall/S53P26K1_1\n",
            "INFO:withlevel:Elapsed time for downloading and extracting the file is 0:00:01.447521.\n",
            "\n",
            "INFO:withoutlevel:The file is downloaded from http://mica.edu.vn:8000/KinectData/public/colors/S20P24K5.avi \n",
            " extracted into path .../content/subset/train/fall/S20P24K5_1\n",
            "INFO:withlevel:Elapsed time for downloading and extracting the file is 0:00:01.480787.\n",
            "\n",
            "INFO:withoutlevel:The file is downloaded from http://mica.edu.vn:8000/KinectData/public/colors/S46P35K7.avi \n",
            " extracted into path .../content/subset/train/adl/S46P35K7_1\n",
            "INFO:withlevel:Elapsed time for downloading and extracting the file is 0:00:01.204506.\n",
            "\n",
            "INFO:withoutlevel:The file is downloaded from http://mica.edu.vn:8000/KinectData/public/colors/S47P14K2.avi \n",
            " extracted into path .../content/subset/train/adl/S47P14K2_1\n",
            "INFO:withlevel:Elapsed time for downloading and extracting the file is 0:00:01.363547.\n",
            "\n",
            "INFO:withoutlevel:The file is downloaded from http://mica.edu.vn:8000/KinectData/public/colors/S23P17K2.avi \n",
            " extracted into path .../content/subset/train/fall/S23P17K2_1\n",
            "INFO:withlevel:Elapsed time for downloading and extracting the file is 0:00:01.394515.\n",
            "\n",
            "INFO:withoutlevel:The file is downloaded from http://mica.edu.vn:8000/KinectData/public/colors/S34P27K1.avi \n",
            " extracted into path .../content/subset/train/adl/S34P27K1_1\n",
            "INFO:withlevel:Elapsed time for downloading and extracting the file is 0:00:01.455852.\n",
            "\n",
            "INFO:withoutlevel:The file is downloaded from http://mica.edu.vn:8000/KinectData/public/colors/S3P30K7.avi \n",
            " extracted into path .../content/subset/train/fall/S3P30K7_1\n",
            "INFO:withlevel:Elapsed time for downloading and extracting the file is 0:00:01.182142.\n",
            "\n",
            "INFO:withoutlevel:The file is downloaded from http://mica.edu.vn:8000/KinectData/public/colors/S50P47K2.avi \n",
            " extracted into path .../content/subset/train/fall/S50P47K2_1\n",
            "INFO:withlevel:Elapsed time for downloading and extracting the file is 0:00:01.386534.\n",
            "\n",
            "INFO:withoutlevel:The file is downloaded from http://mica.edu.vn:8000/KinectData/public/colors/S17P21K1.avi \n",
            " extracted into path .../content/subset/train/fall/S17P21K1_1\n",
            "INFO:withlevel:Elapsed time for downloading and extracting the file is 0:00:01.380656.\n",
            "\n",
            "INFO:withoutlevel:The file is downloaded from http://mica.edu.vn:8000/KinectData/public/colors/S16P41K4.avi \n",
            " extracted into path .../content/subset/train/fall/S16P41K4_1\n",
            "INFO:withlevel:Elapsed time for downloading and extracting the file is 0:00:01.569918.\n",
            "\n",
            "INFO:withoutlevel:The file is downloaded from http://mica.edu.vn:8000/KinectData/public/colors/S7P1K1.avi \n",
            " extracted into path .../content/subset/train/adl/S7P1K1_1\n",
            "INFO:withlevel:Elapsed time for downloading and extracting the file is 0:00:01.465099.\n",
            "\n",
            "INFO:withoutlevel:The file is downloaded from http://mica.edu.vn:8000/KinectData/public/colors/S15P31K2.avi \n",
            " extracted into path .../content/subset/train/fall/S15P31K2_1\n",
            "INFO:withlevel:Elapsed time for downloading and extracting the file is 0:00:01.380824.\n",
            "\n",
            "INFO:withoutlevel:The file is downloaded from http://mica.edu.vn:8000/KinectData/public/colors/S3P30K1.avi \n",
            " extracted into path .../content/subset/train/adl/S3P30K1_1\n",
            "INFO:withlevel:Elapsed time for downloading and extracting the file is 0:00:01.494299.\n",
            "\n",
            "INFO:withoutlevel:The file is downloaded from http://mica.edu.vn:8000/KinectData/public/colors/S48P46K1.avi \n",
            " extracted into path .../content/subset/train/adl/S48P46K1_1\n",
            "INFO:withlevel:Elapsed time for downloading and extracting the file is 0:00:01.461947.\n",
            "\n",
            "INFO:withoutlevel:The file is downloaded from http://mica.edu.vn:8000/KinectData/public/colors/S25P39K3.avi \n",
            " extracted into path .../content/subset/train/fall/S25P39K3\n",
            "INFO:withlevel:Elapsed time for downloading and extracting the file is 0:00:06.874929.\n",
            "\n",
            "INFO:withoutlevel:The file is downloaded from http://mica.edu.vn:8000/KinectData/public/colors/S19P3K4.avi \n",
            " extracted into path .../content/subset/train/fall/S19P3K4\n",
            "INFO:withlevel:Elapsed time for downloading and extracting the file is 0:07:25.595732.\n",
            "\n",
            "INFO:withoutlevel:The file is downloaded from http://mica.edu.vn:8000/KinectData/public/colors/S47P14K3.avi \n",
            " extracted into path .../content/subset/train/fall/S47P14K3\n",
            "INFO:withlevel:Elapsed time for downloading and extracting the file is 0:08:01.300772.\n",
            "\n",
            "INFO:withoutlevel:The file is downloaded from http://mica.edu.vn:8000/KinectData/public/colors/S9P33K7.avi \n",
            " extracted into path .../content/subset/train/fall/S9P33K7\n",
            "INFO:withlevel:Elapsed time for downloading and extracting the file is 0:05:40.467718.\n",
            "\n",
            "INFO:withoutlevel:The file is downloaded from http://mica.edu.vn:8000/KinectData/public/colors/S26P28K5.avi \n",
            " extracted into path .../content/subset/train/adl/S26P28K5\n",
            "INFO:withlevel:Elapsed time for downloading and extracting the file is 0:11:17.839587.\n",
            "\n",
            "INFO:withoutlevel:The file is downloaded from http://mica.edu.vn:8000/KinectData/public/colors/S16P41K3.avi \n",
            " extracted into path .../content/subset/train/fall/S16P41K3\n",
            "INFO:withlevel:Elapsed time for downloading and extracting the file is 0:08:13.388848.\n",
            "\n",
            "INFO:withoutlevel:The file is downloaded from http://mica.edu.vn:8000/KinectData/public/colors/S15P31K6.avi \n",
            " extracted into path .../content/subset/train/fall/S15P31K6\n",
            "INFO:withlevel:Elapsed time for downloading and extracting the file is 0:06:19.850788.\n",
            "\n",
            "INFO:withoutlevel:The file is downloaded from http://mica.edu.vn:8000/KinectData/public/colors/S40P15K3.avi \n",
            " extracted into path .../content/subset/train/adl/S40P15K3\n",
            "INFO:withlevel:Elapsed time for downloading and extracting the file is 0:10:14.711448.\n",
            "\n",
            "INFO:withoutlevel:The file is downloaded from http://mica.edu.vn:8000/KinectData/public/colors/S45P10K2.avi \n",
            " extracted into path .../content/subset/train/fall/S45P10K2\n",
            "INFO:withlevel:Elapsed time for downloading and extracting the file is 0:12:25.261791.\n",
            "\n",
            "INFO:withoutlevel:The file is downloaded from http://mica.edu.vn:8000/KinectData/public/colors/S50P47K5.avi \n",
            " extracted into path .../content/subset/train/fall/S50P47K5\n",
            "INFO:withlevel:Elapsed time for downloading and extracting the file is 0:05:14.303850.\n",
            "\n",
            "INFO:withoutlevel:The file is downloaded from http://mica.edu.vn:8000/KinectData/public/colors/S48P46K6.avi \n",
            " extracted into path .../content/subset/train/fall/S48P46K6\n",
            "INFO:withlevel:Elapsed time for downloading and extracting the file is 0:05:06.209042.\n",
            "\n",
            "INFO:withoutlevel:The file is downloaded from http://mica.edu.vn:8000/KinectData/public/colors/S29P43K7.avi \n",
            " extracted into path .../content/subset/train/adl/S29P43K7\n",
            "INFO:withlevel:Elapsed time for downloading and extracting the file is 0:04:26.360708.\n",
            "\n"
          ],
          "name": "stderr"
        },
        {
          "output_type": "error",
          "ename": "KeyboardInterrupt",
          "evalue": "ignored",
          "traceback": [
            "\u001b[0;31m---------------------------------------------------------------------------\u001b[0m",
            "\u001b[0;31mKeyboardInterrupt\u001b[0m                         Traceback (most recent call last)",
            "\u001b[0;32m<ipython-input-18-672cb1d20589>\u001b[0m in \u001b[0;36m<module>\u001b[0;34m()\u001b[0m\n\u001b[1;32m     44\u001b[0m \u001b[0;34m\u001b[0m\u001b[0m\n\u001b[1;32m     45\u001b[0m \u001b[0mt\u001b[0m \u001b[0;34m=\u001b[0m \u001b[0mt_set\u001b[0m\u001b[0;34m(\u001b[0m\u001b[0;34m)\u001b[0m\u001b[0;34m\u001b[0m\u001b[0;34m\u001b[0m\u001b[0m\n\u001b[0;32m---> 46\u001b[0;31m \u001b[0mdownload_dataset\u001b[0m\u001b[0;34m(\u001b[0m\u001b[0mdf_sample\u001b[0m\u001b[0;34m,\u001b[0m \u001b[0mcmdfall\u001b[0m\u001b[0;34m,\u001b[0m \u001b[0msubset\u001b[0m\u001b[0;34m)\u001b[0m\u001b[0;34m\u001b[0m\u001b[0;34m\u001b[0m\u001b[0m\n\u001b[0m\u001b[1;32m     47\u001b[0m \u001b[0mlogger\u001b[0m\u001b[0;34m.\u001b[0m\u001b[0minfo\u001b[0m\u001b[0;34m(\u001b[0m\u001b[0;34mf'Total time for downloading and extracting entire dataset is {t_diff(t)}\\n {\"=\"*200}'\u001b[0m\u001b[0;34m)\u001b[0m\u001b[0;34m\u001b[0m\u001b[0;34m\u001b[0m\u001b[0m\n\u001b[1;32m     48\u001b[0m \u001b[0mwandb\u001b[0m\u001b[0;34m.\u001b[0m\u001b[0msummary\u001b[0m\u001b[0;34m[\u001b[0m\u001b[0;34m'Download_TotalTime'\u001b[0m\u001b[0;34m]\u001b[0m \u001b[0;34m=\u001b[0m \u001b[0mw_diff\u001b[0m\u001b[0;34m(\u001b[0m\u001b[0mt\u001b[0m\u001b[0;34m)\u001b[0m\u001b[0;34m\u001b[0m\u001b[0;34m\u001b[0m\u001b[0m\n",
            "\u001b[0;32m<ipython-input-18-672cb1d20589>\u001b[0m in \u001b[0;36mdownload_dataset\u001b[0;34m(df_sample, cmdfall, subset)\u001b[0m\n\u001b[1;32m     16\u001b[0m     \u001b[0;32mif\u001b[0m \u001b[0;32mnot\u001b[0m \u001b[0mos\u001b[0m\u001b[0;34m.\u001b[0m\u001b[0mpath\u001b[0m\u001b[0;34m.\u001b[0m\u001b[0mexists\u001b[0m\u001b[0;34m(\u001b[0m\u001b[0mvideo_temp_file\u001b[0m\u001b[0;34m)\u001b[0m\u001b[0;34m:\u001b[0m\u001b[0;34m\u001b[0m\u001b[0;34m\u001b[0m\u001b[0m\n\u001b[1;32m     17\u001b[0m       \u001b[0msafedirs\u001b[0m\u001b[0;34m(\u001b[0m\u001b[0mvideo_temp_folder\u001b[0m\u001b[0;34m)\u001b[0m\u001b[0;34m\u001b[0m\u001b[0;34m\u001b[0m\u001b[0m\n\u001b[0;32m---> 18\u001b[0;31m       \u001b[0murlreq\u001b[0m\u001b[0;34m.\u001b[0m\u001b[0murlretrieve\u001b[0m\u001b[0;34m(\u001b[0m\u001b[0murl\u001b[0m\u001b[0;34m,\u001b[0m \u001b[0mvideo_temp_file\u001b[0m\u001b[0;34m)\u001b[0m\u001b[0;34m\u001b[0m\u001b[0;34m\u001b[0m\u001b[0m\n\u001b[0m\u001b[1;32m     19\u001b[0m     \u001b[0mframe_folder\u001b[0m \u001b[0;34m=\u001b[0m \u001b[0mos\u001b[0m\u001b[0;34m.\u001b[0m\u001b[0mpath\u001b[0m\u001b[0;34m.\u001b[0m\u001b[0mjoin\u001b[0m\u001b[0;34m(\u001b[0m\u001b[0msubset\u001b[0m\u001b[0;34m,\u001b[0m \u001b[0msplit\u001b[0m\u001b[0;34m,\u001b[0m \u001b[0mvalues\u001b[0m\u001b[0;34m.\u001b[0m\u001b[0maction\u001b[0m\u001b[0;34m,\u001b[0m \u001b[0mvideo_filename\u001b[0m\u001b[0;34m)\u001b[0m\u001b[0;34m\u001b[0m\u001b[0;34m\u001b[0m\u001b[0m\n\u001b[1;32m     20\u001b[0m     \u001b[0mcounter\u001b[0m \u001b[0;34m=\u001b[0m \u001b[0;36m1\u001b[0m\u001b[0;34m\u001b[0m\u001b[0;34m\u001b[0m\u001b[0m\n",
            "\u001b[0;32m/usr/lib/python3.7/urllib/request.py\u001b[0m in \u001b[0;36murlretrieve\u001b[0;34m(url, filename, reporthook, data)\u001b[0m\n\u001b[1;32m    274\u001b[0m \u001b[0;34m\u001b[0m\u001b[0m\n\u001b[1;32m    275\u001b[0m             \u001b[0;32mwhile\u001b[0m \u001b[0;32mTrue\u001b[0m\u001b[0;34m:\u001b[0m\u001b[0;34m\u001b[0m\u001b[0;34m\u001b[0m\u001b[0m\n\u001b[0;32m--> 276\u001b[0;31m                 \u001b[0mblock\u001b[0m \u001b[0;34m=\u001b[0m \u001b[0mfp\u001b[0m\u001b[0;34m.\u001b[0m\u001b[0mread\u001b[0m\u001b[0;34m(\u001b[0m\u001b[0mbs\u001b[0m\u001b[0;34m)\u001b[0m\u001b[0;34m\u001b[0m\u001b[0;34m\u001b[0m\u001b[0m\n\u001b[0m\u001b[1;32m    277\u001b[0m                 \u001b[0;32mif\u001b[0m \u001b[0;32mnot\u001b[0m \u001b[0mblock\u001b[0m\u001b[0;34m:\u001b[0m\u001b[0;34m\u001b[0m\u001b[0;34m\u001b[0m\u001b[0m\n\u001b[1;32m    278\u001b[0m                     \u001b[0;32mbreak\u001b[0m\u001b[0;34m\u001b[0m\u001b[0;34m\u001b[0m\u001b[0m\n",
            "\u001b[0;32m/usr/lib/python3.7/http/client.py\u001b[0m in \u001b[0;36mread\u001b[0;34m(self, amt)\u001b[0m\n\u001b[1;32m    459\u001b[0m             \u001b[0;31m# Amount is given, implement using readinto\u001b[0m\u001b[0;34m\u001b[0m\u001b[0;34m\u001b[0m\u001b[0;34m\u001b[0m\u001b[0m\n\u001b[1;32m    460\u001b[0m             \u001b[0mb\u001b[0m \u001b[0;34m=\u001b[0m \u001b[0mbytearray\u001b[0m\u001b[0;34m(\u001b[0m\u001b[0mamt\u001b[0m\u001b[0;34m)\u001b[0m\u001b[0;34m\u001b[0m\u001b[0;34m\u001b[0m\u001b[0m\n\u001b[0;32m--> 461\u001b[0;31m             \u001b[0mn\u001b[0m \u001b[0;34m=\u001b[0m \u001b[0mself\u001b[0m\u001b[0;34m.\u001b[0m\u001b[0mreadinto\u001b[0m\u001b[0;34m(\u001b[0m\u001b[0mb\u001b[0m\u001b[0;34m)\u001b[0m\u001b[0;34m\u001b[0m\u001b[0;34m\u001b[0m\u001b[0m\n\u001b[0m\u001b[1;32m    462\u001b[0m             \u001b[0;32mreturn\u001b[0m \u001b[0mmemoryview\u001b[0m\u001b[0;34m(\u001b[0m\u001b[0mb\u001b[0m\u001b[0;34m)\u001b[0m\u001b[0;34m[\u001b[0m\u001b[0;34m:\u001b[0m\u001b[0mn\u001b[0m\u001b[0;34m]\u001b[0m\u001b[0;34m.\u001b[0m\u001b[0mtobytes\u001b[0m\u001b[0;34m(\u001b[0m\u001b[0;34m)\u001b[0m\u001b[0;34m\u001b[0m\u001b[0;34m\u001b[0m\u001b[0m\n\u001b[1;32m    463\u001b[0m         \u001b[0;32melse\u001b[0m\u001b[0;34m:\u001b[0m\u001b[0;34m\u001b[0m\u001b[0;34m\u001b[0m\u001b[0m\n",
            "\u001b[0;32m/usr/lib/python3.7/http/client.py\u001b[0m in \u001b[0;36mreadinto\u001b[0;34m(self, b)\u001b[0m\n\u001b[1;32m    503\u001b[0m         \u001b[0;31m# connection, and the user is reading more bytes than will be provided\u001b[0m\u001b[0;34m\u001b[0m\u001b[0;34m\u001b[0m\u001b[0;34m\u001b[0m\u001b[0m\n\u001b[1;32m    504\u001b[0m         \u001b[0;31m# (for example, reading in 1k chunks)\u001b[0m\u001b[0;34m\u001b[0m\u001b[0;34m\u001b[0m\u001b[0;34m\u001b[0m\u001b[0m\n\u001b[0;32m--> 505\u001b[0;31m         \u001b[0mn\u001b[0m \u001b[0;34m=\u001b[0m \u001b[0mself\u001b[0m\u001b[0;34m.\u001b[0m\u001b[0mfp\u001b[0m\u001b[0;34m.\u001b[0m\u001b[0mreadinto\u001b[0m\u001b[0;34m(\u001b[0m\u001b[0mb\u001b[0m\u001b[0;34m)\u001b[0m\u001b[0;34m\u001b[0m\u001b[0;34m\u001b[0m\u001b[0m\n\u001b[0m\u001b[1;32m    506\u001b[0m         \u001b[0;32mif\u001b[0m \u001b[0;32mnot\u001b[0m \u001b[0mn\u001b[0m \u001b[0;32mand\u001b[0m \u001b[0mb\u001b[0m\u001b[0;34m:\u001b[0m\u001b[0;34m\u001b[0m\u001b[0;34m\u001b[0m\u001b[0m\n\u001b[1;32m    507\u001b[0m             \u001b[0;31m# Ideally, we would raise IncompleteRead if the content-length\u001b[0m\u001b[0;34m\u001b[0m\u001b[0;34m\u001b[0m\u001b[0;34m\u001b[0m\u001b[0m\n",
            "\u001b[0;32m/usr/lib/python3.7/socket.py\u001b[0m in \u001b[0;36mreadinto\u001b[0;34m(self, b)\u001b[0m\n\u001b[1;32m    587\u001b[0m         \u001b[0;32mwhile\u001b[0m \u001b[0;32mTrue\u001b[0m\u001b[0;34m:\u001b[0m\u001b[0;34m\u001b[0m\u001b[0;34m\u001b[0m\u001b[0m\n\u001b[1;32m    588\u001b[0m             \u001b[0;32mtry\u001b[0m\u001b[0;34m:\u001b[0m\u001b[0;34m\u001b[0m\u001b[0;34m\u001b[0m\u001b[0m\n\u001b[0;32m--> 589\u001b[0;31m                 \u001b[0;32mreturn\u001b[0m \u001b[0mself\u001b[0m\u001b[0;34m.\u001b[0m\u001b[0m_sock\u001b[0m\u001b[0;34m.\u001b[0m\u001b[0mrecv_into\u001b[0m\u001b[0;34m(\u001b[0m\u001b[0mb\u001b[0m\u001b[0;34m)\u001b[0m\u001b[0;34m\u001b[0m\u001b[0;34m\u001b[0m\u001b[0m\n\u001b[0m\u001b[1;32m    590\u001b[0m             \u001b[0;32mexcept\u001b[0m \u001b[0mtimeout\u001b[0m\u001b[0;34m:\u001b[0m\u001b[0;34m\u001b[0m\u001b[0;34m\u001b[0m\u001b[0m\n\u001b[1;32m    591\u001b[0m                 \u001b[0mself\u001b[0m\u001b[0;34m.\u001b[0m\u001b[0m_timeout_occurred\u001b[0m \u001b[0;34m=\u001b[0m \u001b[0;32mTrue\u001b[0m\u001b[0;34m\u001b[0m\u001b[0;34m\u001b[0m\u001b[0m\n",
            "\u001b[0;31mKeyboardInterrupt\u001b[0m: "
          ]
        }
      ]
    },
    {
      "cell_type": "markdown",
      "metadata": {
        "id": "2SSo6h4bAKIZ"
      },
      "source": [
        "## Embedding data"
      ]
    },
    {
      "cell_type": "code",
      "metadata": {
        "colab": {
          "base_uri": "https://localhost:8080/"
        },
        "id": "X8ctyimyEq2B",
        "outputId": "c90aa6c9-f30b-4ee5-aef8-ed7e16ec79e7"
      },
      "source": [
        "from collections import defaultdict\n",
        "from skimage.metrics import structural_similarity\n",
        "import cv2\n",
        "import numpy as np\n",
        "import matplotlib.pyplot as plt\n",
        "import time,os\n",
        "from PIL import Image\n",
        "import tensorflow as tf\n",
        "from tensorflow.keras.layers.experimental import preprocessing\n",
        "\n",
        "\n",
        "def person_detector(imageMatrix,label,mode,folder):\n",
        "  '''\n",
        "  Moving object detection by frame differencing\n",
        "  input: torch tensor object of shape [batch,50,3,480,640] and labels array\n",
        "  output: tuple of torch tensor [batch,1,224,224] and label object \n",
        "  '''\n",
        "  info = ['adl','fall']\n",
        "  bbox_path = os.path.join(os.getcwd(), 'boundingBox', mode, info[label], folder)\n",
        "  logger_t.info(f'Working on creating ... {bbox_path} set')\n",
        "  safedirs(bbox_path)\n",
        "  temp_img = imageMatrix\n",
        "  center_points = []\n",
        "  # use structure similarity for detecting the motion between the frames\n",
        "  for i in range(0,temp_img.shape[0] - 2):\n",
        "    img1 = cv2.medianBlur(cv2.cvtColor(temp_img[i],cv2.COLOR_BGR2GRAY),5)\n",
        "    img2 = cv2.medianBlur(cv2.cvtColor(temp_img[i+2],cv2.COLOR_BGR2GRAY),5)\n",
        "    # score and differences in the pixel\n",
        "    (score,diff) = structural_similarity(img1,img2,full=True)\n",
        "    diff = (diff * 255).astype('uint8')\n",
        "    # dilate the contours to avoid noise\n",
        "    thresh = cv2.threshold(diff, 0, 255, cv2.THRESH_BINARY_INV | cv2.THRESH_OTSU)[1]\n",
        "    dilate_frame = cv2.dilate(thresh, None, iterations=5)\n",
        "    contours = cv2.findContours(dilate_frame.copy(), cv2.RETR_TREE, cv2.CHAIN_APPROX_SIMPLE)\n",
        "    contours = contours[0] if len(contours) == 2 else contours[1] \n",
        "    # Calculate the contour area\n",
        "    contourareas = [cv2.contourArea(c) for c in contours]\n",
        "    # skip if the there is not motion detected\n",
        "    if not contourareas:\n",
        "      print(f'skipping {bbox_path}')\n",
        "      continue\n",
        "    # get the contour which has maximum area\n",
        "    val = np.argmax(contourareas)\n",
        "    # draw the bounding box around the contour\n",
        "    x,y,w,h = cv2.boundingRect(contours[val])\n",
        "    # draw the bounding box in the image\n",
        "    cv2.rectangle(img1, (x, y), (x + w, y + h), (36,255,12), 2)\n",
        "    path = os.path.join(bbox_path, f'image_{i}.jpg')\n",
        "    # store the intermediate file\n",
        "    cv2.imwrite(path, img1)\n",
        "    # calculate the centers of the boxes are return it\n",
        "    center = (int((x+w)/2), int((y+h)/2))\n",
        "    center_points.append(center)\n",
        "  return center_points\n",
        "\n",
        "def get_transform():\n",
        "  transform = tf.keras.Sequential([\n",
        "                                   preprocessing.Resizing(224,224),\n",
        "                                   preprocessing.Normalization()\n",
        "  ])\n",
        "  return transform\n",
        "\n",
        "\n",
        "def image_embedding(images,label,mode,filename):\n",
        "  # transforms for resizing and normalizing image\n",
        "  transform = get_transform()\n",
        "  info = ['adl', 'fall']\n",
        "  # path to store trajectory files \n",
        "  trajectory_path = os.path.join(os.getcwd(), 'trajectories', mode, info[label])\n",
        "  safedirs(trajectory_path)\n",
        "  logger_t.info(f'creating trajectory image at {trajectory_path}')\n",
        "  bkg = np.zeros((480,640),np.uint8)\n",
        "  t=t_set()\n",
        "  # retrieve the center points of the bounding rectangle\n",
        "  points = person_detector(images,label,mode,filename) \n",
        "  logger.info(f'Elapsed time for Bounding box calculation is {t_diff(t)}')\n",
        "  wandb.log({'boundingBox':{'time':w_diff(t)}})\n",
        "  # draw line based on the points to get trajectory\n",
        "  for p in range(len(points)-1):\n",
        "    bkg = cv2.line(bkg,points[p],points[p+1],(255,0,0),5)\n",
        "  bkg = transform(tf.expand_dims(bkg,2))\n",
        "  path = os.path.join(trajectory_path, filename+'.jpg')\n",
        "  # store the files in the folder\n",
        "  cv2.imwrite(path, bkg.numpy())\n",
        "\n",
        "\n",
        "def embedded_data(datapath):\n",
        "  data_dict = defaultdict(list)\n",
        "  # walkthrough all the files in the datafolder and calculate bounding box\n",
        "  for root,dir,files in os.walk(datapath):\n",
        "      for f in files:\n",
        "        frame_path = os.path.join(root,f)\n",
        "        #print(root)\n",
        "        folder = os.path.basename(root)\n",
        "        data_dict[folder].append(frame_path)\n",
        "  # encode each image in the folder\n",
        "  for key in list(data_dict.keys()):\n",
        "    frames, labels = [], []\n",
        "    for f in sorted(data_dict[key]):\n",
        "      labels.append(int(f.split('.')[0][-1]))\n",
        "      temp = f.split('/')\n",
        "      mode = temp[3]\n",
        "      filename = temp[5]\n",
        "      img = cv2.cvtColor(cv2.imread(f),cv2.COLOR_BGR2RGB)\n",
        "      frames.append(img)\n",
        "    frames = np.stack(frames,axis=0)\n",
        "    t=t_set()\n",
        "    image_embedding(frames, np.max(labels), mode, filename)\n",
        "    logger.info(f\"Total time taken for {key} is {t_diff(t)}\")\n",
        "    wandb.log({'trajectory':{'time':w_diff(t)}})\n",
        "\n",
        "\n",
        "logger_t.info(f'{\"=\"*100} \\n\\nSTEP 4: Create Trajectory images\\n')\n",
        "t = t_set()\n",
        "root = os.getcwd()\n",
        "embedded_data(root + '/subset/train')\n",
        "embedded_data(root + '/subset/val')\n",
        "embedded_data(root + '/subset/test')\n",
        "logger.info(f'Total time taken to create trajectory images: {t_diff(t)}')\n",
        "wandb.summary[\"Trajectory_totaltime\"] = w_diff(t)\n"
      ],
      "execution_count": null,
      "outputs": [
        {
          "output_type": "stream",
          "text": [
            "INFO:withoutlevel:==================================================================================================== \n",
            "\n",
            "STEP 4: Create Trajectory images\n",
            "\n",
            "INFO:withoutlevel:creating trajectory image at /content/trajectories/train/fall\n",
            "INFO:withoutlevel:Working on creating ... /content/boundingBox/train/fall/S16P41K3 set\n",
            "INFO:withlevel:Elapsed time for Bounding box calculation is 0:00:05.207836\n",
            "INFO:withlevel:Total time taken for S16P41K3 is 0:00:05.946701\n",
            "INFO:withoutlevel:creating trajectory image at /content/trajectories/train/adl\n",
            "INFO:withoutlevel:Working on creating ... /content/boundingBox/train/adl/S42P20K3 set\n"
          ],
          "name": "stderr"
        },
        {
          "output_type": "stream",
          "text": [
            "skipping /content/boundingBox/train/adl/S42P20K3\n"
          ],
          "name": "stdout"
        },
        {
          "output_type": "stream",
          "text": [
            "INFO:withlevel:Elapsed time for Bounding box calculation is 0:00:02.439637\n",
            "INFO:withlevel:Total time taken for S42P20K3 is 0:00:02.475868\n",
            "INFO:withoutlevel:creating trajectory image at /content/trajectories/train/adl\n",
            "INFO:withoutlevel:Working on creating ... /content/boundingBox/train/adl/S41P29K6_1 set\n",
            "INFO:withlevel:Elapsed time for Bounding box calculation is 0:00:02.419611\n",
            "INFO:withlevel:Total time taken for S41P29K6_1 is 0:00:02.453037\n",
            "INFO:withoutlevel:creating trajectory image at /content/trajectories/train/adl\n",
            "INFO:withoutlevel:Working on creating ... /content/boundingBox/train/adl/S55P18K3 set\n",
            "INFO:withlevel:Elapsed time for Bounding box calculation is 0:00:02.416165\n",
            "INFO:withlevel:Total time taken for S55P18K3 is 0:00:02.449627\n",
            "INFO:withoutlevel:creating trajectory image at /content/trajectories/train/adl\n",
            "INFO:withoutlevel:Working on creating ... /content/boundingBox/train/adl/S13P42K4 set\n",
            "INFO:withlevel:Elapsed time for Bounding box calculation is 0:00:02.433649\n",
            "INFO:withlevel:Total time taken for S13P42K4 is 0:00:02.466895\n",
            "INFO:withoutlevel:creating trajectory image at /content/trajectories/train/fall\n",
            "INFO:withoutlevel:Working on creating ... /content/boundingBox/train/fall/S25P39K6 set\n"
          ],
          "name": "stderr"
        },
        {
          "output_type": "stream",
          "text": [
            "skipping /content/boundingBox/train/fall/S25P39K6\n",
            "skipping /content/boundingBox/train/fall/S25P39K6\n",
            "skipping /content/boundingBox/train/fall/S25P39K6\n",
            "skipping /content/boundingBox/train/fall/S25P39K6\n"
          ],
          "name": "stdout"
        },
        {
          "output_type": "stream",
          "text": [
            "INFO:withlevel:Elapsed time for Bounding box calculation is 0:00:04.974073\n",
            "INFO:withlevel:Total time taken for S25P39K6 is 0:00:05.006308\n",
            "INFO:withoutlevel:creating trajectory image at /content/trajectories/train/fall\n",
            "INFO:withoutlevel:Working on creating ... /content/boundingBox/train/fall/S34P27K6 set\n",
            "INFO:withlevel:Elapsed time for Bounding box calculation is 0:00:04.924932\n",
            "INFO:withlevel:Total time taken for S34P27K6 is 0:00:04.956620\n",
            "INFO:withoutlevel:creating trajectory image at /content/trajectories/train/adl\n",
            "INFO:withoutlevel:Working on creating ... /content/boundingBox/train/adl/S34P27K7 set\n",
            "INFO:withlevel:Elapsed time for Bounding box calculation is 0:00:02.448547\n",
            "INFO:withlevel:Total time taken for S34P27K7 is 0:00:02.486476\n",
            "INFO:withoutlevel:creating trajectory image at /content/trajectories/train/adl\n",
            "INFO:withoutlevel:Working on creating ... /content/boundingBox/train/adl/S24P37K1 set\n",
            "INFO:withlevel:Elapsed time for Bounding box calculation is 0:00:02.462170\n",
            "INFO:withlevel:Total time taken for S24P37K1 is 0:00:02.492737\n",
            "INFO:withoutlevel:creating trajectory image at /content/trajectories/train/adl\n",
            "INFO:withoutlevel:Working on creating ... /content/boundingBox/train/adl/S25P39K1 set\n",
            "INFO:withlevel:Elapsed time for Bounding box calculation is 0:00:02.421869\n",
            "INFO:withlevel:Total time taken for S25P39K1 is 0:00:02.455085\n",
            "INFO:withoutlevel:creating trajectory image at /content/trajectories/train/adl\n",
            "INFO:withoutlevel:Working on creating ... /content/boundingBox/train/adl/S45P10K5 set\n",
            "INFO:withlevel:Elapsed time for Bounding box calculation is 0:00:02.437345\n",
            "INFO:withlevel:Total time taken for S45P10K5 is 0:00:02.470537\n",
            "INFO:withoutlevel:creating trajectory image at /content/trajectories/train/adl\n",
            "INFO:withoutlevel:Working on creating ... /content/boundingBox/train/adl/S20P24K6 set\n",
            "INFO:withlevel:Elapsed time for Bounding box calculation is 0:00:02.443726\n",
            "INFO:withlevel:Total time taken for S20P24K6 is 0:00:02.475427\n",
            "INFO:withoutlevel:creating trajectory image at /content/trajectories/train/adl\n",
            "INFO:withoutlevel:Working on creating ... /content/boundingBox/train/adl/S38P16K4 set\n",
            "INFO:withlevel:Elapsed time for Bounding box calculation is 0:00:02.408621\n",
            "INFO:withlevel:Total time taken for S38P16K4 is 0:00:02.442446\n",
            "INFO:withoutlevel:creating trajectory image at /content/trajectories/train/adl\n",
            "INFO:withoutlevel:Working on creating ... /content/boundingBox/train/adl/S47P14K1 set\n",
            "INFO:withlevel:Elapsed time for Bounding box calculation is 0:00:02.458541\n",
            "INFO:withlevel:Total time taken for S47P14K1 is 0:00:02.495187\n",
            "INFO:withoutlevel:creating trajectory image at /content/trajectories/train/adl\n",
            "INFO:withoutlevel:Working on creating ... /content/boundingBox/train/adl/S15P31K4 set\n",
            "INFO:withlevel:Elapsed time for Bounding box calculation is 0:00:02.463217\n",
            "INFO:withlevel:Total time taken for S15P31K4 is 0:00:02.497588\n",
            "INFO:withoutlevel:creating trajectory image at /content/trajectories/train/adl\n",
            "INFO:withoutlevel:Working on creating ... /content/boundingBox/train/adl/S42P20K1 set\n",
            "INFO:withlevel:Elapsed time for Bounding box calculation is 0:00:02.430374\n",
            "INFO:withlevel:Total time taken for S42P20K1 is 0:00:02.464277\n",
            "INFO:withoutlevel:creating trajectory image at /content/trajectories/train/adl\n",
            "INFO:withoutlevel:Working on creating ... /content/boundingBox/train/adl/S33P40K2 set\n",
            "INFO:withlevel:Elapsed time for Bounding box calculation is 0:00:02.404689\n",
            "INFO:withlevel:Total time taken for S33P40K2 is 0:00:02.443522\n",
            "INFO:withoutlevel:creating trajectory image at /content/trajectories/train/fall\n",
            "INFO:withoutlevel:Working on creating ... /content/boundingBox/train/fall/S48P46K6 set\n",
            "INFO:withlevel:Elapsed time for Bounding box calculation is 0:00:05.001678\n",
            "INFO:withlevel:Total time taken for S48P46K6 is 0:00:05.038960\n",
            "INFO:withoutlevel:creating trajectory image at /content/trajectories/train/adl\n",
            "INFO:withoutlevel:Working on creating ... /content/boundingBox/train/adl/S48P46K1 set\n",
            "INFO:withlevel:Elapsed time for Bounding box calculation is 0:00:02.461607\n",
            "INFO:withlevel:Total time taken for S48P46K1 is 0:00:02.493635\n",
            "INFO:withoutlevel:creating trajectory image at /content/trajectories/train/adl\n",
            "INFO:withoutlevel:Working on creating ... /content/boundingBox/train/adl/S40P15K3 set\n",
            "INFO:withlevel:Elapsed time for Bounding box calculation is 0:00:02.485616\n",
            "INFO:withlevel:Total time taken for S40P15K3 is 0:00:02.517672\n",
            "INFO:withoutlevel:creating trajectory image at /content/trajectories/train/adl\n",
            "INFO:withoutlevel:Working on creating ... /content/boundingBox/train/adl/S50P47K4 set\n",
            "INFO:withlevel:Elapsed time for Bounding box calculation is 0:00:02.471659\n",
            "INFO:withlevel:Total time taken for S50P47K4 is 0:00:02.509335\n",
            "INFO:withoutlevel:creating trajectory image at /content/trajectories/train/adl\n",
            "INFO:withoutlevel:Working on creating ... /content/boundingBox/train/adl/S55P18K4 set\n",
            "INFO:withlevel:Elapsed time for Bounding box calculation is 0:00:02.443283\n",
            "INFO:withlevel:Total time taken for S55P18K4 is 0:00:02.475599\n",
            "INFO:withoutlevel:creating trajectory image at /content/trajectories/train/adl\n",
            "INFO:withoutlevel:Working on creating ... /content/boundingBox/train/adl/S48P46K2 set\n",
            "INFO:withlevel:Elapsed time for Bounding box calculation is 0:00:02.439867\n",
            "INFO:withlevel:Total time taken for S48P46K2 is 0:00:02.473844\n",
            "INFO:withoutlevel:creating trajectory image at /content/trajectories/train/adl\n",
            "INFO:withoutlevel:Working on creating ... /content/boundingBox/train/adl/S7P1K1 set\n",
            "INFO:withlevel:Elapsed time for Bounding box calculation is 0:00:02.466928\n",
            "INFO:withlevel:Total time taken for S7P1K1 is 0:00:02.503426\n",
            "INFO:withoutlevel:creating trajectory image at /content/trajectories/train/adl\n",
            "INFO:withoutlevel:Working on creating ... /content/boundingBox/train/adl/S25P39K5 set\n",
            "INFO:withlevel:Elapsed time for Bounding box calculation is 0:00:02.432592\n",
            "INFO:withlevel:Total time taken for S25P39K5 is 0:00:02.465320\n",
            "INFO:withoutlevel:creating trajectory image at /content/trajectories/train/adl\n",
            "INFO:withoutlevel:Working on creating ... /content/boundingBox/train/adl/S3P30K1 set\n",
            "INFO:withlevel:Elapsed time for Bounding box calculation is 0:00:02.434558\n",
            "INFO:withlevel:Total time taken for S3P30K1 is 0:00:02.466280\n",
            "INFO:withoutlevel:creating trajectory image at /content/trajectories/train/adl\n",
            "INFO:withoutlevel:Working on creating ... /content/boundingBox/train/adl/S16P41K1 set\n",
            "INFO:withlevel:Elapsed time for Bounding box calculation is 0:00:02.368533\n",
            "INFO:withlevel:Total time taken for S16P41K1 is 0:00:02.400959\n",
            "INFO:withoutlevel:creating trajectory image at /content/trajectories/train/adl\n",
            "INFO:withoutlevel:Working on creating ... /content/boundingBox/train/adl/S16P41K6 set\n",
            "INFO:withlevel:Elapsed time for Bounding box calculation is 0:00:02.422309\n",
            "INFO:withlevel:Total time taken for S16P41K6 is 0:00:02.455454\n",
            "INFO:withoutlevel:creating trajectory image at /content/trajectories/train/adl\n",
            "INFO:withoutlevel:Working on creating ... /content/boundingBox/train/adl/S10P12K4 set\n",
            "INFO:withlevel:Elapsed time for Bounding box calculation is 0:00:02.430559\n",
            "INFO:withlevel:Total time taken for S10P12K4 is 0:00:02.464515\n",
            "INFO:withoutlevel:creating trajectory image at /content/trajectories/train/adl\n",
            "INFO:withoutlevel:Working on creating ... /content/boundingBox/train/adl/S48P46K4 set\n",
            "INFO:withlevel:Elapsed time for Bounding box calculation is 0:00:02.425063\n",
            "INFO:withlevel:Total time taken for S48P46K4 is 0:00:02.458068\n",
            "INFO:withoutlevel:creating trajectory image at /content/trajectories/train/adl\n",
            "INFO:withoutlevel:Working on creating ... /content/boundingBox/train/adl/S30P7K3 set\n",
            "INFO:withlevel:Elapsed time for Bounding box calculation is 0:00:02.397814\n",
            "INFO:withlevel:Total time taken for S30P7K3 is 0:00:02.431788\n",
            "INFO:withoutlevel:creating trajectory image at /content/trajectories/train/fall\n",
            "INFO:withoutlevel:Working on creating ... /content/boundingBox/train/fall/S18P6K2 set\n",
            "INFO:withlevel:Elapsed time for Bounding box calculation is 0:00:04.903022\n",
            "INFO:withlevel:Total time taken for S18P6K2 is 0:00:04.935602\n",
            "INFO:withoutlevel:creating trajectory image at /content/trajectories/train/adl\n",
            "INFO:withoutlevel:Working on creating ... /content/boundingBox/train/adl/S28P9K6 set\n",
            "INFO:withlevel:Elapsed time for Bounding box calculation is 0:00:02.392593\n",
            "INFO:withlevel:Total time taken for S28P9K6 is 0:00:02.423787\n",
            "INFO:withoutlevel:creating trajectory image at /content/trajectories/train/adl\n",
            "INFO:withoutlevel:Working on creating ... /content/boundingBox/train/adl/S26P28K4 set\n",
            "INFO:withlevel:Elapsed time for Bounding box calculation is 0:00:02.403903\n",
            "INFO:withlevel:Total time taken for S26P28K4 is 0:00:02.434788\n",
            "INFO:withoutlevel:creating trajectory image at /content/trajectories/train/adl\n",
            "INFO:withoutlevel:Working on creating ... /content/boundingBox/train/adl/S42P20K2_1 set\n",
            "INFO:withlevel:Elapsed time for Bounding box calculation is 0:00:02.414129\n",
            "INFO:withlevel:Total time taken for S42P20K2_1 is 0:00:02.448388\n",
            "INFO:withoutlevel:creating trajectory image at /content/trajectories/train/adl\n",
            "INFO:withoutlevel:Working on creating ... /content/boundingBox/train/adl/S43P38K1 set\n",
            "INFO:withlevel:Elapsed time for Bounding box calculation is 0:00:02.418428\n",
            "INFO:withlevel:Total time taken for S43P38K1 is 0:00:02.455470\n",
            "INFO:withoutlevel:creating trajectory image at /content/trajectories/train/adl\n",
            "INFO:withoutlevel:Working on creating ... /content/boundingBox/train/adl/S23P17K6 set\n"
          ],
          "name": "stderr"
        },
        {
          "output_type": "stream",
          "text": [
            "skipping /content/boundingBox/train/adl/S23P17K6\n",
            "skipping /content/boundingBox/train/adl/S23P17K6\n",
            "skipping /content/boundingBox/train/adl/S23P17K6\n",
            "skipping /content/boundingBox/train/adl/S23P17K6\n"
          ],
          "name": "stdout"
        },
        {
          "output_type": "stream",
          "text": [
            "INFO:withlevel:Elapsed time for Bounding box calculation is 0:00:02.423977\n",
            "INFO:withlevel:Total time taken for S23P17K6 is 0:00:02.461459\n",
            "INFO:withoutlevel:creating trajectory image at /content/trajectories/train/adl\n",
            "INFO:withoutlevel:Working on creating ... /content/boundingBox/train/adl/S38P16K5 set\n",
            "INFO:withlevel:Elapsed time for Bounding box calculation is 0:00:02.413007\n",
            "INFO:withlevel:Total time taken for S38P16K5 is 0:00:02.446843\n",
            "INFO:withoutlevel:creating trajectory image at /content/trajectories/train/adl\n",
            "INFO:withoutlevel:Working on creating ... /content/boundingBox/train/adl/S41P29K6 set\n",
            "INFO:withlevel:Elapsed time for Bounding box calculation is 0:00:02.441721\n",
            "INFO:withlevel:Total time taken for S41P29K6 is 0:00:02.483816\n",
            "INFO:withoutlevel:creating trajectory image at /content/trajectories/train/adl\n",
            "INFO:withoutlevel:Working on creating ... /content/boundingBox/train/adl/S7P1K6 set\n",
            "INFO:withlevel:Elapsed time for Bounding box calculation is 0:00:03.038239\n",
            "INFO:withlevel:Total time taken for S7P1K6 is 0:00:03.078537\n",
            "INFO:withoutlevel:creating trajectory image at /content/trajectories/train/fall\n",
            "INFO:withoutlevel:Working on creating ... /content/boundingBox/train/fall/S46P35K7 set\n",
            "INFO:withlevel:Elapsed time for Bounding box calculation is 0:00:04.914882\n",
            "INFO:withlevel:Total time taken for S46P35K7 is 0:00:04.947456\n",
            "INFO:withoutlevel:creating trajectory image at /content/trajectories/train/adl\n",
            "INFO:withoutlevel:Working on creating ... /content/boundingBox/train/adl/S33P40K5 set\n",
            "INFO:withlevel:Elapsed time for Bounding box calculation is 0:00:02.432524\n",
            "INFO:withlevel:Total time taken for S33P40K5 is 0:00:02.469363\n",
            "INFO:withoutlevel:creating trajectory image at /content/trajectories/train/adl\n",
            "INFO:withoutlevel:Working on creating ... /content/boundingBox/train/adl/S14P2K4 set\n",
            "INFO:withlevel:Elapsed time for Bounding box calculation is 0:00:02.411239\n",
            "INFO:withlevel:Total time taken for S14P2K4 is 0:00:02.443273\n",
            "INFO:withoutlevel:creating trajectory image at /content/trajectories/train/adl\n",
            "INFO:withoutlevel:Working on creating ... /content/boundingBox/train/adl/S42P20K2 set\n",
            "INFO:withlevel:Elapsed time for Bounding box calculation is 0:00:02.417935\n",
            "INFO:withlevel:Total time taken for S42P20K2 is 0:00:02.451147\n",
            "INFO:withoutlevel:creating trajectory image at /content/trajectories/train/adl\n",
            "INFO:withoutlevel:Working on creating ... /content/boundingBox/train/adl/S34P27K1_1 set\n",
            "INFO:withlevel:Elapsed time for Bounding box calculation is 0:00:02.425437\n",
            "INFO:withlevel:Total time taken for S34P27K1_1 is 0:00:02.460136\n",
            "INFO:withoutlevel:creating trajectory image at /content/trajectories/train/adl\n",
            "INFO:withoutlevel:Working on creating ... /content/boundingBox/train/adl/S47P14K2 set\n",
            "INFO:withlevel:Elapsed time for Bounding box calculation is 0:00:02.423611\n",
            "INFO:withlevel:Total time taken for S47P14K2 is 0:00:02.456808\n",
            "INFO:withoutlevel:creating trajectory image at /content/trajectories/train/adl\n",
            "INFO:withoutlevel:Working on creating ... /content/boundingBox/train/adl/S28P9K6_1 set\n",
            "INFO:withlevel:Elapsed time for Bounding box calculation is 0:00:02.414098\n",
            "INFO:withlevel:Total time taken for S28P9K6_1 is 0:00:02.454313\n",
            "INFO:withoutlevel:creating trajectory image at /content/trajectories/train/adl\n",
            "INFO:withoutlevel:Working on creating ... /content/boundingBox/train/adl/S42P20K1_1 set\n",
            "INFO:withlevel:Elapsed time for Bounding box calculation is 0:00:02.432016\n",
            "INFO:withlevel:Total time taken for S42P20K1_1 is 0:00:02.468881\n",
            "INFO:withoutlevel:creating trajectory image at /content/trajectories/train/adl\n",
            "INFO:withoutlevel:Working on creating ... /content/boundingBox/train/adl/S26P28K5 set\n",
            "INFO:withlevel:Elapsed time for Bounding box calculation is 0:00:02.462707\n",
            "INFO:withlevel:Total time taken for S26P28K5 is 0:00:02.503528\n",
            "INFO:withoutlevel:creating trajectory image at /content/trajectories/train/adl\n",
            "INFO:withoutlevel:Working on creating ... /content/boundingBox/train/adl/S11P8K2 set\n",
            "INFO:withlevel:Elapsed time for Bounding box calculation is 0:00:02.454845\n",
            "INFO:withlevel:Total time taken for S11P8K2 is 0:00:02.491841\n",
            "INFO:withoutlevel:creating trajectory image at /content/trajectories/train/adl\n",
            "INFO:withoutlevel:Working on creating ... /content/boundingBox/train/adl/S30P7K6 set\n",
            "INFO:withlevel:Elapsed time for Bounding box calculation is 0:00:02.407167\n",
            "INFO:withlevel:Total time taken for S30P7K6 is 0:00:02.440058\n",
            "INFO:withoutlevel:creating trajectory image at /content/trajectories/train/adl\n",
            "INFO:withoutlevel:Working on creating ... /content/boundingBox/train/adl/S30P7K4 set\n",
            "INFO:withlevel:Elapsed time for Bounding box calculation is 0:00:02.419674\n",
            "INFO:withlevel:Total time taken for S30P7K4 is 0:00:02.453857\n",
            "INFO:withoutlevel:creating trajectory image at /content/trajectories/train/adl\n",
            "INFO:withoutlevel:Working on creating ... /content/boundingBox/train/adl/S22P36K5 set\n",
            "INFO:withlevel:Elapsed time for Bounding box calculation is 0:00:02.461723\n",
            "INFO:withlevel:Total time taken for S22P36K5 is 0:00:02.494718\n",
            "INFO:withoutlevel:creating trajectory image at /content/trajectories/train/fall\n",
            "INFO:withoutlevel:Working on creating ... /content/boundingBox/train/fall/S18P6K5 set\n"
          ],
          "name": "stderr"
        },
        {
          "output_type": "stream",
          "text": [
            "skipping /content/boundingBox/train/fall/S18P6K5\n",
            "skipping /content/boundingBox/train/fall/S18P6K5\n"
          ],
          "name": "stdout"
        },
        {
          "output_type": "stream",
          "text": [
            "INFO:withlevel:Elapsed time for Bounding box calculation is 0:00:04.962764\n",
            "INFO:withlevel:Total time taken for S18P6K5 is 0:00:05.002855\n",
            "INFO:withoutlevel:creating trajectory image at /content/trajectories/train/fall\n",
            "INFO:withoutlevel:Working on creating ... /content/boundingBox/train/fall/S29P43K3 set\n",
            "INFO:withlevel:Elapsed time for Bounding box calculation is 0:00:04.951752\n",
            "INFO:withlevel:Total time taken for S29P43K3 is 0:00:04.985489\n",
            "INFO:withoutlevel:creating trajectory image at /content/trajectories/train/adl\n",
            "INFO:withoutlevel:Working on creating ... /content/boundingBox/train/adl/S55P18K5 set\n",
            "INFO:withlevel:Elapsed time for Bounding box calculation is 0:00:02.451728\n",
            "INFO:withlevel:Total time taken for S55P18K5 is 0:00:02.483487\n",
            "INFO:withoutlevel:creating trajectory image at /content/trajectories/train/adl\n",
            "INFO:withoutlevel:Working on creating ... /content/boundingBox/train/adl/S35P11K1 set\n",
            "INFO:withlevel:Elapsed time for Bounding box calculation is 0:00:02.456038\n",
            "INFO:withlevel:Total time taken for S35P11K1 is 0:00:02.489619\n",
            "INFO:withoutlevel:creating trajectory image at /content/trajectories/train/adl\n",
            "INFO:withoutlevel:Working on creating ... /content/boundingBox/train/adl/S22P36K4 set\n",
            "INFO:withlevel:Elapsed time for Bounding box calculation is 0:00:02.420834\n",
            "INFO:withlevel:Total time taken for S22P36K4 is 0:00:02.452929\n",
            "INFO:withoutlevel:creating trajectory image at /content/trajectories/train/adl\n",
            "INFO:withoutlevel:Working on creating ... /content/boundingBox/train/adl/S40P15K3_1 set\n",
            "INFO:withlevel:Elapsed time for Bounding box calculation is 0:00:02.459166\n",
            "INFO:withlevel:Total time taken for S40P15K3_1 is 0:00:02.492452\n",
            "INFO:withoutlevel:creating trajectory image at /content/trajectories/train/adl\n",
            "INFO:withoutlevel:Working on creating ... /content/boundingBox/train/adl/S27P4K6 set\n",
            "INFO:withlevel:Elapsed time for Bounding box calculation is 0:00:02.408065\n",
            "INFO:withlevel:Total time taken for S27P4K6 is 0:00:02.445448\n",
            "INFO:withoutlevel:creating trajectory image at /content/trajectories/train/adl\n",
            "INFO:withoutlevel:Working on creating ... /content/boundingBox/train/adl/S29P43K7 set\n",
            "INFO:withlevel:Elapsed time for Bounding box calculation is 0:00:02.405703\n",
            "INFO:withlevel:Total time taken for S29P43K7 is 0:00:02.440549\n",
            "INFO:withoutlevel:creating trajectory image at /content/trajectories/train/adl\n",
            "INFO:withoutlevel:Working on creating ... /content/boundingBox/train/adl/S51P50K7 set\n",
            "INFO:withlevel:Elapsed time for Bounding box calculation is 0:00:02.416317\n",
            "INFO:withlevel:Total time taken for S51P50K7 is 0:00:02.449722\n",
            "INFO:withoutlevel:creating trajectory image at /content/trajectories/train/adl\n",
            "INFO:withoutlevel:Working on creating ... /content/boundingBox/train/adl/S28P9K1 set\n",
            "INFO:withlevel:Elapsed time for Bounding box calculation is 0:00:02.404663\n",
            "INFO:withlevel:Total time taken for S28P9K1 is 0:00:02.449016\n",
            "INFO:withoutlevel:creating trajectory image at /content/trajectories/train/adl\n",
            "INFO:withoutlevel:Working on creating ... /content/boundingBox/train/adl/S34P27K1 set\n",
            "INFO:withlevel:Elapsed time for Bounding box calculation is 0:00:02.446217\n",
            "INFO:withlevel:Total time taken for S34P27K1 is 0:00:02.483033\n",
            "INFO:withoutlevel:creating trajectory image at /content/trajectories/train/adl\n",
            "INFO:withoutlevel:Working on creating ... /content/boundingBox/train/adl/S18P6K2_1 set\n",
            "INFO:withlevel:Elapsed time for Bounding box calculation is 0:00:02.440978\n",
            "INFO:withlevel:Total time taken for S18P6K2_1 is 0:00:02.476521\n",
            "INFO:withoutlevel:creating trajectory image at /content/trajectories/train/fall\n",
            "INFO:withoutlevel:Working on creating ... /content/boundingBox/train/fall/S2P32K2 set\n",
            "INFO:withlevel:Elapsed time for Bounding box calculation is 0:00:02.467044\n",
            "INFO:withlevel:Total time taken for S2P32K2 is 0:00:02.500762\n",
            "INFO:withoutlevel:creating trajectory image at /content/trajectories/train/fall\n",
            "INFO:withoutlevel:Working on creating ... /content/boundingBox/train/fall/S13P42K1 set\n",
            "INFO:withlevel:Elapsed time for Bounding box calculation is 0:00:02.435267\n",
            "INFO:withlevel:Total time taken for S13P42K1 is 0:00:02.467185\n",
            "INFO:withoutlevel:creating trajectory image at /content/trajectories/train/fall\n",
            "INFO:withoutlevel:Working on creating ... /content/boundingBox/train/fall/S19P3K4 set\n",
            "INFO:withlevel:Elapsed time for Bounding box calculation is 0:00:02.420818\n",
            "INFO:withlevel:Total time taken for S19P3K4 is 0:00:02.453422\n",
            "INFO:withoutlevel:creating trajectory image at /content/trajectories/train/fall\n",
            "INFO:withoutlevel:Working on creating ... /content/boundingBox/train/fall/S51P50K3 set\n",
            "INFO:withlevel:Elapsed time for Bounding box calculation is 0:00:02.431174\n",
            "INFO:withlevel:Total time taken for S51P50K3 is 0:00:02.467778\n",
            "INFO:withoutlevel:creating trajectory image at /content/trajectories/train/fall\n",
            "INFO:withoutlevel:Working on creating ... /content/boundingBox/train/fall/S9P33K7 set\n",
            "INFO:withlevel:Elapsed time for Bounding box calculation is 0:00:02.437792\n",
            "INFO:withlevel:Total time taken for S9P33K7 is 0:00:02.468568\n",
            "INFO:withoutlevel:creating trajectory image at /content/trajectories/train/fall\n",
            "INFO:withoutlevel:Working on creating ... /content/boundingBox/train/fall/S20P24K5 set\n",
            "INFO:withlevel:Elapsed time for Bounding box calculation is 0:00:06.281605\n",
            "INFO:withlevel:Total time taken for S20P24K5 is 0:00:06.383565\n",
            "INFO:withoutlevel:creating trajectory image at /content/trajectories/train/fall\n",
            "INFO:withoutlevel:Working on creating ... /content/boundingBox/train/fall/S10P12K1 set\n",
            "INFO:withlevel:Elapsed time for Bounding box calculation is 0:00:03.461314\n",
            "INFO:withlevel:Total time taken for S10P12K1 is 0:00:03.520701\n",
            "INFO:withoutlevel:creating trajectory image at /content/trajectories/train/fall\n",
            "INFO:withoutlevel:Working on creating ... /content/boundingBox/train/fall/S15P31K2 set\n",
            "INFO:withlevel:Elapsed time for Bounding box calculation is 0:00:02.442675\n",
            "INFO:withlevel:Total time taken for S15P31K2 is 0:00:02.475876\n",
            "INFO:withoutlevel:creating trajectory image at /content/trajectories/train/fall\n",
            "INFO:withoutlevel:Working on creating ... /content/boundingBox/train/fall/S30P7K1 set\n",
            "INFO:withlevel:Elapsed time for Bounding box calculation is 0:00:02.429800\n",
            "INFO:withlevel:Total time taken for S30P7K1 is 0:00:02.467701\n",
            "INFO:withoutlevel:creating trajectory image at /content/trajectories/train/fall\n",
            "INFO:withoutlevel:Working on creating ... /content/boundingBox/train/fall/S34P27K2_1 set\n",
            "INFO:withlevel:Elapsed time for Bounding box calculation is 0:00:02.476399\n",
            "INFO:withlevel:Total time taken for S34P27K2_1 is 0:00:02.509947\n",
            "INFO:withoutlevel:creating trajectory image at /content/trajectories/train/fall\n",
            "INFO:withoutlevel:Working on creating ... /content/boundingBox/train/fall/S45P10K2 set\n",
            "INFO:withlevel:Elapsed time for Bounding box calculation is 0:00:02.421817\n",
            "INFO:withlevel:Total time taken for S45P10K2 is 0:00:02.452741\n",
            "INFO:withoutlevel:creating trajectory image at /content/trajectories/train/fall\n",
            "INFO:withoutlevel:Working on creating ... /content/boundingBox/train/fall/S21P25K7 set\n",
            "INFO:withlevel:Elapsed time for Bounding box calculation is 0:00:02.445886\n",
            "INFO:withlevel:Total time taken for S21P25K7 is 0:00:02.478387\n",
            "INFO:withoutlevel:creating trajectory image at /content/trajectories/train/fall\n",
            "INFO:withoutlevel:Working on creating ... /content/boundingBox/train/fall/S27P4K3 set\n",
            "INFO:withlevel:Elapsed time for Bounding box calculation is 0:00:02.428453\n",
            "INFO:withlevel:Total time taken for S27P4K3 is 0:00:02.461082\n",
            "INFO:withoutlevel:creating trajectory image at /content/trajectories/train/fall\n",
            "INFO:withoutlevel:Working on creating ... /content/boundingBox/train/fall/S2P32K1 set\n",
            "INFO:withlevel:Elapsed time for Bounding box calculation is 0:00:02.458702\n",
            "INFO:withlevel:Total time taken for S2P32K1 is 0:00:02.490809\n",
            "INFO:withoutlevel:creating trajectory image at /content/trajectories/train/fall\n",
            "INFO:withoutlevel:Working on creating ... /content/boundingBox/train/fall/S4P2K3 set\n",
            "INFO:withlevel:Elapsed time for Bounding box calculation is 0:00:02.438485\n",
            "INFO:withlevel:Total time taken for S4P2K3 is 0:00:02.475231\n",
            "INFO:withoutlevel:creating trajectory image at /content/trajectories/train/fall\n",
            "INFO:withoutlevel:Working on creating ... /content/boundingBox/train/fall/S29P43K2 set\n",
            "INFO:withlevel:Elapsed time for Bounding box calculation is 0:00:02.476142\n",
            "INFO:withlevel:Total time taken for S29P43K2 is 0:00:02.516078\n",
            "INFO:withoutlevel:creating trajectory image at /content/trajectories/train/fall\n",
            "INFO:withoutlevel:Working on creating ... /content/boundingBox/train/fall/S35P11K7 set\n",
            "INFO:withlevel:Elapsed time for Bounding box calculation is 0:00:02.434978\n",
            "INFO:withlevel:Total time taken for S35P11K7 is 0:00:02.468378\n",
            "INFO:withoutlevel:creating trajectory image at /content/trajectories/train/fall\n",
            "INFO:withoutlevel:Working on creating ... /content/boundingBox/train/fall/S36P34K6 set\n",
            "INFO:withlevel:Elapsed time for Bounding box calculation is 0:00:02.503361\n",
            "INFO:withlevel:Total time taken for S36P34K6 is 0:00:02.542203\n",
            "INFO:withoutlevel:creating trajectory image at /content/trajectories/train/fall\n",
            "INFO:withoutlevel:Working on creating ... /content/boundingBox/train/fall/S50P47K2 set\n",
            "INFO:withlevel:Elapsed time for Bounding box calculation is 0:00:02.444098\n",
            "INFO:withlevel:Total time taken for S50P47K2 is 0:00:02.483560\n",
            "INFO:withoutlevel:creating trajectory image at /content/trajectories/train/fall\n",
            "INFO:withoutlevel:Working on creating ... /content/boundingBox/train/fall/S47P14K3 set\n",
            "INFO:withlevel:Elapsed time for Bounding box calculation is 0:00:02.429308\n",
            "INFO:withlevel:Total time taken for S47P14K3 is 0:00:02.461791\n",
            "INFO:withoutlevel:creating trajectory image at /content/trajectories/train/fall\n",
            "INFO:withoutlevel:Working on creating ... /content/boundingBox/train/fall/S37P45K3 set\n",
            "INFO:withlevel:Elapsed time for Bounding box calculation is 0:00:02.439687\n",
            "INFO:withlevel:Total time taken for S37P45K3 is 0:00:02.474370\n",
            "INFO:withoutlevel:creating trajectory image at /content/trajectories/train/fall\n",
            "INFO:withoutlevel:Working on creating ... /content/boundingBox/train/fall/S50P47K5 set\n",
            "INFO:withlevel:Elapsed time for Bounding box calculation is 0:00:02.476476\n",
            "INFO:withlevel:Total time taken for S50P47K5 is 0:00:02.510195\n",
            "INFO:withoutlevel:creating trajectory image at /content/trajectories/train/fall\n",
            "INFO:withoutlevel:Working on creating ... /content/boundingBox/train/fall/S24P37K2 set\n",
            "INFO:withlevel:Elapsed time for Bounding box calculation is 0:00:02.454568\n",
            "INFO:withlevel:Total time taken for S24P37K2 is 0:00:02.488204\n",
            "INFO:withoutlevel:creating trajectory image at /content/trajectories/train/fall\n",
            "INFO:withoutlevel:Working on creating ... /content/boundingBox/train/fall/S53P26K1 set\n",
            "INFO:withlevel:Elapsed time for Bounding box calculation is 0:00:02.432979\n",
            "INFO:withlevel:Total time taken for S53P26K1 is 0:00:02.466803\n",
            "INFO:withoutlevel:creating trajectory image at /content/trajectories/train/fall\n",
            "INFO:withoutlevel:Working on creating ... /content/boundingBox/train/fall/S48P46K3 set\n",
            "INFO:withlevel:Elapsed time for Bounding box calculation is 0:00:02.482733\n",
            "INFO:withlevel:Total time taken for S48P46K3 is 0:00:02.515890\n",
            "INFO:withoutlevel:creating trajectory image at /content/trajectories/train/fall\n",
            "INFO:withoutlevel:Working on creating ... /content/boundingBox/train/fall/S29P43K6 set\n",
            "INFO:withlevel:Elapsed time for Bounding box calculation is 0:00:02.443852\n",
            "INFO:withlevel:Total time taken for S29P43K6 is 0:00:02.476524\n",
            "INFO:withoutlevel:creating trajectory image at /content/trajectories/train/fall\n",
            "INFO:withoutlevel:Working on creating ... /content/boundingBox/train/fall/S34P27K4 set\n",
            "INFO:withlevel:Elapsed time for Bounding box calculation is 0:00:02.439325\n",
            "INFO:withlevel:Total time taken for S34P27K4 is 0:00:02.471953\n",
            "INFO:withoutlevel:creating trajectory image at /content/trajectories/train/fall\n",
            "INFO:withoutlevel:Working on creating ... /content/boundingBox/train/fall/S3P30K7 set\n",
            "INFO:withlevel:Elapsed time for Bounding box calculation is 0:00:02.408997\n",
            "INFO:withlevel:Total time taken for S3P30K7 is 0:00:02.441608\n",
            "INFO:withoutlevel:creating trajectory image at /content/trajectories/train/fall\n",
            "INFO:withoutlevel:Working on creating ... /content/boundingBox/train/fall/S20P24K4 set\n",
            "INFO:withlevel:Elapsed time for Bounding box calculation is 0:00:02.466389\n",
            "INFO:withlevel:Total time taken for S20P24K4 is 0:00:02.498446\n",
            "INFO:withoutlevel:creating trajectory image at /content/trajectories/train/fall\n",
            "INFO:withoutlevel:Working on creating ... /content/boundingBox/train/fall/S44P5K4 set\n",
            "INFO:withlevel:Elapsed time for Bounding box calculation is 0:00:02.430944\n",
            "INFO:withlevel:Total time taken for S44P5K4 is 0:00:02.463251\n",
            "INFO:withoutlevel:creating trajectory image at /content/trajectories/train/fall\n",
            "INFO:withoutlevel:Working on creating ... /content/boundingBox/train/fall/S53P26K6 set\n",
            "INFO:withlevel:Elapsed time for Bounding box calculation is 0:00:02.408516\n",
            "INFO:withlevel:Total time taken for S53P26K6 is 0:00:02.446028\n",
            "INFO:withoutlevel:creating trajectory image at /content/trajectories/train/fall\n",
            "INFO:withoutlevel:Working on creating ... /content/boundingBox/train/fall/S55P18K2 set\n",
            "INFO:withlevel:Elapsed time for Bounding box calculation is 0:00:02.464479\n",
            "INFO:withlevel:Total time taken for S55P18K2 is 0:00:02.497139\n",
            "INFO:withoutlevel:creating trajectory image at /content/trajectories/train/fall\n",
            "INFO:withoutlevel:Working on creating ... /content/boundingBox/train/fall/S21P25K3 set\n",
            "INFO:withlevel:Elapsed time for Bounding box calculation is 0:00:02.426190\n",
            "INFO:withlevel:Total time taken for S21P25K3 is 0:00:02.463334\n",
            "INFO:withoutlevel:creating trajectory image at /content/trajectories/train/fall\n",
            "INFO:withoutlevel:Working on creating ... /content/boundingBox/train/fall/S13P42K2 set\n",
            "INFO:withlevel:Elapsed time for Bounding box calculation is 0:00:02.501694\n",
            "INFO:withlevel:Total time taken for S13P42K2 is 0:00:02.533789\n",
            "INFO:withoutlevel:creating trajectory image at /content/trajectories/train/fall\n",
            "INFO:withoutlevel:Working on creating ... /content/boundingBox/train/fall/S50P47K5_1 set\n",
            "INFO:withlevel:Elapsed time for Bounding box calculation is 0:00:02.470785\n",
            "INFO:withlevel:Total time taken for S50P47K5_1 is 0:00:02.507629\n",
            "INFO:withoutlevel:creating trajectory image at /content/trajectories/train/fall\n",
            "INFO:withoutlevel:Working on creating ... /content/boundingBox/train/fall/S23P17K2 set\n",
            "INFO:withlevel:Elapsed time for Bounding box calculation is 0:00:02.450623\n",
            "INFO:withlevel:Total time taken for S23P17K2 is 0:00:02.483708\n",
            "INFO:withoutlevel:creating trajectory image at /content/trajectories/train/fall\n",
            "INFO:withoutlevel:Working on creating ... /content/boundingBox/train/fall/S16P41K4 set\n",
            "INFO:withlevel:Elapsed time for Bounding box calculation is 0:00:02.457386\n",
            "INFO:withlevel:Total time taken for S16P41K4 is 0:00:02.488607\n",
            "INFO:withoutlevel:creating trajectory image at /content/trajectories/train/fall\n",
            "INFO:withoutlevel:Working on creating ... /content/boundingBox/train/fall/S17P21K1 set\n",
            "INFO:withlevel:Elapsed time for Bounding box calculation is 0:00:02.490293\n",
            "INFO:withlevel:Total time taken for S17P21K1 is 0:00:02.523830\n",
            "INFO:withoutlevel:creating trajectory image at /content/trajectories/train/fall\n",
            "INFO:withoutlevel:Working on creating ... /content/boundingBox/train/fall/S25P39K3 set\n",
            "INFO:withlevel:Elapsed time for Bounding box calculation is 0:00:02.456265\n",
            "INFO:withlevel:Total time taken for S25P39K3 is 0:00:02.504891\n",
            "INFO:withoutlevel:creating trajectory image at /content/trajectories/train/fall\n",
            "INFO:withoutlevel:Working on creating ... /content/boundingBox/train/fall/S35P11K2 set\n",
            "INFO:withlevel:Elapsed time for Bounding box calculation is 0:00:02.492027\n",
            "INFO:withlevel:Total time taken for S35P11K2 is 0:00:02.523268\n",
            "INFO:withoutlevel:creating trajectory image at /content/trajectories/train/fall\n",
            "INFO:withoutlevel:Working on creating ... /content/boundingBox/train/fall/S21P25K4 set\n",
            "INFO:withlevel:Elapsed time for Bounding box calculation is 0:00:02.451550\n",
            "INFO:withlevel:Total time taken for S21P25K4 is 0:00:02.482726\n",
            "INFO:withoutlevel:creating trajectory image at /content/trajectories/train/fall\n",
            "INFO:withoutlevel:Working on creating ... /content/boundingBox/train/fall/S34P27K2 set\n",
            "INFO:withlevel:Elapsed time for Bounding box calculation is 0:00:02.498066\n",
            "INFO:withlevel:Total time taken for S34P27K2 is 0:00:02.529518\n",
            "INFO:withoutlevel:creating trajectory image at /content/trajectories/train/fall\n",
            "INFO:withoutlevel:Working on creating ... /content/boundingBox/train/fall/S17P21K5 set\n",
            "INFO:withlevel:Elapsed time for Bounding box calculation is 0:00:02.466644\n",
            "INFO:withlevel:Total time taken for S17P21K5 is 0:00:02.502531\n",
            "INFO:withoutlevel:creating trajectory image at /content/trajectories/train/fall\n",
            "INFO:withoutlevel:Working on creating ... /content/boundingBox/train/fall/S25P39K2 set\n",
            "INFO:withlevel:Elapsed time for Bounding box calculation is 0:00:02.466375\n",
            "INFO:withlevel:Total time taken for S25P39K2 is 0:00:02.506823\n",
            "INFO:withoutlevel:creating trajectory image at /content/trajectories/train/fall\n",
            "INFO:withoutlevel:Working on creating ... /content/boundingBox/train/fall/S25P39K6_1 set\n",
            "INFO:withlevel:Elapsed time for Bounding box calculation is 0:00:02.436513\n",
            "INFO:withlevel:Total time taken for S25P39K6_1 is 0:00:02.474795\n",
            "INFO:withoutlevel:creating trajectory image at /content/trajectories/train/fall\n",
            "INFO:withoutlevel:Working on creating ... /content/boundingBox/train/fall/S12P48K2 set\n",
            "INFO:withlevel:Elapsed time for Bounding box calculation is 0:00:02.438544\n",
            "INFO:withlevel:Total time taken for S12P48K2 is 0:00:02.472125\n",
            "INFO:withoutlevel:creating trajectory image at /content/trajectories/train/fall\n",
            "INFO:withoutlevel:Working on creating ... /content/boundingBox/train/fall/S19P3K3 set\n",
            "INFO:withlevel:Elapsed time for Bounding box calculation is 0:00:02.429498\n",
            "INFO:withlevel:Total time taken for S19P3K3 is 0:00:02.461579\n",
            "INFO:withoutlevel:creating trajectory image at /content/trajectories/train/fall\n",
            "INFO:withoutlevel:Working on creating ... /content/boundingBox/train/fall/S42P20K5 set\n",
            "INFO:withlevel:Elapsed time for Bounding box calculation is 0:00:02.482368\n",
            "INFO:withlevel:Total time taken for S42P20K5 is 0:00:02.515938\n",
            "INFO:withoutlevel:creating trajectory image at /content/trajectories/train/fall\n",
            "INFO:withoutlevel:Working on creating ... /content/boundingBox/train/fall/S4P2K7 set\n"
          ],
          "name": "stderr"
        },
        {
          "output_type": "stream",
          "text": [
            "skipping /content/boundingBox/train/fall/S4P2K7\n",
            "skipping /content/boundingBox/train/fall/S4P2K7\n",
            "skipping /content/boundingBox/train/fall/S4P2K7\n",
            "skipping /content/boundingBox/train/fall/S4P2K7\n",
            "skipping /content/boundingBox/train/fall/S4P2K7\n",
            "skipping /content/boundingBox/train/fall/S4P2K7\n",
            "skipping /content/boundingBox/train/fall/S4P2K7\n",
            "skipping /content/boundingBox/train/fall/S4P2K7\n",
            "skipping /content/boundingBox/train/fall/S4P2K7\n",
            "skipping /content/boundingBox/train/fall/S4P2K7\n",
            "skipping /content/boundingBox/train/fall/S4P2K7\n",
            "skipping /content/boundingBox/train/fall/S4P2K7\n",
            "skipping /content/boundingBox/train/fall/S4P2K7\n",
            "skipping /content/boundingBox/train/fall/S4P2K7\n",
            "skipping /content/boundingBox/train/fall/S4P2K7\n",
            "skipping /content/boundingBox/train/fall/S4P2K7\n",
            "skipping /content/boundingBox/train/fall/S4P2K7\n",
            "skipping /content/boundingBox/train/fall/S4P2K7\n",
            "skipping /content/boundingBox/train/fall/S4P2K7\n",
            "skipping /content/boundingBox/train/fall/S4P2K7\n",
            "skipping /content/boundingBox/train/fall/S4P2K7\n",
            "skipping /content/boundingBox/train/fall/S4P2K7\n",
            "skipping /content/boundingBox/train/fall/S4P2K7\n",
            "skipping /content/boundingBox/train/fall/S4P2K7\n",
            "skipping /content/boundingBox/train/fall/S4P2K7\n",
            "skipping /content/boundingBox/train/fall/S4P2K7\n",
            "skipping /content/boundingBox/train/fall/S4P2K7\n",
            "skipping /content/boundingBox/train/fall/S4P2K7\n",
            "skipping /content/boundingBox/train/fall/S4P2K7\n",
            "skipping /content/boundingBox/train/fall/S4P2K7\n",
            "skipping /content/boundingBox/train/fall/S4P2K7\n",
            "skipping /content/boundingBox/train/fall/S4P2K7\n",
            "skipping /content/boundingBox/train/fall/S4P2K7\n",
            "skipping /content/boundingBox/train/fall/S4P2K7\n",
            "skipping /content/boundingBox/train/fall/S4P2K7\n",
            "skipping /content/boundingBox/train/fall/S4P2K7\n",
            "skipping /content/boundingBox/train/fall/S4P2K7\n",
            "skipping /content/boundingBox/train/fall/S4P2K7\n",
            "skipping /content/boundingBox/train/fall/S4P2K7\n",
            "skipping /content/boundingBox/train/fall/S4P2K7\n",
            "skipping /content/boundingBox/train/fall/S4P2K7\n",
            "skipping /content/boundingBox/train/fall/S4P2K7\n",
            "skipping /content/boundingBox/train/fall/S4P2K7\n"
          ],
          "name": "stdout"
        },
        {
          "output_type": "stream",
          "text": [
            "INFO:withlevel:Elapsed time for Bounding box calculation is 0:00:02.364483\n"
          ],
          "name": "stderr"
        },
        {
          "output_type": "stream",
          "text": [
            "skipping /content/boundingBox/train/fall/S4P2K7\n",
            "skipping /content/boundingBox/train/fall/S4P2K7\n",
            "skipping /content/boundingBox/train/fall/S4P2K7\n",
            "skipping /content/boundingBox/train/fall/S4P2K7\n",
            "skipping /content/boundingBox/train/fall/S4P2K7\n"
          ],
          "name": "stdout"
        },
        {
          "output_type": "stream",
          "text": [
            "INFO:withlevel:Total time taken for S4P2K7 is 0:00:02.404116\n",
            "INFO:withoutlevel:creating trajectory image at /content/trajectories/train/fall\n",
            "INFO:withoutlevel:Working on creating ... /content/boundingBox/train/fall/S15P31K6 set\n",
            "INFO:withlevel:Elapsed time for Bounding box calculation is 0:00:02.471780\n",
            "INFO:withlevel:Total time taken for S15P31K6 is 0:00:02.511635\n",
            "INFO:withoutlevel:creating trajectory image at /content/trajectories/train/fall\n",
            "INFO:withoutlevel:Working on creating ... /content/boundingBox/train/fall/S44P5K5 set\n",
            "INFO:withlevel:Elapsed time for Bounding box calculation is 0:00:02.494747\n",
            "INFO:withlevel:Total time taken for S44P5K5 is 0:00:02.530138\n",
            "INFO:withoutlevel:creating trajectory image at /content/trajectories/train/fall\n",
            "INFO:withoutlevel:Working on creating ... /content/boundingBox/train/fall/S3P30K3 set\n",
            "INFO:withlevel:Elapsed time for Bounding box calculation is 0:00:02.478476\n",
            "INFO:withlevel:Total time taken for S3P30K3 is 0:00:02.511818\n",
            "INFO:withoutlevel:creating trajectory image at /content/trajectories/val/adl\n",
            "INFO:withoutlevel:Working on creating ... /content/boundingBox/val/adl/S42P20K3 set\n",
            "INFO:withlevel:Elapsed time for Bounding box calculation is 0:00:02.424427\n",
            "INFO:withlevel:Total time taken for S42P20K3 is 0:00:02.457655\n",
            "INFO:withoutlevel:creating trajectory image at /content/trajectories/val/adl\n",
            "INFO:withoutlevel:Working on creating ... /content/boundingBox/val/adl/S48P46K7 set\n"
          ],
          "name": "stderr"
        },
        {
          "output_type": "stream",
          "text": [
            "skipping /content/boundingBox/val/adl/S48P46K7\n"
          ],
          "name": "stdout"
        },
        {
          "output_type": "stream",
          "text": [
            "INFO:withlevel:Elapsed time for Bounding box calculation is 0:00:02.430140\n",
            "INFO:withlevel:Total time taken for S48P46K7 is 0:00:02.466775\n",
            "INFO:withoutlevel:creating trajectory image at /content/trajectories/val/adl\n",
            "INFO:withoutlevel:Working on creating ... /content/boundingBox/val/adl/S55P18K6 set\n"
          ],
          "name": "stderr"
        },
        {
          "output_type": "stream",
          "text": [
            "skipping /content/boundingBox/val/adl/S55P18K6\n",
            "skipping /content/boundingBox/val/adl/S55P18K6\n"
          ],
          "name": "stdout"
        },
        {
          "output_type": "stream",
          "text": [
            "INFO:withlevel:Elapsed time for Bounding box calculation is 0:00:02.444895\n",
            "INFO:withlevel:Total time taken for S55P18K6 is 0:00:02.479122\n",
            "INFO:withoutlevel:creating trajectory image at /content/trajectories/val/adl\n",
            "INFO:withoutlevel:Working on creating ... /content/boundingBox/val/adl/S40P15K6 set\n"
          ],
          "name": "stderr"
        },
        {
          "output_type": "stream",
          "text": [
            "skipping /content/boundingBox/val/adl/S40P15K6\n",
            "skipping /content/boundingBox/val/adl/S40P15K6\n",
            "skipping /content/boundingBox/val/adl/S40P15K6\n",
            "skipping /content/boundingBox/val/adl/S40P15K6\n",
            "skipping /content/boundingBox/val/adl/S40P15K6\n"
          ],
          "name": "stdout"
        },
        {
          "output_type": "stream",
          "text": [
            "INFO:withlevel:Elapsed time for Bounding box calculation is 0:00:02.440641\n",
            "INFO:withlevel:Total time taken for S40P15K6 is 0:00:02.475674\n",
            "INFO:withoutlevel:creating trajectory image at /content/trajectories/val/adl\n",
            "INFO:withoutlevel:Working on creating ... /content/boundingBox/val/adl/S5P13K6 set\n",
            "INFO:withlevel:Elapsed time for Bounding box calculation is 0:00:02.431203\n",
            "INFO:withlevel:Total time taken for S5P13K6 is 0:00:02.471248\n",
            "INFO:withoutlevel:creating trajectory image at /content/trajectories/val/adl\n",
            "INFO:withoutlevel:Working on creating ... /content/boundingBox/val/adl/S11P8K6 set\n",
            "INFO:withlevel:Elapsed time for Bounding box calculation is 0:00:02.441055\n",
            "INFO:withlevel:Total time taken for S11P8K6 is 0:00:02.474316\n",
            "INFO:withoutlevel:creating trajectory image at /content/trajectories/val/adl\n",
            "INFO:withoutlevel:Working on creating ... /content/boundingBox/val/adl/S44P5K1 set\n",
            "INFO:withlevel:Elapsed time for Bounding box calculation is 0:00:02.443890\n",
            "INFO:withlevel:Total time taken for S44P5K1 is 0:00:02.479518\n",
            "INFO:withoutlevel:creating trajectory image at /content/trajectories/val/adl\n",
            "INFO:withoutlevel:Working on creating ... /content/boundingBox/val/adl/S40P15K2 set\n",
            "INFO:withlevel:Elapsed time for Bounding box calculation is 0:00:02.445508\n",
            "INFO:withlevel:Total time taken for S40P15K2 is 0:00:02.478708\n",
            "INFO:withoutlevel:creating trajectory image at /content/trajectories/val/adl\n",
            "INFO:withoutlevel:Working on creating ... /content/boundingBox/val/adl/S26P28K7 set\n",
            "INFO:withlevel:Elapsed time for Bounding box calculation is 0:00:02.456835\n",
            "INFO:withlevel:Total time taken for S26P28K7 is 0:00:02.489162\n",
            "INFO:withoutlevel:creating trajectory image at /content/trajectories/val/adl\n",
            "INFO:withoutlevel:Working on creating ... /content/boundingBox/val/adl/S51P50K2 set\n",
            "INFO:withlevel:Elapsed time for Bounding box calculation is 0:00:02.475931\n",
            "INFO:withlevel:Total time taken for S51P50K2 is 0:00:02.515451\n",
            "INFO:withoutlevel:creating trajectory image at /content/trajectories/val/fall\n",
            "INFO:withoutlevel:Working on creating ... /content/boundingBox/val/fall/S3P30K7 set\n"
          ],
          "name": "stderr"
        },
        {
          "output_type": "stream",
          "text": [
            "skipping /content/boundingBox/val/fall/S3P30K7\n"
          ],
          "name": "stdout"
        },
        {
          "output_type": "stream",
          "text": [
            "INFO:withlevel:Elapsed time for Bounding box calculation is 0:00:04.999642\n",
            "INFO:withlevel:Total time taken for S3P30K7 is 0:00:05.035687\n",
            "INFO:withoutlevel:creating trajectory image at /content/trajectories/val/adl\n",
            "INFO:withoutlevel:Working on creating ... /content/boundingBox/val/adl/S10P12K5 set\n"
          ],
          "name": "stderr"
        },
        {
          "output_type": "stream",
          "text": [
            "skipping /content/boundingBox/val/adl/S10P12K5\n",
            "skipping /content/boundingBox/val/adl/S10P12K5\n",
            "skipping /content/boundingBox/val/adl/S10P12K5\n",
            "skipping /content/boundingBox/val/adl/S10P12K5\n",
            "skipping /content/boundingBox/val/adl/S10P12K5\n",
            "skipping /content/boundingBox/val/adl/S10P12K5\n",
            "skipping /content/boundingBox/val/adl/S10P12K5\n",
            "skipping /content/boundingBox/val/adl/S10P12K5\n",
            "skipping /content/boundingBox/val/adl/S10P12K5\n",
            "skipping /content/boundingBox/val/adl/S10P12K5\n"
          ],
          "name": "stdout"
        },
        {
          "output_type": "stream",
          "text": [
            "INFO:withlevel:Elapsed time for Bounding box calculation is 0:00:02.458078\n",
            "INFO:withlevel:Total time taken for S10P12K5 is 0:00:02.496342\n",
            "INFO:withoutlevel:creating trajectory image at /content/trajectories/val/adl\n",
            "INFO:withoutlevel:Working on creating ... /content/boundingBox/val/adl/S16P41K4 set\n",
            "INFO:withlevel:Elapsed time for Bounding box calculation is 0:00:02.422240\n",
            "INFO:withlevel:Total time taken for S16P41K4 is 0:00:02.459214\n",
            "INFO:withoutlevel:creating trajectory image at /content/trajectories/val/adl\n",
            "INFO:withoutlevel:Working on creating ... /content/boundingBox/val/adl/S11P8K2 set\n",
            "INFO:withlevel:Elapsed time for Bounding box calculation is 0:00:02.477270\n",
            "INFO:withlevel:Total time taken for S11P8K2 is 0:00:02.513520\n",
            "INFO:withoutlevel:creating trajectory image at /content/trajectories/val/adl\n",
            "INFO:withoutlevel:Working on creating ... /content/boundingBox/val/adl/S13P42K7 set\n",
            "INFO:withlevel:Elapsed time for Bounding box calculation is 0:00:02.450101\n",
            "INFO:withlevel:Total time taken for S13P42K7 is 0:00:02.485956\n",
            "INFO:withoutlevel:creating trajectory image at /content/trajectories/val/adl\n",
            "INFO:withoutlevel:Working on creating ... /content/boundingBox/val/adl/S40P15K5 set\n",
            "INFO:withlevel:Elapsed time for Bounding box calculation is 0:00:02.489484\n",
            "INFO:withlevel:Total time taken for S40P15K5 is 0:00:02.527214\n",
            "INFO:withoutlevel:creating trajectory image at /content/trajectories/val/adl\n",
            "INFO:withoutlevel:Working on creating ... /content/boundingBox/val/adl/S51P50K7 set\n",
            "INFO:withlevel:Elapsed time for Bounding box calculation is 0:00:02.427781\n",
            "INFO:withlevel:Total time taken for S51P50K7 is 0:00:02.460488\n",
            "INFO:withoutlevel:creating trajectory image at /content/trajectories/val/fall\n",
            "INFO:withoutlevel:Working on creating ... /content/boundingBox/val/fall/S6P22K3 set\n",
            "INFO:withlevel:Elapsed time for Bounding box calculation is 0:00:02.428232\n",
            "INFO:withlevel:Total time taken for S6P22K3 is 0:00:02.460745\n",
            "INFO:withoutlevel:creating trajectory image at /content/trajectories/val/fall\n",
            "INFO:withoutlevel:Working on creating ... /content/boundingBox/val/fall/S13P42K1 set\n",
            "INFO:withlevel:Elapsed time for Bounding box calculation is 0:00:02.400504\n",
            "INFO:withlevel:Total time taken for S13P42K1 is 0:00:02.447615\n",
            "INFO:withoutlevel:creating trajectory image at /content/trajectories/val/fall\n",
            "INFO:withoutlevel:Working on creating ... /content/boundingBox/val/fall/S51P50K4 set\n",
            "INFO:withlevel:Elapsed time for Bounding box calculation is 0:00:02.447283\n",
            "INFO:withlevel:Total time taken for S51P50K4 is 0:00:02.482189\n",
            "INFO:withoutlevel:creating trajectory image at /content/trajectories/val/fall\n",
            "INFO:withoutlevel:Working on creating ... /content/boundingBox/val/fall/S27P4K5 set\n"
          ],
          "name": "stderr"
        },
        {
          "output_type": "stream",
          "text": [
            "skipping /content/boundingBox/val/fall/S27P4K5\n"
          ],
          "name": "stdout"
        },
        {
          "output_type": "stream",
          "text": [
            "INFO:withlevel:Elapsed time for Bounding box calculation is 0:00:02.410642\n",
            "INFO:withlevel:Total time taken for S27P4K5 is 0:00:02.450203\n",
            "INFO:withoutlevel:creating trajectory image at /content/trajectories/val/fall\n",
            "INFO:withoutlevel:Working on creating ... /content/boundingBox/val/fall/S28P9K3 set\n",
            "INFO:withlevel:Elapsed time for Bounding box calculation is 0:00:02.432955\n",
            "INFO:withlevel:Total time taken for S28P9K3 is 0:00:02.466370\n",
            "INFO:withoutlevel:creating trajectory image at /content/trajectories/val/fall\n",
            "INFO:withoutlevel:Working on creating ... /content/boundingBox/val/fall/S19P3K1 set\n",
            "INFO:withlevel:Elapsed time for Bounding box calculation is 0:00:02.427030\n",
            "INFO:withlevel:Total time taken for S19P3K1 is 0:00:02.460376\n",
            "INFO:withoutlevel:creating trajectory image at /content/trajectories/val/fall\n",
            "INFO:withoutlevel:Working on creating ... /content/boundingBox/val/fall/S53P26K3 set\n",
            "INFO:withlevel:Elapsed time for Bounding box calculation is 0:00:02.459010\n",
            "INFO:withlevel:Total time taken for S53P26K3 is 0:00:02.493042\n",
            "INFO:withoutlevel:creating trajectory image at /content/trajectories/val/fall\n",
            "INFO:withoutlevel:Working on creating ... /content/boundingBox/val/fall/S45P10K7 set\n",
            "INFO:withlevel:Elapsed time for Bounding box calculation is 0:00:02.449086\n",
            "INFO:withlevel:Total time taken for S45P10K7 is 0:00:02.486366\n",
            "INFO:withoutlevel:creating trajectory image at /content/trajectories/val/fall\n",
            "INFO:withoutlevel:Working on creating ... /content/boundingBox/val/fall/S8P23K4 set\n",
            "INFO:withlevel:Elapsed time for Bounding box calculation is 0:00:02.457047\n",
            "INFO:withlevel:Total time taken for S8P23K4 is 0:00:02.491929\n",
            "INFO:withoutlevel:creating trajectory image at /content/trajectories/val/fall\n",
            "INFO:withoutlevel:Working on creating ... /content/boundingBox/val/fall/S15P31K3 set\n",
            "INFO:withlevel:Elapsed time for Bounding box calculation is 0:00:02.505751\n",
            "INFO:withlevel:Total time taken for S15P31K3 is 0:00:02.538969\n",
            "INFO:withoutlevel:creating trajectory image at /content/trajectories/val/fall\n",
            "INFO:withoutlevel:Working on creating ... /content/boundingBox/val/fall/S52P49K1 set\n",
            "INFO:withlevel:Elapsed time for Bounding box calculation is 0:00:02.432418\n",
            "INFO:withlevel:Total time taken for S52P49K1 is 0:00:02.473191\n",
            "INFO:withoutlevel:creating trajectory image at /content/trajectories/val/fall\n",
            "INFO:withoutlevel:Working on creating ... /content/boundingBox/val/fall/S18P6K7 set\n",
            "INFO:withlevel:Elapsed time for Bounding box calculation is 0:00:02.445480\n",
            "INFO:withlevel:Total time taken for S18P6K7 is 0:00:02.483328\n",
            "INFO:withoutlevel:creating trajectory image at /content/trajectories/val/fall\n",
            "INFO:withoutlevel:Working on creating ... /content/boundingBox/val/fall/S46P35K5 set\n",
            "INFO:withlevel:Elapsed time for Bounding box calculation is 0:00:02.433732\n",
            "INFO:withlevel:Total time taken for S46P35K5 is 0:00:02.464104\n",
            "INFO:withoutlevel:creating trajectory image at /content/trajectories/val/fall\n",
            "INFO:withoutlevel:Working on creating ... /content/boundingBox/val/fall/S53P26K2 set\n",
            "INFO:withlevel:Elapsed time for Bounding box calculation is 0:00:02.435433\n",
            "INFO:withlevel:Total time taken for S53P26K2 is 0:00:02.466632\n",
            "INFO:withoutlevel:creating trajectory image at /content/trajectories/val/fall\n",
            "INFO:withoutlevel:Working on creating ... /content/boundingBox/val/fall/S21P25K4 set\n",
            "INFO:withlevel:Elapsed time for Bounding box calculation is 0:00:02.421086\n",
            "INFO:withlevel:Total time taken for S21P25K4 is 0:00:02.454056\n",
            "INFO:withoutlevel:creating trajectory image at /content/trajectories/val/fall\n",
            "INFO:withoutlevel:Working on creating ... /content/boundingBox/val/fall/S9P33K3 set\n",
            "INFO:withlevel:Elapsed time for Bounding box calculation is 0:00:02.481020\n",
            "INFO:withlevel:Total time taken for S9P33K3 is 0:00:02.513387\n",
            "INFO:withoutlevel:creating trajectory image at /content/trajectories/test/adl\n",
            "INFO:withoutlevel:Working on creating ... /content/boundingBox/test/adl/S44P5K7 set\n",
            "INFO:withlevel:Elapsed time for Bounding box calculation is 0:00:02.437369\n",
            "INFO:withlevel:Total time taken for S44P5K7 is 0:00:02.469523\n",
            "INFO:withoutlevel:creating trajectory image at /content/trajectories/test/adl\n",
            "INFO:withoutlevel:Working on creating ... /content/boundingBox/test/adl/S21P25K7 set\n",
            "INFO:withlevel:Elapsed time for Bounding box calculation is 0:00:02.426536\n",
            "INFO:withlevel:Total time taken for S21P25K7 is 0:00:02.458735\n",
            "INFO:withoutlevel:creating trajectory image at /content/trajectories/test/adl\n",
            "INFO:withoutlevel:Working on creating ... /content/boundingBox/test/adl/S44P5K6 set\n"
          ],
          "name": "stderr"
        },
        {
          "output_type": "stream",
          "text": [
            "skipping /content/boundingBox/test/adl/S44P5K6\n",
            "skipping /content/boundingBox/test/adl/S44P5K6\n",
            "skipping /content/boundingBox/test/adl/S44P5K6\n",
            "skipping /content/boundingBox/test/adl/S44P5K6\n",
            "skipping /content/boundingBox/test/adl/S44P5K6\n",
            "skipping /content/boundingBox/test/adl/S44P5K6\n",
            "skipping /content/boundingBox/test/adl/S44P5K6\n",
            "skipping /content/boundingBox/test/adl/S44P5K6\n",
            "skipping /content/boundingBox/test/adl/S44P5K6\n",
            "skipping /content/boundingBox/test/adl/S44P5K6\n"
          ],
          "name": "stdout"
        },
        {
          "output_type": "stream",
          "text": [
            "INFO:withlevel:Elapsed time for Bounding box calculation is 0:00:02.442296\n"
          ],
          "name": "stderr"
        },
        {
          "output_type": "stream",
          "text": [
            "skipping /content/boundingBox/test/adl/S44P5K6\n",
            "skipping /content/boundingBox/test/adl/S44P5K6\n"
          ],
          "name": "stdout"
        },
        {
          "output_type": "stream",
          "text": [
            "INFO:withlevel:Total time taken for S44P5K6 is 0:00:02.480831\n",
            "INFO:withoutlevel:creating trajectory image at /content/trajectories/test/adl\n",
            "INFO:withoutlevel:Working on creating ... /content/boundingBox/test/adl/S24P37K2 set\n",
            "INFO:withlevel:Elapsed time for Bounding box calculation is 0:00:02.426671\n",
            "INFO:withlevel:Total time taken for S24P37K2 is 0:00:03.090286\n",
            "INFO:withoutlevel:creating trajectory image at /content/trajectories/test/adl\n",
            "INFO:withoutlevel:Working on creating ... /content/boundingBox/test/adl/S10P12K2 set\n",
            "INFO:withlevel:Elapsed time for Bounding box calculation is 0:00:02.414610\n",
            "INFO:withlevel:Total time taken for S10P12K2 is 0:00:02.447329\n",
            "INFO:withoutlevel:creating trajectory image at /content/trajectories/test/adl\n",
            "INFO:withoutlevel:Working on creating ... /content/boundingBox/test/adl/S36P34K7 set\n",
            "INFO:withlevel:Elapsed time for Bounding box calculation is 0:00:02.441432\n",
            "INFO:withlevel:Total time taken for S36P34K7 is 0:00:02.478124\n",
            "INFO:withoutlevel:creating trajectory image at /content/trajectories/test/adl\n",
            "INFO:withoutlevel:Working on creating ... /content/boundingBox/test/adl/S50P47K6 set\n",
            "INFO:withlevel:Elapsed time for Bounding box calculation is 0:00:02.413826\n",
            "INFO:withlevel:Total time taken for S50P47K6 is 0:00:02.452567\n",
            "INFO:withoutlevel:creating trajectory image at /content/trajectories/test/fall\n",
            "INFO:withoutlevel:Working on creating ... /content/boundingBox/test/fall/S18P6K1 set\n",
            "INFO:withlevel:Elapsed time for Bounding box calculation is 0:00:02.428926\n",
            "INFO:withlevel:Total time taken for S18P6K1 is 0:00:02.462369\n",
            "INFO:withoutlevel:creating trajectory image at /content/trajectories/test/fall\n",
            "INFO:withoutlevel:Working on creating ... /content/boundingBox/test/fall/S52P49K3 set\n",
            "INFO:withlevel:Elapsed time for Bounding box calculation is 0:00:02.421049\n",
            "INFO:withlevel:Total time taken for S52P49K3 is 0:00:02.455874\n",
            "INFO:withoutlevel:creating trajectory image at /content/trajectories/test/fall\n",
            "INFO:withoutlevel:Working on creating ... /content/boundingBox/test/fall/S9P33K5 set\n",
            "INFO:withlevel:Elapsed time for Bounding box calculation is 0:00:02.441563\n",
            "INFO:withlevel:Total time taken for S9P33K5 is 0:00:02.475086\n",
            "INFO:withoutlevel:creating trajectory image at /content/trajectories/test/fall\n",
            "INFO:withoutlevel:Working on creating ... /content/boundingBox/test/fall/S13P42K3 set\n",
            "INFO:withlevel:Elapsed time for Bounding box calculation is 0:00:02.452764\n",
            "INFO:withlevel:Total time taken for S13P42K3 is 0:00:02.484670\n",
            "INFO:withoutlevel:creating trajectory image at /content/trajectories/test/fall\n",
            "INFO:withoutlevel:Working on creating ... /content/boundingBox/test/fall/S34P27K3 set\n",
            "INFO:withlevel:Elapsed time for Bounding box calculation is 0:00:02.438421\n",
            "INFO:withlevel:Total time taken for S34P27K3 is 0:00:02.477545\n",
            "INFO:withoutlevel:creating trajectory image at /content/trajectories/test/fall\n",
            "INFO:withoutlevel:Working on creating ... /content/boundingBox/test/fall/S2P32K5 set\n",
            "INFO:withlevel:Elapsed time for Bounding box calculation is 0:00:02.444427\n",
            "INFO:withlevel:Total time taken for S2P32K5 is 0:00:02.479063\n",
            "INFO:withoutlevel:creating trajectory image at /content/trajectories/test/fall\n",
            "INFO:withoutlevel:Working on creating ... /content/boundingBox/test/fall/S48P46K4 set\n",
            "INFO:withlevel:Elapsed time for Bounding box calculation is 0:00:02.413970\n",
            "INFO:withlevel:Total time taken for S48P46K4 is 0:00:02.451510\n",
            "INFO:withoutlevel:creating trajectory image at /content/trajectories/test/fall\n",
            "INFO:withoutlevel:Working on creating ... /content/boundingBox/test/fall/S41P29K6 set\n",
            "INFO:withlevel:Elapsed time for Bounding box calculation is 0:00:02.412532\n",
            "INFO:withlevel:Total time taken for S41P29K6 is 0:00:02.445732\n",
            "INFO:withoutlevel:creating trajectory image at /content/trajectories/test/fall\n",
            "INFO:withoutlevel:Working on creating ... /content/boundingBox/test/fall/S16P41K4 set\n",
            "INFO:withlevel:Elapsed time for Bounding box calculation is 0:00:02.417019\n",
            "INFO:withlevel:Total time taken for S16P41K4 is 0:00:02.457038\n",
            "INFO:withoutlevel:creating trajectory image at /content/trajectories/test/fall\n",
            "INFO:withoutlevel:Working on creating ... /content/boundingBox/test/fall/S17P21K5 set\n",
            "INFO:withlevel:Elapsed time for Bounding box calculation is 0:00:02.461906\n",
            "INFO:withlevel:Total time taken for S17P21K5 is 0:00:02.499413\n",
            "INFO:withoutlevel:creating trajectory image at /content/trajectories/test/fall\n",
            "INFO:withoutlevel:Working on creating ... /content/boundingBox/test/fall/S34P27K1 set\n",
            "INFO:withlevel:Elapsed time for Bounding box calculation is 0:00:02.453339\n",
            "INFO:withlevel:Total time taken for S34P27K1 is 0:00:02.486959\n",
            "INFO:withlevel:Total time taken to create trajectory images: 0:08:18.218946\n"
          ],
          "name": "stderr"
        }
      ]
    },
    {
      "cell_type": "code",
      "metadata": {
        "colab": {
          "base_uri": "https://localhost:8080/"
        },
        "id": "HTHYqlxESylV",
        "outputId": "0f725b94-597b-4f5c-a863-02a4c39af5f8"
      },
      "source": [
        "logger_t.info(f'{\"=\"*100} \\n\\nSTEP 5: Create Data generators\\n')\n",
        "datagen = tf.keras.preprocessing.image.ImageDataGenerator()\n",
        "logger.info(f'batch size: {cfg.batch_size}')\n",
        "root = os.getcwd()\n",
        "train = datagen.flow_from_directory(root + '/artifacts/trajectory:v7/train',target_size=(224, 224),color_mode='grayscale',batch_size=cfg.batch_size)\n",
        "valid = datagen.flow_from_directory(root + '/artifacts/trajectory:v7/val',target_size=(224, 224),color_mode='grayscale',batch_size=cfg.batch_size)\n",
        "test = datagen.flow_from_directory(root + '/artifacts/trajectory:v7/test',target_size=(224, 224),color_mode='grayscale',batch_size=cfg.batch_size)"
      ],
      "execution_count": 31,
      "outputs": [
        {
          "output_type": "stream",
          "text": [
            "INFO:withoutlevel:==================================================================================================== \n",
            "\n",
            "STEP 5: Create Data generators\n",
            "\n",
            "INFO:withlevel:batch size: 32\n"
          ],
          "name": "stderr"
        },
        {
          "output_type": "stream",
          "text": [
            "Found 117 images belonging to 2 classes.\n",
            "Found 33 images belonging to 2 classes.\n",
            "Found 18 images belonging to 2 classes.\n"
          ],
          "name": "stdout"
        }
      ]
    },
    {
      "cell_type": "markdown",
      "metadata": {
        "id": "2mCgRFnU_8Rx"
      },
      "source": [
        "## training pipeline\n"
      ]
    },
    {
      "cell_type": "code",
      "metadata": {
        "colab": {
          "base_uri": "https://localhost:8080/"
        },
        "id": "7DdsQTqnS3fQ",
        "outputId": "5b87ada1-7354-4f88-82ee-9754bd8ce713"
      },
      "source": [
        "from tensorflow.keras.layers import Conv2D,MaxPool2D,GlobalAveragePooling2D,Dense,Dropout\n",
        "from tensorflow.keras.metrics import Precision, Recall\n",
        "logger_t.info(f'{\"=\"*100} \\n\\nSTEP 5: Create Model and train the model\\n')\n",
        "\n",
        "\n",
        "\n",
        "model = tf.keras.Sequential([\n",
        "              tf.keras.Input(shape=(224,224,1)),\n",
        "              Conv2D(32,3,strides=2,padding='same',activation='relu',use_bias=False),\n",
        "              MaxPool2D(),\n",
        "              Conv2D(64,3,strides=2,padding='same',activation='relu',use_bias=False),\n",
        "              MaxPool2D(),\n",
        "              Conv2D(128,3,strides=2,padding='same',activation='relu',use_bias=False),\n",
        "              MaxPool2D(),\n",
        "              GlobalAveragePooling2D(),\n",
        "              Dense(128),\n",
        "              Dropout(0.5),\n",
        "              Dense(64),\n",
        "              Dropout(0.5),\n",
        "              Dense(2,activation='sigmoid')])\n",
        "\n",
        "\n",
        "model.compile(optimizer=tf.optimizers.Adam(learning_rate=1e-3), \n",
        "              loss=tf.keras.losses.BinaryCrossentropy(),\n",
        "              metrics=['accuracy', Precision(), Recall()])\n",
        "logger.info(f'{model.summary()}')\n",
        "\n"
      ],
      "execution_count": 42,
      "outputs": [
        {
          "output_type": "stream",
          "text": [
            "INFO:withoutlevel:==================================================================================================== \n",
            "\n",
            "STEP 5: Create Model and train the model\n",
            "\n"
          ],
          "name": "stderr"
        },
        {
          "output_type": "stream",
          "text": [
            "WARNING:tensorflow:Please add `keras.layers.InputLayer` instead of `keras.Input` to Sequential model. `keras.Input` is intended to be used by Functional model.\n"
          ],
          "name": "stdout"
        },
        {
          "output_type": "stream",
          "text": [
            "WARNING:tensorflow:Please add `keras.layers.InputLayer` instead of `keras.Input` to Sequential model. `keras.Input` is intended to be used by Functional model.\n",
            "INFO:withlevel:None\n"
          ],
          "name": "stderr"
        },
        {
          "output_type": "stream",
          "text": [
            "Model: \"sequential_2\"\n",
            "_________________________________________________________________\n",
            "Layer (type)                 Output Shape              Param #   \n",
            "=================================================================\n",
            "conv2d_4 (Conv2D)            (None, 112, 112, 32)      288       \n",
            "_________________________________________________________________\n",
            "max_pooling2d_4 (MaxPooling2 (None, 56, 56, 32)        0         \n",
            "_________________________________________________________________\n",
            "conv2d_5 (Conv2D)            (None, 28, 28, 64)        18432     \n",
            "_________________________________________________________________\n",
            "max_pooling2d_5 (MaxPooling2 (None, 14, 14, 64)        0         \n",
            "_________________________________________________________________\n",
            "conv2d_6 (Conv2D)            (None, 7, 7, 128)         73728     \n",
            "_________________________________________________________________\n",
            "max_pooling2d_6 (MaxPooling2 (None, 3, 3, 128)         0         \n",
            "_________________________________________________________________\n",
            "global_average_pooling2d_2 ( (None, 128)               0         \n",
            "_________________________________________________________________\n",
            "dense_5 (Dense)              (None, 128)               16512     \n",
            "_________________________________________________________________\n",
            "dropout_3 (Dropout)          (None, 128)               0         \n",
            "_________________________________________________________________\n",
            "dense_6 (Dense)              (None, 64)                8256      \n",
            "_________________________________________________________________\n",
            "dropout_4 (Dropout)          (None, 64)                0         \n",
            "_________________________________________________________________\n",
            "dense_7 (Dense)              (None, 2)                 130       \n",
            "=================================================================\n",
            "Total params: 117,346\n",
            "Trainable params: 117,346\n",
            "Non-trainable params: 0\n",
            "_________________________________________________________________\n"
          ],
          "name": "stdout"
        }
      ]
    },
    {
      "cell_type": "code",
      "metadata": {
        "colab": {
          "base_uri": "https://localhost:8080/",
          "height": 35
        },
        "id": "BBhRdlsYpx5F",
        "outputId": "0405b1e0-b798-483e-ad65-e808e65b985a"
      },
      "source": [
        "best_model = wandb.restore('model-best.h5', run_path='manikandan/fall_detection/39zrjl4w')\n",
        "best_model.name"
      ],
      "execution_count": 33,
      "outputs": [
        {
          "output_type": "execute_result",
          "data": {
            "application/vnd.google.colaboratory.intrinsic+json": {
              "type": "string"
            },
            "text/plain": [
              "'/content/wandb/run-20210630_113356-2fi8iucz/files/model-best.h5'"
            ]
          },
          "metadata": {
            "tags": []
          },
          "execution_count": 33
        }
      ]
    },
    {
      "cell_type": "code",
      "metadata": {
        "id": "Bf0K2zCQsWoO"
      },
      "source": [
        "best_model = tf.keras.models.load_model(best_model.name)\n",
        "best_model.compile(optimizer=tf.optimizers.Adam(learning_rate=1e-2), \n",
        "              loss=tf.keras.losses.BinaryCrossentropy(),\n",
        "              metrics=['accuracy', Precision(), Recall()])"
      ],
      "execution_count": 34,
      "outputs": []
    },
    {
      "cell_type": "code",
      "metadata": {
        "colab": {
          "base_uri": "https://localhost:8080/"
        },
        "id": "hzQJbwxXuz1r",
        "outputId": "8de61213-b92d-4d0f-907c-616d2874251b"
      },
      "source": [
        "print('test')\n",
        "best_model.evaluate(test)\n",
        "print('validation')\n",
        "best_model.evaluate(valid)\n",
        "print('train')\n",
        "best_model.evaluate(train)\n"
      ],
      "execution_count": 38,
      "outputs": [
        {
          "output_type": "stream",
          "text": [
            "test\n",
            "1/1 [==============================] - 0s 96ms/step - loss: 6.8388 - accuracy: 0.5000 - precision_1: 0.5294 - recall_1: 0.5000\n",
            "validation\n",
            "2/2 [==============================] - 0s 13ms/step - loss: 5.9628 - accuracy: 0.5152 - precision_1: 0.5312 - recall_1: 0.5152\n",
            "train\n",
            "4/4 [==============================] - 0s 90ms/step - loss: 7.0739 - accuracy: 0.4872 - precision_1: 0.4828 - recall_1: 0.4786\n"
          ],
          "name": "stdout"
        },
        {
          "output_type": "execute_result",
          "data": {
            "text/plain": [
              "[7.073879241943359,\n",
              " 0.4871794879436493,\n",
              " 0.48275861144065857,\n",
              " 0.47863247990608215]"
            ]
          },
          "metadata": {
            "tags": []
          },
          "execution_count": 38
        }
      ]
    },
    {
      "cell_type": "code",
      "metadata": {
        "colab": {
          "base_uri": "https://localhost:8080/"
        },
        "id": "zGAMF-s_52LI",
        "outputId": "5eb57c33-e124-485d-cc63-a0139daaabee"
      },
      "source": [
        "from wandb.keras import WandbCallback\n",
        "history = best_model.fit_generator(generator=train,\n",
        "                              validation_data=valid,\n",
        "                              epochs=cfg.epochs,\n",
        "                              verbose=1,\n",
        "                              callbacks=[WandbCallback()])\n"
      ],
      "execution_count": 43,
      "outputs": [
        {
          "output_type": "stream",
          "text": [
            "/usr/local/lib/python3.7/dist-packages/tensorflow/python/keras/engine/training.py:1940: UserWarning: `Model.fit_generator` is deprecated and will be removed in a future version. Please use `Model.fit`, which supports generators.\n",
            "  warnings.warn('`Model.fit_generator` is deprecated and '\n"
          ],
          "name": "stderr"
        },
        {
          "output_type": "stream",
          "text": [
            "Epoch 1/15\n",
            "4/4 [==============================] - 3s 545ms/step - loss: 2.9752 - accuracy: 0.4872 - precision_3: 0.5042 - recall_3: 0.5128 - val_loss: 1.4951 - val_accuracy: 0.5152 - val_precision_3: 0.4231 - val_recall_3: 0.3333\n",
            "Epoch 2/15\n",
            "4/4 [==============================] - 1s 378ms/step - loss: 2.2808 - accuracy: 0.4872 - precision_3: 0.5122 - recall_3: 0.3590 - val_loss: 0.8246 - val_accuracy: 0.5152 - val_precision_3: 0.5250 - val_recall_3: 0.6364\n",
            "Epoch 3/15\n",
            "4/4 [==============================] - 1s 371ms/step - loss: 1.4367 - accuracy: 0.5214 - precision_3: 0.5033 - recall_3: 0.6496 - val_loss: 0.9912 - val_accuracy: 0.4848 - val_precision_3: 0.5091 - val_recall_3: 0.8485\n",
            "Epoch 4/15\n",
            "4/4 [==============================] - 1s 372ms/step - loss: 0.9603 - accuracy: 0.5726 - precision_3: 0.5468 - recall_3: 0.6496 - val_loss: 0.7433 - val_accuracy: 0.6061 - val_precision_3: 0.5152 - val_recall_3: 0.5152\n",
            "Epoch 5/15\n",
            "4/4 [==============================] - 1s 373ms/step - loss: 0.7631 - accuracy: 0.6239 - precision_3: 0.6174 - recall_3: 0.6068 - val_loss: 0.8168 - val_accuracy: 0.5152 - val_precision_3: 0.5200 - val_recall_3: 0.3939\n",
            "Epoch 6/15\n",
            "4/4 [==============================] - 1s 336ms/step - loss: 0.6534 - accuracy: 0.6496 - precision_3: 0.6989 - recall_3: 0.5556 - val_loss: 0.7720 - val_accuracy: 0.5455 - val_precision_3: 0.6000 - val_recall_3: 0.3636\n",
            "Epoch 7/15\n",
            "4/4 [==============================] - 1s 338ms/step - loss: 0.6191 - accuracy: 0.7094 - precision_3: 0.6837 - recall_3: 0.5726 - val_loss: 0.7513 - val_accuracy: 0.4545 - val_precision_3: 0.5600 - val_recall_3: 0.4242\n",
            "Epoch 8/15\n",
            "4/4 [==============================] - 1s 333ms/step - loss: 0.5762 - accuracy: 0.7094 - precision_3: 0.6496 - recall_3: 0.6496 - val_loss: 0.7485 - val_accuracy: 0.4848 - val_precision_3: 0.5294 - val_recall_3: 0.5455\n",
            "Epoch 9/15\n",
            "4/4 [==============================] - 1s 343ms/step - loss: 0.5109 - accuracy: 0.8120 - precision_3: 0.7479 - recall_3: 0.7607 - val_loss: 0.7642 - val_accuracy: 0.5152 - val_precision_3: 0.5143 - val_recall_3: 0.5455\n",
            "Epoch 10/15\n",
            "4/4 [==============================] - 1s 342ms/step - loss: 0.4770 - accuracy: 0.8205 - precision_3: 0.7851 - recall_3: 0.8120 - val_loss: 0.7611 - val_accuracy: 0.5455 - val_precision_3: 0.5405 - val_recall_3: 0.6061\n",
            "Epoch 11/15\n",
            "4/4 [==============================] - 1s 332ms/step - loss: 0.4344 - accuracy: 0.8803 - precision_3: 0.8017 - recall_3: 0.8291 - val_loss: 0.7719 - val_accuracy: 0.5455 - val_precision_3: 0.5128 - val_recall_3: 0.6061\n",
            "Epoch 12/15\n",
            "4/4 [==============================] - 1s 334ms/step - loss: 0.3792 - accuracy: 0.9316 - precision_3: 0.8077 - recall_3: 0.8974 - val_loss: 0.7999 - val_accuracy: 0.5152 - val_precision_3: 0.5122 - val_recall_3: 0.6364\n",
            "Epoch 13/15\n",
            "4/4 [==============================] - 1s 339ms/step - loss: 0.3574 - accuracy: 0.9145 - precision_3: 0.8525 - recall_3: 0.8889 - val_loss: 0.8447 - val_accuracy: 0.5455 - val_precision_3: 0.5263 - val_recall_3: 0.6061\n",
            "Epoch 14/15\n",
            "4/4 [==============================] - 1s 338ms/step - loss: 0.3274 - accuracy: 0.9145 - precision_3: 0.8560 - recall_3: 0.9145 - val_loss: 0.8985 - val_accuracy: 0.4545 - val_precision_3: 0.5000 - val_recall_3: 0.5152\n",
            "Epoch 15/15\n",
            "4/4 [==============================] - 1s 340ms/step - loss: 0.2641 - accuracy: 0.9231 - precision_3: 0.9008 - recall_3: 0.9316 - val_loss: 0.9488 - val_accuracy: 0.5758 - val_precision_3: 0.5625 - val_recall_3: 0.5455\n"
          ],
          "name": "stdout"
        }
      ]
    },
    {
      "cell_type": "code",
      "metadata": {
        "colab": {
          "base_uri": "https://localhost:8080/"
        },
        "id": "bKPt1lxoHEW2",
        "outputId": "7e9882c1-876f-4e25-acfe-a78953660e3c"
      },
      "source": [
        "results = model.evaluate(test)\n",
        "wandb.summary['test_loss'] = results[0]\n",
        "wandb.summary['test_accuracy'] = results[1]\n",
        "wandb.summary['test_precision'] = results[2]\n",
        "wandb.summary['test_recall'] = results[3]"
      ],
      "execution_count": null,
      "outputs": [
        {
          "output_type": "stream",
          "text": [
            "1/1 [==============================] - 0s 153ms/step - loss: 3.2981 - accuracy: 0.5556 - precision: 0.0000e+00 - recall: 0.0000e+00\n"
          ],
          "name": "stdout"
        }
      ]
    },
    {
      "cell_type": "markdown",
      "metadata": {
        "id": "2OXlDUmpB1G6"
      },
      "source": [
        "## Artifact"
      ]
    },
    {
      "cell_type": "code",
      "metadata": {
        "colab": {
          "base_uri": "https://localhost:8080/"
        },
        "id": "RN2_j6UB8cv2",
        "outputId": "c5d5c499-c7b2-40b8-f000-e245967f630f"
      },
      "source": [
        "bbox = wandb.Artifact('boundingBox', type='dataset')\n",
        "bbox.add_dir('boundingBox')\n",
        "wandb.log_artifact(bbox)"
      ],
      "execution_count": null,
      "outputs": [
        {
          "output_type": "stream",
          "text": [
            "\u001b[34m\u001b[1mwandb\u001b[0m: Adding directory to artifact (./boundingBox)... Done. 20.7s\n"
          ],
          "name": "stderr"
        },
        {
          "output_type": "execute_result",
          "data": {
            "text/plain": [
              "<wandb.sdk.wandb_artifacts.Artifact at 0x7f2cd2792510>"
            ]
          },
          "metadata": {
            "tags": []
          },
          "execution_count": 33
        }
      ]
    },
    {
      "cell_type": "code",
      "metadata": {
        "colab": {
          "base_uri": "https://localhost:8080/"
        },
        "id": "r-BpJzXg9uYH",
        "outputId": "38a0d38a-ab96-4fd4-9b78-978f4a5e8bed"
      },
      "source": [
        "trajectory = wandb.Artifact('trajectory', type='dataset')\n",
        "trajectory.add_dir('trajectories')\n",
        "wandb.log_artifact(trajectory)"
      ],
      "execution_count": null,
      "outputs": [
        {
          "output_type": "stream",
          "text": [
            "\u001b[34m\u001b[1mwandb\u001b[0m: Adding directory to artifact (./trajectories)... Done. 0.5s\n"
          ],
          "name": "stderr"
        },
        {
          "output_type": "execute_result",
          "data": {
            "text/plain": [
              "<wandb.sdk.wandb_artifacts.Artifact at 0x7f2cca259850>"
            ]
          },
          "metadata": {
            "tags": []
          },
          "execution_count": 34
        }
      ]
    },
    {
      "cell_type": "code",
      "metadata": {
        "colab": {
          "base_uri": "https://localhost:8080/",
          "height": 917,
          "referenced_widgets": [
            "bbd956636933405baddad29dc6879cf1",
            "18f4b1b26af545899daeb08090763d68",
            "9a46b5473f1e47799052a8b18dca266a",
            "64962f4a811c4dde9cade2e62460cf36",
            "b26affbd7ae64e5d9ad014ab341e4ad1",
            "da1d14d426c840d7aaf8070217b0da15",
            "4c6e7ad081f94be4866287e6423fce30",
            "a6428f0d8e484344a1f345e98ed35cfc"
          ]
        },
        "id": "Ny3nG-XPG-mL",
        "outputId": "3bf40c37-913b-4893-dc9d-0a5511431dca"
      },
      "source": [
        " wandb.finish()"
      ],
      "execution_count": null,
      "outputs": [
        {
          "output_type": "display_data",
          "data": {
            "text/html": [
              "<br/>Waiting for W&B process to finish, PID 352<br/>Program ended successfully."
            ],
            "text/plain": [
              "<IPython.core.display.HTML object>"
            ]
          },
          "metadata": {
            "tags": []
          }
        },
        {
          "output_type": "display_data",
          "data": {
            "application/vnd.jupyter.widget-view+json": {
              "model_id": "bbd956636933405baddad29dc6879cf1",
              "version_minor": 0,
              "version_major": 2
            },
            "text/plain": [
              "VBox(children=(Label(value=' 376.25MB of 376.25MB uploaded (1.97MB deduped)\\r'), FloatProgress(value=1.0, max=…"
            ]
          },
          "metadata": {
            "tags": []
          }
        },
        {
          "output_type": "display_data",
          "data": {
            "text/html": [
              "Find user logs for this run at: <code>/content/wandb/run-20210625_043559-36kkle8m/logs/debug.log</code>"
            ],
            "text/plain": [
              "<IPython.core.display.HTML object>"
            ]
          },
          "metadata": {
            "tags": []
          }
        },
        {
          "output_type": "display_data",
          "data": {
            "text/html": [
              "Find internal logs for this run at: <code>/content/wandb/run-20210625_043559-36kkle8m/logs/debug-internal.log</code>"
            ],
            "text/plain": [
              "<IPython.core.display.HTML object>"
            ]
          },
          "metadata": {
            "tags": []
          }
        },
        {
          "output_type": "display_data",
          "data": {
            "text/html": [
              "<h3>Run summary:</h3><br/><style>\n",
              "    table.wandb td:nth-child(1) { padding: 0 10px; text-align: right }\n",
              "    </style><table class=\"wandb\">\n",
              "<tr><td>_runtime</td><td>10777</td></tr><tr><td>_timestamp</td><td>1624606536</td></tr><tr><td>_step</td><td>530</td></tr><tr><td>Download_TotalTime</td><td>8662.61427</td></tr><tr><td>Trajectory_totaltime</td><td>498.22305</td></tr><tr><td>epoch</td><td>14</td></tr><tr><td>loss</td><td>0.23474</td></tr><tr><td>accuracy</td><td>0.95726</td></tr><tr><td>precision_1</td><td>0.94828</td></tr><tr><td>recall_1</td><td>0.94017</td></tr><tr><td>val_loss</td><td>0.90937</td></tr><tr><td>val_accuracy</td><td>0.51515</td></tr><tr><td>val_precision_1</td><td>0.5</td></tr><tr><td>val_recall_1</td><td>0.51515</td></tr><tr><td>best_val_loss</td><td>0.74949</td></tr><tr><td>best_epoch</td><td>8</td></tr><tr><td>test_loss</td><td>3.29806</td></tr><tr><td>test_accuracy</td><td>0.55556</td></tr><tr><td>test_precision</td><td>0.0</td></tr><tr><td>test_recall</td><td>0.0</td></tr></table>"
            ],
            "text/plain": [
              "<IPython.core.display.HTML object>"
            ]
          },
          "metadata": {
            "tags": []
          }
        },
        {
          "output_type": "display_data",
          "data": {
            "text/html": [
              "<h3>Run history:</h3><br/><style>\n",
              "    table.wandb td:nth-child(1) { padding: 0 10px; text-align: right }\n",
              "    </style><table class=\"wandb\">\n",
              "<tr><td>_runtime</td><td>▁▁▂▃▃▄▄▄▅▅▆▆▆▆▇▇▇▇▇▇▇▇▇▇▇▇▇▇▇▇▇▇▇▇▇▇▇▇▇█</td></tr><tr><td>_timestamp</td><td>▁▁▂▃▃▄▄▄▅▅▆▆▆▆▇▇▇▇▇▇▇▇▇▇▇▇▇▇▇▇▇▇▇▇▇▇▇▇▇█</td></tr><tr><td>_step</td><td>▁▁▁▂▂▂▂▂▂▃▃▃▃▃▃▄▄▄▄▄▅▅▅▅▅▅▆▆▆▆▆▆▇▇▇▇▇███</td></tr><tr><td>epoch</td><td>▁▁▂▃▃▃▄▅▅▅▆▇▇▇█</td></tr><tr><td>loss</td><td>█▃▂▂▂▂▂▁▁▁▁▁▁▁▁</td></tr><tr><td>accuracy</td><td>▁▁▂▂▄▄▃▆▆▆▇▇███</td></tr><tr><td>precision_1</td><td>▁▁▂▃▄▃▃▅▅▅▆▇▇██</td></tr><tr><td>recall_1</td><td>▁▂▂▂▂▃▃▅▇▆▇▇▇██</td></tr><tr><td>val_loss</td><td>█▂▂▁▁▁▁▁▁▁▁▁▁▁▁</td></tr><tr><td>val_accuracy</td><td>██▃▅▃▃▅▁▅▆▃▅▅▁▆</td></tr><tr><td>val_precision_1</td><td>█▅▁▃▂▅▆▄▄▄▂▃▄▂▆</td></tr><tr><td>val_recall_1</td><td>█▃▁▁▃▇█▆▇▆▃▃▃▃▇</td></tr></table><br/>"
            ],
            "text/plain": [
              "<IPython.core.display.HTML object>"
            ]
          },
          "metadata": {
            "tags": []
          }
        },
        {
          "output_type": "display_data",
          "data": {
            "text/html": [
              "Synced 5 W&B file(s), 1 media file(s), 8019 artifact file(s) and 1 other file(s)"
            ],
            "text/plain": [
              "<IPython.core.display.HTML object>"
            ]
          },
          "metadata": {
            "tags": []
          }
        },
        {
          "output_type": "display_data",
          "data": {
            "text/html": [
              "\n",
              "                    <br/>Synced <strong style=\"color:#cdcd00\">feasible-universe-13</strong>: <a href=\"https://wandb.ai/manikandan/fall_detection/runs/36kkle8m\" target=\"_blank\">https://wandb.ai/manikandan/fall_detection/runs/36kkle8m</a><br/>\n",
              "                "
            ],
            "text/plain": [
              "<IPython.core.display.HTML object>"
            ]
          },
          "metadata": {
            "tags": []
          }
        }
      ]
    }
  ]
}